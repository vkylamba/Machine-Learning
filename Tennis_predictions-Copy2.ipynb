{
 "cells": [
  {
   "cell_type": "markdown",
   "metadata": {},
   "source": [
    "# This procedure does some machine learning tasks on the UCI Tennis data. The data is stored in the form of CSV files in current folder. We will use python to implement machine learning."
   ]
  },
  {
   "cell_type": "code",
   "execution_count": 617,
   "metadata": {
    "collapsed": true
   },
   "outputs": [],
   "source": [
    "#Lets load os module to fine the files present in the directory\n",
    "import os"
   ]
  },
  {
   "cell_type": "markdown",
   "metadata": {},
   "source": [
    "Our csv files are in the data folder. So let's see the files first"
   ]
  },
  {
   "cell_type": "code",
   "execution_count": 618,
   "metadata": {
    "collapsed": true
   },
   "outputs": [],
   "source": [
    "data_files_path = 'data/'\n",
    "data_files = os.listdir(data_files_path)"
   ]
  },
  {
   "cell_type": "code",
   "execution_count": 619,
   "metadata": {
    "collapsed": false
   },
   "outputs": [
    {
     "name": "stdout",
     "output_type": "stream",
     "text": [
      "['Wimbledon-women-2013.csv', 'FrenchOpen-women-2013.csv', 'AusOpen-men-2013.csv', 'FrenchOpen-men-2013.csv', 'Wimbledon-men-2013.csv', 'AusOpen-women-2013.csv', 'USOpen-women-2013.csv', 'USOpen-men-2013.csv']\n"
     ]
    }
   ],
   "source": [
    "print data_files"
   ]
  },
  {
   "cell_type": "markdown",
   "metadata": {},
   "source": [
    "Now lets load the data from the files. We will use pandas module to load the data."
   ]
  },
  {
   "cell_type": "code",
   "execution_count": 620,
   "metadata": {
    "collapsed": true
   },
   "outputs": [],
   "source": [
    "import pandas as pd\n",
    "input_data = pd.read_csv(data_files_path + data_files[0]);"
   ]
  },
  {
   "cell_type": "markdown",
   "metadata": {},
   "source": [
    "Now lets see how does the data looks. Lets see first 5 rows of the data."
   ]
  },
  {
   "cell_type": "code",
   "execution_count": 621,
   "metadata": {
    "collapsed": false
   },
   "outputs": [
    {
     "data": {
      "text/html": [
       "<div style=\"max-height:1000px;max-width:1500px;overflow:auto;\">\n",
       "<table border=\"1\" class=\"dataframe\">\n",
       "  <thead>\n",
       "    <tr style=\"text-align: right;\">\n",
       "      <th></th>\n",
       "      <th>Player1</th>\n",
       "      <th>Player2</th>\n",
       "      <th>Round</th>\n",
       "      <th>Result</th>\n",
       "      <th>FNL.1</th>\n",
       "      <th>FNL.2</th>\n",
       "      <th>FSP.1</th>\n",
       "      <th>FSW.1</th>\n",
       "      <th>SSP.1</th>\n",
       "      <th>SSW.1</th>\n",
       "      <th>...</th>\n",
       "      <th>BPC.2</th>\n",
       "      <th>BPW.2</th>\n",
       "      <th>NPA.2</th>\n",
       "      <th>NPW.2</th>\n",
       "      <th>TPW.2</th>\n",
       "      <th>ST1.2</th>\n",
       "      <th>ST2.2</th>\n",
       "      <th>ST3.2</th>\n",
       "      <th>ST4.2</th>\n",
       "      <th>ST5.2</th>\n",
       "    </tr>\n",
       "  </thead>\n",
       "  <tbody>\n",
       "    <tr>\n",
       "      <th>0</th>\n",
       "      <td>    M.Koehler</td>\n",
       "      <td> V.Azarenka</td>\n",
       "      <td> 1</td>\n",
       "      <td> 0</td>\n",
       "      <td> 0</td>\n",
       "      <td> 2</td>\n",
       "      <td> 60</td>\n",
       "      <td> 21</td>\n",
       "      <td> 40</td>\n",
       "      <td>  8</td>\n",
       "      <td>...</td>\n",
       "      <td> 16</td>\n",
       "      <td> 6</td>\n",
       "      <td>  8</td>\n",
       "      <td>  4</td>\n",
       "      <td>NaN</td>\n",
       "      <td> 6</td>\n",
       "      <td> 6</td>\n",
       "      <td>NaN</td>\n",
       "      <td>NaN</td>\n",
       "      <td>NaN</td>\n",
       "    </tr>\n",
       "    <tr>\n",
       "      <th>1</th>\n",
       "      <td>   E.Baltacha</td>\n",
       "      <td> F.Pennetta</td>\n",
       "      <td> 1</td>\n",
       "      <td> 0</td>\n",
       "      <td> 0</td>\n",
       "      <td> 2</td>\n",
       "      <td> 69</td>\n",
       "      <td> 23</td>\n",
       "      <td> 31</td>\n",
       "      <td>  6</td>\n",
       "      <td>...</td>\n",
       "      <td>  6</td>\n",
       "      <td> 5</td>\n",
       "      <td> 14</td>\n",
       "      <td> 11</td>\n",
       "      <td>NaN</td>\n",
       "      <td> 6</td>\n",
       "      <td> 6</td>\n",
       "      <td>NaN</td>\n",
       "      <td>NaN</td>\n",
       "      <td>NaN</td>\n",
       "    </tr>\n",
       "    <tr>\n",
       "      <th>2</th>\n",
       "      <td>    S-W.Hsieh</td>\n",
       "      <td>    T.Maria</td>\n",
       "      <td> 1</td>\n",
       "      <td> 1</td>\n",
       "      <td> 2</td>\n",
       "      <td> 0</td>\n",
       "      <td> 63</td>\n",
       "      <td> 17</td>\n",
       "      <td> 37</td>\n",
       "      <td> 10</td>\n",
       "      <td>...</td>\n",
       "      <td>  1</td>\n",
       "      <td> 0</td>\n",
       "      <td>  8</td>\n",
       "      <td>  2</td>\n",
       "      <td>NaN</td>\n",
       "      <td> 1</td>\n",
       "      <td> 0</td>\n",
       "      <td>NaN</td>\n",
       "      <td>NaN</td>\n",
       "      <td>NaN</td>\n",
       "    </tr>\n",
       "    <tr>\n",
       "      <th>3</th>\n",
       "      <td>     A.Cornet</td>\n",
       "      <td>     V.King</td>\n",
       "      <td> 1</td>\n",
       "      <td> 1</td>\n",
       "      <td> 2</td>\n",
       "      <td> 1</td>\n",
       "      <td> 57</td>\n",
       "      <td> 36</td>\n",
       "      <td> 43</td>\n",
       "      <td> 21</td>\n",
       "      <td>...</td>\n",
       "      <td>  4</td>\n",
       "      <td> 1</td>\n",
       "      <td> 48</td>\n",
       "      <td> 32</td>\n",
       "      <td>NaN</td>\n",
       "      <td> 6</td>\n",
       "      <td> 3</td>\n",
       "      <td>  1</td>\n",
       "      <td>NaN</td>\n",
       "      <td>NaN</td>\n",
       "    </tr>\n",
       "    <tr>\n",
       "      <th>4</th>\n",
       "      <td> Y.Putintseva</td>\n",
       "      <td> K.Flipkens</td>\n",
       "      <td> 1</td>\n",
       "      <td> 0</td>\n",
       "      <td> 0</td>\n",
       "      <td> 2</td>\n",
       "      <td> 73</td>\n",
       "      <td> 34</td>\n",
       "      <td> 27</td>\n",
       "      <td> 12</td>\n",
       "      <td>...</td>\n",
       "      <td>  9</td>\n",
       "      <td> 3</td>\n",
       "      <td> 35</td>\n",
       "      <td> 24</td>\n",
       "      <td>NaN</td>\n",
       "      <td> 7</td>\n",
       "      <td> 6</td>\n",
       "      <td>NaN</td>\n",
       "      <td>NaN</td>\n",
       "      <td>NaN</td>\n",
       "    </tr>\n",
       "  </tbody>\n",
       "</table>\n",
       "<p>5 rows × 42 columns</p>\n",
       "</div>"
      ],
      "text/plain": [
       "        Player1     Player2  Round  Result  FNL.1  FNL.2  FSP.1  FSW.1  SSP.1  \\\n",
       "0     M.Koehler  V.Azarenka      1       0      0      2     60     21     40   \n",
       "1    E.Baltacha  F.Pennetta      1       0      0      2     69     23     31   \n",
       "2     S-W.Hsieh     T.Maria      1       1      2      0     63     17     37   \n",
       "3      A.Cornet      V.King      1       1      2      1     57     36     43   \n",
       "4  Y.Putintseva  K.Flipkens      1       0      0      2     73     34     27   \n",
       "\n",
       "   SSW.1  ...    BPC.2  BPW.2  NPA.2  NPW.2  TPW.2  ST1.2  ST2.2  ST3.2  \\\n",
       "0      8  ...       16      6      8      4    NaN      6      6    NaN   \n",
       "1      6  ...        6      5     14     11    NaN      6      6    NaN   \n",
       "2     10  ...        1      0      8      2    NaN      1      0    NaN   \n",
       "3     21  ...        4      1     48     32    NaN      6      3      1   \n",
       "4     12  ...        9      3     35     24    NaN      7      6    NaN   \n",
       "\n",
       "   ST4.2  ST5.2  \n",
       "0    NaN    NaN  \n",
       "1    NaN    NaN  \n",
       "2    NaN    NaN  \n",
       "3    NaN    NaN  \n",
       "4    NaN    NaN  \n",
       "\n",
       "[5 rows x 42 columns]"
      ]
     },
     "execution_count": 621,
     "metadata": {},
     "output_type": "execute_result"
    }
   ],
   "source": [
    "input_data[:5]"
   ]
  },
  {
   "cell_type": "markdown",
   "metadata": {},
   "source": [
    "Lets see the Player1 column for first 5 rows"
   ]
  },
  {
   "cell_type": "code",
   "execution_count": 622,
   "metadata": {
    "collapsed": false
   },
   "outputs": [
    {
     "data": {
      "text/plain": [
       "0       M.Koehler\n",
       "1      E.Baltacha\n",
       "2       S-W.Hsieh\n",
       "3        A.Cornet\n",
       "4    Y.Putintseva\n",
       "Name: Player1, dtype: object"
      ]
     },
     "execution_count": 622,
     "metadata": {},
     "output_type": "execute_result"
    }
   ],
   "source": [
    "input_data['Player1'][:5]"
   ]
  },
  {
   "cell_type": "markdown",
   "metadata": {},
   "source": [
    "Now lets make a function to load data from all the data files. Since each file belongs to certain type of match/tournament. We will add additional column indiacting the file name or tournament type."
   ]
  },
  {
   "cell_type": "code",
   "execution_count": 623,
   "metadata": {
    "collapsed": true
   },
   "outputs": [],
   "source": [
    "def load_data(data_files):\n",
    "    input_data = None;\n",
    "    input_data_initialized = False; # to check the state of input_data variable\n",
    "    for file_name in data_files:\n",
    "        print 'Reading from file ' + file_name\n",
    "        if not input_data_initialized:\n",
    "            #Initialize the input_data\n",
    "            data = pd.read_csv(data_files_path + file_name);\n",
    "            input_data = data;\n",
    "            input_data['Type'] = file_name.split('.')[0];\n",
    "            input_data_initialized = True;\n",
    "        else:\n",
    "            #Store the data into data variable\n",
    "            data = pd.read_csv(data_files_path + file_name);\n",
    "            data['Type'] = file_name.split('.')[0];\n",
    "            #Append the data into input_data\n",
    "            input_data = input_data.append(data);\n",
    "    return input_data;"
   ]
  },
  {
   "cell_type": "code",
   "execution_count": 624,
   "metadata": {
    "collapsed": false
   },
   "outputs": [
    {
     "name": "stdout",
     "output_type": "stream",
     "text": [
      "Reading from file Wimbledon-women-2013.csv\n",
      "Reading from file FrenchOpen-women-2013.csv\n",
      "Reading from file AusOpen-men-2013.csv\n",
      "Reading from file FrenchOpen-men-2013.csv\n",
      "Reading from file Wimbledon-men-2013.csv\n",
      "Reading from file AusOpen-women-2013.csv\n",
      "Reading from file USOpen-women-2013.csv\n",
      "Reading from file USOpen-men-2013.csv\n"
     ]
    }
   ],
   "source": [
    "#Lets load data from all the files\n",
    "input_data = load_data(data_files);"
   ]
  },
  {
   "cell_type": "markdown",
   "metadata": {},
   "source": [
    "Lets check the size of data"
   ]
  },
  {
   "cell_type": "code",
   "execution_count": 625,
   "metadata": {
    "collapsed": false
   },
   "outputs": [
    {
     "data": {
      "text/plain": [
       "(943, 43)"
      ]
     },
     "execution_count": 625,
     "metadata": {},
     "output_type": "execute_result"
    }
   ],
   "source": [
    "input_data.shape"
   ]
  },
  {
   "cell_type": "markdown",
   "metadata": {},
   "source": [
    "This means the input_data have 943 rows and 42 columns"
   ]
  },
  {
   "cell_type": "markdown",
   "metadata": {},
   "source": [
    "Lets see first 5 rows of input_data"
   ]
  },
  {
   "cell_type": "code",
   "execution_count": 626,
   "metadata": {
    "collapsed": false
   },
   "outputs": [
    {
     "data": {
      "text/html": [
       "<div style=\"max-height:1000px;max-width:1500px;overflow:auto;\">\n",
       "<table border=\"1\" class=\"dataframe\">\n",
       "  <thead>\n",
       "    <tr style=\"text-align: right;\">\n",
       "      <th></th>\n",
       "      <th>Player1</th>\n",
       "      <th>Player2</th>\n",
       "      <th>Round</th>\n",
       "      <th>Result</th>\n",
       "      <th>FNL.1</th>\n",
       "      <th>FNL.2</th>\n",
       "      <th>FSP.1</th>\n",
       "      <th>FSW.1</th>\n",
       "      <th>SSP.1</th>\n",
       "      <th>SSW.1</th>\n",
       "      <th>...</th>\n",
       "      <th>BPW.2</th>\n",
       "      <th>NPA.2</th>\n",
       "      <th>NPW.2</th>\n",
       "      <th>TPW.2</th>\n",
       "      <th>ST1.2</th>\n",
       "      <th>ST2.2</th>\n",
       "      <th>ST3.2</th>\n",
       "      <th>ST4.2</th>\n",
       "      <th>ST5.2</th>\n",
       "      <th>Type</th>\n",
       "    </tr>\n",
       "  </thead>\n",
       "  <tbody>\n",
       "    <tr>\n",
       "      <th>0</th>\n",
       "      <td>    M.Koehler</td>\n",
       "      <td> V.Azarenka</td>\n",
       "      <td> 1</td>\n",
       "      <td> 0</td>\n",
       "      <td> 0</td>\n",
       "      <td> 2</td>\n",
       "      <td> 60</td>\n",
       "      <td> 21</td>\n",
       "      <td> 40</td>\n",
       "      <td>  8</td>\n",
       "      <td>...</td>\n",
       "      <td> 6</td>\n",
       "      <td>  8</td>\n",
       "      <td>  4</td>\n",
       "      <td>NaN</td>\n",
       "      <td> 6</td>\n",
       "      <td> 6</td>\n",
       "      <td>NaN</td>\n",
       "      <td>NaN</td>\n",
       "      <td>NaN</td>\n",
       "      <td> Wimbledon-women-2013</td>\n",
       "    </tr>\n",
       "    <tr>\n",
       "      <th>1</th>\n",
       "      <td>   E.Baltacha</td>\n",
       "      <td> F.Pennetta</td>\n",
       "      <td> 1</td>\n",
       "      <td> 0</td>\n",
       "      <td> 0</td>\n",
       "      <td> 2</td>\n",
       "      <td> 69</td>\n",
       "      <td> 23</td>\n",
       "      <td> 31</td>\n",
       "      <td>  6</td>\n",
       "      <td>...</td>\n",
       "      <td> 5</td>\n",
       "      <td> 14</td>\n",
       "      <td> 11</td>\n",
       "      <td>NaN</td>\n",
       "      <td> 6</td>\n",
       "      <td> 6</td>\n",
       "      <td>NaN</td>\n",
       "      <td>NaN</td>\n",
       "      <td>NaN</td>\n",
       "      <td> Wimbledon-women-2013</td>\n",
       "    </tr>\n",
       "    <tr>\n",
       "      <th>2</th>\n",
       "      <td>    S-W.Hsieh</td>\n",
       "      <td>    T.Maria</td>\n",
       "      <td> 1</td>\n",
       "      <td> 1</td>\n",
       "      <td> 2</td>\n",
       "      <td> 0</td>\n",
       "      <td> 63</td>\n",
       "      <td> 17</td>\n",
       "      <td> 37</td>\n",
       "      <td> 10</td>\n",
       "      <td>...</td>\n",
       "      <td> 0</td>\n",
       "      <td>  8</td>\n",
       "      <td>  2</td>\n",
       "      <td>NaN</td>\n",
       "      <td> 1</td>\n",
       "      <td> 0</td>\n",
       "      <td>NaN</td>\n",
       "      <td>NaN</td>\n",
       "      <td>NaN</td>\n",
       "      <td> Wimbledon-women-2013</td>\n",
       "    </tr>\n",
       "    <tr>\n",
       "      <th>3</th>\n",
       "      <td>     A.Cornet</td>\n",
       "      <td>     V.King</td>\n",
       "      <td> 1</td>\n",
       "      <td> 1</td>\n",
       "      <td> 2</td>\n",
       "      <td> 1</td>\n",
       "      <td> 57</td>\n",
       "      <td> 36</td>\n",
       "      <td> 43</td>\n",
       "      <td> 21</td>\n",
       "      <td>...</td>\n",
       "      <td> 1</td>\n",
       "      <td> 48</td>\n",
       "      <td> 32</td>\n",
       "      <td>NaN</td>\n",
       "      <td> 6</td>\n",
       "      <td> 3</td>\n",
       "      <td>  1</td>\n",
       "      <td>NaN</td>\n",
       "      <td>NaN</td>\n",
       "      <td> Wimbledon-women-2013</td>\n",
       "    </tr>\n",
       "    <tr>\n",
       "      <th>4</th>\n",
       "      <td> Y.Putintseva</td>\n",
       "      <td> K.Flipkens</td>\n",
       "      <td> 1</td>\n",
       "      <td> 0</td>\n",
       "      <td> 0</td>\n",
       "      <td> 2</td>\n",
       "      <td> 73</td>\n",
       "      <td> 34</td>\n",
       "      <td> 27</td>\n",
       "      <td> 12</td>\n",
       "      <td>...</td>\n",
       "      <td> 3</td>\n",
       "      <td> 35</td>\n",
       "      <td> 24</td>\n",
       "      <td>NaN</td>\n",
       "      <td> 7</td>\n",
       "      <td> 6</td>\n",
       "      <td>NaN</td>\n",
       "      <td>NaN</td>\n",
       "      <td>NaN</td>\n",
       "      <td> Wimbledon-women-2013</td>\n",
       "    </tr>\n",
       "  </tbody>\n",
       "</table>\n",
       "<p>5 rows × 43 columns</p>\n",
       "</div>"
      ],
      "text/plain": [
       "        Player1     Player2  Round  Result  FNL.1  FNL.2  FSP.1  FSW.1  SSP.1  \\\n",
       "0     M.Koehler  V.Azarenka      1       0      0      2     60     21     40   \n",
       "1    E.Baltacha  F.Pennetta      1       0      0      2     69     23     31   \n",
       "2     S-W.Hsieh     T.Maria      1       1      2      0     63     17     37   \n",
       "3      A.Cornet      V.King      1       1      2      1     57     36     43   \n",
       "4  Y.Putintseva  K.Flipkens      1       0      0      2     73     34     27   \n",
       "\n",
       "   SSW.1          ...           BPW.2  NPA.2  NPW.2  TPW.2  ST1.2  ST2.2  \\\n",
       "0      8          ...               6      8      4    NaN      6      6   \n",
       "1      6          ...               5     14     11    NaN      6      6   \n",
       "2     10          ...               0      8      2    NaN      1      0   \n",
       "3     21          ...               1     48     32    NaN      6      3   \n",
       "4     12          ...               3     35     24    NaN      7      6   \n",
       "\n",
       "   ST3.2  ST4.2  ST5.2                  Type  \n",
       "0    NaN    NaN    NaN  Wimbledon-women-2013  \n",
       "1    NaN    NaN    NaN  Wimbledon-women-2013  \n",
       "2    NaN    NaN    NaN  Wimbledon-women-2013  \n",
       "3      1    NaN    NaN  Wimbledon-women-2013  \n",
       "4    NaN    NaN    NaN  Wimbledon-women-2013  \n",
       "\n",
       "[5 rows x 43 columns]"
      ]
     },
     "execution_count": 626,
     "metadata": {},
     "output_type": "execute_result"
    }
   ],
   "source": [
    "input_data[:5]"
   ]
  },
  {
   "cell_type": "markdown",
   "metadata": {},
   "source": [
    "Lets read all the player names and match types"
   ]
  },
  {
   "cell_type": "code",
   "execution_count": 627,
   "metadata": {
    "collapsed": true
   },
   "outputs": [],
   "source": [
    "player_names = input_data['Player1'].copy();\n",
    "player_names = player_names.append(input_data['Player2']);\n",
    "\n",
    "tournament_types = input_data['Type'].copy();"
   ]
  },
  {
   "cell_type": "code",
   "execution_count": 628,
   "metadata": {
    "collapsed": false
   },
   "outputs": [
    {
     "data": {
      "text/plain": [
       "0       M.Koehler\n",
       "1      E.Baltacha\n",
       "2       S-W.Hsieh\n",
       "3        A.Cornet\n",
       "4    Y.Putintseva\n",
       "dtype: object"
      ]
     },
     "execution_count": 628,
     "metadata": {},
     "output_type": "execute_result"
    }
   ],
   "source": [
    "player_names[:5]"
   ]
  },
  {
   "cell_type": "markdown",
   "metadata": {},
   "source": [
    "We need to divide the data into two parts. One to train the learning algorithms, and other part to test the algorithms. We will select 100 rows randomaly for test data."
   ]
  },
  {
   "cell_type": "code",
   "execution_count": 629,
   "metadata": {
    "collapsed": false
   },
   "outputs": [],
   "source": [
    "import numpy as np\n",
    "#Lets randomize the rows in input_data\n",
    "input_data = input_data.take(np.random.permutation(len(input_data))[:])\n",
    "#Lets take first 100 rows now\n",
    "test_data = input_data[:100].copy();\n",
    "input_data = input_data[100:-1];"
   ]
  },
  {
   "cell_type": "markdown",
   "metadata": {},
   "source": [
    "Test data looks like:"
   ]
  },
  {
   "cell_type": "code",
   "execution_count": 630,
   "metadata": {
    "collapsed": false
   },
   "outputs": [
    {
     "data": {
      "text/plain": [
       "(100, 43)"
      ]
     },
     "execution_count": 630,
     "metadata": {},
     "output_type": "execute_result"
    }
   ],
   "source": [
    "test_data.shape"
   ]
  },
  {
   "cell_type": "code",
   "execution_count": 631,
   "metadata": {
    "collapsed": false
   },
   "outputs": [
    {
     "data": {
      "text/plain": [
       "(842, 43)"
      ]
     },
     "execution_count": 631,
     "metadata": {},
     "output_type": "execute_result"
    }
   ],
   "source": [
    "input_data.shape"
   ]
  },
  {
   "cell_type": "markdown",
   "metadata": {},
   "source": [
    "The Result column have results of all the matches. \n",
    "The result is 1 if Player1 won the match, it is zero if Player2 won the match. We will be feeding all this data to learning algorithm. The algorithm accepts numeric values only. So we need to convert the player names and match types into numeric values. We will be identifying each player with a unique number. To do so lets import preprocessing module of sklearn, and use the label encoder availabel in it."
   ]
  },
  {
   "cell_type": "code",
   "execution_count": 632,
   "metadata": {
    "collapsed": true
   },
   "outputs": [],
   "source": [
    "from sklearn import preprocessing\n",
    "name_encoder = preprocessing.LabelEncoder()\n",
    "tournament_encoder = preprocessing.LabelEncoder()"
   ]
  },
  {
   "cell_type": "markdown",
   "metadata": {},
   "source": [
    "Now lets transform the names into numeric values"
   ]
  },
  {
   "cell_type": "code",
   "execution_count": 633,
   "metadata": {
    "collapsed": false,
    "scrolled": true
   },
   "outputs": [],
   "source": [
    "names_fit = name_encoder.fit(player_names)\n",
    "tournament_fit = tournament_encoder.fit(tournament_types)\n",
    "input_data['Player1'] = names_fit.transform(input_data['Player1']);\n",
    "input_data['Player2'] = names_fit.transform(input_data['Player2']);\n",
    "input_data['Type'] = tournament_fit.transform(input_data['Type']);\n",
    "\n",
    "test_data['Player1'] = names_fit.transform(test_data['Player1']);\n",
    "test_data['Player2'] = names_fit.transform(test_data['Player2']);\n",
    "test_data['Type'] = tournament_fit.transform(test_data['Type']);"
   ]
  },
  {
   "cell_type": "code",
   "execution_count": 634,
   "metadata": {
    "collapsed": false
   },
   "outputs": [
    {
     "data": {
      "text/html": [
       "<div style=\"max-height:1000px;max-width:1500px;overflow:auto;\">\n",
       "<table border=\"1\" class=\"dataframe\">\n",
       "  <thead>\n",
       "    <tr style=\"text-align: right;\">\n",
       "      <th></th>\n",
       "      <th>Player1</th>\n",
       "      <th>Player2</th>\n",
       "      <th>Type</th>\n",
       "    </tr>\n",
       "  </thead>\n",
       "  <tbody>\n",
       "    <tr>\n",
       "      <th>48 </th>\n",
       "      <td> 519</td>\n",
       "      <td> 299</td>\n",
       "      <td> 0</td>\n",
       "    </tr>\n",
       "    <tr>\n",
       "      <th>54 </th>\n",
       "      <td> 364</td>\n",
       "      <td> 104</td>\n",
       "      <td> 4</td>\n",
       "    </tr>\n",
       "    <tr>\n",
       "      <th>9  </th>\n",
       "      <td> 317</td>\n",
       "      <td> 482</td>\n",
       "      <td> 6</td>\n",
       "    </tr>\n",
       "    <tr>\n",
       "      <th>1  </th>\n",
       "      <td> 188</td>\n",
       "      <td> 621</td>\n",
       "      <td> 5</td>\n",
       "    </tr>\n",
       "    <tr>\n",
       "      <th>107</th>\n",
       "      <td> 615</td>\n",
       "      <td> 297</td>\n",
       "      <td> 2</td>\n",
       "    </tr>\n",
       "  </tbody>\n",
       "</table>\n",
       "</div>"
      ],
      "text/plain": [
       "     Player1  Player2  Type\n",
       "48       519      299     0\n",
       "54       364      104     4\n",
       "9        317      482     6\n",
       "1        188      621     5\n",
       "107      615      297     2"
      ]
     },
     "execution_count": 634,
     "metadata": {},
     "output_type": "execute_result"
    }
   ],
   "source": [
    "input_data[['Player1', 'Player2', 'Type']][:5]"
   ]
  },
  {
   "cell_type": "code",
   "execution_count": 635,
   "metadata": {
    "collapsed": false
   },
   "outputs": [
    {
     "data": {
      "text/html": [
       "<div style=\"max-height:1000px;max-width:1500px;overflow:auto;\">\n",
       "<table border=\"1\" class=\"dataframe\">\n",
       "  <thead>\n",
       "    <tr style=\"text-align: right;\">\n",
       "      <th></th>\n",
       "      <th>Player1</th>\n",
       "      <th>Player2</th>\n",
       "      <th>Type</th>\n",
       "    </tr>\n",
       "  </thead>\n",
       "  <tbody>\n",
       "    <tr>\n",
       "      <th>21</th>\n",
       "      <td> 115</td>\n",
       "      <td> 549</td>\n",
       "      <td> 7</td>\n",
       "    </tr>\n",
       "    <tr>\n",
       "      <th>91</th>\n",
       "      <td> 127</td>\n",
       "      <td> 102</td>\n",
       "      <td> 3</td>\n",
       "    </tr>\n",
       "    <tr>\n",
       "      <th>37</th>\n",
       "      <td> 666</td>\n",
       "      <td> 330</td>\n",
       "      <td> 1</td>\n",
       "    </tr>\n",
       "    <tr>\n",
       "      <th>41</th>\n",
       "      <td> 257</td>\n",
       "      <td> 144</td>\n",
       "      <td> 6</td>\n",
       "    </tr>\n",
       "    <tr>\n",
       "      <th>51</th>\n",
       "      <td> 604</td>\n",
       "      <td>  65</td>\n",
       "      <td> 1</td>\n",
       "    </tr>\n",
       "  </tbody>\n",
       "</table>\n",
       "</div>"
      ],
      "text/plain": [
       "    Player1  Player2  Type\n",
       "21      115      549     7\n",
       "91      127      102     3\n",
       "37      666      330     1\n",
       "41      257      144     6\n",
       "51      604       65     1"
      ]
     },
     "execution_count": 635,
     "metadata": {},
     "output_type": "execute_result"
    }
   ],
   "source": [
    "test_data[['Player1', 'Player2', 'Type']][:5]"
   ]
  },
  {
   "cell_type": "markdown",
   "metadata": {},
   "source": [
    "And the input_data looks like:"
   ]
  },
  {
   "cell_type": "code",
   "execution_count": 636,
   "metadata": {
    "collapsed": false
   },
   "outputs": [
    {
     "data": {
      "text/html": [
       "<div style=\"max-height:1000px;max-width:1500px;overflow:auto;\">\n",
       "<table border=\"1\" class=\"dataframe\">\n",
       "  <thead>\n",
       "    <tr style=\"text-align: right;\">\n",
       "      <th></th>\n",
       "      <th>Player1</th>\n",
       "      <th>Player2</th>\n",
       "      <th>Round</th>\n",
       "      <th>Result</th>\n",
       "      <th>FNL.1</th>\n",
       "      <th>FNL.2</th>\n",
       "      <th>FSP.1</th>\n",
       "      <th>FSW.1</th>\n",
       "      <th>SSP.1</th>\n",
       "      <th>SSW.1</th>\n",
       "      <th>...</th>\n",
       "      <th>BPW.2</th>\n",
       "      <th>NPA.2</th>\n",
       "      <th>NPW.2</th>\n",
       "      <th>TPW.2</th>\n",
       "      <th>ST1.2</th>\n",
       "      <th>ST2.2</th>\n",
       "      <th>ST3.2</th>\n",
       "      <th>ST4.2</th>\n",
       "      <th>ST5.2</th>\n",
       "      <th>Type</th>\n",
       "    </tr>\n",
       "  </thead>\n",
       "  <tbody>\n",
       "    <tr>\n",
       "      <th>48 </th>\n",
       "      <td> 519</td>\n",
       "      <td> 299</td>\n",
       "      <td> 1</td>\n",
       "      <td> 0</td>\n",
       "      <td> 1</td>\n",
       "      <td> 3</td>\n",
       "      <td> 57</td>\n",
       "      <td> 52</td>\n",
       "      <td> 43</td>\n",
       "      <td> 25</td>\n",
       "      <td>...</td>\n",
       "      <td>  8</td>\n",
       "      <td> 21</td>\n",
       "      <td> 28</td>\n",
       "      <td> 122</td>\n",
       "      <td> 6</td>\n",
       "      <td> 6</td>\n",
       "      <td>  6</td>\n",
       "      <td>  6</td>\n",
       "      <td>NaN</td>\n",
       "      <td> 0</td>\n",
       "    </tr>\n",
       "    <tr>\n",
       "      <th>54 </th>\n",
       "      <td> 364</td>\n",
       "      <td> 104</td>\n",
       "      <td> 1</td>\n",
       "      <td> 1</td>\n",
       "      <td> 3</td>\n",
       "      <td> 1</td>\n",
       "      <td> 46</td>\n",
       "      <td> 38</td>\n",
       "      <td> 54</td>\n",
       "      <td> 29</td>\n",
       "      <td>...</td>\n",
       "      <td> 12</td>\n",
       "      <td> 12</td>\n",
       "      <td> 25</td>\n",
       "      <td> 110</td>\n",
       "      <td> 3</td>\n",
       "      <td> 6</td>\n",
       "      <td>  3</td>\n",
       "      <td>  4</td>\n",
       "      <td>NaN</td>\n",
       "      <td> 4</td>\n",
       "    </tr>\n",
       "    <tr>\n",
       "      <th>9  </th>\n",
       "      <td> 317</td>\n",
       "      <td> 482</td>\n",
       "      <td> 1</td>\n",
       "      <td> 1</td>\n",
       "      <td> 3</td>\n",
       "      <td> 0</td>\n",
       "      <td> 67</td>\n",
       "      <td> 56</td>\n",
       "      <td> 33</td>\n",
       "      <td> 21</td>\n",
       "      <td>...</td>\n",
       "      <td>  0</td>\n",
       "      <td> 23</td>\n",
       "      <td> 15</td>\n",
       "      <td> NaN</td>\n",
       "      <td> 6</td>\n",
       "      <td> 4</td>\n",
       "      <td>  2</td>\n",
       "      <td>NaN</td>\n",
       "      <td>NaN</td>\n",
       "      <td> 6</td>\n",
       "    </tr>\n",
       "    <tr>\n",
       "      <th>1  </th>\n",
       "      <td> 188</td>\n",
       "      <td> 621</td>\n",
       "      <td> 6</td>\n",
       "      <td> 0</td>\n",
       "      <td> 0</td>\n",
       "      <td> 2</td>\n",
       "      <td> 44</td>\n",
       "      <td> 12</td>\n",
       "      <td> 56</td>\n",
       "      <td>  7</td>\n",
       "      <td>...</td>\n",
       "      <td>  8</td>\n",
       "      <td> 30</td>\n",
       "      <td> 20</td>\n",
       "      <td> NaN</td>\n",
       "      <td> 6</td>\n",
       "      <td> 6</td>\n",
       "      <td>NaN</td>\n",
       "      <td>NaN</td>\n",
       "      <td>NaN</td>\n",
       "      <td> 5</td>\n",
       "    </tr>\n",
       "    <tr>\n",
       "      <th>107</th>\n",
       "      <td> 615</td>\n",
       "      <td> 297</td>\n",
       "      <td> 3</td>\n",
       "      <td> 0</td>\n",
       "      <td> 2</td>\n",
       "      <td> 3</td>\n",
       "      <td> 63</td>\n",
       "      <td> 99</td>\n",
       "      <td> 37</td>\n",
       "      <td> 52</td>\n",
       "      <td>...</td>\n",
       "      <td> 13</td>\n",
       "      <td> 52</td>\n",
       "      <td> 80</td>\n",
       "      <td> 213</td>\n",
       "      <td> 5</td>\n",
       "      <td> 6</td>\n",
       "      <td>  6</td>\n",
       "      <td>  7</td>\n",
       "      <td>  8</td>\n",
       "      <td> 2</td>\n",
       "    </tr>\n",
       "  </tbody>\n",
       "</table>\n",
       "<p>5 rows × 43 columns</p>\n",
       "</div>"
      ],
      "text/plain": [
       "     Player1  Player2  Round  Result  FNL.1  FNL.2  FSP.1  FSW.1  SSP.1  \\\n",
       "48       519      299      1       0      1      3     57     52     43   \n",
       "54       364      104      1       1      3      1     46     38     54   \n",
       "9        317      482      1       1      3      0     67     56     33   \n",
       "1        188      621      6       0      0      2     44     12     56   \n",
       "107      615      297      3       0      2      3     63     99     37   \n",
       "\n",
       "     SSW.1  ...   BPW.2  NPA.2  NPW.2  TPW.2  ST1.2  ST2.2  ST3.2  ST4.2  \\\n",
       "48      25  ...       8     21     28    122      6      6      6      6   \n",
       "54      29  ...      12     12     25    110      3      6      3      4   \n",
       "9       21  ...       0     23     15    NaN      6      4      2    NaN   \n",
       "1        7  ...       8     30     20    NaN      6      6    NaN    NaN   \n",
       "107     52  ...      13     52     80    213      5      6      6      7   \n",
       "\n",
       "     ST5.2  Type  \n",
       "48     NaN     0  \n",
       "54     NaN     4  \n",
       "9      NaN     6  \n",
       "1      NaN     5  \n",
       "107      8     2  \n",
       "\n",
       "[5 rows x 43 columns]"
      ]
     },
     "execution_count": 636,
     "metadata": {},
     "output_type": "execute_result"
    }
   ],
   "source": [
    "input_data[:5]"
   ]
  },
  {
   "cell_type": "markdown",
   "metadata": {},
   "source": [
    "Now we see that some data points are 'NaN', which is not a numeric value. So we need to replace it with numeric values. We will replace NaN values with 0. To check which values are 'NaN' there is isnul function which returns True if the value is null."
   ]
  },
  {
   "cell_type": "code",
   "execution_count": 637,
   "metadata": {
    "collapsed": false,
    "scrolled": true
   },
   "outputs": [
    {
     "data": {
      "text/html": [
       "<div style=\"max-height:1000px;max-width:1500px;overflow:auto;\">\n",
       "<table border=\"1\" class=\"dataframe\">\n",
       "  <thead>\n",
       "    <tr style=\"text-align: right;\">\n",
       "      <th></th>\n",
       "      <th>Player1</th>\n",
       "      <th>Player2</th>\n",
       "      <th>Round</th>\n",
       "      <th>Result</th>\n",
       "      <th>FNL.1</th>\n",
       "      <th>FNL.2</th>\n",
       "      <th>FSP.1</th>\n",
       "      <th>FSW.1</th>\n",
       "      <th>SSP.1</th>\n",
       "      <th>SSW.1</th>\n",
       "      <th>...</th>\n",
       "      <th>BPW.2</th>\n",
       "      <th>NPA.2</th>\n",
       "      <th>NPW.2</th>\n",
       "      <th>TPW.2</th>\n",
       "      <th>ST1.2</th>\n",
       "      <th>ST2.2</th>\n",
       "      <th>ST3.2</th>\n",
       "      <th>ST4.2</th>\n",
       "      <th>ST5.2</th>\n",
       "      <th>Type</th>\n",
       "    </tr>\n",
       "  </thead>\n",
       "  <tbody>\n",
       "    <tr>\n",
       "      <th>48 </th>\n",
       "      <td> False</td>\n",
       "      <td> False</td>\n",
       "      <td> False</td>\n",
       "      <td> False</td>\n",
       "      <td> False</td>\n",
       "      <td> False</td>\n",
       "      <td> False</td>\n",
       "      <td> False</td>\n",
       "      <td> False</td>\n",
       "      <td> False</td>\n",
       "      <td>...</td>\n",
       "      <td> False</td>\n",
       "      <td> False</td>\n",
       "      <td> False</td>\n",
       "      <td> False</td>\n",
       "      <td> False</td>\n",
       "      <td> False</td>\n",
       "      <td> False</td>\n",
       "      <td> False</td>\n",
       "      <td>  True</td>\n",
       "      <td> False</td>\n",
       "    </tr>\n",
       "    <tr>\n",
       "      <th>54 </th>\n",
       "      <td> False</td>\n",
       "      <td> False</td>\n",
       "      <td> False</td>\n",
       "      <td> False</td>\n",
       "      <td> False</td>\n",
       "      <td> False</td>\n",
       "      <td> False</td>\n",
       "      <td> False</td>\n",
       "      <td> False</td>\n",
       "      <td> False</td>\n",
       "      <td>...</td>\n",
       "      <td> False</td>\n",
       "      <td> False</td>\n",
       "      <td> False</td>\n",
       "      <td> False</td>\n",
       "      <td> False</td>\n",
       "      <td> False</td>\n",
       "      <td> False</td>\n",
       "      <td> False</td>\n",
       "      <td>  True</td>\n",
       "      <td> False</td>\n",
       "    </tr>\n",
       "    <tr>\n",
       "      <th>9  </th>\n",
       "      <td> False</td>\n",
       "      <td> False</td>\n",
       "      <td> False</td>\n",
       "      <td> False</td>\n",
       "      <td> False</td>\n",
       "      <td> False</td>\n",
       "      <td> False</td>\n",
       "      <td> False</td>\n",
       "      <td> False</td>\n",
       "      <td> False</td>\n",
       "      <td>...</td>\n",
       "      <td> False</td>\n",
       "      <td> False</td>\n",
       "      <td> False</td>\n",
       "      <td>  True</td>\n",
       "      <td> False</td>\n",
       "      <td> False</td>\n",
       "      <td> False</td>\n",
       "      <td>  True</td>\n",
       "      <td>  True</td>\n",
       "      <td> False</td>\n",
       "    </tr>\n",
       "    <tr>\n",
       "      <th>1  </th>\n",
       "      <td> False</td>\n",
       "      <td> False</td>\n",
       "      <td> False</td>\n",
       "      <td> False</td>\n",
       "      <td> False</td>\n",
       "      <td> False</td>\n",
       "      <td> False</td>\n",
       "      <td> False</td>\n",
       "      <td> False</td>\n",
       "      <td> False</td>\n",
       "      <td>...</td>\n",
       "      <td> False</td>\n",
       "      <td> False</td>\n",
       "      <td> False</td>\n",
       "      <td>  True</td>\n",
       "      <td> False</td>\n",
       "      <td> False</td>\n",
       "      <td>  True</td>\n",
       "      <td>  True</td>\n",
       "      <td>  True</td>\n",
       "      <td> False</td>\n",
       "    </tr>\n",
       "    <tr>\n",
       "      <th>107</th>\n",
       "      <td> False</td>\n",
       "      <td> False</td>\n",
       "      <td> False</td>\n",
       "      <td> False</td>\n",
       "      <td> False</td>\n",
       "      <td> False</td>\n",
       "      <td> False</td>\n",
       "      <td> False</td>\n",
       "      <td> False</td>\n",
       "      <td> False</td>\n",
       "      <td>...</td>\n",
       "      <td> False</td>\n",
       "      <td> False</td>\n",
       "      <td> False</td>\n",
       "      <td> False</td>\n",
       "      <td> False</td>\n",
       "      <td> False</td>\n",
       "      <td> False</td>\n",
       "      <td> False</td>\n",
       "      <td> False</td>\n",
       "      <td> False</td>\n",
       "    </tr>\n",
       "  </tbody>\n",
       "</table>\n",
       "<p>5 rows × 43 columns</p>\n",
       "</div>"
      ],
      "text/plain": [
       "    Player1 Player2  Round Result  FNL.1  FNL.2  FSP.1  FSW.1  SSP.1  SSW.1  \\\n",
       "48    False   False  False  False  False  False  False  False  False  False   \n",
       "54    False   False  False  False  False  False  False  False  False  False   \n",
       "9     False   False  False  False  False  False  False  False  False  False   \n",
       "1     False   False  False  False  False  False  False  False  False  False   \n",
       "107   False   False  False  False  False  False  False  False  False  False   \n",
       "\n",
       "     ...    BPW.2  NPA.2  NPW.2  TPW.2  ST1.2  ST2.2  ST3.2  ST4.2  ST5.2  \\\n",
       "48   ...    False  False  False  False  False  False  False  False   True   \n",
       "54   ...    False  False  False  False  False  False  False  False   True   \n",
       "9    ...    False  False  False   True  False  False  False   True   True   \n",
       "1    ...    False  False  False   True  False  False   True   True   True   \n",
       "107  ...    False  False  False  False  False  False  False  False  False   \n",
       "\n",
       "      Type  \n",
       "48   False  \n",
       "54   False  \n",
       "9    False  \n",
       "1    False  \n",
       "107  False  \n",
       "\n",
       "[5 rows x 43 columns]"
      ]
     },
     "execution_count": 637,
     "metadata": {},
     "output_type": "execute_result"
    }
   ],
   "source": [
    "input_data.isnull()[:5]"
   ]
  },
  {
   "cell_type": "markdown",
   "metadata": {},
   "source": [
    "Lets replace all the null values with 0."
   ]
  },
  {
   "cell_type": "code",
   "execution_count": 638,
   "metadata": {
    "collapsed": false
   },
   "outputs": [],
   "source": [
    "input_data[input_data.isnull()] = 0\n",
    "test_data[test_data.isnull()] = 0"
   ]
  },
  {
   "cell_type": "code",
   "execution_count": 639,
   "metadata": {
    "collapsed": false
   },
   "outputs": [
    {
     "data": {
      "text/html": [
       "<div style=\"max-height:1000px;max-width:1500px;overflow:auto;\">\n",
       "<table border=\"1\" class=\"dataframe\">\n",
       "  <thead>\n",
       "    <tr style=\"text-align: right;\">\n",
       "      <th></th>\n",
       "      <th>Player1</th>\n",
       "      <th>Player2</th>\n",
       "      <th>Round</th>\n",
       "      <th>Result</th>\n",
       "      <th>FNL.1</th>\n",
       "      <th>FNL.2</th>\n",
       "      <th>FSP.1</th>\n",
       "      <th>FSW.1</th>\n",
       "      <th>SSP.1</th>\n",
       "      <th>SSW.1</th>\n",
       "      <th>...</th>\n",
       "      <th>BPW.2</th>\n",
       "      <th>NPA.2</th>\n",
       "      <th>NPW.2</th>\n",
       "      <th>TPW.2</th>\n",
       "      <th>ST1.2</th>\n",
       "      <th>ST2.2</th>\n",
       "      <th>ST3.2</th>\n",
       "      <th>ST4.2</th>\n",
       "      <th>ST5.2</th>\n",
       "      <th>Type</th>\n",
       "    </tr>\n",
       "  </thead>\n",
       "  <tbody>\n",
       "    <tr>\n",
       "      <th>48 </th>\n",
       "      <td> 519</td>\n",
       "      <td> 299</td>\n",
       "      <td> 1</td>\n",
       "      <td> 0</td>\n",
       "      <td> 1</td>\n",
       "      <td> 3</td>\n",
       "      <td> 57</td>\n",
       "      <td> 52</td>\n",
       "      <td> 43</td>\n",
       "      <td> 25</td>\n",
       "      <td>...</td>\n",
       "      <td>  8</td>\n",
       "      <td> 21</td>\n",
       "      <td> 28</td>\n",
       "      <td> 122</td>\n",
       "      <td> 6</td>\n",
       "      <td> 6</td>\n",
       "      <td> 6</td>\n",
       "      <td> 6</td>\n",
       "      <td> 0</td>\n",
       "      <td> 0</td>\n",
       "    </tr>\n",
       "    <tr>\n",
       "      <th>54 </th>\n",
       "      <td> 364</td>\n",
       "      <td> 104</td>\n",
       "      <td> 1</td>\n",
       "      <td> 1</td>\n",
       "      <td> 3</td>\n",
       "      <td> 1</td>\n",
       "      <td> 46</td>\n",
       "      <td> 38</td>\n",
       "      <td> 54</td>\n",
       "      <td> 29</td>\n",
       "      <td>...</td>\n",
       "      <td> 12</td>\n",
       "      <td> 12</td>\n",
       "      <td> 25</td>\n",
       "      <td> 110</td>\n",
       "      <td> 3</td>\n",
       "      <td> 6</td>\n",
       "      <td> 3</td>\n",
       "      <td> 4</td>\n",
       "      <td> 0</td>\n",
       "      <td> 4</td>\n",
       "    </tr>\n",
       "    <tr>\n",
       "      <th>9  </th>\n",
       "      <td> 317</td>\n",
       "      <td> 482</td>\n",
       "      <td> 1</td>\n",
       "      <td> 1</td>\n",
       "      <td> 3</td>\n",
       "      <td> 0</td>\n",
       "      <td> 67</td>\n",
       "      <td> 56</td>\n",
       "      <td> 33</td>\n",
       "      <td> 21</td>\n",
       "      <td>...</td>\n",
       "      <td>  0</td>\n",
       "      <td> 23</td>\n",
       "      <td> 15</td>\n",
       "      <td>   0</td>\n",
       "      <td> 6</td>\n",
       "      <td> 4</td>\n",
       "      <td> 2</td>\n",
       "      <td> 0</td>\n",
       "      <td> 0</td>\n",
       "      <td> 6</td>\n",
       "    </tr>\n",
       "    <tr>\n",
       "      <th>1  </th>\n",
       "      <td> 188</td>\n",
       "      <td> 621</td>\n",
       "      <td> 6</td>\n",
       "      <td> 0</td>\n",
       "      <td> 0</td>\n",
       "      <td> 2</td>\n",
       "      <td> 44</td>\n",
       "      <td> 12</td>\n",
       "      <td> 56</td>\n",
       "      <td>  7</td>\n",
       "      <td>...</td>\n",
       "      <td>  8</td>\n",
       "      <td> 30</td>\n",
       "      <td> 20</td>\n",
       "      <td>   0</td>\n",
       "      <td> 6</td>\n",
       "      <td> 6</td>\n",
       "      <td> 0</td>\n",
       "      <td> 0</td>\n",
       "      <td> 0</td>\n",
       "      <td> 5</td>\n",
       "    </tr>\n",
       "    <tr>\n",
       "      <th>107</th>\n",
       "      <td> 615</td>\n",
       "      <td> 297</td>\n",
       "      <td> 3</td>\n",
       "      <td> 0</td>\n",
       "      <td> 2</td>\n",
       "      <td> 3</td>\n",
       "      <td> 63</td>\n",
       "      <td> 99</td>\n",
       "      <td> 37</td>\n",
       "      <td> 52</td>\n",
       "      <td>...</td>\n",
       "      <td> 13</td>\n",
       "      <td> 52</td>\n",
       "      <td> 80</td>\n",
       "      <td> 213</td>\n",
       "      <td> 5</td>\n",
       "      <td> 6</td>\n",
       "      <td> 6</td>\n",
       "      <td> 7</td>\n",
       "      <td> 8</td>\n",
       "      <td> 2</td>\n",
       "    </tr>\n",
       "  </tbody>\n",
       "</table>\n",
       "<p>5 rows × 43 columns</p>\n",
       "</div>"
      ],
      "text/plain": [
       "     Player1  Player2  Round  Result  FNL.1  FNL.2  FSP.1  FSW.1  SSP.1  \\\n",
       "48       519      299      1       0      1      3     57     52     43   \n",
       "54       364      104      1       1      3      1     46     38     54   \n",
       "9        317      482      1       1      3      0     67     56     33   \n",
       "1        188      621      6       0      0      2     44     12     56   \n",
       "107      615      297      3       0      2      3     63     99     37   \n",
       "\n",
       "     SSW.1  ...   BPW.2  NPA.2  NPW.2  TPW.2  ST1.2  ST2.2  ST3.2  ST4.2  \\\n",
       "48      25  ...       8     21     28    122      6      6      6      6   \n",
       "54      29  ...      12     12     25    110      3      6      3      4   \n",
       "9       21  ...       0     23     15      0      6      4      2      0   \n",
       "1        7  ...       8     30     20      0      6      6      0      0   \n",
       "107     52  ...      13     52     80    213      5      6      6      7   \n",
       "\n",
       "     ST5.2  Type  \n",
       "48       0     0  \n",
       "54       0     4  \n",
       "9        0     6  \n",
       "1        0     5  \n",
       "107      8     2  \n",
       "\n",
       "[5 rows x 43 columns]"
      ]
     },
     "execution_count": 639,
     "metadata": {},
     "output_type": "execute_result"
    }
   ],
   "source": [
    "input_data[:5]"
   ]
  },
  {
   "cell_type": "code",
   "execution_count": 640,
   "metadata": {
    "collapsed": false
   },
   "outputs": [
    {
     "data": {
      "text/html": [
       "<div style=\"max-height:1000px;max-width:1500px;overflow:auto;\">\n",
       "<table border=\"1\" class=\"dataframe\">\n",
       "  <thead>\n",
       "    <tr style=\"text-align: right;\">\n",
       "      <th></th>\n",
       "      <th>Player1</th>\n",
       "      <th>Player2</th>\n",
       "      <th>Round</th>\n",
       "      <th>Result</th>\n",
       "      <th>FNL.1</th>\n",
       "      <th>FNL.2</th>\n",
       "      <th>FSP.1</th>\n",
       "      <th>FSW.1</th>\n",
       "      <th>SSP.1</th>\n",
       "      <th>SSW.1</th>\n",
       "      <th>...</th>\n",
       "      <th>BPW.2</th>\n",
       "      <th>NPA.2</th>\n",
       "      <th>NPW.2</th>\n",
       "      <th>TPW.2</th>\n",
       "      <th>ST1.2</th>\n",
       "      <th>ST2.2</th>\n",
       "      <th>ST3.2</th>\n",
       "      <th>ST4.2</th>\n",
       "      <th>ST5.2</th>\n",
       "      <th>Type</th>\n",
       "    </tr>\n",
       "  </thead>\n",
       "  <tbody>\n",
       "    <tr>\n",
       "      <th>21</th>\n",
       "      <td> 115</td>\n",
       "      <td> 549</td>\n",
       "      <td> 1</td>\n",
       "      <td> 1</td>\n",
       "      <td> 2</td>\n",
       "      <td> 0</td>\n",
       "      <td> 54</td>\n",
       "      <td> 23</td>\n",
       "      <td> 46</td>\n",
       "      <td> 19</td>\n",
       "      <td>...</td>\n",
       "      <td>  0</td>\n",
       "      <td> 10</td>\n",
       "      <td>  7</td>\n",
       "      <td>  0</td>\n",
       "      <td> 3</td>\n",
       "      <td> 4</td>\n",
       "      <td> 0</td>\n",
       "      <td> 0</td>\n",
       "      <td> 0</td>\n",
       "      <td> 7</td>\n",
       "    </tr>\n",
       "    <tr>\n",
       "      <th>91</th>\n",
       "      <td> 127</td>\n",
       "      <td> 102</td>\n",
       "      <td> 2</td>\n",
       "      <td> 0</td>\n",
       "      <td> 0</td>\n",
       "      <td> 2</td>\n",
       "      <td> 70</td>\n",
       "      <td> 29</td>\n",
       "      <td> 30</td>\n",
       "      <td> 10</td>\n",
       "      <td>...</td>\n",
       "      <td>  7</td>\n",
       "      <td>  2</td>\n",
       "      <td>  5</td>\n",
       "      <td> 72</td>\n",
       "      <td> 7</td>\n",
       "      <td> 6</td>\n",
       "      <td> 0</td>\n",
       "      <td> 0</td>\n",
       "      <td> 0</td>\n",
       "      <td> 3</td>\n",
       "    </tr>\n",
       "    <tr>\n",
       "      <th>37</th>\n",
       "      <td> 666</td>\n",
       "      <td> 330</td>\n",
       "      <td> 1</td>\n",
       "      <td> 1</td>\n",
       "      <td> 2</td>\n",
       "      <td> 0</td>\n",
       "      <td> 74</td>\n",
       "      <td> 33</td>\n",
       "      <td> 26</td>\n",
       "      <td>  6</td>\n",
       "      <td>...</td>\n",
       "      <td>  6</td>\n",
       "      <td>  0</td>\n",
       "      <td>  0</td>\n",
       "      <td> 58</td>\n",
       "      <td> 2</td>\n",
       "      <td> 4</td>\n",
       "      <td> 0</td>\n",
       "      <td> 0</td>\n",
       "      <td> 0</td>\n",
       "      <td> 1</td>\n",
       "    </tr>\n",
       "    <tr>\n",
       "      <th>41</th>\n",
       "      <td> 257</td>\n",
       "      <td> 144</td>\n",
       "      <td> 1</td>\n",
       "      <td> 0</td>\n",
       "      <td> 2</td>\n",
       "      <td> 3</td>\n",
       "      <td> 58</td>\n",
       "      <td> 63</td>\n",
       "      <td> 42</td>\n",
       "      <td> 20</td>\n",
       "      <td>...</td>\n",
       "      <td>  7</td>\n",
       "      <td> 47</td>\n",
       "      <td> 31</td>\n",
       "      <td>  0</td>\n",
       "      <td> 6</td>\n",
       "      <td> 6</td>\n",
       "      <td> 3</td>\n",
       "      <td> 4</td>\n",
       "      <td> 6</td>\n",
       "      <td> 6</td>\n",
       "    </tr>\n",
       "    <tr>\n",
       "      <th>51</th>\n",
       "      <td> 604</td>\n",
       "      <td>  65</td>\n",
       "      <td> 1</td>\n",
       "      <td> 0</td>\n",
       "      <td> 0</td>\n",
       "      <td> 2</td>\n",
       "      <td> 68</td>\n",
       "      <td> 43</td>\n",
       "      <td> 32</td>\n",
       "      <td> 14</td>\n",
       "      <td>...</td>\n",
       "      <td> 12</td>\n",
       "      <td>  0</td>\n",
       "      <td>  0</td>\n",
       "      <td> 93</td>\n",
       "      <td> 7</td>\n",
       "      <td> 6</td>\n",
       "      <td> 0</td>\n",
       "      <td> 0</td>\n",
       "      <td> 0</td>\n",
       "      <td> 1</td>\n",
       "    </tr>\n",
       "  </tbody>\n",
       "</table>\n",
       "<p>5 rows × 43 columns</p>\n",
       "</div>"
      ],
      "text/plain": [
       "    Player1  Player2  Round  Result  FNL.1  FNL.2  FSP.1  FSW.1  SSP.1  SSW.1  \\\n",
       "21      115      549      1       1      2      0     54     23     46     19   \n",
       "91      127      102      2       0      0      2     70     29     30     10   \n",
       "37      666      330      1       1      2      0     74     33     26      6   \n",
       "41      257      144      1       0      2      3     58     63     42     20   \n",
       "51      604       65      1       0      0      2     68     43     32     14   \n",
       "\n",
       "    ...   BPW.2  NPA.2  NPW.2  TPW.2  ST1.2  ST2.2  ST3.2  ST4.2  ST5.2  Type  \n",
       "21  ...       0     10      7      0      3      4      0      0      0     7  \n",
       "91  ...       7      2      5     72      7      6      0      0      0     3  \n",
       "37  ...       6      0      0     58      2      4      0      0      0     1  \n",
       "41  ...       7     47     31      0      6      6      3      4      6     6  \n",
       "51  ...      12      0      0     93      7      6      0      0      0     1  \n",
       "\n",
       "[5 rows x 43 columns]"
      ]
     },
     "execution_count": 640,
     "metadata": {},
     "output_type": "execute_result"
    }
   ],
   "source": [
    "test_data[:5]"
   ]
  },
  {
   "cell_type": "markdown",
   "metadata": {},
   "source": [
    "# Now lets make our first prediction function: Say we want to predict the result of the matches. \n",
    "The match result is stored in 'Result' column of the input_data. The result is a discrete variable, \n",
    "i.e. it is either 1 or 0. So we will use Logistci regression. The sklearn library have linear_model module which proides\n",
    "functions for Linear/Logistic regressions."
   ]
  },
  {
   "cell_type": "code",
   "execution_count": 641,
   "metadata": {
    "collapsed": true
   },
   "outputs": [],
   "source": [
    "from sklearn import linear_model\n",
    "logistic_regr = linear_model.LogisticRegression()"
   ]
  },
  {
   "cell_type": "markdown",
   "metadata": {},
   "source": [
    "We need to define input data and target data for the model. Out target data in this case will be data of the 'Result' column. And rest of the data will be input data. So lets seperate the input and target data."
   ]
  },
  {
   "cell_type": "code",
   "execution_count": 642,
   "metadata": {
    "collapsed": false
   },
   "outputs": [],
   "source": [
    "target_column = 'Result';\n",
    "input_data_columns = [];\n",
    "for column in input_data.keys():\n",
    "    if column != target_column:\n",
    "        input_data_columns.append(column);"
   ]
  },
  {
   "cell_type": "code",
   "execution_count": 643,
   "metadata": {
    "collapsed": false
   },
   "outputs": [
    {
     "data": {
      "text/plain": [
       "['Player1',\n",
       " 'Player2',\n",
       " 'Round',\n",
       " 'FNL.1',\n",
       " 'FNL.2',\n",
       " 'FSP.1',\n",
       " 'FSW.1',\n",
       " 'SSP.1',\n",
       " 'SSW.1',\n",
       " 'ACE.1',\n",
       " 'DBF.1',\n",
       " 'WNR.1',\n",
       " 'UFE.1',\n",
       " 'BPC.1',\n",
       " 'BPW.1',\n",
       " 'NPA.1',\n",
       " 'NPW.1',\n",
       " 'TPW.1',\n",
       " 'ST1.1',\n",
       " 'ST2.1',\n",
       " 'ST3.1',\n",
       " 'ST4.1',\n",
       " 'ST5.1',\n",
       " 'FSP.2',\n",
       " 'FSW.2',\n",
       " 'SSP.2',\n",
       " 'SSW.2',\n",
       " 'ACE.2',\n",
       " 'DBF.2',\n",
       " 'WNR.2',\n",
       " 'UFE.2',\n",
       " 'BPC.2',\n",
       " 'BPW.2',\n",
       " 'NPA.2',\n",
       " 'NPW.2',\n",
       " 'TPW.2',\n",
       " 'ST1.2',\n",
       " 'ST2.2',\n",
       " 'ST3.2',\n",
       " 'ST4.2',\n",
       " 'ST5.2',\n",
       " 'Type']"
      ]
     },
     "execution_count": 643,
     "metadata": {},
     "output_type": "execute_result"
    }
   ],
   "source": [
    "input_data_columns"
   ]
  },
  {
   "cell_type": "code",
   "execution_count": 644,
   "metadata": {
    "collapsed": true
   },
   "outputs": [],
   "source": [
    "data_x = input_data[input_data_columns];\n",
    "data_y = input_data[target_column];"
   ]
  },
  {
   "cell_type": "markdown",
   "metadata": {},
   "source": [
    "Lets train our classifier"
   ]
  },
  {
   "cell_type": "code",
   "execution_count": 645,
   "metadata": {
    "collapsed": true
   },
   "outputs": [],
   "source": [
    "clf = logistic_regr.fit(data_x, data_y);"
   ]
  },
  {
   "cell_type": "markdown",
   "metadata": {},
   "source": [
    "Now lets test this classifier on our test data"
   ]
  },
  {
   "cell_type": "code",
   "execution_count": 646,
   "metadata": {
    "collapsed": false
   },
   "outputs": [],
   "source": [
    "test_data_x = test_data[input_data_columns];\n",
    "predicted_result = clf.predict(test_data_x)"
   ]
  },
  {
   "cell_type": "code",
   "execution_count": 647,
   "metadata": {
    "collapsed": false
   },
   "outputs": [
    {
     "data": {
      "text/plain": [
       "array([1, 0, 1, 0, 0, 1, 1, 1, 1, 0, 1, 0, 1, 0, 0, 1, 0, 1, 1, 1, 1, 0, 0,\n",
       "       0, 1, 0, 1, 1, 0, 1, 0, 1, 1, 1, 0, 0, 0, 0, 1, 0, 1, 0, 0, 1, 0, 1,\n",
       "       0, 1, 0, 1, 1, 1, 1, 1, 0, 1, 0, 1, 1, 0, 0, 1, 0, 0, 1, 1, 1, 1, 0,\n",
       "       1, 0, 1, 1, 0, 0, 0, 0, 1, 1, 0, 0, 1, 1, 0, 1, 0, 0, 1, 0, 1, 1, 0,\n",
       "       0, 1, 0, 1, 1, 0, 1, 0])"
      ]
     },
     "execution_count": 647,
     "metadata": {},
     "output_type": "execute_result"
    }
   ],
   "source": [
    "predicted_result"
   ]
  },
  {
   "cell_type": "markdown",
   "metadata": {},
   "source": [
    "Now lets compare it with actual result of the matches."
   ]
  },
  {
   "cell_type": "code",
   "execution_count": 648,
   "metadata": {
    "collapsed": false
   },
   "outputs": [],
   "source": [
    "actual_result = test_data[target_column].values;"
   ]
  },
  {
   "cell_type": "markdown",
   "metadata": {},
   "source": [
    "Lets make a function to compare the results"
   ]
  },
  {
   "cell_type": "code",
   "execution_count": 649,
   "metadata": {
    "collapsed": true
   },
   "outputs": [],
   "source": [
    "def compare_data(predicted, actual):\n",
    "    total_match = 0;\n",
    "    total_mismatch = 0;\n",
    "    for i in range(0, len(predicted)):\n",
    "        if predicted[i] == actual[i]:\n",
    "            total_match += 1;\n",
    "        else:\n",
    "            total_mismatch += 1;\n",
    "    print 'Total tested: ' + str(total_match + total_mismatch);\n",
    "    print 'Correct results: ' + str(total_match);\n",
    "    print 'Incorrect results: ' + str(total_mismatch);"
   ]
  },
  {
   "cell_type": "code",
   "execution_count": 650,
   "metadata": {
    "collapsed": false
   },
   "outputs": [
    {
     "name": "stdout",
     "output_type": "stream",
     "text": [
      "Total tested: 100\n",
      "Correct results: 100\n",
      "Incorrect results: 0\n"
     ]
    }
   ],
   "source": [
    "compare_data(predicted_result, actual_result)"
   ]
  },
  {
   "cell_type": "markdown",
   "metadata": {},
   "source": [
    "Lets plot the data. We can use matplotlib module to plot the data"
   ]
  },
  {
   "cell_type": "code",
   "execution_count": 651,
   "metadata": {
    "collapsed": false
   },
   "outputs": [],
   "source": [
    "%matplotlib inline\n",
    "import matplotlib as plt\n",
    "pd.set_option('display.mpl_style', 'default') # Make the graphs a bit prettier"
   ]
  },
  {
   "cell_type": "code",
   "execution_count": 652,
   "metadata": {
    "collapsed": false
   },
   "outputs": [
    {
     "data": {
      "text/plain": [
       "array([<matplotlib.axes._subplots.AxesSubplot object at 0x7f2c7a76e490>], dtype=object)"
      ]
     },
     "execution_count": 652,
     "metadata": {},
     "output_type": "execute_result"
    },
    {
     "data": {
      "image/png": "[encoded data removed]",
      "text/plain": [
       "<matplotlib.figure.Figure at 0x7f2c943c8b10>"
      ]
     },
     "metadata": {},
     "output_type": "display_data"
    }
   ],
   "source": [
    "test_data['Result'][:20].plot(kind='bar', subplots=True, figsize=(15, 5))"
   ]
  },
  {
   "cell_type": "markdown",
   "metadata": {},
   "source": [
    "To plot the predicted data we need to convert it into pandas data frame first."
   ]
  },
  {
   "cell_type": "code",
   "execution_count": 653,
   "metadata": {
    "collapsed": true
   },
   "outputs": [],
   "source": [
    "predicted_result = pd.DataFrame(predicted_result, columns=['Predicted Result']);"
   ]
  },
  {
   "cell_type": "code",
   "execution_count": 654,
   "metadata": {
    "collapsed": false
   },
   "outputs": [
    {
     "data": {
      "text/plain": [
       "array([<matplotlib.axes._subplots.AxesSubplot object at 0x7f2c80051710>], dtype=object)"
      ]
     },
     "execution_count": 654,
     "metadata": {},
     "output_type": "execute_result"
    },
    {
     "data": {
      "image/png": "[encoded data removed]",
      "text/plain": [
       "<matplotlib.figure.Figure at 0x7f2c78169390>"
      ]
     },
     "metadata": {},
     "output_type": "display_data"
    }
   ],
   "source": [
    "predicted_result[:20].plot(kind='bar', subplots=True, figsize=(15, 5))"
   ]
  },
  {
   "cell_type": "markdown",
   "metadata": {},
   "source": [
    "We can see that both the graphs are exactly same."
   ]
  },
  {
   "cell_type": "markdown",
   "metadata": {},
   "source": [
    "# Now lets make another classifier which predicts how many Double Faults player one commits. \n",
    "The column which stores this data in input_data is 'DBF.1'. Since it is a continuous variable we will use linear \n",
    "regression this time. The target column will be 'DBF1' and rest of the columns will be input data for the classifier."
   ]
  },
  {
   "cell_type": "code",
   "execution_count": 655,
   "metadata": {
    "collapsed": true
   },
   "outputs": [],
   "source": [
    "target_column = 'DBF.1';\n",
    "input_data_columns = [];\n",
    "for column in input_data.keys():\n",
    "    if column != target_column:\n",
    "        input_data_columns.append(column);"
   ]
  },
  {
   "cell_type": "code",
   "execution_count": 656,
   "metadata": {
    "collapsed": true
   },
   "outputs": [],
   "source": [
    "data_x = input_data[input_data_columns];\n",
    "data_y = input_data[target_column];"
   ]
  },
  {
   "cell_type": "code",
   "execution_count": 657,
   "metadata": {
    "collapsed": true
   },
   "outputs": [],
   "source": [
    "linear_regr = linear_model.LinearRegression()"
   ]
  },
  {
   "cell_type": "code",
   "execution_count": 658,
   "metadata": {
    "collapsed": true
   },
   "outputs": [],
   "source": [
    "#Train the classifier\n",
    "clf = linear_regr.fit(data_x, data_y);"
   ]
  },
  {
   "cell_type": "code",
   "execution_count": 659,
   "metadata": {
    "collapsed": true
   },
   "outputs": [],
   "source": [
    "#Test data input\n",
    "test_data_x = test_data[input_data_columns];\n",
    "\n",
    "predicted_result = clf.predict(test_data_x)"
   ]
  },
  {
   "cell_type": "code",
   "execution_count": 660,
   "metadata": {
    "collapsed": false
   },
   "outputs": [
    {
     "data": {
      "text/plain": [
       "array([ 2.74779308,  1.67238117,  2.36776923,  7.8194301 ,  4.87519811,\n",
       "        2.32006346,  1.01121204,  3.54523607,  1.51978448,  5.86539656,\n",
       "        0.75116728,  5.46831964,  3.08376441,  3.90031732,  6.11200521,\n",
       "        0.66831455,  4.33585159,  3.07630115,  4.60172398,  3.49252406,\n",
       "        2.50659887,  3.66917416,  2.83684836,  5.06534419,  1.98625225,\n",
       "        1.55160982,  1.25999678,  3.47297729,  2.37111206,  4.18058938,\n",
       "        2.99519133,  5.88191592,  2.49548027,  4.93789543,  6.93233857,\n",
       "        3.82858275,  3.03866949,  1.10498487,  1.78422775,  3.73881725,\n",
       "        4.9016726 ,  3.12334665,  4.95562455,  0.74202127,  7.55011293,\n",
       "        2.49019305,  5.7575831 ,  4.00299716,  4.69414731,  1.56067197,\n",
       "        3.72760066,  3.90616084,  3.38656288,  2.36034862,  6.07611077,\n",
       "        3.9210789 ,  5.27728726,  3.0603467 ,  2.29113721,  2.81313673,\n",
       "       -0.2414988 ,  6.29687812,  5.72287654,  1.87690805,  2.50348527,\n",
       "        1.18380709,  2.17546158,  3.34234649,  2.40321095,  2.4355311 ,\n",
       "        0.65107672,  4.57922674,  4.46157053,  3.2329953 ,  4.46181971,\n",
       "        1.56734486,  1.20239065,  1.51769051,  1.93777806,  2.77366703,\n",
       "        4.48787362,  1.77983548,  5.80205345,  4.82573576,  4.80579773,\n",
       "        2.86049408,  7.43106148,  0.71651012,  1.52240385,  4.29463438,\n",
       "        1.18581592,  3.98269949,  4.84157975,  6.83031519,  1.76242059,\n",
       "        0.95326129,  1.51624786,  5.67318522,  3.39568203,  3.82399307])"
      ]
     },
     "execution_count": 660,
     "metadata": {},
     "output_type": "execute_result"
    }
   ],
   "source": [
    "predicted_result"
   ]
  },
  {
   "cell_type": "code",
   "execution_count": 661,
   "metadata": {
    "collapsed": false
   },
   "outputs": [],
   "source": [
    "test_data['Predicted_DBF.1'] = predicted_result"
   ]
  },
  {
   "cell_type": "code",
   "execution_count": 662,
   "metadata": {
    "collapsed": false
   },
   "outputs": [
    {
     "data": {
      "text/html": [
       "<div style=\"max-height:1000px;max-width:1500px;overflow:auto;\">\n",
       "<table border=\"1\" class=\"dataframe\">\n",
       "  <thead>\n",
       "    <tr style=\"text-align: right;\">\n",
       "      <th></th>\n",
       "      <th>DBF.1</th>\n",
       "      <th>Predicted_DBF.1</th>\n",
       "    </tr>\n",
       "  </thead>\n",
       "  <tbody>\n",
       "    <tr>\n",
       "      <th>21 </th>\n",
       "      <td>  4</td>\n",
       "      <td> 2.747793</td>\n",
       "    </tr>\n",
       "    <tr>\n",
       "      <th>91 </th>\n",
       "      <td>  3</td>\n",
       "      <td> 1.672381</td>\n",
       "    </tr>\n",
       "    <tr>\n",
       "      <th>37 </th>\n",
       "      <td>  4</td>\n",
       "      <td> 2.367769</td>\n",
       "    </tr>\n",
       "    <tr>\n",
       "      <th>41 </th>\n",
       "      <td>  5</td>\n",
       "      <td> 7.819430</td>\n",
       "    </tr>\n",
       "    <tr>\n",
       "      <th>51 </th>\n",
       "      <td>  7</td>\n",
       "      <td> 4.875198</td>\n",
       "    </tr>\n",
       "    <tr>\n",
       "      <th>46 </th>\n",
       "      <td>  1</td>\n",
       "      <td> 2.320063</td>\n",
       "    </tr>\n",
       "    <tr>\n",
       "      <th>49 </th>\n",
       "      <td>  1</td>\n",
       "      <td> 1.011212</td>\n",
       "    </tr>\n",
       "    <tr>\n",
       "      <th>25 </th>\n",
       "      <td>  3</td>\n",
       "      <td> 3.545236</td>\n",
       "    </tr>\n",
       "    <tr>\n",
       "      <th>35 </th>\n",
       "      <td>  2</td>\n",
       "      <td> 1.519784</td>\n",
       "    </tr>\n",
       "    <tr>\n",
       "      <th>3  </th>\n",
       "      <td>  8</td>\n",
       "      <td> 5.865397</td>\n",
       "    </tr>\n",
       "    <tr>\n",
       "      <th>90 </th>\n",
       "      <td>  0</td>\n",
       "      <td> 0.751167</td>\n",
       "    </tr>\n",
       "    <tr>\n",
       "      <th>32 </th>\n",
       "      <td>  3</td>\n",
       "      <td> 5.468320</td>\n",
       "    </tr>\n",
       "    <tr>\n",
       "      <th>10 </th>\n",
       "      <td>  4</td>\n",
       "      <td> 3.083764</td>\n",
       "    </tr>\n",
       "    <tr>\n",
       "      <th>57 </th>\n",
       "      <td>  3</td>\n",
       "      <td> 3.900317</td>\n",
       "    </tr>\n",
       "    <tr>\n",
       "      <th>54 </th>\n",
       "      <td>  6</td>\n",
       "      <td> 6.112005</td>\n",
       "    </tr>\n",
       "    <tr>\n",
       "      <th>47 </th>\n",
       "      <td>  0</td>\n",
       "      <td> 0.668315</td>\n",
       "    </tr>\n",
       "    <tr>\n",
       "      <th>19 </th>\n",
       "      <td>  3</td>\n",
       "      <td> 4.335852</td>\n",
       "    </tr>\n",
       "    <tr>\n",
       "      <th>69 </th>\n",
       "      <td>  3</td>\n",
       "      <td> 3.076301</td>\n",
       "    </tr>\n",
       "    <tr>\n",
       "      <th>36 </th>\n",
       "      <td>  8</td>\n",
       "      <td> 4.601724</td>\n",
       "    </tr>\n",
       "    <tr>\n",
       "      <th>47 </th>\n",
       "      <td>  2</td>\n",
       "      <td> 3.492524</td>\n",
       "    </tr>\n",
       "    <tr>\n",
       "      <th>40 </th>\n",
       "      <td>  2</td>\n",
       "      <td> 2.506599</td>\n",
       "    </tr>\n",
       "    <tr>\n",
       "      <th>79 </th>\n",
       "      <td>  5</td>\n",
       "      <td> 3.669174</td>\n",
       "    </tr>\n",
       "    <tr>\n",
       "      <th>65 </th>\n",
       "      <td>  1</td>\n",
       "      <td> 2.836848</td>\n",
       "    </tr>\n",
       "    <tr>\n",
       "      <th>10 </th>\n",
       "      <td>  2</td>\n",
       "      <td> 5.065344</td>\n",
       "    </tr>\n",
       "    <tr>\n",
       "      <th>65 </th>\n",
       "      <td>  3</td>\n",
       "      <td> 1.986252</td>\n",
       "    </tr>\n",
       "    <tr>\n",
       "      <th>106</th>\n",
       "      <td>  1</td>\n",
       "      <td> 1.551610</td>\n",
       "    </tr>\n",
       "    <tr>\n",
       "      <th>68 </th>\n",
       "      <td>  0</td>\n",
       "      <td> 1.259997</td>\n",
       "    </tr>\n",
       "    <tr>\n",
       "      <th>31 </th>\n",
       "      <td>  3</td>\n",
       "      <td> 3.472977</td>\n",
       "    </tr>\n",
       "    <tr>\n",
       "      <th>12 </th>\n",
       "      <td>  4</td>\n",
       "      <td> 2.371112</td>\n",
       "    </tr>\n",
       "    <tr>\n",
       "      <th>41 </th>\n",
       "      <td>  3</td>\n",
       "      <td> 4.180589</td>\n",
       "    </tr>\n",
       "    <tr>\n",
       "      <th>...</th>\n",
       "      <td>...</td>\n",
       "      <td>...</td>\n",
       "    </tr>\n",
       "    <tr>\n",
       "      <th>94 </th>\n",
       "      <td>  1</td>\n",
       "      <td> 0.651077</td>\n",
       "    </tr>\n",
       "    <tr>\n",
       "      <th>71 </th>\n",
       "      <td>  4</td>\n",
       "      <td> 4.579227</td>\n",
       "    </tr>\n",
       "    <tr>\n",
       "      <th>33 </th>\n",
       "      <td>  3</td>\n",
       "      <td> 4.461571</td>\n",
       "    </tr>\n",
       "    <tr>\n",
       "      <th>96 </th>\n",
       "      <td>  3</td>\n",
       "      <td> 3.232995</td>\n",
       "    </tr>\n",
       "    <tr>\n",
       "      <th>21 </th>\n",
       "      <td>  3</td>\n",
       "      <td> 4.461820</td>\n",
       "    </tr>\n",
       "    <tr>\n",
       "      <th>51 </th>\n",
       "      <td>  3</td>\n",
       "      <td> 1.567345</td>\n",
       "    </tr>\n",
       "    <tr>\n",
       "      <th>122</th>\n",
       "      <td>  2</td>\n",
       "      <td> 1.202391</td>\n",
       "    </tr>\n",
       "    <tr>\n",
       "      <th>90 </th>\n",
       "      <td>  2</td>\n",
       "      <td> 1.517691</td>\n",
       "    </tr>\n",
       "    <tr>\n",
       "      <th>51 </th>\n",
       "      <td>  3</td>\n",
       "      <td> 1.937778</td>\n",
       "    </tr>\n",
       "    <tr>\n",
       "      <th>26 </th>\n",
       "      <td>  4</td>\n",
       "      <td> 2.773667</td>\n",
       "    </tr>\n",
       "    <tr>\n",
       "      <th>71 </th>\n",
       "      <td>  5</td>\n",
       "      <td> 4.487874</td>\n",
       "    </tr>\n",
       "    <tr>\n",
       "      <th>74 </th>\n",
       "      <td>  3</td>\n",
       "      <td> 1.779835</td>\n",
       "    </tr>\n",
       "    <tr>\n",
       "      <th>34 </th>\n",
       "      <td>  4</td>\n",
       "      <td> 5.802053</td>\n",
       "    </tr>\n",
       "    <tr>\n",
       "      <th>5  </th>\n",
       "      <td> 11</td>\n",
       "      <td> 4.825736</td>\n",
       "    </tr>\n",
       "    <tr>\n",
       "      <th>27 </th>\n",
       "      <td>  5</td>\n",
       "      <td> 4.805798</td>\n",
       "    </tr>\n",
       "    <tr>\n",
       "      <th>20 </th>\n",
       "      <td>  3</td>\n",
       "      <td> 2.860494</td>\n",
       "    </tr>\n",
       "    <tr>\n",
       "      <th>46 </th>\n",
       "      <td> 11</td>\n",
       "      <td> 7.431061</td>\n",
       "    </tr>\n",
       "    <tr>\n",
       "      <th>120</th>\n",
       "      <td>  0</td>\n",
       "      <td> 0.716510</td>\n",
       "    </tr>\n",
       "    <tr>\n",
       "      <th>67 </th>\n",
       "      <td>  3</td>\n",
       "      <td> 1.522404</td>\n",
       "    </tr>\n",
       "    <tr>\n",
       "      <th>119</th>\n",
       "      <td>  5</td>\n",
       "      <td> 4.294634</td>\n",
       "    </tr>\n",
       "    <tr>\n",
       "      <th>10 </th>\n",
       "      <td>  0</td>\n",
       "      <td> 1.185816</td>\n",
       "    </tr>\n",
       "    <tr>\n",
       "      <th>99 </th>\n",
       "      <td>  3</td>\n",
       "      <td> 3.982699</td>\n",
       "    </tr>\n",
       "    <tr>\n",
       "      <th>3  </th>\n",
       "      <td>  3</td>\n",
       "      <td> 4.841580</td>\n",
       "    </tr>\n",
       "    <tr>\n",
       "      <th>67 </th>\n",
       "      <td> 12</td>\n",
       "      <td> 6.830315</td>\n",
       "    </tr>\n",
       "    <tr>\n",
       "      <th>19 </th>\n",
       "      <td>  3</td>\n",
       "      <td> 1.762421</td>\n",
       "    </tr>\n",
       "    <tr>\n",
       "      <th>87 </th>\n",
       "      <td>  1</td>\n",
       "      <td> 0.953261</td>\n",
       "    </tr>\n",
       "    <tr>\n",
       "      <th>7  </th>\n",
       "      <td>  1</td>\n",
       "      <td> 1.516248</td>\n",
       "    </tr>\n",
       "    <tr>\n",
       "      <th>14 </th>\n",
       "      <td>  5</td>\n",
       "      <td> 5.673185</td>\n",
       "    </tr>\n",
       "    <tr>\n",
       "      <th>49 </th>\n",
       "      <td>  3</td>\n",
       "      <td> 3.395682</td>\n",
       "    </tr>\n",
       "    <tr>\n",
       "      <th>99 </th>\n",
       "      <td>  3</td>\n",
       "      <td> 3.823993</td>\n",
       "    </tr>\n",
       "  </tbody>\n",
       "</table>\n",
       "<p>100 rows × 2 columns</p>\n",
       "</div>"
      ],
      "text/plain": [
       "     DBF.1  Predicted_DBF.1\n",
       "21       4         2.747793\n",
       "91       3         1.672381\n",
       "37       4         2.367769\n",
       "41       5         7.819430\n",
       "51       7         4.875198\n",
       "46       1         2.320063\n",
       "49       1         1.011212\n",
       "25       3         3.545236\n",
       "35       2         1.519784\n",
       "3        8         5.865397\n",
       "90       0         0.751167\n",
       "32       3         5.468320\n",
       "10       4         3.083764\n",
       "57       3         3.900317\n",
       "54       6         6.112005\n",
       "47       0         0.668315\n",
       "19       3         4.335852\n",
       "69       3         3.076301\n",
       "36       8         4.601724\n",
       "47       2         3.492524\n",
       "40       2         2.506599\n",
       "79       5         3.669174\n",
       "65       1         2.836848\n",
       "10       2         5.065344\n",
       "65       3         1.986252\n",
       "106      1         1.551610\n",
       "68       0         1.259997\n",
       "31       3         3.472977\n",
       "12       4         2.371112\n",
       "41       3         4.180589\n",
       "..     ...              ...\n",
       "94       1         0.651077\n",
       "71       4         4.579227\n",
       "33       3         4.461571\n",
       "96       3         3.232995\n",
       "21       3         4.461820\n",
       "51       3         1.567345\n",
       "122      2         1.202391\n",
       "90       2         1.517691\n",
       "51       3         1.937778\n",
       "26       4         2.773667\n",
       "71       5         4.487874\n",
       "74       3         1.779835\n",
       "34       4         5.802053\n",
       "5       11         4.825736\n",
       "27       5         4.805798\n",
       "20       3         2.860494\n",
       "46      11         7.431061\n",
       "120      0         0.716510\n",
       "67       3         1.522404\n",
       "119      5         4.294634\n",
       "10       0         1.185816\n",
       "99       3         3.982699\n",
       "3        3         4.841580\n",
       "67      12         6.830315\n",
       "19       3         1.762421\n",
       "87       1         0.953261\n",
       "7        1         1.516248\n",
       "14       5         5.673185\n",
       "49       3         3.395682\n",
       "99       3         3.823993\n",
       "\n",
       "[100 rows x 2 columns]"
      ]
     },
     "execution_count": 662,
     "metadata": {},
     "output_type": "execute_result"
    }
   ],
   "source": [
    "#Lets check the actual result versus predicted result\n",
    "test_data[['DBF.1', 'Predicted_DBF.1']]"
   ]
  },
  {
   "cell_type": "code",
   "execution_count": 663,
   "metadata": {
    "collapsed": false
   },
   "outputs": [
    {
     "data": {
      "text/plain": [
       "<matplotlib.axes._subplots.AxesSubplot at 0x7f2c6db25550>"
      ]
     },
     "execution_count": 663,
     "metadata": {},
     "output_type": "execute_result"
    },
    {
     "data": {
      "image/png": "[encoded data removed]",
      "text/plain": [
       "<matplotlib.figure.Figure at 0x7f2c6c2f5e50>"
      ]
     },
     "metadata": {},
     "output_type": "display_data"
    }
   ],
   "source": [
    "test_data[['DBF.1', 'Predicted_DBF.1']].plot(kind='bar', figsize=(15, 8))"
   ]
  },
  {
   "cell_type": "code",
   "execution_count": 664,
   "metadata": {
    "collapsed": true
   },
   "outputs": [],
   "source": [
    "test_data['Prediction_error'] = abs(test_data['DBF.1'] - test_data['Predicted_DBF.1'])*100/test_data['DBF.1']"
   ]
  },
  {
   "cell_type": "code",
   "execution_count": 665,
   "metadata": {
    "collapsed": false,
    "scrolled": true
   },
   "outputs": [
    {
     "data": {
      "image/png": "[encoded data removed]",
      "text/plain": [
       "<matplotlib.figure.Figure at 0x7f2c6db25050>"
      ]
     },
     "metadata": {},
     "output_type": "display_data"
    }
   ],
   "source": [
    "test_data['Prediction_error'].plot(kind='bar', figsize=(15, 8));"
   ]
  },
  {
   "cell_type": "markdown",
   "metadata": {},
   "source": [
    "# Lets now predict the tournament name to which a game belongs to:\n",
    "\n",
    "The data related to tournament name is in column 'Type'. We will use support vector machine algorithm to predict this data."
   ]
  },
  {
   "cell_type": "code",
   "execution_count": 666,
   "metadata": {
    "collapsed": true
   },
   "outputs": [],
   "source": [
    "#Our target column is 'Type'\n",
    "target_column = 'Type';\n",
    "input_data_columns = [];\n",
    "for column in input_data.keys():\n",
    "    if column != target_column:\n",
    "        input_data_columns.append(column);"
   ]
  },
  {
   "cell_type": "markdown",
   "metadata": {},
   "source": [
    "Based on the target column, lets get data_x, and data_y to train the classifier"
   ]
  },
  {
   "cell_type": "code",
   "execution_count": 667,
   "metadata": {
    "collapsed": false
   },
   "outputs": [],
   "source": [
    "data_x = input_data[input_data_columns];\n",
    "data_y = input_data[target_column];"
   ]
  },
  {
   "cell_type": "code",
   "execution_count": 668,
   "metadata": {
    "collapsed": false
   },
   "outputs": [
    {
     "data": {
      "text/plain": [
       "SVC(C=1.0, cache_size=200, class_weight=None, coef0=0.0, degree=3, gamma=0.0,\n",
       "  kernel='rbf', max_iter=-1, probability=False, random_state=None,\n",
       "  shrinking=True, tol=0.001, verbose=False)"
      ]
     },
     "execution_count": 668,
     "metadata": {},
     "output_type": "execute_result"
    }
   ],
   "source": [
    "from sklearn import svm\n",
    "svm_clf = svm.SVC();\n",
    "#Train the classifier now\n",
    "svm_clf.fit(data_x, data_y)"
   ]
  },
  {
   "cell_type": "code",
   "execution_count": 669,
   "metadata": {
    "collapsed": true
   },
   "outputs": [],
   "source": [
    "#Test data input\n",
    "test_data_x = test_data[input_data_columns];\n",
    "test_data_y = test_data[target_column];\n",
    "\n",
    "predicted_result = svm_clf.predict(test_data_x)"
   ]
  },
  {
   "cell_type": "code",
   "execution_count": 670,
   "metadata": {
    "collapsed": false
   },
   "outputs": [
    {
     "data": {
      "text/plain": [
       "array([1, 1, 1, 1, 1, 1, 1, 1, 1, 1, 1, 1, 1, 1, 1, 1, 1, 1, 1, 1, 1, 1, 1,\n",
       "       1, 1, 1, 1, 1, 1, 1, 1, 1, 1, 1, 1, 1, 1, 1, 1, 1, 1, 1, 1, 1, 1, 1,\n",
       "       1, 1, 1, 1, 1, 1, 1, 1, 1, 1, 1, 1, 1, 1, 1, 1, 1, 1, 1, 1, 1, 1, 1,\n",
       "       1, 1, 1, 1, 1, 1, 1, 1, 1, 1, 1, 1, 1, 1, 1, 1, 1, 1, 1, 1, 1, 1, 1,\n",
       "       1, 1, 1, 1, 1, 1, 1, 1])"
      ]
     },
     "execution_count": 670,
     "metadata": {},
     "output_type": "execute_result"
    }
   ],
   "source": [
    "predicted_result"
   ]
  },
  {
   "cell_type": "code",
   "execution_count": 671,
   "metadata": {
    "collapsed": false
   },
   "outputs": [],
   "source": [
    "results = pd.DataFrame({'Actual_Type': tournament_fit.inverse_transform(test_data_y.values[:]),\n",
    "                        'Predicted_Type': tournament_fit.inverse_transform(predicted_result[:])})"
   ]
  },
  {
   "cell_type": "code",
   "execution_count": 672,
   "metadata": {
    "collapsed": false
   },
   "outputs": [
    {
     "data": {
      "text/html": [
       "<div style=\"max-height:1000px;max-width:1500px;overflow:auto;\">\n",
       "<table border=\"1\" class=\"dataframe\">\n",
       "  <thead>\n",
       "    <tr style=\"text-align: right;\">\n",
       "      <th></th>\n",
       "      <th>Actual_Type</th>\n",
       "      <th>Predicted_Type</th>\n",
       "    </tr>\n",
       "  </thead>\n",
       "  <tbody>\n",
       "    <tr>\n",
       "      <th>0 </th>\n",
       "      <td>  Wimbledon-women-2013</td>\n",
       "      <td> AusOpen-women-2013</td>\n",
       "    </tr>\n",
       "    <tr>\n",
       "      <th>1 </th>\n",
       "      <td> FrenchOpen-women-2013</td>\n",
       "      <td> AusOpen-women-2013</td>\n",
       "    </tr>\n",
       "    <tr>\n",
       "      <th>2 </th>\n",
       "      <td>    AusOpen-women-2013</td>\n",
       "      <td> AusOpen-women-2013</td>\n",
       "    </tr>\n",
       "    <tr>\n",
       "      <th>3 </th>\n",
       "      <td>    Wimbledon-men-2013</td>\n",
       "      <td> AusOpen-women-2013</td>\n",
       "    </tr>\n",
       "    <tr>\n",
       "      <th>4 </th>\n",
       "      <td>    AusOpen-women-2013</td>\n",
       "      <td> AusOpen-women-2013</td>\n",
       "    </tr>\n",
       "    <tr>\n",
       "      <th>5 </th>\n",
       "      <td> FrenchOpen-women-2013</td>\n",
       "      <td> AusOpen-women-2013</td>\n",
       "    </tr>\n",
       "    <tr>\n",
       "      <th>6 </th>\n",
       "      <td>      AusOpen-men-2013</td>\n",
       "      <td> AusOpen-women-2013</td>\n",
       "    </tr>\n",
       "    <tr>\n",
       "      <th>7 </th>\n",
       "      <td>     USOpen-women-2013</td>\n",
       "      <td> AusOpen-women-2013</td>\n",
       "    </tr>\n",
       "    <tr>\n",
       "      <th>8 </th>\n",
       "      <td>    Wimbledon-men-2013</td>\n",
       "      <td> AusOpen-women-2013</td>\n",
       "    </tr>\n",
       "    <tr>\n",
       "      <th>9 </th>\n",
       "      <td>       USOpen-men-2013</td>\n",
       "      <td> AusOpen-women-2013</td>\n",
       "    </tr>\n",
       "    <tr>\n",
       "      <th>10</th>\n",
       "      <td>  Wimbledon-women-2013</td>\n",
       "      <td> AusOpen-women-2013</td>\n",
       "    </tr>\n",
       "    <tr>\n",
       "      <th>11</th>\n",
       "      <td>      AusOpen-men-2013</td>\n",
       "      <td> AusOpen-women-2013</td>\n",
       "    </tr>\n",
       "    <tr>\n",
       "      <th>12</th>\n",
       "      <td>   FrenchOpen-men-2013</td>\n",
       "      <td> AusOpen-women-2013</td>\n",
       "    </tr>\n",
       "    <tr>\n",
       "      <th>13</th>\n",
       "      <td>   FrenchOpen-men-2013</td>\n",
       "      <td> AusOpen-women-2013</td>\n",
       "    </tr>\n",
       "    <tr>\n",
       "      <th>14</th>\n",
       "      <td>      AusOpen-men-2013</td>\n",
       "      <td> AusOpen-women-2013</td>\n",
       "    </tr>\n",
       "    <tr>\n",
       "      <th>15</th>\n",
       "      <td> FrenchOpen-women-2013</td>\n",
       "      <td> AusOpen-women-2013</td>\n",
       "    </tr>\n",
       "    <tr>\n",
       "      <th>16</th>\n",
       "      <td>     USOpen-women-2013</td>\n",
       "      <td> AusOpen-women-2013</td>\n",
       "    </tr>\n",
       "    <tr>\n",
       "      <th>17</th>\n",
       "      <td>      AusOpen-men-2013</td>\n",
       "      <td> AusOpen-women-2013</td>\n",
       "    </tr>\n",
       "    <tr>\n",
       "      <th>18</th>\n",
       "      <td>       USOpen-men-2013</td>\n",
       "      <td> AusOpen-women-2013</td>\n",
       "    </tr>\n",
       "    <tr>\n",
       "      <th>19</th>\n",
       "      <td>       USOpen-men-2013</td>\n",
       "      <td> AusOpen-women-2013</td>\n",
       "    </tr>\n",
       "    <tr>\n",
       "      <th>20</th>\n",
       "      <td>      AusOpen-men-2013</td>\n",
       "      <td> AusOpen-women-2013</td>\n",
       "    </tr>\n",
       "    <tr>\n",
       "      <th>21</th>\n",
       "      <td> FrenchOpen-women-2013</td>\n",
       "      <td> AusOpen-women-2013</td>\n",
       "    </tr>\n",
       "    <tr>\n",
       "      <th>22</th>\n",
       "      <td>   FrenchOpen-men-2013</td>\n",
       "      <td> AusOpen-women-2013</td>\n",
       "    </tr>\n",
       "    <tr>\n",
       "      <th>23</th>\n",
       "      <td>    Wimbledon-men-2013</td>\n",
       "      <td> AusOpen-women-2013</td>\n",
       "    </tr>\n",
       "    <tr>\n",
       "      <th>24</th>\n",
       "      <td>    Wimbledon-men-2013</td>\n",
       "      <td> AusOpen-women-2013</td>\n",
       "    </tr>\n",
       "    <tr>\n",
       "      <th>25</th>\n",
       "      <td> FrenchOpen-women-2013</td>\n",
       "      <td> AusOpen-women-2013</td>\n",
       "    </tr>\n",
       "    <tr>\n",
       "      <th>26</th>\n",
       "      <td>    Wimbledon-men-2013</td>\n",
       "      <td> AusOpen-women-2013</td>\n",
       "    </tr>\n",
       "    <tr>\n",
       "      <th>27</th>\n",
       "      <td> FrenchOpen-women-2013</td>\n",
       "      <td> AusOpen-women-2013</td>\n",
       "    </tr>\n",
       "    <tr>\n",
       "      <th>28</th>\n",
       "      <td>      AusOpen-men-2013</td>\n",
       "      <td> AusOpen-women-2013</td>\n",
       "    </tr>\n",
       "    <tr>\n",
       "      <th>29</th>\n",
       "      <td>    AusOpen-women-2013</td>\n",
       "      <td> AusOpen-women-2013</td>\n",
       "    </tr>\n",
       "    <tr>\n",
       "      <th>...</th>\n",
       "      <td>...</td>\n",
       "      <td>...</td>\n",
       "    </tr>\n",
       "    <tr>\n",
       "      <th>70</th>\n",
       "      <td>   FrenchOpen-men-2013</td>\n",
       "      <td> AusOpen-women-2013</td>\n",
       "    </tr>\n",
       "    <tr>\n",
       "      <th>71</th>\n",
       "      <td>      AusOpen-men-2013</td>\n",
       "      <td> AusOpen-women-2013</td>\n",
       "    </tr>\n",
       "    <tr>\n",
       "      <th>72</th>\n",
       "      <td>       USOpen-men-2013</td>\n",
       "      <td> AusOpen-women-2013</td>\n",
       "    </tr>\n",
       "    <tr>\n",
       "      <th>73</th>\n",
       "      <td>    Wimbledon-men-2013</td>\n",
       "      <td> AusOpen-women-2013</td>\n",
       "    </tr>\n",
       "    <tr>\n",
       "      <th>74</th>\n",
       "      <td>      AusOpen-men-2013</td>\n",
       "      <td> AusOpen-women-2013</td>\n",
       "    </tr>\n",
       "    <tr>\n",
       "      <th>75</th>\n",
       "      <td>   FrenchOpen-men-2013</td>\n",
       "      <td> AusOpen-women-2013</td>\n",
       "    </tr>\n",
       "    <tr>\n",
       "      <th>76</th>\n",
       "      <td> FrenchOpen-women-2013</td>\n",
       "      <td> AusOpen-women-2013</td>\n",
       "    </tr>\n",
       "    <tr>\n",
       "      <th>77</th>\n",
       "      <td>    Wimbledon-men-2013</td>\n",
       "      <td> AusOpen-women-2013</td>\n",
       "    </tr>\n",
       "    <tr>\n",
       "      <th>78</th>\n",
       "      <td> FrenchOpen-women-2013</td>\n",
       "      <td> AusOpen-women-2013</td>\n",
       "    </tr>\n",
       "    <tr>\n",
       "      <th>79</th>\n",
       "      <td>     USOpen-women-2013</td>\n",
       "      <td> AusOpen-women-2013</td>\n",
       "    </tr>\n",
       "    <tr>\n",
       "      <th>80</th>\n",
       "      <td>       USOpen-men-2013</td>\n",
       "      <td> AusOpen-women-2013</td>\n",
       "    </tr>\n",
       "    <tr>\n",
       "      <th>81</th>\n",
       "      <td>  Wimbledon-women-2013</td>\n",
       "      <td> AusOpen-women-2013</td>\n",
       "    </tr>\n",
       "    <tr>\n",
       "      <th>82</th>\n",
       "      <td>      AusOpen-men-2013</td>\n",
       "      <td> AusOpen-women-2013</td>\n",
       "    </tr>\n",
       "    <tr>\n",
       "      <th>83</th>\n",
       "      <td>       USOpen-men-2013</td>\n",
       "      <td> AusOpen-women-2013</td>\n",
       "    </tr>\n",
       "    <tr>\n",
       "      <th>84</th>\n",
       "      <td>     USOpen-women-2013</td>\n",
       "      <td> AusOpen-women-2013</td>\n",
       "    </tr>\n",
       "    <tr>\n",
       "      <th>85</th>\n",
       "      <td>    Wimbledon-men-2013</td>\n",
       "      <td> AusOpen-women-2013</td>\n",
       "    </tr>\n",
       "    <tr>\n",
       "      <th>86</th>\n",
       "      <td>       USOpen-men-2013</td>\n",
       "      <td> AusOpen-women-2013</td>\n",
       "    </tr>\n",
       "    <tr>\n",
       "      <th>87</th>\n",
       "      <td>   FrenchOpen-men-2013</td>\n",
       "      <td> AusOpen-women-2013</td>\n",
       "    </tr>\n",
       "    <tr>\n",
       "      <th>88</th>\n",
       "      <td>    AusOpen-women-2013</td>\n",
       "      <td> AusOpen-women-2013</td>\n",
       "    </tr>\n",
       "    <tr>\n",
       "      <th>89</th>\n",
       "      <td>      AusOpen-men-2013</td>\n",
       "      <td> AusOpen-women-2013</td>\n",
       "    </tr>\n",
       "    <tr>\n",
       "      <th>90</th>\n",
       "      <td>    AusOpen-women-2013</td>\n",
       "      <td> AusOpen-women-2013</td>\n",
       "    </tr>\n",
       "    <tr>\n",
       "      <th>91</th>\n",
       "      <td> FrenchOpen-women-2013</td>\n",
       "      <td> AusOpen-women-2013</td>\n",
       "    </tr>\n",
       "    <tr>\n",
       "      <th>92</th>\n",
       "      <td>    AusOpen-women-2013</td>\n",
       "      <td> AusOpen-women-2013</td>\n",
       "    </tr>\n",
       "    <tr>\n",
       "      <th>93</th>\n",
       "      <td>      AusOpen-men-2013</td>\n",
       "      <td> AusOpen-women-2013</td>\n",
       "    </tr>\n",
       "    <tr>\n",
       "      <th>94</th>\n",
       "      <td>   FrenchOpen-men-2013</td>\n",
       "      <td> AusOpen-women-2013</td>\n",
       "    </tr>\n",
       "    <tr>\n",
       "      <th>95</th>\n",
       "      <td> FrenchOpen-women-2013</td>\n",
       "      <td> AusOpen-women-2013</td>\n",
       "    </tr>\n",
       "    <tr>\n",
       "      <th>96</th>\n",
       "      <td>  Wimbledon-women-2013</td>\n",
       "      <td> AusOpen-women-2013</td>\n",
       "    </tr>\n",
       "    <tr>\n",
       "      <th>97</th>\n",
       "      <td>  Wimbledon-women-2013</td>\n",
       "      <td> AusOpen-women-2013</td>\n",
       "    </tr>\n",
       "    <tr>\n",
       "      <th>98</th>\n",
       "      <td> FrenchOpen-women-2013</td>\n",
       "      <td> AusOpen-women-2013</td>\n",
       "    </tr>\n",
       "    <tr>\n",
       "      <th>99</th>\n",
       "      <td>  Wimbledon-women-2013</td>\n",
       "      <td> AusOpen-women-2013</td>\n",
       "    </tr>\n",
       "  </tbody>\n",
       "</table>\n",
       "<p>100 rows × 2 columns</p>\n",
       "</div>"
      ],
      "text/plain": [
       "              Actual_Type      Predicted_Type\n",
       "0    Wimbledon-women-2013  AusOpen-women-2013\n",
       "1   FrenchOpen-women-2013  AusOpen-women-2013\n",
       "2      AusOpen-women-2013  AusOpen-women-2013\n",
       "3      Wimbledon-men-2013  AusOpen-women-2013\n",
       "4      AusOpen-women-2013  AusOpen-women-2013\n",
       "5   FrenchOpen-women-2013  AusOpen-women-2013\n",
       "6        AusOpen-men-2013  AusOpen-women-2013\n",
       "7       USOpen-women-2013  AusOpen-women-2013\n",
       "8      Wimbledon-men-2013  AusOpen-women-2013\n",
       "9         USOpen-men-2013  AusOpen-women-2013\n",
       "10   Wimbledon-women-2013  AusOpen-women-2013\n",
       "11       AusOpen-men-2013  AusOpen-women-2013\n",
       "12    FrenchOpen-men-2013  AusOpen-women-2013\n",
       "13    FrenchOpen-men-2013  AusOpen-women-2013\n",
       "14       AusOpen-men-2013  AusOpen-women-2013\n",
       "15  FrenchOpen-women-2013  AusOpen-women-2013\n",
       "16      USOpen-women-2013  AusOpen-women-2013\n",
       "17       AusOpen-men-2013  AusOpen-women-2013\n",
       "18        USOpen-men-2013  AusOpen-women-2013\n",
       "19        USOpen-men-2013  AusOpen-women-2013\n",
       "20       AusOpen-men-2013  AusOpen-women-2013\n",
       "21  FrenchOpen-women-2013  AusOpen-women-2013\n",
       "22    FrenchOpen-men-2013  AusOpen-women-2013\n",
       "23     Wimbledon-men-2013  AusOpen-women-2013\n",
       "24     Wimbledon-men-2013  AusOpen-women-2013\n",
       "25  FrenchOpen-women-2013  AusOpen-women-2013\n",
       "26     Wimbledon-men-2013  AusOpen-women-2013\n",
       "27  FrenchOpen-women-2013  AusOpen-women-2013\n",
       "28       AusOpen-men-2013  AusOpen-women-2013\n",
       "29     AusOpen-women-2013  AusOpen-women-2013\n",
       "..                    ...                 ...\n",
       "70    FrenchOpen-men-2013  AusOpen-women-2013\n",
       "71       AusOpen-men-2013  AusOpen-women-2013\n",
       "72        USOpen-men-2013  AusOpen-women-2013\n",
       "73     Wimbledon-men-2013  AusOpen-women-2013\n",
       "74       AusOpen-men-2013  AusOpen-women-2013\n",
       "75    FrenchOpen-men-2013  AusOpen-women-2013\n",
       "76  FrenchOpen-women-2013  AusOpen-women-2013\n",
       "77     Wimbledon-men-2013  AusOpen-women-2013\n",
       "78  FrenchOpen-women-2013  AusOpen-women-2013\n",
       "79      USOpen-women-2013  AusOpen-women-2013\n",
       "80        USOpen-men-2013  AusOpen-women-2013\n",
       "81   Wimbledon-women-2013  AusOpen-women-2013\n",
       "82       AusOpen-men-2013  AusOpen-women-2013\n",
       "83        USOpen-men-2013  AusOpen-women-2013\n",
       "84      USOpen-women-2013  AusOpen-women-2013\n",
       "85     Wimbledon-men-2013  AusOpen-women-2013\n",
       "86        USOpen-men-2013  AusOpen-women-2013\n",
       "87    FrenchOpen-men-2013  AusOpen-women-2013\n",
       "88     AusOpen-women-2013  AusOpen-women-2013\n",
       "89       AusOpen-men-2013  AusOpen-women-2013\n",
       "90     AusOpen-women-2013  AusOpen-women-2013\n",
       "91  FrenchOpen-women-2013  AusOpen-women-2013\n",
       "92     AusOpen-women-2013  AusOpen-women-2013\n",
       "93       AusOpen-men-2013  AusOpen-women-2013\n",
       "94    FrenchOpen-men-2013  AusOpen-women-2013\n",
       "95  FrenchOpen-women-2013  AusOpen-women-2013\n",
       "96   Wimbledon-women-2013  AusOpen-women-2013\n",
       "97   Wimbledon-women-2013  AusOpen-women-2013\n",
       "98  FrenchOpen-women-2013  AusOpen-women-2013\n",
       "99   Wimbledon-women-2013  AusOpen-women-2013\n",
       "\n",
       "[100 rows x 2 columns]"
      ]
     },
     "execution_count": 672,
     "metadata": {},
     "output_type": "execute_result"
    }
   ],
   "source": [
    "#Lets see the predicted result versus actual result\n",
    "results[['Actual_Type', 'Predicted_Type']]"
   ]
  },
  {
   "cell_type": "markdown",
   "metadata": {},
   "source": [
    "Lets plot the two results"
   ]
  },
  {
   "cell_type": "code",
   "execution_count": 673,
   "metadata": {
    "collapsed": false
   },
   "outputs": [
    {
     "data": {
      "text/plain": [
       "10"
      ]
     },
     "execution_count": 673,
     "metadata": {},
     "output_type": "execute_result"
    }
   ],
   "source": [
    "#Number of correct predictions\n",
    "len(results[results['Actual_Type'] == results['Predicted_Type']])"
   ]
  },
  {
   "cell_type": "code",
   "execution_count": 674,
   "metadata": {
    "collapsed": false
   },
   "outputs": [
    {
     "data": {
      "text/plain": [
       "90"
      ]
     },
     "execution_count": 674,
     "metadata": {},
     "output_type": "execute_result"
    }
   ],
   "source": [
    "#Number of incorrect predictions\n",
    "len(results[results['Actual_Type'] != results['Predicted_Type']])"
   ]
  },
  {
   "cell_type": "markdown",
   "metadata": {
    "collapsed": true
   },
   "source": [
    "# Let us now make a classifier to predict \"Which palyer is Player1 playing against in the match?\" \n",
    "\n",
    "We will use Logistic regression first to predict the results. Then we will predict the results using SVM method, and will compare both the results. Lets start by gathering the training and test data."
   ]
  },
  {
   "cell_type": "code",
   "execution_count": 675,
   "metadata": {
    "collapsed": true
   },
   "outputs": [],
   "source": [
    "#Our target column is 'Player2'\n",
    "target_column = 'Player2';\n",
    "input_data_columns = [];\n",
    "for column in input_data.keys():\n",
    "    if column != target_column:\n",
    "        input_data_columns.append(column);"
   ]
  },
  {
   "cell_type": "code",
   "execution_count": 676,
   "metadata": {
    "collapsed": false
   },
   "outputs": [],
   "source": [
    "data_x = input_data[input_data_columns];\n",
    "data_y = input_data[target_column];\n",
    "\n",
    "test_data_x = test_data[input_data_columns];\n",
    "test_data_y = test_data[target_column];"
   ]
  },
  {
   "cell_type": "markdown",
   "metadata": {},
   "source": [
    "Lets verify the data by checking a few rows"
   ]
  },
  {
   "cell_type": "code",
   "execution_count": 677,
   "metadata": {
    "collapsed": false
   },
   "outputs": [
    {
     "data": {
      "text/html": [
       "<div style=\"max-height:1000px;max-width:1500px;overflow:auto;\">\n",
       "<table border=\"1\" class=\"dataframe\">\n",
       "  <thead>\n",
       "    <tr style=\"text-align: right;\">\n",
       "      <th></th>\n",
       "      <th>Player1</th>\n",
       "      <th>Round</th>\n",
       "      <th>Result</th>\n",
       "      <th>FNL.1</th>\n",
       "      <th>FNL.2</th>\n",
       "      <th>FSP.1</th>\n",
       "      <th>FSW.1</th>\n",
       "      <th>SSP.1</th>\n",
       "      <th>SSW.1</th>\n",
       "      <th>ACE.1</th>\n",
       "      <th>...</th>\n",
       "      <th>BPW.2</th>\n",
       "      <th>NPA.2</th>\n",
       "      <th>NPW.2</th>\n",
       "      <th>TPW.2</th>\n",
       "      <th>ST1.2</th>\n",
       "      <th>ST2.2</th>\n",
       "      <th>ST3.2</th>\n",
       "      <th>ST4.2</th>\n",
       "      <th>ST5.2</th>\n",
       "      <th>Type</th>\n",
       "    </tr>\n",
       "  </thead>\n",
       "  <tbody>\n",
       "    <tr>\n",
       "      <th>48 </th>\n",
       "      <td> 519</td>\n",
       "      <td> 1</td>\n",
       "      <td> 0</td>\n",
       "      <td> 1</td>\n",
       "      <td> 3</td>\n",
       "      <td> 57</td>\n",
       "      <td> 52</td>\n",
       "      <td> 43</td>\n",
       "      <td> 25</td>\n",
       "      <td> 29</td>\n",
       "      <td>...</td>\n",
       "      <td>  8</td>\n",
       "      <td> 21</td>\n",
       "      <td> 28</td>\n",
       "      <td> 122</td>\n",
       "      <td> 6</td>\n",
       "      <td> 6</td>\n",
       "      <td> 6</td>\n",
       "      <td> 6</td>\n",
       "      <td> 0</td>\n",
       "      <td> 0</td>\n",
       "    </tr>\n",
       "    <tr>\n",
       "      <th>54 </th>\n",
       "      <td> 364</td>\n",
       "      <td> 1</td>\n",
       "      <td> 1</td>\n",
       "      <td> 3</td>\n",
       "      <td> 1</td>\n",
       "      <td> 46</td>\n",
       "      <td> 38</td>\n",
       "      <td> 54</td>\n",
       "      <td> 29</td>\n",
       "      <td>  8</td>\n",
       "      <td>...</td>\n",
       "      <td> 12</td>\n",
       "      <td> 12</td>\n",
       "      <td> 25</td>\n",
       "      <td> 110</td>\n",
       "      <td> 3</td>\n",
       "      <td> 6</td>\n",
       "      <td> 3</td>\n",
       "      <td> 4</td>\n",
       "      <td> 0</td>\n",
       "      <td> 4</td>\n",
       "    </tr>\n",
       "    <tr>\n",
       "      <th>9  </th>\n",
       "      <td> 317</td>\n",
       "      <td> 1</td>\n",
       "      <td> 1</td>\n",
       "      <td> 3</td>\n",
       "      <td> 0</td>\n",
       "      <td> 67</td>\n",
       "      <td> 56</td>\n",
       "      <td> 33</td>\n",
       "      <td> 21</td>\n",
       "      <td> 22</td>\n",
       "      <td>...</td>\n",
       "      <td>  0</td>\n",
       "      <td> 23</td>\n",
       "      <td> 15</td>\n",
       "      <td>   0</td>\n",
       "      <td> 6</td>\n",
       "      <td> 4</td>\n",
       "      <td> 2</td>\n",
       "      <td> 0</td>\n",
       "      <td> 0</td>\n",
       "      <td> 6</td>\n",
       "    </tr>\n",
       "    <tr>\n",
       "      <th>1  </th>\n",
       "      <td> 188</td>\n",
       "      <td> 6</td>\n",
       "      <td> 0</td>\n",
       "      <td> 0</td>\n",
       "      <td> 2</td>\n",
       "      <td> 44</td>\n",
       "      <td> 12</td>\n",
       "      <td> 56</td>\n",
       "      <td>  7</td>\n",
       "      <td>  1</td>\n",
       "      <td>...</td>\n",
       "      <td>  8</td>\n",
       "      <td> 30</td>\n",
       "      <td> 20</td>\n",
       "      <td>   0</td>\n",
       "      <td> 6</td>\n",
       "      <td> 6</td>\n",
       "      <td> 0</td>\n",
       "      <td> 0</td>\n",
       "      <td> 0</td>\n",
       "      <td> 5</td>\n",
       "    </tr>\n",
       "    <tr>\n",
       "      <th>107</th>\n",
       "      <td> 615</td>\n",
       "      <td> 3</td>\n",
       "      <td> 0</td>\n",
       "      <td> 2</td>\n",
       "      <td> 3</td>\n",
       "      <td> 63</td>\n",
       "      <td> 99</td>\n",
       "      <td> 37</td>\n",
       "      <td> 52</td>\n",
       "      <td> 15</td>\n",
       "      <td>...</td>\n",
       "      <td> 13</td>\n",
       "      <td> 52</td>\n",
       "      <td> 80</td>\n",
       "      <td> 213</td>\n",
       "      <td> 5</td>\n",
       "      <td> 6</td>\n",
       "      <td> 6</td>\n",
       "      <td> 7</td>\n",
       "      <td> 8</td>\n",
       "      <td> 2</td>\n",
       "    </tr>\n",
       "  </tbody>\n",
       "</table>\n",
       "<p>5 rows × 42 columns</p>\n",
       "</div>"
      ],
      "text/plain": [
       "     Player1  Round  Result  FNL.1  FNL.2  FSP.1  FSW.1  SSP.1  SSW.1  ACE.1  \\\n",
       "48       519      1       0      1      3     57     52     43     25     29   \n",
       "54       364      1       1      3      1     46     38     54     29      8   \n",
       "9        317      1       1      3      0     67     56     33     21     22   \n",
       "1        188      6       0      0      2     44     12     56      7      1   \n",
       "107      615      3       0      2      3     63     99     37     52     15   \n",
       "\n",
       "     ...   BPW.2  NPA.2  NPW.2  TPW.2  ST1.2  ST2.2  ST3.2  ST4.2  ST5.2  Type  \n",
       "48   ...       8     21     28    122      6      6      6      6      0     0  \n",
       "54   ...      12     12     25    110      3      6      3      4      0     4  \n",
       "9    ...       0     23     15      0      6      4      2      0      0     6  \n",
       "1    ...       8     30     20      0      6      6      0      0      0     5  \n",
       "107  ...      13     52     80    213      5      6      6      7      8     2  \n",
       "\n",
       "[5 rows x 42 columns]"
      ]
     },
     "execution_count": 677,
     "metadata": {},
     "output_type": "execute_result"
    }
   ],
   "source": [
    "data_x[:5]"
   ]
  },
  {
   "cell_type": "code",
   "execution_count": 678,
   "metadata": {
    "collapsed": false
   },
   "outputs": [
    {
     "data": {
      "text/plain": [
       "48     299\n",
       "54     104\n",
       "9      482\n",
       "1      621\n",
       "107    297\n",
       "Name: Player2, dtype: int64"
      ]
     },
     "execution_count": 678,
     "metadata": {},
     "output_type": "execute_result"
    }
   ],
   "source": [
    "data_y[:5]"
   ]
  },
  {
   "cell_type": "code",
   "execution_count": 679,
   "metadata": {
    "collapsed": false
   },
   "outputs": [
    {
     "data": {
      "text/html": [
       "<div style=\"max-height:1000px;max-width:1500px;overflow:auto;\">\n",
       "<table border=\"1\" class=\"dataframe\">\n",
       "  <thead>\n",
       "    <tr style=\"text-align: right;\">\n",
       "      <th></th>\n",
       "      <th>Player1</th>\n",
       "      <th>Round</th>\n",
       "      <th>Result</th>\n",
       "      <th>FNL.1</th>\n",
       "      <th>FNL.2</th>\n",
       "      <th>FSP.1</th>\n",
       "      <th>FSW.1</th>\n",
       "      <th>SSP.1</th>\n",
       "      <th>SSW.1</th>\n",
       "      <th>ACE.1</th>\n",
       "      <th>...</th>\n",
       "      <th>BPW.2</th>\n",
       "      <th>NPA.2</th>\n",
       "      <th>NPW.2</th>\n",
       "      <th>TPW.2</th>\n",
       "      <th>ST1.2</th>\n",
       "      <th>ST2.2</th>\n",
       "      <th>ST3.2</th>\n",
       "      <th>ST4.2</th>\n",
       "      <th>ST5.2</th>\n",
       "      <th>Type</th>\n",
       "    </tr>\n",
       "  </thead>\n",
       "  <tbody>\n",
       "    <tr>\n",
       "      <th>21</th>\n",
       "      <td> 115</td>\n",
       "      <td> 1</td>\n",
       "      <td> 1</td>\n",
       "      <td> 2</td>\n",
       "      <td> 0</td>\n",
       "      <td> 54</td>\n",
       "      <td> 23</td>\n",
       "      <td> 46</td>\n",
       "      <td> 19</td>\n",
       "      <td>  1</td>\n",
       "      <td>...</td>\n",
       "      <td>  0</td>\n",
       "      <td> 10</td>\n",
       "      <td>  7</td>\n",
       "      <td>  0</td>\n",
       "      <td> 3</td>\n",
       "      <td> 4</td>\n",
       "      <td> 0</td>\n",
       "      <td> 0</td>\n",
       "      <td> 0</td>\n",
       "      <td> 7</td>\n",
       "    </tr>\n",
       "    <tr>\n",
       "      <th>91</th>\n",
       "      <td> 127</td>\n",
       "      <td> 2</td>\n",
       "      <td> 0</td>\n",
       "      <td> 0</td>\n",
       "      <td> 2</td>\n",
       "      <td> 70</td>\n",
       "      <td> 29</td>\n",
       "      <td> 30</td>\n",
       "      <td> 10</td>\n",
       "      <td>  1</td>\n",
       "      <td>...</td>\n",
       "      <td>  7</td>\n",
       "      <td>  2</td>\n",
       "      <td>  5</td>\n",
       "      <td> 72</td>\n",
       "      <td> 7</td>\n",
       "      <td> 6</td>\n",
       "      <td> 0</td>\n",
       "      <td> 0</td>\n",
       "      <td> 0</td>\n",
       "      <td> 3</td>\n",
       "    </tr>\n",
       "    <tr>\n",
       "      <th>37</th>\n",
       "      <td> 666</td>\n",
       "      <td> 1</td>\n",
       "      <td> 1</td>\n",
       "      <td> 2</td>\n",
       "      <td> 0</td>\n",
       "      <td> 74</td>\n",
       "      <td> 33</td>\n",
       "      <td> 26</td>\n",
       "      <td>  6</td>\n",
       "      <td>  1</td>\n",
       "      <td>...</td>\n",
       "      <td>  6</td>\n",
       "      <td>  0</td>\n",
       "      <td>  0</td>\n",
       "      <td> 58</td>\n",
       "      <td> 2</td>\n",
       "      <td> 4</td>\n",
       "      <td> 0</td>\n",
       "      <td> 0</td>\n",
       "      <td> 0</td>\n",
       "      <td> 1</td>\n",
       "    </tr>\n",
       "    <tr>\n",
       "      <th>41</th>\n",
       "      <td> 257</td>\n",
       "      <td> 1</td>\n",
       "      <td> 0</td>\n",
       "      <td> 2</td>\n",
       "      <td> 3</td>\n",
       "      <td> 58</td>\n",
       "      <td> 63</td>\n",
       "      <td> 42</td>\n",
       "      <td> 20</td>\n",
       "      <td> 19</td>\n",
       "      <td>...</td>\n",
       "      <td>  7</td>\n",
       "      <td> 47</td>\n",
       "      <td> 31</td>\n",
       "      <td>  0</td>\n",
       "      <td> 6</td>\n",
       "      <td> 6</td>\n",
       "      <td> 3</td>\n",
       "      <td> 4</td>\n",
       "      <td> 6</td>\n",
       "      <td> 6</td>\n",
       "    </tr>\n",
       "    <tr>\n",
       "      <th>51</th>\n",
       "      <td> 604</td>\n",
       "      <td> 1</td>\n",
       "      <td> 0</td>\n",
       "      <td> 0</td>\n",
       "      <td> 2</td>\n",
       "      <td> 68</td>\n",
       "      <td> 43</td>\n",
       "      <td> 32</td>\n",
       "      <td> 14</td>\n",
       "      <td>  3</td>\n",
       "      <td>...</td>\n",
       "      <td> 12</td>\n",
       "      <td>  0</td>\n",
       "      <td>  0</td>\n",
       "      <td> 93</td>\n",
       "      <td> 7</td>\n",
       "      <td> 6</td>\n",
       "      <td> 0</td>\n",
       "      <td> 0</td>\n",
       "      <td> 0</td>\n",
       "      <td> 1</td>\n",
       "    </tr>\n",
       "  </tbody>\n",
       "</table>\n",
       "<p>5 rows × 42 columns</p>\n",
       "</div>"
      ],
      "text/plain": [
       "    Player1  Round  Result  FNL.1  FNL.2  FSP.1  FSW.1  SSP.1  SSW.1  ACE.1  \\\n",
       "21      115      1       1      2      0     54     23     46     19      1   \n",
       "91      127      2       0      0      2     70     29     30     10      1   \n",
       "37      666      1       1      2      0     74     33     26      6      1   \n",
       "41      257      1       0      2      3     58     63     42     20     19   \n",
       "51      604      1       0      0      2     68     43     32     14      3   \n",
       "\n",
       "    ...   BPW.2  NPA.2  NPW.2  TPW.2  ST1.2  ST2.2  ST3.2  ST4.2  ST5.2  Type  \n",
       "21  ...       0     10      7      0      3      4      0      0      0     7  \n",
       "91  ...       7      2      5     72      7      6      0      0      0     3  \n",
       "37  ...       6      0      0     58      2      4      0      0      0     1  \n",
       "41  ...       7     47     31      0      6      6      3      4      6     6  \n",
       "51  ...      12      0      0     93      7      6      0      0      0     1  \n",
       "\n",
       "[5 rows x 42 columns]"
      ]
     },
     "execution_count": 679,
     "metadata": {},
     "output_type": "execute_result"
    }
   ],
   "source": [
    "test_data_x[:5]"
   ]
  },
  {
   "cell_type": "code",
   "execution_count": 680,
   "metadata": {
    "collapsed": false
   },
   "outputs": [
    {
     "data": {
      "text/plain": [
       "21    549\n",
       "91    102\n",
       "37    330\n",
       "41    144\n",
       "51     65\n",
       "Name: Player2, dtype: int64"
      ]
     },
     "execution_count": 680,
     "metadata": {},
     "output_type": "execute_result"
    }
   ],
   "source": [
    "test_data_y[:5]"
   ]
  },
  {
   "cell_type": "code",
   "execution_count": 681,
   "metadata": {
    "collapsed": false
   },
   "outputs": [],
   "source": [
    "#Lets train the logistic classifier\n",
    "logistic_clf = logistic_regr.fit(data_x, data_y);"
   ]
  },
  {
   "cell_type": "markdown",
   "metadata": {},
   "source": [
    "Lets predict the results for test_data now."
   ]
  },
  {
   "cell_type": "code",
   "execution_count": 682,
   "metadata": {
    "collapsed": false
   },
   "outputs": [],
   "source": [
    "predicted_results = logistic_clf.predict(test_data_x);"
   ]
  },
  {
   "cell_type": "markdown",
   "metadata": {},
   "source": [
    "Lets put actual and predicted results in a single data frame"
   ]
  },
  {
   "cell_type": "code",
   "execution_count": 683,
   "metadata": {
    "collapsed": false
   },
   "outputs": [],
   "source": [
    "results = pd.DataFrame({'Actual_Player2': names_fit.inverse_transform(test_data_y.values[:]), 'Logistic_Player2': names_fit.inverse_transform(predicted_results[:])})"
   ]
  },
  {
   "cell_type": "markdown",
   "metadata": {},
   "source": [
    "lets checkout a few results"
   ]
  },
  {
   "cell_type": "code",
   "execution_count": 684,
   "metadata": {
    "collapsed": false
   },
   "outputs": [
    {
     "data": {
      "text/html": [
       "<div style=\"max-height:1000px;max-width:1500px;overflow:auto;\">\n",
       "<table border=\"1\" class=\"dataframe\">\n",
       "  <thead>\n",
       "    <tr style=\"text-align: right;\">\n",
       "      <th></th>\n",
       "      <th>Actual_Player2</th>\n",
       "      <th>Logistic_Player2</th>\n",
       "    </tr>\n",
       "  </thead>\n",
       "  <tbody>\n",
       "    <tr>\n",
       "      <th>0 </th>\n",
       "      <td>                 S.Murray</td>\n",
       "      <td>             F.Pennetta</td>\n",
       "    </tr>\n",
       "    <tr>\n",
       "      <th>1 </th>\n",
       "      <td>        Bojana Jovanovski</td>\n",
       "      <td>           Ana Ivanovic</td>\n",
       "    </tr>\n",
       "    <tr>\n",
       "      <th>2 </th>\n",
       "      <td>       Katerina Siniakova</td>\n",
       "      <td>      Lara Arruabarrena</td>\n",
       "    </tr>\n",
       "    <tr>\n",
       "      <th>3 </th>\n",
       "      <td>                  D.Kudla</td>\n",
       "      <td>                G.Soeda</td>\n",
       "    </tr>\n",
       "    <tr>\n",
       "      <th>4 </th>\n",
       "      <td> Anastasia Pavlyuchenkova</td>\n",
       "      <td>            Yen-Hsun Lu</td>\n",
       "    </tr>\n",
       "    <tr>\n",
       "      <th>5 </th>\n",
       "      <td>              Donna Vekic</td>\n",
       "      <td>    Svetlana Kuznetsova</td>\n",
       "    </tr>\n",
       "    <tr>\n",
       "      <th>6 </th>\n",
       "      <td>              Tim Smyczek</td>\n",
       "      <td>     Ekaterina Makarova</td>\n",
       "    </tr>\n",
       "    <tr>\n",
       "      <th>7 </th>\n",
       "      <td>                S Lisicki</td>\n",
       "      <td>                 M.Keys</td>\n",
       "    </tr>\n",
       "    <tr>\n",
       "      <th>8 </th>\n",
       "      <td>                S.Bolelli</td>\n",
       "      <td>         Ernests Gulbis</td>\n",
       "    </tr>\n",
       "    <tr>\n",
       "      <th>9 </th>\n",
       "      <td>          Dmitry Tursunov</td>\n",
       "      <td> Edouard Roger-Vasselin</td>\n",
       "    </tr>\n",
       "    <tr>\n",
       "      <th>10</th>\n",
       "      <td>                 C.Garcia</td>\n",
       "      <td>           K.Date-Krumm</td>\n",
       "    </tr>\n",
       "    <tr>\n",
       "      <th>11</th>\n",
       "      <td>            Roger Federer</td>\n",
       "      <td>    Alexandr Dolgopolov</td>\n",
       "    </tr>\n",
       "    <tr>\n",
       "      <th>12</th>\n",
       "      <td>              James Blake</td>\n",
       "      <td>        Caroline Garcia</td>\n",
       "    </tr>\n",
       "    <tr>\n",
       "      <th>13</th>\n",
       "      <td>           Victor Hanescu</td>\n",
       "      <td>      Victoria Azarenka</td>\n",
       "    </tr>\n",
       "    <tr>\n",
       "      <th>14</th>\n",
       "      <td>           Victor Hanescu</td>\n",
       "      <td>       Virginie Razzano</td>\n",
       "    </tr>\n",
       "    <tr>\n",
       "      <th>15</th>\n",
       "      <td>              Shahar Peer</td>\n",
       "      <td>        Olga Govortsova</td>\n",
       "    </tr>\n",
       "    <tr>\n",
       "      <th>16</th>\n",
       "      <td>               F Pennetta</td>\n",
       "      <td>             F Pennetta</td>\n",
       "    </tr>\n",
       "    <tr>\n",
       "      <th>17</th>\n",
       "      <td>         Julien Benneteau</td>\n",
       "      <td>         Jerzy Janowicz</td>\n",
       "    </tr>\n",
       "    <tr>\n",
       "      <th>18</th>\n",
       "      <td>       Philipp Petzschner</td>\n",
       "      <td>          Florian Mayer</td>\n",
       "    </tr>\n",
       "    <tr>\n",
       "      <th>19</th>\n",
       "      <td>          James Duckworth</td>\n",
       "      <td>        Grigor Dimitrov</td>\n",
       "    </tr>\n",
       "    <tr>\n",
       "      <th>20</th>\n",
       "      <td>               John Isner</td>\n",
       "      <td>            Sam Querrey</td>\n",
       "    </tr>\n",
       "    <tr>\n",
       "      <th>21</th>\n",
       "      <td>    Bethanie Mattek-Sands</td>\n",
       "      <td>           Madison Keys</td>\n",
       "    </tr>\n",
       "    <tr>\n",
       "      <th>22</th>\n",
       "      <td>              Sam Querrey</td>\n",
       "      <td>   Carla Suarez Navarro</td>\n",
       "    </tr>\n",
       "    <tr>\n",
       "      <th>23</th>\n",
       "      <td>                    R.Ram</td>\n",
       "      <td>             I.Sijsling</td>\n",
       "    </tr>\n",
       "    <tr>\n",
       "      <th>24</th>\n",
       "      <td>                  N.Mahut</td>\n",
       "      <td>              T.Berdych</td>\n",
       "    </tr>\n",
       "    <tr>\n",
       "      <th>25</th>\n",
       "      <td>             Ana Ivanovic</td>\n",
       "      <td>        Maria Sharapova</td>\n",
       "    </tr>\n",
       "    <tr>\n",
       "      <th>26</th>\n",
       "      <td>                    R.Ram</td>\n",
       "      <td>                 T.Haas</td>\n",
       "    </tr>\n",
       "    <tr>\n",
       "      <th>27</th>\n",
       "      <td>      A. Medina Garrigues</td>\n",
       "      <td>           Simona Halep</td>\n",
       "    </tr>\n",
       "    <tr>\n",
       "      <th>28</th>\n",
       "      <td>           Vasek Pospisil</td>\n",
       "      <td>          Damir Dzumhur</td>\n",
       "    </tr>\n",
       "    <tr>\n",
       "      <th>29</th>\n",
       "      <td>       Irina-Camelia Begu</td>\n",
       "      <td> Guillermo Garcia-Lopez</td>\n",
       "    </tr>\n",
       "    <tr>\n",
       "      <th>...</th>\n",
       "      <td>...</td>\n",
       "      <td>...</td>\n",
       "    </tr>\n",
       "    <tr>\n",
       "      <th>70</th>\n",
       "      <td>            Roger Federer</td>\n",
       "      <td>  Philipp Kohlschreiber</td>\n",
       "    </tr>\n",
       "    <tr>\n",
       "      <th>71</th>\n",
       "      <td>          Alejandro Falla</td>\n",
       "      <td>         Julian Reister</td>\n",
       "    </tr>\n",
       "    <tr>\n",
       "      <th>72</th>\n",
       "      <td>         Thiemo de Bakker</td>\n",
       "      <td>          Andrej Martin</td>\n",
       "    </tr>\n",
       "    <tr>\n",
       "      <th>73</th>\n",
       "      <td>                  B.Tomic</td>\n",
       "      <td>            J.Del Potro</td>\n",
       "    </tr>\n",
       "    <tr>\n",
       "      <th>74</th>\n",
       "      <td>            Pablo Andujar</td>\n",
       "      <td>      Alla Kudryavtseva</td>\n",
       "    </tr>\n",
       "    <tr>\n",
       "      <th>75</th>\n",
       "      <td>               John Isner</td>\n",
       "      <td>  Philipp Kohlschreiber</td>\n",
       "    </tr>\n",
       "    <tr>\n",
       "      <th>76</th>\n",
       "      <td>              Sara Errani</td>\n",
       "      <td>      Victoria Azarenka</td>\n",
       "    </tr>\n",
       "    <tr>\n",
       "      <th>77</th>\n",
       "      <td>                  D.Brown</td>\n",
       "      <td>          K.De Schepper</td>\n",
       "    </tr>\n",
       "    <tr>\n",
       "      <th>78</th>\n",
       "      <td>     Mirjana Lucic-Baroni</td>\n",
       "      <td>          Olga Puchkova</td>\n",
       "    </tr>\n",
       "    <tr>\n",
       "      <th>79</th>\n",
       "      <td>         C Suarez Navarro</td>\n",
       "      <td>       C Suarez Navarro</td>\n",
       "    </tr>\n",
       "    <tr>\n",
       "      <th>80</th>\n",
       "      <td>             David Ferrer</td>\n",
       "      <td>           Rafael Nadal</td>\n",
       "    </tr>\n",
       "    <tr>\n",
       "      <th>81</th>\n",
       "      <td>              C.Wozniacki</td>\n",
       "      <td>           A.Keothavong</td>\n",
       "    </tr>\n",
       "    <tr>\n",
       "      <th>82</th>\n",
       "      <td>        Sergiy Stakhovsky</td>\n",
       "      <td>        Albert Montanes</td>\n",
       "    </tr>\n",
       "    <tr>\n",
       "      <th>83</th>\n",
       "      <td>            Bradley Klahn</td>\n",
       "      <td>     Stanislas Wawrinka</td>\n",
       "    </tr>\n",
       "    <tr>\n",
       "      <th>84</th>\n",
       "      <td>                   K Nara</td>\n",
       "      <td>               V.Dolonc</td>\n",
       "    </tr>\n",
       "    <tr>\n",
       "      <th>85</th>\n",
       "      <td>               J.Janowicz</td>\n",
       "      <td>              T.Berdych</td>\n",
       "    </tr>\n",
       "    <tr>\n",
       "      <th>86</th>\n",
       "      <td>       Alex Bogomolov Jr.</td>\n",
       "      <td>          Florian Mayer</td>\n",
       "    </tr>\n",
       "    <tr>\n",
       "      <th>87</th>\n",
       "      <td>       Stanislas Wawrinka</td>\n",
       "      <td>               Go Soeda</td>\n",
       "    </tr>\n",
       "    <tr>\n",
       "      <th>88</th>\n",
       "      <td>             Ana Ivanovic</td>\n",
       "      <td>       Yulia Putintseva</td>\n",
       "    </tr>\n",
       "    <tr>\n",
       "      <th>89</th>\n",
       "      <td>           Novak Djokovic</td>\n",
       "      <td>      Marcel Granollers</td>\n",
       "    </tr>\n",
       "    <tr>\n",
       "      <th>90</th>\n",
       "      <td>           Vera Zvonareva</td>\n",
       "      <td>       Garbine Muguruza</td>\n",
       "    </tr>\n",
       "    <tr>\n",
       "      <th>91</th>\n",
       "      <td>            Jamie Hampton</td>\n",
       "      <td>           Simona Halep</td>\n",
       "    </tr>\n",
       "    <tr>\n",
       "      <th>92</th>\n",
       "      <td>       Daniela Hantuchova</td>\n",
       "      <td>         Lucie Safarova</td>\n",
       "    </tr>\n",
       "    <tr>\n",
       "      <th>93</th>\n",
       "      <td>          Jarkko Nieminen</td>\n",
       "      <td>      Federico Delbonis</td>\n",
       "    </tr>\n",
       "    <tr>\n",
       "      <th>94</th>\n",
       "      <td>          Feliciano Lopez</td>\n",
       "      <td>        Grigor Dimitrov</td>\n",
       "    </tr>\n",
       "    <tr>\n",
       "      <th>95</th>\n",
       "      <td>         Mallory Burdette</td>\n",
       "      <td>        Olga Govortsova</td>\n",
       "    </tr>\n",
       "    <tr>\n",
       "      <th>96</th>\n",
       "      <td>                  J.Konta</td>\n",
       "      <td>               K.Kanepi</td>\n",
       "    </tr>\n",
       "    <tr>\n",
       "      <th>97</th>\n",
       "      <td>               Y.Shvedova</td>\n",
       "      <td>                 M Keys</td>\n",
       "    </tr>\n",
       "    <tr>\n",
       "      <th>98</th>\n",
       "      <td>         Christina McHale</td>\n",
       "      <td>          Julia Goerges</td>\n",
       "    </tr>\n",
       "    <tr>\n",
       "      <th>99</th>\n",
       "      <td>                     N.Li</td>\n",
       "      <td>               V.Dolonc</td>\n",
       "    </tr>\n",
       "  </tbody>\n",
       "</table>\n",
       "<p>100 rows × 2 columns</p>\n",
       "</div>"
      ],
      "text/plain": [
       "              Actual_Player2        Logistic_Player2\n",
       "0                   S.Murray              F.Pennetta\n",
       "1          Bojana Jovanovski            Ana Ivanovic\n",
       "2         Katerina Siniakova       Lara Arruabarrena\n",
       "3                    D.Kudla                 G.Soeda\n",
       "4   Anastasia Pavlyuchenkova             Yen-Hsun Lu\n",
       "5                Donna Vekic     Svetlana Kuznetsova\n",
       "6                Tim Smyczek      Ekaterina Makarova\n",
       "7                  S Lisicki                  M.Keys\n",
       "8                  S.Bolelli          Ernests Gulbis\n",
       "9            Dmitry Tursunov  Edouard Roger-Vasselin\n",
       "10                  C.Garcia            K.Date-Krumm\n",
       "11             Roger Federer     Alexandr Dolgopolov\n",
       "12               James Blake         Caroline Garcia\n",
       "13            Victor Hanescu       Victoria Azarenka\n",
       "14            Victor Hanescu        Virginie Razzano\n",
       "15               Shahar Peer         Olga Govortsova\n",
       "16                F Pennetta              F Pennetta\n",
       "17          Julien Benneteau          Jerzy Janowicz\n",
       "18        Philipp Petzschner           Florian Mayer\n",
       "19           James Duckworth         Grigor Dimitrov\n",
       "20                John Isner             Sam Querrey\n",
       "21     Bethanie Mattek-Sands            Madison Keys\n",
       "22               Sam Querrey    Carla Suarez Navarro\n",
       "23                     R.Ram              I.Sijsling\n",
       "24                   N.Mahut               T.Berdych\n",
       "25              Ana Ivanovic         Maria Sharapova\n",
       "26                     R.Ram                  T.Haas\n",
       "27       A. Medina Garrigues            Simona Halep\n",
       "28            Vasek Pospisil           Damir Dzumhur\n",
       "29        Irina-Camelia Begu  Guillermo Garcia-Lopez\n",
       "..                       ...                     ...\n",
       "70             Roger Federer   Philipp Kohlschreiber\n",
       "71           Alejandro Falla          Julian Reister\n",
       "72          Thiemo de Bakker           Andrej Martin\n",
       "73                   B.Tomic             J.Del Potro\n",
       "74             Pablo Andujar       Alla Kudryavtseva\n",
       "75                John Isner   Philipp Kohlschreiber\n",
       "76               Sara Errani       Victoria Azarenka\n",
       "77                   D.Brown           K.De Schepper\n",
       "78      Mirjana Lucic-Baroni           Olga Puchkova\n",
       "79          C Suarez Navarro        C Suarez Navarro\n",
       "80              David Ferrer            Rafael Nadal\n",
       "81               C.Wozniacki            A.Keothavong\n",
       "82         Sergiy Stakhovsky         Albert Montanes\n",
       "83             Bradley Klahn      Stanislas Wawrinka\n",
       "84                    K Nara                V.Dolonc\n",
       "85                J.Janowicz               T.Berdych\n",
       "86        Alex Bogomolov Jr.           Florian Mayer\n",
       "87        Stanislas Wawrinka                Go Soeda\n",
       "88              Ana Ivanovic        Yulia Putintseva\n",
       "89            Novak Djokovic       Marcel Granollers\n",
       "90            Vera Zvonareva        Garbine Muguruza\n",
       "91             Jamie Hampton            Simona Halep\n",
       "92        Daniela Hantuchova          Lucie Safarova\n",
       "93           Jarkko Nieminen       Federico Delbonis\n",
       "94           Feliciano Lopez         Grigor Dimitrov\n",
       "95          Mallory Burdette         Olga Govortsova\n",
       "96                   J.Konta                K.Kanepi\n",
       "97                Y.Shvedova                  M Keys\n",
       "98          Christina McHale           Julia Goerges\n",
       "99                      N.Li                V.Dolonc\n",
       "\n",
       "[100 rows x 2 columns]"
      ]
     },
     "execution_count": 684,
     "metadata": {},
     "output_type": "execute_result"
    }
   ],
   "source": [
    "results"
   ]
  },
  {
   "cell_type": "markdown",
   "metadata": {},
   "source": [
    "Lets see the palyers for which it has predicted correctly"
   ]
  },
  {
   "cell_type": "code",
   "execution_count": 685,
   "metadata": {
    "collapsed": false
   },
   "outputs": [
    {
     "data": {
      "text/html": [
       "<div style=\"max-height:1000px;max-width:1500px;overflow:auto;\">\n",
       "<table border=\"1\" class=\"dataframe\">\n",
       "  <thead>\n",
       "    <tr style=\"text-align: right;\">\n",
       "      <th></th>\n",
       "      <th>Actual_Player2</th>\n",
       "      <th>Logistic_Player2</th>\n",
       "    </tr>\n",
       "  </thead>\n",
       "  <tbody>\n",
       "    <tr>\n",
       "      <th>16</th>\n",
       "      <td>       F Pennetta</td>\n",
       "      <td>       F Pennetta</td>\n",
       "    </tr>\n",
       "    <tr>\n",
       "      <th>59</th>\n",
       "      <td>     Rafael Nadal</td>\n",
       "      <td>     Rafael Nadal</td>\n",
       "    </tr>\n",
       "    <tr>\n",
       "      <th>79</th>\n",
       "      <td> C Suarez Navarro</td>\n",
       "      <td> C Suarez Navarro</td>\n",
       "    </tr>\n",
       "  </tbody>\n",
       "</table>\n",
       "</div>"
      ],
      "text/plain": [
       "      Actual_Player2  Logistic_Player2\n",
       "16        F Pennetta        F Pennetta\n",
       "59      Rafael Nadal      Rafael Nadal\n",
       "79  C Suarez Navarro  C Suarez Navarro"
      ]
     },
     "execution_count": 685,
     "metadata": {},
     "output_type": "execute_result"
    }
   ],
   "source": [
    "results[results['Actual_Player2'] == results['Logistic_Player2']]"
   ]
  },
  {
   "cell_type": "code",
   "execution_count": 686,
   "metadata": {
    "collapsed": false
   },
   "outputs": [
    {
     "data": {
      "text/plain": [
       "3"
      ]
     },
     "execution_count": 686,
     "metadata": {},
     "output_type": "execute_result"
    }
   ],
   "source": [
    "#Number of correct results\n",
    "len(results[results['Actual_Player2'] == results['Logistic_Player2']])"
   ]
  },
  {
   "cell_type": "code",
   "execution_count": 687,
   "metadata": {
    "collapsed": false
   },
   "outputs": [
    {
     "data": {
      "text/plain": [
       "97"
      ]
     },
     "execution_count": 687,
     "metadata": {},
     "output_type": "execute_result"
    }
   ],
   "source": [
    "#Number of ivcorrect results\n",
    "len(results[results['Actual_Player2'] != results['Logistic_Player2']])"
   ]
  },
  {
   "cell_type": "markdown",
   "metadata": {},
   "source": [
    "# Now lets predict the palyer names using SVM algorithm on the same data."
   ]
  },
  {
   "cell_type": "code",
   "execution_count": 688,
   "metadata": {
    "collapsed": true
   },
   "outputs": [],
   "source": [
    "from sklearn import svm\n",
    "svm_clf = svm.LinearSVC();"
   ]
  },
  {
   "cell_type": "code",
   "execution_count": 689,
   "metadata": {
    "collapsed": true
   },
   "outputs": [],
   "source": [
    "#Lets train the classifier\n",
    "svm_clf.fit(data_x, data_y);"
   ]
  },
  {
   "cell_type": "code",
   "execution_count": 690,
   "metadata": {
    "collapsed": true
   },
   "outputs": [],
   "source": [
    "#predict the result on test_data now\n",
    "predicted_results = svm_clf.predict(test_data_x)"
   ]
  },
  {
   "cell_type": "code",
   "execution_count": 691,
   "metadata": {
    "collapsed": true
   },
   "outputs": [],
   "source": [
    "#Lets fit the predicted results in the results data frame\n",
    "results['Svm_Player2'] = names_fit.inverse_transform(predicted_results[:])"
   ]
  },
  {
   "cell_type": "code",
   "execution_count": 692,
   "metadata": {
    "collapsed": false
   },
   "outputs": [
    {
     "data": {
      "text/html": [
       "<div style=\"max-height:1000px;max-width:1500px;overflow:auto;\">\n",
       "<table border=\"1\" class=\"dataframe\">\n",
       "  <thead>\n",
       "    <tr style=\"text-align: right;\">\n",
       "      <th></th>\n",
       "      <th>Actual_Player2</th>\n",
       "      <th>Logistic_Player2</th>\n",
       "      <th>Svm_Player2</th>\n",
       "    </tr>\n",
       "  </thead>\n",
       "  <tbody>\n",
       "    <tr>\n",
       "      <th>0 </th>\n",
       "      <td>                 S.Murray</td>\n",
       "      <td>             F.Pennetta</td>\n",
       "      <td>                M.Ebden</td>\n",
       "    </tr>\n",
       "    <tr>\n",
       "      <th>1 </th>\n",
       "      <td>        Bojana Jovanovski</td>\n",
       "      <td>           Ana Ivanovic</td>\n",
       "      <td>      Nikolay Davydenko</td>\n",
       "    </tr>\n",
       "    <tr>\n",
       "      <th>2 </th>\n",
       "      <td>       Katerina Siniakova</td>\n",
       "      <td>      Lara Arruabarrena</td>\n",
       "      <td>           Madison Keys</td>\n",
       "    </tr>\n",
       "    <tr>\n",
       "      <th>3 </th>\n",
       "      <td>                  D.Kudla</td>\n",
       "      <td>                G.Soeda</td>\n",
       "      <td>                G.Soeda</td>\n",
       "    </tr>\n",
       "    <tr>\n",
       "      <th>4 </th>\n",
       "      <td> Anastasia Pavlyuchenkova</td>\n",
       "      <td>            Yen-Hsun Lu</td>\n",
       "      <td>      Nikolay Davydenko</td>\n",
       "    </tr>\n",
       "    <tr>\n",
       "      <th>5 </th>\n",
       "      <td>              Donna Vekic</td>\n",
       "      <td>    Svetlana Kuznetsova</td>\n",
       "      <td>             Shuai Peng</td>\n",
       "    </tr>\n",
       "    <tr>\n",
       "      <th>6 </th>\n",
       "      <td>              Tim Smyczek</td>\n",
       "      <td>     Ekaterina Makarova</td>\n",
       "      <td>             Shuai Peng</td>\n",
       "    </tr>\n",
       "    <tr>\n",
       "      <th>7 </th>\n",
       "      <td>                S Lisicki</td>\n",
       "      <td>                 M.Keys</td>\n",
       "      <td>               C Garcia</td>\n",
       "    </tr>\n",
       "    <tr>\n",
       "      <th>8 </th>\n",
       "      <td>                S.Bolelli</td>\n",
       "      <td>         Ernests Gulbis</td>\n",
       "      <td>              B.Knittel</td>\n",
       "    </tr>\n",
       "    <tr>\n",
       "      <th>9 </th>\n",
       "      <td>          Dmitry Tursunov</td>\n",
       "      <td> Edouard Roger-Vasselin</td>\n",
       "      <td> Edouard Roger-Vasselin</td>\n",
       "    </tr>\n",
       "    <tr>\n",
       "      <th>10</th>\n",
       "      <td>                 C.Garcia</td>\n",
       "      <td>           K.Date-Krumm</td>\n",
       "      <td>               S.Stosur</td>\n",
       "    </tr>\n",
       "    <tr>\n",
       "      <th>11</th>\n",
       "      <td>            Roger Federer</td>\n",
       "      <td>    Alexandr Dolgopolov</td>\n",
       "      <td>             I.Sijsling</td>\n",
       "    </tr>\n",
       "    <tr>\n",
       "      <th>12</th>\n",
       "      <td>              James Blake</td>\n",
       "      <td>        Caroline Garcia</td>\n",
       "      <td>         Julian Reister</td>\n",
       "    </tr>\n",
       "    <tr>\n",
       "      <th>13</th>\n",
       "      <td>           Victor Hanescu</td>\n",
       "      <td>      Victoria Azarenka</td>\n",
       "      <td>         Michael Llodra</td>\n",
       "    </tr>\n",
       "    <tr>\n",
       "      <th>14</th>\n",
       "      <td>           Victor Hanescu</td>\n",
       "      <td>       Virginie Razzano</td>\n",
       "      <td>               C Garcia</td>\n",
       "    </tr>\n",
       "    <tr>\n",
       "      <th>15</th>\n",
       "      <td>              Shahar Peer</td>\n",
       "      <td>        Olga Govortsova</td>\n",
       "      <td>        Olga Govortsova</td>\n",
       "    </tr>\n",
       "    <tr>\n",
       "      <th>16</th>\n",
       "      <td>               F Pennetta</td>\n",
       "      <td>             F Pennetta</td>\n",
       "      <td>             A.Ivanovic</td>\n",
       "    </tr>\n",
       "    <tr>\n",
       "      <th>17</th>\n",
       "      <td>         Julien Benneteau</td>\n",
       "      <td>         Jerzy Janowicz</td>\n",
       "      <td>         Julian Reister</td>\n",
       "    </tr>\n",
       "    <tr>\n",
       "      <th>18</th>\n",
       "      <td>       Philipp Petzschner</td>\n",
       "      <td>          Florian Mayer</td>\n",
       "      <td>           G.Voskoboeva</td>\n",
       "    </tr>\n",
       "    <tr>\n",
       "      <th>19</th>\n",
       "      <td>          James Duckworth</td>\n",
       "      <td>        Grigor Dimitrov</td>\n",
       "      <td>                M.Ebden</td>\n",
       "    </tr>\n",
       "    <tr>\n",
       "      <th>20</th>\n",
       "      <td>               John Isner</td>\n",
       "      <td>            Sam Querrey</td>\n",
       "      <td>               C Garcia</td>\n",
       "    </tr>\n",
       "    <tr>\n",
       "      <th>21</th>\n",
       "      <td>    Bethanie Mattek-Sands</td>\n",
       "      <td>           Madison Keys</td>\n",
       "      <td>             Shuai Peng</td>\n",
       "    </tr>\n",
       "    <tr>\n",
       "      <th>22</th>\n",
       "      <td>              Sam Querrey</td>\n",
       "      <td>   Carla Suarez Navarro</td>\n",
       "      <td>      Nikolay Davydenko</td>\n",
       "    </tr>\n",
       "    <tr>\n",
       "      <th>23</th>\n",
       "      <td>                    R.Ram</td>\n",
       "      <td>             I.Sijsling</td>\n",
       "      <td>             I.Sijsling</td>\n",
       "    </tr>\n",
       "    <tr>\n",
       "      <th>24</th>\n",
       "      <td>                  N.Mahut</td>\n",
       "      <td>              T.Berdych</td>\n",
       "      <td>               S.Stosur</td>\n",
       "    </tr>\n",
       "    <tr>\n",
       "      <th>25</th>\n",
       "      <td>             Ana Ivanovic</td>\n",
       "      <td>        Maria Sharapova</td>\n",
       "      <td>             Shuai Peng</td>\n",
       "    </tr>\n",
       "    <tr>\n",
       "      <th>26</th>\n",
       "      <td>                    R.Ram</td>\n",
       "      <td>                 T.Haas</td>\n",
       "      <td>          K.De Schepper</td>\n",
       "    </tr>\n",
       "    <tr>\n",
       "      <th>27</th>\n",
       "      <td>      A. Medina Garrigues</td>\n",
       "      <td>           Simona Halep</td>\n",
       "      <td>           Madison Keys</td>\n",
       "    </tr>\n",
       "    <tr>\n",
       "      <th>28</th>\n",
       "      <td>           Vasek Pospisil</td>\n",
       "      <td>          Damir Dzumhur</td>\n",
       "      <td>      Nikolay Davydenko</td>\n",
       "    </tr>\n",
       "    <tr>\n",
       "      <th>29</th>\n",
       "      <td>       Irina-Camelia Begu</td>\n",
       "      <td> Guillermo Garcia-Lopez</td>\n",
       "      <td>      Nikolay Davydenko</td>\n",
       "    </tr>\n",
       "    <tr>\n",
       "      <th>...</th>\n",
       "      <td>...</td>\n",
       "      <td>...</td>\n",
       "      <td>...</td>\n",
       "    </tr>\n",
       "    <tr>\n",
       "      <th>70</th>\n",
       "      <td>            Roger Federer</td>\n",
       "      <td>  Philipp Kohlschreiber</td>\n",
       "      <td>      Nikolay Davydenko</td>\n",
       "    </tr>\n",
       "    <tr>\n",
       "      <th>71</th>\n",
       "      <td>          Alejandro Falla</td>\n",
       "      <td>         Julian Reister</td>\n",
       "      <td>         Julian Reister</td>\n",
       "    </tr>\n",
       "    <tr>\n",
       "      <th>72</th>\n",
       "      <td>         Thiemo de Bakker</td>\n",
       "      <td>          Andrej Martin</td>\n",
       "      <td>      Nikolay Davydenko</td>\n",
       "    </tr>\n",
       "    <tr>\n",
       "      <th>73</th>\n",
       "      <td>                  B.Tomic</td>\n",
       "      <td>            J.Del Potro</td>\n",
       "      <td>            J.Del Potro</td>\n",
       "    </tr>\n",
       "    <tr>\n",
       "      <th>74</th>\n",
       "      <td>            Pablo Andujar</td>\n",
       "      <td>      Alla Kudryavtseva</td>\n",
       "      <td>      Alla Kudryavtseva</td>\n",
       "    </tr>\n",
       "    <tr>\n",
       "      <th>75</th>\n",
       "      <td>               John Isner</td>\n",
       "      <td>  Philipp Kohlschreiber</td>\n",
       "      <td>         Michael Llodra</td>\n",
       "    </tr>\n",
       "    <tr>\n",
       "      <th>76</th>\n",
       "      <td>              Sara Errani</td>\n",
       "      <td>      Victoria Azarenka</td>\n",
       "      <td>        Olga Govortsova</td>\n",
       "    </tr>\n",
       "    <tr>\n",
       "      <th>77</th>\n",
       "      <td>                  D.Brown</td>\n",
       "      <td>          K.De Schepper</td>\n",
       "      <td>              M Barthel</td>\n",
       "    </tr>\n",
       "    <tr>\n",
       "      <th>78</th>\n",
       "      <td>     Mirjana Lucic-Baroni</td>\n",
       "      <td>          Olga Puchkova</td>\n",
       "      <td>             Shuai Peng</td>\n",
       "    </tr>\n",
       "    <tr>\n",
       "      <th>79</th>\n",
       "      <td>         C Suarez Navarro</td>\n",
       "      <td>       C Suarez Navarro</td>\n",
       "      <td>             A Dulgheru</td>\n",
       "    </tr>\n",
       "    <tr>\n",
       "      <th>80</th>\n",
       "      <td>             David Ferrer</td>\n",
       "      <td>           Rafael Nadal</td>\n",
       "      <td>                M.Ebden</td>\n",
       "    </tr>\n",
       "    <tr>\n",
       "      <th>81</th>\n",
       "      <td>              C.Wozniacki</td>\n",
       "      <td>           A.Keothavong</td>\n",
       "      <td>               S.Stosur</td>\n",
       "    </tr>\n",
       "    <tr>\n",
       "      <th>82</th>\n",
       "      <td>        Sergiy Stakhovsky</td>\n",
       "      <td>        Albert Montanes</td>\n",
       "      <td>        Guillaume Rufin</td>\n",
       "    </tr>\n",
       "    <tr>\n",
       "      <th>83</th>\n",
       "      <td>            Bradley Klahn</td>\n",
       "      <td>     Stanislas Wawrinka</td>\n",
       "      <td>           G.Voskoboeva</td>\n",
       "    </tr>\n",
       "    <tr>\n",
       "      <th>84</th>\n",
       "      <td>                   K Nara</td>\n",
       "      <td>               V.Dolonc</td>\n",
       "      <td>            M.Johansson</td>\n",
       "    </tr>\n",
       "    <tr>\n",
       "      <th>85</th>\n",
       "      <td>               J.Janowicz</td>\n",
       "      <td>              T.Berdych</td>\n",
       "      <td>             M.Erakovic</td>\n",
       "    </tr>\n",
       "    <tr>\n",
       "      <th>86</th>\n",
       "      <td>       Alex Bogomolov Jr.</td>\n",
       "      <td>          Florian Mayer</td>\n",
       "      <td>           G.Voskoboeva</td>\n",
       "    </tr>\n",
       "    <tr>\n",
       "      <th>87</th>\n",
       "      <td>       Stanislas Wawrinka</td>\n",
       "      <td>               Go Soeda</td>\n",
       "      <td>        Anna Tatishvili</td>\n",
       "    </tr>\n",
       "    <tr>\n",
       "      <th>88</th>\n",
       "      <td>             Ana Ivanovic</td>\n",
       "      <td>       Yulia Putintseva</td>\n",
       "      <td>       Yulia Putintseva</td>\n",
       "    </tr>\n",
       "    <tr>\n",
       "      <th>89</th>\n",
       "      <td>           Novak Djokovic</td>\n",
       "      <td>      Marcel Granollers</td>\n",
       "      <td>         Julian Reister</td>\n",
       "    </tr>\n",
       "    <tr>\n",
       "      <th>90</th>\n",
       "      <td>           Vera Zvonareva</td>\n",
       "      <td>       Garbine Muguruza</td>\n",
       "      <td>               C Garcia</td>\n",
       "    </tr>\n",
       "    <tr>\n",
       "      <th>91</th>\n",
       "      <td>            Jamie Hampton</td>\n",
       "      <td>           Simona Halep</td>\n",
       "      <td>      Nikolay Davydenko</td>\n",
       "    </tr>\n",
       "    <tr>\n",
       "      <th>92</th>\n",
       "      <td>       Daniela Hantuchova</td>\n",
       "      <td>         Lucie Safarova</td>\n",
       "      <td>      Nikolay Davydenko</td>\n",
       "    </tr>\n",
       "    <tr>\n",
       "      <th>93</th>\n",
       "      <td>          Jarkko Nieminen</td>\n",
       "      <td>      Federico Delbonis</td>\n",
       "      <td>        Guillaume Rufin</td>\n",
       "    </tr>\n",
       "    <tr>\n",
       "      <th>94</th>\n",
       "      <td>          Feliciano Lopez</td>\n",
       "      <td>        Grigor Dimitrov</td>\n",
       "      <td>           Madison Keys</td>\n",
       "    </tr>\n",
       "    <tr>\n",
       "      <th>95</th>\n",
       "      <td>         Mallory Burdette</td>\n",
       "      <td>        Olga Govortsova</td>\n",
       "      <td>        Olga Govortsova</td>\n",
       "    </tr>\n",
       "    <tr>\n",
       "      <th>96</th>\n",
       "      <td>                  J.Konta</td>\n",
       "      <td>               K.Kanepi</td>\n",
       "      <td>      Nikolay Davydenko</td>\n",
       "    </tr>\n",
       "    <tr>\n",
       "      <th>97</th>\n",
       "      <td>               Y.Shvedova</td>\n",
       "      <td>                 M Keys</td>\n",
       "      <td>      Nikolay Davydenko</td>\n",
       "    </tr>\n",
       "    <tr>\n",
       "      <th>98</th>\n",
       "      <td>         Christina McHale</td>\n",
       "      <td>          Julia Goerges</td>\n",
       "      <td>      Nikolay Davydenko</td>\n",
       "    </tr>\n",
       "    <tr>\n",
       "      <th>99</th>\n",
       "      <td>                     N.Li</td>\n",
       "      <td>               V.Dolonc</td>\n",
       "      <td>      Nikolay Davydenko</td>\n",
       "    </tr>\n",
       "  </tbody>\n",
       "</table>\n",
       "<p>100 rows × 3 columns</p>\n",
       "</div>"
      ],
      "text/plain": [
       "              Actual_Player2        Logistic_Player2             Svm_Player2\n",
       "0                   S.Murray              F.Pennetta                 M.Ebden\n",
       "1          Bojana Jovanovski            Ana Ivanovic       Nikolay Davydenko\n",
       "2         Katerina Siniakova       Lara Arruabarrena            Madison Keys\n",
       "3                    D.Kudla                 G.Soeda                 G.Soeda\n",
       "4   Anastasia Pavlyuchenkova             Yen-Hsun Lu       Nikolay Davydenko\n",
       "5                Donna Vekic     Svetlana Kuznetsova              Shuai Peng\n",
       "6                Tim Smyczek      Ekaterina Makarova              Shuai Peng\n",
       "7                  S Lisicki                  M.Keys                C Garcia\n",
       "8                  S.Bolelli          Ernests Gulbis               B.Knittel\n",
       "9            Dmitry Tursunov  Edouard Roger-Vasselin  Edouard Roger-Vasselin\n",
       "10                  C.Garcia            K.Date-Krumm                S.Stosur\n",
       "11             Roger Federer     Alexandr Dolgopolov              I.Sijsling\n",
       "12               James Blake         Caroline Garcia          Julian Reister\n",
       "13            Victor Hanescu       Victoria Azarenka          Michael Llodra\n",
       "14            Victor Hanescu        Virginie Razzano                C Garcia\n",
       "15               Shahar Peer         Olga Govortsova         Olga Govortsova\n",
       "16                F Pennetta              F Pennetta              A.Ivanovic\n",
       "17          Julien Benneteau          Jerzy Janowicz          Julian Reister\n",
       "18        Philipp Petzschner           Florian Mayer            G.Voskoboeva\n",
       "19           James Duckworth         Grigor Dimitrov                 M.Ebden\n",
       "20                John Isner             Sam Querrey                C Garcia\n",
       "21     Bethanie Mattek-Sands            Madison Keys              Shuai Peng\n",
       "22               Sam Querrey    Carla Suarez Navarro       Nikolay Davydenko\n",
       "23                     R.Ram              I.Sijsling              I.Sijsling\n",
       "24                   N.Mahut               T.Berdych                S.Stosur\n",
       "25              Ana Ivanovic         Maria Sharapova              Shuai Peng\n",
       "26                     R.Ram                  T.Haas           K.De Schepper\n",
       "27       A. Medina Garrigues            Simona Halep            Madison Keys\n",
       "28            Vasek Pospisil           Damir Dzumhur       Nikolay Davydenko\n",
       "29        Irina-Camelia Begu  Guillermo Garcia-Lopez       Nikolay Davydenko\n",
       "..                       ...                     ...                     ...\n",
       "70             Roger Federer   Philipp Kohlschreiber       Nikolay Davydenko\n",
       "71           Alejandro Falla          Julian Reister          Julian Reister\n",
       "72          Thiemo de Bakker           Andrej Martin       Nikolay Davydenko\n",
       "73                   B.Tomic             J.Del Potro             J.Del Potro\n",
       "74             Pablo Andujar       Alla Kudryavtseva       Alla Kudryavtseva\n",
       "75                John Isner   Philipp Kohlschreiber          Michael Llodra\n",
       "76               Sara Errani       Victoria Azarenka         Olga Govortsova\n",
       "77                   D.Brown           K.De Schepper               M Barthel\n",
       "78      Mirjana Lucic-Baroni           Olga Puchkova              Shuai Peng\n",
       "79          C Suarez Navarro        C Suarez Navarro              A Dulgheru\n",
       "80              David Ferrer            Rafael Nadal                 M.Ebden\n",
       "81               C.Wozniacki            A.Keothavong                S.Stosur\n",
       "82         Sergiy Stakhovsky         Albert Montanes         Guillaume Rufin\n",
       "83             Bradley Klahn      Stanislas Wawrinka            G.Voskoboeva\n",
       "84                    K Nara                V.Dolonc             M.Johansson\n",
       "85                J.Janowicz               T.Berdych              M.Erakovic\n",
       "86        Alex Bogomolov Jr.           Florian Mayer            G.Voskoboeva\n",
       "87        Stanislas Wawrinka                Go Soeda         Anna Tatishvili\n",
       "88              Ana Ivanovic        Yulia Putintseva        Yulia Putintseva\n",
       "89            Novak Djokovic       Marcel Granollers          Julian Reister\n",
       "90            Vera Zvonareva        Garbine Muguruza                C Garcia\n",
       "91             Jamie Hampton            Simona Halep       Nikolay Davydenko\n",
       "92        Daniela Hantuchova          Lucie Safarova       Nikolay Davydenko\n",
       "93           Jarkko Nieminen       Federico Delbonis         Guillaume Rufin\n",
       "94           Feliciano Lopez         Grigor Dimitrov            Madison Keys\n",
       "95          Mallory Burdette         Olga Govortsova         Olga Govortsova\n",
       "96                   J.Konta                K.Kanepi       Nikolay Davydenko\n",
       "97                Y.Shvedova                  M Keys       Nikolay Davydenko\n",
       "98          Christina McHale           Julia Goerges       Nikolay Davydenko\n",
       "99                      N.Li                V.Dolonc       Nikolay Davydenko\n",
       "\n",
       "[100 rows x 3 columns]"
      ]
     },
     "execution_count": 692,
     "metadata": {},
     "output_type": "execute_result"
    }
   ],
   "source": [
    "results"
   ]
  },
  {
   "cell_type": "code",
   "execution_count": 693,
   "metadata": {
    "collapsed": false
   },
   "outputs": [
    {
     "data": {
      "text/plain": [
       "1"
      ]
     },
     "execution_count": 693,
     "metadata": {},
     "output_type": "execute_result"
    }
   ],
   "source": [
    "#number of correct predictions by svm\n",
    "len(results[results['Actual_Player2'] == results['Svm_Player2']])"
   ]
  },
  {
   "cell_type": "code",
   "execution_count": 694,
   "metadata": {
    "collapsed": false
   },
   "outputs": [
    {
     "data": {
      "text/html": [
       "<div style=\"max-height:1000px;max-width:1500px;overflow:auto;\">\n",
       "<table border=\"1\" class=\"dataframe\">\n",
       "  <thead>\n",
       "    <tr style=\"text-align: right;\">\n",
       "      <th></th>\n",
       "      <th>Actual_Player2</th>\n",
       "      <th>Logistic_Player2</th>\n",
       "      <th>Svm_Player2</th>\n",
       "    </tr>\n",
       "  </thead>\n",
       "  <tbody>\n",
       "    <tr>\n",
       "      <th>46</th>\n",
       "      <td> V Azarenka</td>\n",
       "      <td> E Svitolina</td>\n",
       "      <td> V Azarenka</td>\n",
       "    </tr>\n",
       "  </tbody>\n",
       "</table>\n",
       "</div>"
      ],
      "text/plain": [
       "   Actual_Player2 Logistic_Player2 Svm_Player2\n",
       "46     V Azarenka      E Svitolina  V Azarenka"
      ]
     },
     "execution_count": 694,
     "metadata": {},
     "output_type": "execute_result"
    }
   ],
   "source": [
    "#The players for which it predicted correctly is\n",
    "results[results['Actual_Player2'] == results['Svm_Player2']]"
   ]
  },
  {
   "cell_type": "markdown",
   "metadata": {},
   "source": [
    "Here we see that Logistic alogrithm predicted incorrectly for these players"
   ]
  },
  {
   "cell_type": "code",
   "execution_count": 695,
   "metadata": {
    "collapsed": false
   },
   "outputs": [
    {
     "data": {
      "text/plain": [
       "99"
      ]
     },
     "execution_count": 695,
     "metadata": {},
     "output_type": "execute_result"
    }
   ],
   "source": [
    "#number of incorrect predictions by svm\n",
    "len(results[results['Actual_Player2'] != results['Svm_Player2']])"
   ]
  },
  {
   "cell_type": "markdown",
   "metadata": {},
   "source": [
    "# Lets try SVM with RBF kernel now"
   ]
  },
  {
   "cell_type": "code",
   "execution_count": 696,
   "metadata": {
    "collapsed": true
   },
   "outputs": [],
   "source": [
    "svm_clf = svm.SVC(kernel='rbf')"
   ]
  },
  {
   "cell_type": "code",
   "execution_count": 697,
   "metadata": {
    "collapsed": false
   },
   "outputs": [
    {
     "data": {
      "text/plain": [
       "SVC(C=1.0, cache_size=200, class_weight=None, coef0=0.0, degree=3, gamma=0.0,\n",
       "  kernel='rbf', max_iter=-1, probability=False, random_state=None,\n",
       "  shrinking=True, tol=0.001, verbose=False)"
      ]
     },
     "execution_count": 697,
     "metadata": {},
     "output_type": "execute_result"
    }
   ],
   "source": [
    "svm_clf.fit(data_x, data_y)"
   ]
  },
  {
   "cell_type": "code",
   "execution_count": 698,
   "metadata": {
    "collapsed": true
   },
   "outputs": [],
   "source": [
    "#predict the result on test_data now\n",
    "predicted_results = svm_clf.predict(test_data_x)"
   ]
  },
  {
   "cell_type": "code",
   "execution_count": 699,
   "metadata": {
    "collapsed": true
   },
   "outputs": [],
   "source": [
    "#Lets fit the predicted results in the results data frame\n",
    "results['Svm_Player2'] = names_fit.inverse_transform(predicted_results[:])"
   ]
  },
  {
   "cell_type": "code",
   "execution_count": 700,
   "metadata": {
    "collapsed": false
   },
   "outputs": [
    {
     "data": {
      "text/html": [
       "<div style=\"max-height:1000px;max-width:1500px;overflow:auto;\">\n",
       "<table border=\"1\" class=\"dataframe\">\n",
       "  <thead>\n",
       "    <tr style=\"text-align: right;\">\n",
       "      <th></th>\n",
       "      <th>Actual_Player2</th>\n",
       "      <th>Logistic_Player2</th>\n",
       "      <th>Svm_Player2</th>\n",
       "    </tr>\n",
       "  </thead>\n",
       "  <tbody>\n",
       "    <tr>\n",
       "      <th>34</th>\n",
       "      <td> David Ferrer</td>\n",
       "      <td> Mikhail Youzhny</td>\n",
       "      <td> David Ferrer</td>\n",
       "    </tr>\n",
       "    <tr>\n",
       "      <th>80</th>\n",
       "      <td> David Ferrer</td>\n",
       "      <td>    Rafael Nadal</td>\n",
       "      <td> David Ferrer</td>\n",
       "    </tr>\n",
       "  </tbody>\n",
       "</table>\n",
       "</div>"
      ],
      "text/plain": [
       "   Actual_Player2 Logistic_Player2   Svm_Player2\n",
       "34   David Ferrer  Mikhail Youzhny  David Ferrer\n",
       "80   David Ferrer     Rafael Nadal  David Ferrer"
      ]
     },
     "execution_count": 700,
     "metadata": {},
     "output_type": "execute_result"
    }
   ],
   "source": [
    "#The players for which it predicted correctly is\n",
    "results[results['Actual_Player2'] == results['Svm_Player2']]"
   ]
  },
  {
   "cell_type": "code",
   "execution_count": 701,
   "metadata": {
    "collapsed": false
   },
   "outputs": [
    {
     "data": {
      "text/plain": [
       "2"
      ]
     },
     "execution_count": 701,
     "metadata": {},
     "output_type": "execute_result"
    }
   ],
   "source": [
    "#Number of correct predictions\n",
    "len(results[results['Actual_Player2'] == results['Svm_Player2']])"
   ]
  },
  {
   "cell_type": "code",
   "execution_count": 702,
   "metadata": {
    "collapsed": false
   },
   "outputs": [
    {
     "data": {
      "text/plain": [
       "98"
      ]
     },
     "execution_count": 702,
     "metadata": {},
     "output_type": "execute_result"
    }
   ],
   "source": [
    "#Number of incorrect predictions\n",
    "len(results[results['Actual_Player2'] != results['Svm_Player2']])"
   ]
  },
  {
   "cell_type": "code",
   "execution_count": 703,
   "metadata": {
    "collapsed": true
   },
   "outputs": [],
   "source": [
    "from sklearn.ensemble import RandomForestClassifier"
   ]
  },
  {
   "cell_type": "code",
   "execution_count": 704,
   "metadata": {
    "collapsed": true
   },
   "outputs": [],
   "source": [
    "forest_clf = RandomForestClassifier(n_estimators=200)"
   ]
  },
  {
   "cell_type": "code",
   "execution_count": 705,
   "metadata": {
    "collapsed": false
   },
   "outputs": [
    {
     "data": {
      "text/plain": [
       "RandomForestClassifier(bootstrap=True, compute_importances=None,\n",
       "            criterion='gini', max_depth=None, max_features='auto',\n",
       "            max_leaf_nodes=None, min_density=None, min_samples_leaf=1,\n",
       "            min_samples_split=2, n_estimators=200, n_jobs=1,\n",
       "            oob_score=False, random_state=None, verbose=0)"
      ]
     },
     "execution_count": 705,
     "metadata": {},
     "output_type": "execute_result"
    }
   ],
   "source": [
    "forest_clf.fit(data_x, data_y)"
   ]
  },
  {
   "cell_type": "code",
   "execution_count": 706,
   "metadata": {
    "collapsed": true
   },
   "outputs": [],
   "source": [
    "predicted_results = forest_clf.predict(test_data_x)"
   ]
  },
  {
   "cell_type": "code",
   "execution_count": 707,
   "metadata": {
    "collapsed": true
   },
   "outputs": [],
   "source": [
    "#Lets fit the predicted results in the results data frame\n",
    "results['Forest_Player2'] = names_fit.inverse_transform(predicted_results[:])"
   ]
  },
  {
   "cell_type": "code",
   "execution_count": 708,
   "metadata": {
    "collapsed": false
   },
   "outputs": [
    {
     "data": {
      "text/plain": [
       "3"
      ]
     },
     "execution_count": 708,
     "metadata": {},
     "output_type": "execute_result"
    }
   ],
   "source": [
    "#Number of correct predictions\n",
    "len(results[results['Actual_Player2'] == results['Forest_Player2']])"
   ]
  },
  {
   "cell_type": "code",
   "execution_count": 709,
   "metadata": {
    "collapsed": false
   },
   "outputs": [
    {
     "data": {
      "text/plain": [
       "97"
      ]
     },
     "execution_count": 709,
     "metadata": {},
     "output_type": "execute_result"
    }
   ],
   "source": [
    "#Number of incorrect predictions\n",
    "len(results[results['Actual_Player2'] != results['Forest_Player2']])"
   ]
  },
  {
   "cell_type": "code",
   "execution_count": null,
   "metadata": {
    "collapsed": true
   },
   "outputs": [],
   "source": []
  }
 ],
 "metadata": {
  "kernelspec": {
   "display_name": "Python 2",
   "language": "python",
   "name": "python2"
  },
  "language_info": {
   "codemirror_mode": {
    "name": "ipython",
    "version": 2
   },
   "file_extension": ".py",
   "mimetype": "text/x-python",
   "name": "python",
   "nbconvert_exporter": "python",
   "pygments_lexer": "ipython2",
   "version": "2.7.9"
  }
 },
 "nbformat": 4,
 "nbformat_minor": 0
}
