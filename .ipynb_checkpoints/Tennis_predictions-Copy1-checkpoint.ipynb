{
 "cells": [
  {
   "cell_type": "markdown",
   "metadata": {},
   "source": [
    "# This procedure does some machine learning tasks on the UCI Tennis data. The data is stored in the form of CSV files in current folder. We will use python to implement machine learning."
   ]
  },
  {
   "cell_type": "code",
   "execution_count": 425,
   "metadata": {
    "collapsed": true
   },
   "outputs": [],
   "source": [
    "#Lets load os module to fine the files present in the directory\n",
    "import os"
   ]
  },
  {
   "cell_type": "markdown",
   "metadata": {},
   "source": [
    "Our csv files are in the data folder. So let's see the files first"
   ]
  },
  {
   "cell_type": "code",
   "execution_count": 426,
   "metadata": {
    "collapsed": true
   },
   "outputs": [],
   "source": [
    "data_files_path = 'data/'\n",
    "data_files = os.listdir(data_files_path)"
   ]
  },
  {
   "cell_type": "code",
   "execution_count": 427,
   "metadata": {
    "collapsed": false
   },
   "outputs": [
    {
     "name": "stdout",
     "output_type": "stream",
     "text": [
      "['Wimbledon-women-2013.csv', 'FrenchOpen-women-2013.csv', 'AusOpen-men-2013.csv', 'FrenchOpen-men-2013.csv', 'Wimbledon-men-2013.csv', 'AusOpen-women-2013.csv', 'USOpen-women-2013.csv', 'USOpen-men-2013.csv']\n"
     ]
    }
   ],
   "source": [
    "print data_files"
   ]
  },
  {
   "cell_type": "markdown",
   "metadata": {},
   "source": [
    "Now lets load the data from the files. We will use pandas module to load the data."
   ]
  },
  {
   "cell_type": "code",
   "execution_count": 428,
   "metadata": {
    "collapsed": true
   },
   "outputs": [],
   "source": [
    "import pandas as pd\n",
    "input_data = pd.read_csv(data_files_path + data_files[0]);"
   ]
  },
  {
   "cell_type": "markdown",
   "metadata": {},
   "source": [
    "Now lets see how does the data looks. Lets see first 5 rows of the data."
   ]
  },
  {
   "cell_type": "code",
   "execution_count": 429,
   "metadata": {
    "collapsed": false
   },
   "outputs": [
    {
     "data": {
      "text/html": [
       "<div style=\"max-height:1000px;max-width:1500px;overflow:auto;\">\n",
       "<table border=\"1\" class=\"dataframe\">\n",
       "  <thead>\n",
       "    <tr style=\"text-align: right;\">\n",
       "      <th></th>\n",
       "      <th>Player1</th>\n",
       "      <th>Player2</th>\n",
       "      <th>Round</th>\n",
       "      <th>Result</th>\n",
       "      <th>FNL.1</th>\n",
       "      <th>FNL.2</th>\n",
       "      <th>FSP.1</th>\n",
       "      <th>FSW.1</th>\n",
       "      <th>SSP.1</th>\n",
       "      <th>SSW.1</th>\n",
       "      <th>...</th>\n",
       "      <th>BPC.2</th>\n",
       "      <th>BPW.2</th>\n",
       "      <th>NPA.2</th>\n",
       "      <th>NPW.2</th>\n",
       "      <th>TPW.2</th>\n",
       "      <th>ST1.2</th>\n",
       "      <th>ST2.2</th>\n",
       "      <th>ST3.2</th>\n",
       "      <th>ST4.2</th>\n",
       "      <th>ST5.2</th>\n",
       "    </tr>\n",
       "  </thead>\n",
       "  <tbody>\n",
       "    <tr>\n",
       "      <th>0</th>\n",
       "      <td>    M.Koehler</td>\n",
       "      <td> V.Azarenka</td>\n",
       "      <td> 1</td>\n",
       "      <td> 0</td>\n",
       "      <td> 0</td>\n",
       "      <td> 2</td>\n",
       "      <td> 60</td>\n",
       "      <td> 21</td>\n",
       "      <td> 40</td>\n",
       "      <td>  8</td>\n",
       "      <td>...</td>\n",
       "      <td> 16</td>\n",
       "      <td> 6</td>\n",
       "      <td>  8</td>\n",
       "      <td>  4</td>\n",
       "      <td>NaN</td>\n",
       "      <td> 6</td>\n",
       "      <td> 6</td>\n",
       "      <td>NaN</td>\n",
       "      <td>NaN</td>\n",
       "      <td>NaN</td>\n",
       "    </tr>\n",
       "    <tr>\n",
       "      <th>1</th>\n",
       "      <td>   E.Baltacha</td>\n",
       "      <td> F.Pennetta</td>\n",
       "      <td> 1</td>\n",
       "      <td> 0</td>\n",
       "      <td> 0</td>\n",
       "      <td> 2</td>\n",
       "      <td> 69</td>\n",
       "      <td> 23</td>\n",
       "      <td> 31</td>\n",
       "      <td>  6</td>\n",
       "      <td>...</td>\n",
       "      <td>  6</td>\n",
       "      <td> 5</td>\n",
       "      <td> 14</td>\n",
       "      <td> 11</td>\n",
       "      <td>NaN</td>\n",
       "      <td> 6</td>\n",
       "      <td> 6</td>\n",
       "      <td>NaN</td>\n",
       "      <td>NaN</td>\n",
       "      <td>NaN</td>\n",
       "    </tr>\n",
       "    <tr>\n",
       "      <th>2</th>\n",
       "      <td>    S-W.Hsieh</td>\n",
       "      <td>    T.Maria</td>\n",
       "      <td> 1</td>\n",
       "      <td> 1</td>\n",
       "      <td> 2</td>\n",
       "      <td> 0</td>\n",
       "      <td> 63</td>\n",
       "      <td> 17</td>\n",
       "      <td> 37</td>\n",
       "      <td> 10</td>\n",
       "      <td>...</td>\n",
       "      <td>  1</td>\n",
       "      <td> 0</td>\n",
       "      <td>  8</td>\n",
       "      <td>  2</td>\n",
       "      <td>NaN</td>\n",
       "      <td> 1</td>\n",
       "      <td> 0</td>\n",
       "      <td>NaN</td>\n",
       "      <td>NaN</td>\n",
       "      <td>NaN</td>\n",
       "    </tr>\n",
       "    <tr>\n",
       "      <th>3</th>\n",
       "      <td>     A.Cornet</td>\n",
       "      <td>     V.King</td>\n",
       "      <td> 1</td>\n",
       "      <td> 1</td>\n",
       "      <td> 2</td>\n",
       "      <td> 1</td>\n",
       "      <td> 57</td>\n",
       "      <td> 36</td>\n",
       "      <td> 43</td>\n",
       "      <td> 21</td>\n",
       "      <td>...</td>\n",
       "      <td>  4</td>\n",
       "      <td> 1</td>\n",
       "      <td> 48</td>\n",
       "      <td> 32</td>\n",
       "      <td>NaN</td>\n",
       "      <td> 6</td>\n",
       "      <td> 3</td>\n",
       "      <td>  1</td>\n",
       "      <td>NaN</td>\n",
       "      <td>NaN</td>\n",
       "    </tr>\n",
       "    <tr>\n",
       "      <th>4</th>\n",
       "      <td> Y.Putintseva</td>\n",
       "      <td> K.Flipkens</td>\n",
       "      <td> 1</td>\n",
       "      <td> 0</td>\n",
       "      <td> 0</td>\n",
       "      <td> 2</td>\n",
       "      <td> 73</td>\n",
       "      <td> 34</td>\n",
       "      <td> 27</td>\n",
       "      <td> 12</td>\n",
       "      <td>...</td>\n",
       "      <td>  9</td>\n",
       "      <td> 3</td>\n",
       "      <td> 35</td>\n",
       "      <td> 24</td>\n",
       "      <td>NaN</td>\n",
       "      <td> 7</td>\n",
       "      <td> 6</td>\n",
       "      <td>NaN</td>\n",
       "      <td>NaN</td>\n",
       "      <td>NaN</td>\n",
       "    </tr>\n",
       "  </tbody>\n",
       "</table>\n",
       "<p>5 rows × 42 columns</p>\n",
       "</div>"
      ],
      "text/plain": [
       "        Player1     Player2  Round  Result  FNL.1  FNL.2  FSP.1  FSW.1  SSP.1  \\\n",
       "0     M.Koehler  V.Azarenka      1       0      0      2     60     21     40   \n",
       "1    E.Baltacha  F.Pennetta      1       0      0      2     69     23     31   \n",
       "2     S-W.Hsieh     T.Maria      1       1      2      0     63     17     37   \n",
       "3      A.Cornet      V.King      1       1      2      1     57     36     43   \n",
       "4  Y.Putintseva  K.Flipkens      1       0      0      2     73     34     27   \n",
       "\n",
       "   SSW.1  ...    BPC.2  BPW.2  NPA.2  NPW.2  TPW.2  ST1.2  ST2.2  ST3.2  \\\n",
       "0      8  ...       16      6      8      4    NaN      6      6    NaN   \n",
       "1      6  ...        6      5     14     11    NaN      6      6    NaN   \n",
       "2     10  ...        1      0      8      2    NaN      1      0    NaN   \n",
       "3     21  ...        4      1     48     32    NaN      6      3      1   \n",
       "4     12  ...        9      3     35     24    NaN      7      6    NaN   \n",
       "\n",
       "   ST4.2  ST5.2  \n",
       "0    NaN    NaN  \n",
       "1    NaN    NaN  \n",
       "2    NaN    NaN  \n",
       "3    NaN    NaN  \n",
       "4    NaN    NaN  \n",
       "\n",
       "[5 rows x 42 columns]"
      ]
     },
     "execution_count": 429,
     "metadata": {},
     "output_type": "execute_result"
    }
   ],
   "source": [
    "input_data[:5]"
   ]
  },
  {
   "cell_type": "markdown",
   "metadata": {},
   "source": [
    "Lets see the Player1 column for first 5 rows"
   ]
  },
  {
   "cell_type": "code",
   "execution_count": 430,
   "metadata": {
    "collapsed": false
   },
   "outputs": [
    {
     "data": {
      "text/plain": [
       "0       M.Koehler\n",
       "1      E.Baltacha\n",
       "2       S-W.Hsieh\n",
       "3        A.Cornet\n",
       "4    Y.Putintseva\n",
       "Name: Player1, dtype: object"
      ]
     },
     "execution_count": 430,
     "metadata": {},
     "output_type": "execute_result"
    }
   ],
   "source": [
    "input_data['Player1'][:5]"
   ]
  },
  {
   "cell_type": "markdown",
   "metadata": {},
   "source": [
    "Now lets make a function to load data from all the data files."
   ]
  },
  {
   "cell_type": "code",
   "execution_count": 431,
   "metadata": {
    "collapsed": true
   },
   "outputs": [],
   "source": [
    "def load_data(data_files):\n",
    "    input_data = None;\n",
    "    input_data_initialized = False; # to check the state of input_data variable\n",
    "    for file_name in data_files:\n",
    "        print 'Reading from file ' + file_name\n",
    "        if not input_data_initialized:\n",
    "            #Initialize the input_data\n",
    "            data = pd.read_csv(data_files_path + file_name);\n",
    "            input_data = data;\n",
    "            input_data_initialized = True;\n",
    "        else:\n",
    "            #Store the data into data variable\n",
    "            data = pd.read_csv(data_files_path + file_name);\n",
    "            #Append the data into input_data\n",
    "            input_data = input_data.append(data);\n",
    "    return input_data;"
   ]
  },
  {
   "cell_type": "code",
   "execution_count": 432,
   "metadata": {
    "collapsed": false
   },
   "outputs": [
    {
     "name": "stdout",
     "output_type": "stream",
     "text": [
      "Reading from file Wimbledon-women-2013.csv\n",
      "Reading from file FrenchOpen-women-2013.csv\n",
      "Reading from file AusOpen-men-2013.csv\n",
      "Reading from file FrenchOpen-men-2013.csv\n",
      "Reading from file Wimbledon-men-2013.csv\n",
      "Reading from file AusOpen-women-2013.csv\n",
      "Reading from file USOpen-women-2013.csv\n",
      "Reading from file USOpen-men-2013.csv\n"
     ]
    }
   ],
   "source": [
    "#Lets load data from all the files\n",
    "input_data = load_data(data_files);"
   ]
  },
  {
   "cell_type": "markdown",
   "metadata": {},
   "source": [
    "Lets check the size of data"
   ]
  },
  {
   "cell_type": "code",
   "execution_count": 433,
   "metadata": {
    "collapsed": false
   },
   "outputs": [
    {
     "data": {
      "text/plain": [
       "(943, 42)"
      ]
     },
     "execution_count": 433,
     "metadata": {},
     "output_type": "execute_result"
    }
   ],
   "source": [
    "input_data.shape"
   ]
  },
  {
   "cell_type": "markdown",
   "metadata": {},
   "source": [
    "This means the input_data have 943 rows and 42 columns"
   ]
  },
  {
   "cell_type": "markdown",
   "metadata": {},
   "source": [
    "Lets see first 5 rows of input_data"
   ]
  },
  {
   "cell_type": "code",
   "execution_count": 434,
   "metadata": {
    "collapsed": false
   },
   "outputs": [
    {
     "data": {
      "text/html": [
       "<div style=\"max-height:1000px;max-width:1500px;overflow:auto;\">\n",
       "<table border=\"1\" class=\"dataframe\">\n",
       "  <thead>\n",
       "    <tr style=\"text-align: right;\">\n",
       "      <th></th>\n",
       "      <th>Player1</th>\n",
       "      <th>Player2</th>\n",
       "      <th>Round</th>\n",
       "      <th>Result</th>\n",
       "      <th>FNL.1</th>\n",
       "      <th>FNL.2</th>\n",
       "      <th>FSP.1</th>\n",
       "      <th>FSW.1</th>\n",
       "      <th>SSP.1</th>\n",
       "      <th>SSW.1</th>\n",
       "      <th>...</th>\n",
       "      <th>BPC.2</th>\n",
       "      <th>BPW.2</th>\n",
       "      <th>NPA.2</th>\n",
       "      <th>NPW.2</th>\n",
       "      <th>TPW.2</th>\n",
       "      <th>ST1.2</th>\n",
       "      <th>ST2.2</th>\n",
       "      <th>ST3.2</th>\n",
       "      <th>ST4.2</th>\n",
       "      <th>ST5.2</th>\n",
       "    </tr>\n",
       "  </thead>\n",
       "  <tbody>\n",
       "    <tr>\n",
       "      <th>0</th>\n",
       "      <td>    M.Koehler</td>\n",
       "      <td> V.Azarenka</td>\n",
       "      <td> 1</td>\n",
       "      <td> 0</td>\n",
       "      <td> 0</td>\n",
       "      <td> 2</td>\n",
       "      <td> 60</td>\n",
       "      <td> 21</td>\n",
       "      <td> 40</td>\n",
       "      <td>  8</td>\n",
       "      <td>...</td>\n",
       "      <td> 16</td>\n",
       "      <td> 6</td>\n",
       "      <td>  8</td>\n",
       "      <td>  4</td>\n",
       "      <td>NaN</td>\n",
       "      <td> 6</td>\n",
       "      <td> 6</td>\n",
       "      <td>NaN</td>\n",
       "      <td>NaN</td>\n",
       "      <td>NaN</td>\n",
       "    </tr>\n",
       "    <tr>\n",
       "      <th>1</th>\n",
       "      <td>   E.Baltacha</td>\n",
       "      <td> F.Pennetta</td>\n",
       "      <td> 1</td>\n",
       "      <td> 0</td>\n",
       "      <td> 0</td>\n",
       "      <td> 2</td>\n",
       "      <td> 69</td>\n",
       "      <td> 23</td>\n",
       "      <td> 31</td>\n",
       "      <td>  6</td>\n",
       "      <td>...</td>\n",
       "      <td>  6</td>\n",
       "      <td> 5</td>\n",
       "      <td> 14</td>\n",
       "      <td> 11</td>\n",
       "      <td>NaN</td>\n",
       "      <td> 6</td>\n",
       "      <td> 6</td>\n",
       "      <td>NaN</td>\n",
       "      <td>NaN</td>\n",
       "      <td>NaN</td>\n",
       "    </tr>\n",
       "    <tr>\n",
       "      <th>2</th>\n",
       "      <td>    S-W.Hsieh</td>\n",
       "      <td>    T.Maria</td>\n",
       "      <td> 1</td>\n",
       "      <td> 1</td>\n",
       "      <td> 2</td>\n",
       "      <td> 0</td>\n",
       "      <td> 63</td>\n",
       "      <td> 17</td>\n",
       "      <td> 37</td>\n",
       "      <td> 10</td>\n",
       "      <td>...</td>\n",
       "      <td>  1</td>\n",
       "      <td> 0</td>\n",
       "      <td>  8</td>\n",
       "      <td>  2</td>\n",
       "      <td>NaN</td>\n",
       "      <td> 1</td>\n",
       "      <td> 0</td>\n",
       "      <td>NaN</td>\n",
       "      <td>NaN</td>\n",
       "      <td>NaN</td>\n",
       "    </tr>\n",
       "    <tr>\n",
       "      <th>3</th>\n",
       "      <td>     A.Cornet</td>\n",
       "      <td>     V.King</td>\n",
       "      <td> 1</td>\n",
       "      <td> 1</td>\n",
       "      <td> 2</td>\n",
       "      <td> 1</td>\n",
       "      <td> 57</td>\n",
       "      <td> 36</td>\n",
       "      <td> 43</td>\n",
       "      <td> 21</td>\n",
       "      <td>...</td>\n",
       "      <td>  4</td>\n",
       "      <td> 1</td>\n",
       "      <td> 48</td>\n",
       "      <td> 32</td>\n",
       "      <td>NaN</td>\n",
       "      <td> 6</td>\n",
       "      <td> 3</td>\n",
       "      <td>  1</td>\n",
       "      <td>NaN</td>\n",
       "      <td>NaN</td>\n",
       "    </tr>\n",
       "    <tr>\n",
       "      <th>4</th>\n",
       "      <td> Y.Putintseva</td>\n",
       "      <td> K.Flipkens</td>\n",
       "      <td> 1</td>\n",
       "      <td> 0</td>\n",
       "      <td> 0</td>\n",
       "      <td> 2</td>\n",
       "      <td> 73</td>\n",
       "      <td> 34</td>\n",
       "      <td> 27</td>\n",
       "      <td> 12</td>\n",
       "      <td>...</td>\n",
       "      <td>  9</td>\n",
       "      <td> 3</td>\n",
       "      <td> 35</td>\n",
       "      <td> 24</td>\n",
       "      <td>NaN</td>\n",
       "      <td> 7</td>\n",
       "      <td> 6</td>\n",
       "      <td>NaN</td>\n",
       "      <td>NaN</td>\n",
       "      <td>NaN</td>\n",
       "    </tr>\n",
       "  </tbody>\n",
       "</table>\n",
       "<p>5 rows × 42 columns</p>\n",
       "</div>"
      ],
      "text/plain": [
       "        Player1     Player2  Round  Result  FNL.1  FNL.2  FSP.1  FSW.1  SSP.1  \\\n",
       "0     M.Koehler  V.Azarenka      1       0      0      2     60     21     40   \n",
       "1    E.Baltacha  F.Pennetta      1       0      0      2     69     23     31   \n",
       "2     S-W.Hsieh     T.Maria      1       1      2      0     63     17     37   \n",
       "3      A.Cornet      V.King      1       1      2      1     57     36     43   \n",
       "4  Y.Putintseva  K.Flipkens      1       0      0      2     73     34     27   \n",
       "\n",
       "   SSW.1  ...    BPC.2  BPW.2  NPA.2  NPW.2  TPW.2  ST1.2  ST2.2  ST3.2  \\\n",
       "0      8  ...       16      6      8      4    NaN      6      6    NaN   \n",
       "1      6  ...        6      5     14     11    NaN      6      6    NaN   \n",
       "2     10  ...        1      0      8      2    NaN      1      0    NaN   \n",
       "3     21  ...        4      1     48     32    NaN      6      3      1   \n",
       "4     12  ...        9      3     35     24    NaN      7      6    NaN   \n",
       "\n",
       "   ST4.2  ST5.2  \n",
       "0    NaN    NaN  \n",
       "1    NaN    NaN  \n",
       "2    NaN    NaN  \n",
       "3    NaN    NaN  \n",
       "4    NaN    NaN  \n",
       "\n",
       "[5 rows x 42 columns]"
      ]
     },
     "execution_count": 434,
     "metadata": {},
     "output_type": "execute_result"
    }
   ],
   "source": [
    "input_data[:5]"
   ]
  },
  {
   "cell_type": "markdown",
   "metadata": {},
   "source": [
    "Lets read all the player names"
   ]
  },
  {
   "cell_type": "code",
   "execution_count": 435,
   "metadata": {
    "collapsed": true
   },
   "outputs": [],
   "source": [
    "player_names = input_data['Player1'].copy();\n",
    "player_names = player_names.append(input_data['Player2']);"
   ]
  },
  {
   "cell_type": "code",
   "execution_count": 436,
   "metadata": {
    "collapsed": false
   },
   "outputs": [
    {
     "data": {
      "text/plain": [
       "0       M.Koehler\n",
       "1      E.Baltacha\n",
       "2       S-W.Hsieh\n",
       "3        A.Cornet\n",
       "4    Y.Putintseva\n",
       "dtype: object"
      ]
     },
     "execution_count": 436,
     "metadata": {},
     "output_type": "execute_result"
    }
   ],
   "source": [
    "player_names[:5]"
   ]
  },
  {
   "cell_type": "markdown",
   "metadata": {},
   "source": [
    "We need to divide the data into two parts. One to train the learning algorithms, and other part to test the algorithms. We will select 100 rows randomaly for test data."
   ]
  },
  {
   "cell_type": "code",
   "execution_count": 437,
   "metadata": {
    "collapsed": false
   },
   "outputs": [],
   "source": [
    "import numpy as np\n",
    "#Lets randomize the rows in input_data\n",
    "input_data = input_data.take(np.random.permutation(len(input_data))[:])\n",
    "#Lets take first 100 rows now\n",
    "test_data = input_data[:100].copy();\n",
    "input_data = input_data[100:-1];"
   ]
  },
  {
   "cell_type": "markdown",
   "metadata": {},
   "source": [
    "Test data looks like:"
   ]
  },
  {
   "cell_type": "code",
   "execution_count": 438,
   "metadata": {
    "collapsed": false
   },
   "outputs": [
    {
     "data": {
      "text/plain": [
       "(100, 42)"
      ]
     },
     "execution_count": 438,
     "metadata": {},
     "output_type": "execute_result"
    }
   ],
   "source": [
    "test_data.shape"
   ]
  },
  {
   "cell_type": "code",
   "execution_count": 439,
   "metadata": {
    "collapsed": false
   },
   "outputs": [
    {
     "data": {
      "text/plain": [
       "(842, 42)"
      ]
     },
     "execution_count": 439,
     "metadata": {},
     "output_type": "execute_result"
    }
   ],
   "source": [
    "input_data.shape"
   ]
  },
  {
   "cell_type": "markdown",
   "metadata": {},
   "source": [
    "The Result column have results of all the matches. \n",
    "The result is 1 if Player1 won the match, it is zero if Player2 won the match. We will be feeding all this data to learning algorithm. The algorithm accepts numeric values only. So we need to convert the player names into numeric values. We will be identifying each player with a unique number. To do so lets import preprocessing module of sklearn, and use the label encoder availabel in it. "
   ]
  },
  {
   "cell_type": "code",
   "execution_count": 440,
   "metadata": {
    "collapsed": true
   },
   "outputs": [],
   "source": [
    "from sklearn import preprocessing\n",
    "label_encoder = preprocessing.LabelEncoder()"
   ]
  },
  {
   "cell_type": "markdown",
   "metadata": {},
   "source": [
    "Now lets transform the names into numeric values"
   ]
  },
  {
   "cell_type": "code",
   "execution_count": 441,
   "metadata": {
    "collapsed": false,
    "scrolled": true
   },
   "outputs": [],
   "source": [
    "names_fit = label_encoder.fit(player_names)\n",
    "input_data['Player1'] = names_fit.transform(input_data['Player1']);\n",
    "input_data['Player2'] = names_fit.transform(input_data['Player2']);\n",
    "\n",
    "test_data['Player1'] = names_fit.transform(test_data['Player1']);\n",
    "test_data['Player2'] = names_fit.transform(test_data['Player2']);"
   ]
  },
  {
   "cell_type": "code",
   "execution_count": 442,
   "metadata": {
    "collapsed": false
   },
   "outputs": [
    {
     "data": {
      "text/html": [
       "<div style=\"max-height:1000px;max-width:1500px;overflow:auto;\">\n",
       "<table border=\"1\" class=\"dataframe\">\n",
       "  <thead>\n",
       "    <tr style=\"text-align: right;\">\n",
       "      <th></th>\n",
       "      <th>Player1</th>\n",
       "      <th>Player2</th>\n",
       "    </tr>\n",
       "  </thead>\n",
       "  <tbody>\n",
       "    <tr>\n",
       "      <th>93 </th>\n",
       "      <td>  70</td>\n",
       "      <td> 163</td>\n",
       "    </tr>\n",
       "    <tr>\n",
       "      <th>28 </th>\n",
       "      <td> 171</td>\n",
       "      <td> 630</td>\n",
       "    </tr>\n",
       "    <tr>\n",
       "      <th>67 </th>\n",
       "      <td>  79</td>\n",
       "      <td>  62</td>\n",
       "    </tr>\n",
       "    <tr>\n",
       "      <th>121</th>\n",
       "      <td> 458</td>\n",
       "      <td> 201</td>\n",
       "    </tr>\n",
       "    <tr>\n",
       "      <th>122</th>\n",
       "      <td>  45</td>\n",
       "      <td> 567</td>\n",
       "    </tr>\n",
       "  </tbody>\n",
       "</table>\n",
       "</div>"
      ],
      "text/plain": [
       "     Player1  Player2\n",
       "93        70      163\n",
       "28       171      630\n",
       "67        79       62\n",
       "121      458      201\n",
       "122       45      567"
      ]
     },
     "execution_count": 442,
     "metadata": {},
     "output_type": "execute_result"
    }
   ],
   "source": [
    "input_data[['Player1', 'Player2']][:5]"
   ]
  },
  {
   "cell_type": "code",
   "execution_count": 443,
   "metadata": {
    "collapsed": false
   },
   "outputs": [
    {
     "data": {
      "text/html": [
       "<div style=\"max-height:1000px;max-width:1500px;overflow:auto;\">\n",
       "<table border=\"1\" class=\"dataframe\">\n",
       "  <thead>\n",
       "    <tr style=\"text-align: right;\">\n",
       "      <th></th>\n",
       "      <th>Player1</th>\n",
       "      <th>Player2</th>\n",
       "    </tr>\n",
       "  </thead>\n",
       "  <tbody>\n",
       "    <tr>\n",
       "      <th>7 </th>\n",
       "      <td> 162</td>\n",
       "      <td> 363</td>\n",
       "    </tr>\n",
       "    <tr>\n",
       "      <th>99</th>\n",
       "      <td> 414</td>\n",
       "      <td>  31</td>\n",
       "    </tr>\n",
       "    <tr>\n",
       "      <th>7 </th>\n",
       "      <td> 334</td>\n",
       "      <td>  62</td>\n",
       "    </tr>\n",
       "    <tr>\n",
       "      <th>96</th>\n",
       "      <td> 156</td>\n",
       "      <td> 466</td>\n",
       "    </tr>\n",
       "    <tr>\n",
       "      <th>84</th>\n",
       "      <td> 433</td>\n",
       "      <td>  62</td>\n",
       "    </tr>\n",
       "  </tbody>\n",
       "</table>\n",
       "</div>"
      ],
      "text/plain": [
       "    Player1  Player2\n",
       "7       162      363\n",
       "99      414       31\n",
       "7       334       62\n",
       "96      156      466\n",
       "84      433       62"
      ]
     },
     "execution_count": 443,
     "metadata": {},
     "output_type": "execute_result"
    }
   ],
   "source": [
    "test_data[['Player1', 'Player2']][:5]"
   ]
  },
  {
   "cell_type": "markdown",
   "metadata": {},
   "source": [
    "And the input_data looks like:"
   ]
  },
  {
   "cell_type": "code",
   "execution_count": 444,
   "metadata": {
    "collapsed": false
   },
   "outputs": [
    {
     "data": {
      "text/html": [
       "<div style=\"max-height:1000px;max-width:1500px;overflow:auto;\">\n",
       "<table border=\"1\" class=\"dataframe\">\n",
       "  <thead>\n",
       "    <tr style=\"text-align: right;\">\n",
       "      <th></th>\n",
       "      <th>Player1</th>\n",
       "      <th>Player2</th>\n",
       "      <th>Round</th>\n",
       "      <th>Result</th>\n",
       "      <th>FNL.1</th>\n",
       "      <th>FNL.2</th>\n",
       "      <th>FSP.1</th>\n",
       "      <th>FSW.1</th>\n",
       "      <th>SSP.1</th>\n",
       "      <th>SSW.1</th>\n",
       "      <th>...</th>\n",
       "      <th>BPC.2</th>\n",
       "      <th>BPW.2</th>\n",
       "      <th>NPA.2</th>\n",
       "      <th>NPW.2</th>\n",
       "      <th>TPW.2</th>\n",
       "      <th>ST1.2</th>\n",
       "      <th>ST2.2</th>\n",
       "      <th>ST3.2</th>\n",
       "      <th>ST4.2</th>\n",
       "      <th>ST5.2</th>\n",
       "    </tr>\n",
       "  </thead>\n",
       "  <tbody>\n",
       "    <tr>\n",
       "      <th>93 </th>\n",
       "      <td>  70</td>\n",
       "      <td> 163</td>\n",
       "      <td> 2</td>\n",
       "      <td> 0</td>\n",
       "      <td> 2</td>\n",
       "      <td> 3</td>\n",
       "      <td> 57</td>\n",
       "      <td> 57</td>\n",
       "      <td> 43</td>\n",
       "      <td> 33</td>\n",
       "      <td>...</td>\n",
       "      <td> 6</td>\n",
       "      <td> 15</td>\n",
       "      <td> 31</td>\n",
       "      <td> 48</td>\n",
       "      <td> 158</td>\n",
       "      <td> 6</td>\n",
       "      <td> 2</td>\n",
       "      <td>  6</td>\n",
       "      <td>  4</td>\n",
       "      <td>  7</td>\n",
       "    </tr>\n",
       "    <tr>\n",
       "      <th>28 </th>\n",
       "      <td> 171</td>\n",
       "      <td> 630</td>\n",
       "      <td> 1</td>\n",
       "      <td> 1</td>\n",
       "      <td> 2</td>\n",
       "      <td> 1</td>\n",
       "      <td> 76</td>\n",
       "      <td> 44</td>\n",
       "      <td> 24</td>\n",
       "      <td> 15</td>\n",
       "      <td>...</td>\n",
       "      <td> 6</td>\n",
       "      <td>  1</td>\n",
       "      <td> 25</td>\n",
       "      <td> 16</td>\n",
       "      <td> NaN</td>\n",
       "      <td> 2</td>\n",
       "      <td> 6</td>\n",
       "      <td>  4</td>\n",
       "      <td>NaN</td>\n",
       "      <td>NaN</td>\n",
       "    </tr>\n",
       "    <tr>\n",
       "      <th>67 </th>\n",
       "      <td>  79</td>\n",
       "      <td>  62</td>\n",
       "      <td> 2</td>\n",
       "      <td> 0</td>\n",
       "      <td> 0</td>\n",
       "      <td> 2</td>\n",
       "      <td> 75</td>\n",
       "      <td> 13</td>\n",
       "      <td> 25</td>\n",
       "      <td>  3</td>\n",
       "      <td>...</td>\n",
       "      <td> 6</td>\n",
       "      <td>  7</td>\n",
       "      <td>  0</td>\n",
       "      <td>  1</td>\n",
       "      <td>  57</td>\n",
       "      <td> 6</td>\n",
       "      <td> 6</td>\n",
       "      <td>NaN</td>\n",
       "      <td>NaN</td>\n",
       "      <td>NaN</td>\n",
       "    </tr>\n",
       "    <tr>\n",
       "      <th>121</th>\n",
       "      <td> 458</td>\n",
       "      <td> 201</td>\n",
       "      <td> 5</td>\n",
       "      <td> 1</td>\n",
       "      <td> 2</td>\n",
       "      <td> 0</td>\n",
       "      <td> 64</td>\n",
       "      <td> 23</td>\n",
       "      <td> 36</td>\n",
       "      <td> 10</td>\n",
       "      <td>...</td>\n",
       "      <td> 1</td>\n",
       "      <td>  4</td>\n",
       "      <td>  2</td>\n",
       "      <td>  2</td>\n",
       "      <td>  37</td>\n",
       "      <td> 2</td>\n",
       "      <td> 2</td>\n",
       "      <td>NaN</td>\n",
       "      <td>NaN</td>\n",
       "      <td>NaN</td>\n",
       "    </tr>\n",
       "    <tr>\n",
       "      <th>122</th>\n",
       "      <td>  45</td>\n",
       "      <td> 567</td>\n",
       "      <td> 5</td>\n",
       "      <td> 0</td>\n",
       "      <td> 0</td>\n",
       "      <td> 2</td>\n",
       "      <td> 70</td>\n",
       "      <td> 28</td>\n",
       "      <td> 30</td>\n",
       "      <td>  5</td>\n",
       "      <td>...</td>\n",
       "      <td> 6</td>\n",
       "      <td>  7</td>\n",
       "      <td> 16</td>\n",
       "      <td> 24</td>\n",
       "      <td>  80</td>\n",
       "      <td> 6</td>\n",
       "      <td> 7</td>\n",
       "      <td>NaN</td>\n",
       "      <td>NaN</td>\n",
       "      <td>NaN</td>\n",
       "    </tr>\n",
       "  </tbody>\n",
       "</table>\n",
       "<p>5 rows × 42 columns</p>\n",
       "</div>"
      ],
      "text/plain": [
       "     Player1  Player2  Round  Result  FNL.1  FNL.2  FSP.1  FSW.1  SSP.1  \\\n",
       "93        70      163      2       0      2      3     57     57     43   \n",
       "28       171      630      1       1      2      1     76     44     24   \n",
       "67        79       62      2       0      0      2     75     13     25   \n",
       "121      458      201      5       1      2      0     64     23     36   \n",
       "122       45      567      5       0      0      2     70     28     30   \n",
       "\n",
       "     SSW.1  ...    BPC.2  BPW.2  NPA.2  NPW.2  TPW.2  ST1.2  ST2.2  ST3.2  \\\n",
       "93      33  ...        6     15     31     48    158      6      2      6   \n",
       "28      15  ...        6      1     25     16    NaN      2      6      4   \n",
       "67       3  ...        6      7      0      1     57      6      6    NaN   \n",
       "121     10  ...        1      4      2      2     37      2      2    NaN   \n",
       "122      5  ...        6      7     16     24     80      6      7    NaN   \n",
       "\n",
       "     ST4.2  ST5.2  \n",
       "93       4      7  \n",
       "28     NaN    NaN  \n",
       "67     NaN    NaN  \n",
       "121    NaN    NaN  \n",
       "122    NaN    NaN  \n",
       "\n",
       "[5 rows x 42 columns]"
      ]
     },
     "execution_count": 444,
     "metadata": {},
     "output_type": "execute_result"
    }
   ],
   "source": [
    "input_data[:5]"
   ]
  },
  {
   "cell_type": "markdown",
   "metadata": {},
   "source": [
    "Now we see that some data points are 'NaN', which is not a numeric value. So we need to replace it with numeric values. We will replace NaN values with 0. To check which values are 'NaN' there is isnul function which returns True if the value is null."
   ]
  },
  {
   "cell_type": "code",
   "execution_count": 445,
   "metadata": {
    "collapsed": false,
    "scrolled": true
   },
   "outputs": [
    {
     "data": {
      "text/html": [
       "<div style=\"max-height:1000px;max-width:1500px;overflow:auto;\">\n",
       "<table border=\"1\" class=\"dataframe\">\n",
       "  <thead>\n",
       "    <tr style=\"text-align: right;\">\n",
       "      <th></th>\n",
       "      <th>Player1</th>\n",
       "      <th>Player2</th>\n",
       "      <th>Round</th>\n",
       "      <th>Result</th>\n",
       "      <th>FNL.1</th>\n",
       "      <th>FNL.2</th>\n",
       "      <th>FSP.1</th>\n",
       "      <th>FSW.1</th>\n",
       "      <th>SSP.1</th>\n",
       "      <th>SSW.1</th>\n",
       "      <th>...</th>\n",
       "      <th>BPC.2</th>\n",
       "      <th>BPW.2</th>\n",
       "      <th>NPA.2</th>\n",
       "      <th>NPW.2</th>\n",
       "      <th>TPW.2</th>\n",
       "      <th>ST1.2</th>\n",
       "      <th>ST2.2</th>\n",
       "      <th>ST3.2</th>\n",
       "      <th>ST4.2</th>\n",
       "      <th>ST5.2</th>\n",
       "    </tr>\n",
       "  </thead>\n",
       "  <tbody>\n",
       "    <tr>\n",
       "      <th>93 </th>\n",
       "      <td> False</td>\n",
       "      <td> False</td>\n",
       "      <td> False</td>\n",
       "      <td> False</td>\n",
       "      <td> False</td>\n",
       "      <td> False</td>\n",
       "      <td> False</td>\n",
       "      <td> False</td>\n",
       "      <td> False</td>\n",
       "      <td> False</td>\n",
       "      <td>...</td>\n",
       "      <td> False</td>\n",
       "      <td> False</td>\n",
       "      <td> False</td>\n",
       "      <td> False</td>\n",
       "      <td> False</td>\n",
       "      <td> False</td>\n",
       "      <td> False</td>\n",
       "      <td> False</td>\n",
       "      <td> False</td>\n",
       "      <td> False</td>\n",
       "    </tr>\n",
       "    <tr>\n",
       "      <th>28 </th>\n",
       "      <td> False</td>\n",
       "      <td> False</td>\n",
       "      <td> False</td>\n",
       "      <td> False</td>\n",
       "      <td> False</td>\n",
       "      <td> False</td>\n",
       "      <td> False</td>\n",
       "      <td> False</td>\n",
       "      <td> False</td>\n",
       "      <td> False</td>\n",
       "      <td>...</td>\n",
       "      <td> False</td>\n",
       "      <td> False</td>\n",
       "      <td> False</td>\n",
       "      <td> False</td>\n",
       "      <td>  True</td>\n",
       "      <td> False</td>\n",
       "      <td> False</td>\n",
       "      <td> False</td>\n",
       "      <td>  True</td>\n",
       "      <td>  True</td>\n",
       "    </tr>\n",
       "    <tr>\n",
       "      <th>67 </th>\n",
       "      <td> False</td>\n",
       "      <td> False</td>\n",
       "      <td> False</td>\n",
       "      <td> False</td>\n",
       "      <td> False</td>\n",
       "      <td> False</td>\n",
       "      <td> False</td>\n",
       "      <td> False</td>\n",
       "      <td> False</td>\n",
       "      <td> False</td>\n",
       "      <td>...</td>\n",
       "      <td> False</td>\n",
       "      <td> False</td>\n",
       "      <td> False</td>\n",
       "      <td> False</td>\n",
       "      <td> False</td>\n",
       "      <td> False</td>\n",
       "      <td> False</td>\n",
       "      <td>  True</td>\n",
       "      <td>  True</td>\n",
       "      <td>  True</td>\n",
       "    </tr>\n",
       "    <tr>\n",
       "      <th>121</th>\n",
       "      <td> False</td>\n",
       "      <td> False</td>\n",
       "      <td> False</td>\n",
       "      <td> False</td>\n",
       "      <td> False</td>\n",
       "      <td> False</td>\n",
       "      <td> False</td>\n",
       "      <td> False</td>\n",
       "      <td> False</td>\n",
       "      <td> False</td>\n",
       "      <td>...</td>\n",
       "      <td> False</td>\n",
       "      <td> False</td>\n",
       "      <td> False</td>\n",
       "      <td> False</td>\n",
       "      <td> False</td>\n",
       "      <td> False</td>\n",
       "      <td> False</td>\n",
       "      <td>  True</td>\n",
       "      <td>  True</td>\n",
       "      <td>  True</td>\n",
       "    </tr>\n",
       "    <tr>\n",
       "      <th>122</th>\n",
       "      <td> False</td>\n",
       "      <td> False</td>\n",
       "      <td> False</td>\n",
       "      <td> False</td>\n",
       "      <td> False</td>\n",
       "      <td> False</td>\n",
       "      <td> False</td>\n",
       "      <td> False</td>\n",
       "      <td> False</td>\n",
       "      <td> False</td>\n",
       "      <td>...</td>\n",
       "      <td> False</td>\n",
       "      <td> False</td>\n",
       "      <td> False</td>\n",
       "      <td> False</td>\n",
       "      <td> False</td>\n",
       "      <td> False</td>\n",
       "      <td> False</td>\n",
       "      <td>  True</td>\n",
       "      <td>  True</td>\n",
       "      <td>  True</td>\n",
       "    </tr>\n",
       "  </tbody>\n",
       "</table>\n",
       "<p>5 rows × 42 columns</p>\n",
       "</div>"
      ],
      "text/plain": [
       "    Player1 Player2  Round Result  FNL.1  FNL.2  FSP.1  FSW.1  SSP.1  SSW.1  \\\n",
       "93    False   False  False  False  False  False  False  False  False  False   \n",
       "28    False   False  False  False  False  False  False  False  False  False   \n",
       "67    False   False  False  False  False  False  False  False  False  False   \n",
       "121   False   False  False  False  False  False  False  False  False  False   \n",
       "122   False   False  False  False  False  False  False  False  False  False   \n",
       "\n",
       "     ...    BPC.2  BPW.2  NPA.2  NPW.2  TPW.2  ST1.2  ST2.2  ST3.2  ST4.2  \\\n",
       "93   ...    False  False  False  False  False  False  False  False  False   \n",
       "28   ...    False  False  False  False   True  False  False  False   True   \n",
       "67   ...    False  False  False  False  False  False  False   True   True   \n",
       "121  ...    False  False  False  False  False  False  False   True   True   \n",
       "122  ...    False  False  False  False  False  False  False   True   True   \n",
       "\n",
       "     ST5.2  \n",
       "93   False  \n",
       "28    True  \n",
       "67    True  \n",
       "121   True  \n",
       "122   True  \n",
       "\n",
       "[5 rows x 42 columns]"
      ]
     },
     "execution_count": 445,
     "metadata": {},
     "output_type": "execute_result"
    }
   ],
   "source": [
    "input_data.isnull()[:5]"
   ]
  },
  {
   "cell_type": "markdown",
   "metadata": {},
   "source": [
    "Lets replace all the null values with 0."
   ]
  },
  {
   "cell_type": "code",
   "execution_count": 446,
   "metadata": {
    "collapsed": false
   },
   "outputs": [],
   "source": [
    "input_data[input_data.isnull()] = 0\n",
    "test_data[test_data.isnull()] = 0"
   ]
  },
  {
   "cell_type": "code",
   "execution_count": 447,
   "metadata": {
    "collapsed": false
   },
   "outputs": [
    {
     "data": {
      "text/html": [
       "<div style=\"max-height:1000px;max-width:1500px;overflow:auto;\">\n",
       "<table border=\"1\" class=\"dataframe\">\n",
       "  <thead>\n",
       "    <tr style=\"text-align: right;\">\n",
       "      <th></th>\n",
       "      <th>Player1</th>\n",
       "      <th>Player2</th>\n",
       "      <th>Round</th>\n",
       "      <th>Result</th>\n",
       "      <th>FNL.1</th>\n",
       "      <th>FNL.2</th>\n",
       "      <th>FSP.1</th>\n",
       "      <th>FSW.1</th>\n",
       "      <th>SSP.1</th>\n",
       "      <th>SSW.1</th>\n",
       "      <th>...</th>\n",
       "      <th>BPC.2</th>\n",
       "      <th>BPW.2</th>\n",
       "      <th>NPA.2</th>\n",
       "      <th>NPW.2</th>\n",
       "      <th>TPW.2</th>\n",
       "      <th>ST1.2</th>\n",
       "      <th>ST2.2</th>\n",
       "      <th>ST3.2</th>\n",
       "      <th>ST4.2</th>\n",
       "      <th>ST5.2</th>\n",
       "    </tr>\n",
       "  </thead>\n",
       "  <tbody>\n",
       "    <tr>\n",
       "      <th>93 </th>\n",
       "      <td>  70</td>\n",
       "      <td> 163</td>\n",
       "      <td> 2</td>\n",
       "      <td> 0</td>\n",
       "      <td> 2</td>\n",
       "      <td> 3</td>\n",
       "      <td> 57</td>\n",
       "      <td> 57</td>\n",
       "      <td> 43</td>\n",
       "      <td> 33</td>\n",
       "      <td>...</td>\n",
       "      <td> 6</td>\n",
       "      <td> 15</td>\n",
       "      <td> 31</td>\n",
       "      <td> 48</td>\n",
       "      <td> 158</td>\n",
       "      <td> 6</td>\n",
       "      <td> 2</td>\n",
       "      <td> 6</td>\n",
       "      <td> 4</td>\n",
       "      <td> 7</td>\n",
       "    </tr>\n",
       "    <tr>\n",
       "      <th>28 </th>\n",
       "      <td> 171</td>\n",
       "      <td> 630</td>\n",
       "      <td> 1</td>\n",
       "      <td> 1</td>\n",
       "      <td> 2</td>\n",
       "      <td> 1</td>\n",
       "      <td> 76</td>\n",
       "      <td> 44</td>\n",
       "      <td> 24</td>\n",
       "      <td> 15</td>\n",
       "      <td>...</td>\n",
       "      <td> 6</td>\n",
       "      <td>  1</td>\n",
       "      <td> 25</td>\n",
       "      <td> 16</td>\n",
       "      <td>   0</td>\n",
       "      <td> 2</td>\n",
       "      <td> 6</td>\n",
       "      <td> 4</td>\n",
       "      <td> 0</td>\n",
       "      <td> 0</td>\n",
       "    </tr>\n",
       "    <tr>\n",
       "      <th>67 </th>\n",
       "      <td>  79</td>\n",
       "      <td>  62</td>\n",
       "      <td> 2</td>\n",
       "      <td> 0</td>\n",
       "      <td> 0</td>\n",
       "      <td> 2</td>\n",
       "      <td> 75</td>\n",
       "      <td> 13</td>\n",
       "      <td> 25</td>\n",
       "      <td>  3</td>\n",
       "      <td>...</td>\n",
       "      <td> 6</td>\n",
       "      <td>  7</td>\n",
       "      <td>  0</td>\n",
       "      <td>  1</td>\n",
       "      <td>  57</td>\n",
       "      <td> 6</td>\n",
       "      <td> 6</td>\n",
       "      <td> 0</td>\n",
       "      <td> 0</td>\n",
       "      <td> 0</td>\n",
       "    </tr>\n",
       "    <tr>\n",
       "      <th>121</th>\n",
       "      <td> 458</td>\n",
       "      <td> 201</td>\n",
       "      <td> 5</td>\n",
       "      <td> 1</td>\n",
       "      <td> 2</td>\n",
       "      <td> 0</td>\n",
       "      <td> 64</td>\n",
       "      <td> 23</td>\n",
       "      <td> 36</td>\n",
       "      <td> 10</td>\n",
       "      <td>...</td>\n",
       "      <td> 1</td>\n",
       "      <td>  4</td>\n",
       "      <td>  2</td>\n",
       "      <td>  2</td>\n",
       "      <td>  37</td>\n",
       "      <td> 2</td>\n",
       "      <td> 2</td>\n",
       "      <td> 0</td>\n",
       "      <td> 0</td>\n",
       "      <td> 0</td>\n",
       "    </tr>\n",
       "    <tr>\n",
       "      <th>122</th>\n",
       "      <td>  45</td>\n",
       "      <td> 567</td>\n",
       "      <td> 5</td>\n",
       "      <td> 0</td>\n",
       "      <td> 0</td>\n",
       "      <td> 2</td>\n",
       "      <td> 70</td>\n",
       "      <td> 28</td>\n",
       "      <td> 30</td>\n",
       "      <td>  5</td>\n",
       "      <td>...</td>\n",
       "      <td> 6</td>\n",
       "      <td>  7</td>\n",
       "      <td> 16</td>\n",
       "      <td> 24</td>\n",
       "      <td>  80</td>\n",
       "      <td> 6</td>\n",
       "      <td> 7</td>\n",
       "      <td> 0</td>\n",
       "      <td> 0</td>\n",
       "      <td> 0</td>\n",
       "    </tr>\n",
       "  </tbody>\n",
       "</table>\n",
       "<p>5 rows × 42 columns</p>\n",
       "</div>"
      ],
      "text/plain": [
       "     Player1  Player2  Round  Result  FNL.1  FNL.2  FSP.1  FSW.1  SSP.1  \\\n",
       "93        70      163      2       0      2      3     57     57     43   \n",
       "28       171      630      1       1      2      1     76     44     24   \n",
       "67        79       62      2       0      0      2     75     13     25   \n",
       "121      458      201      5       1      2      0     64     23     36   \n",
       "122       45      567      5       0      0      2     70     28     30   \n",
       "\n",
       "     SSW.1  ...    BPC.2  BPW.2  NPA.2  NPW.2  TPW.2  ST1.2  ST2.2  ST3.2  \\\n",
       "93      33  ...        6     15     31     48    158      6      2      6   \n",
       "28      15  ...        6      1     25     16      0      2      6      4   \n",
       "67       3  ...        6      7      0      1     57      6      6      0   \n",
       "121     10  ...        1      4      2      2     37      2      2      0   \n",
       "122      5  ...        6      7     16     24     80      6      7      0   \n",
       "\n",
       "     ST4.2  ST5.2  \n",
       "93       4      7  \n",
       "28       0      0  \n",
       "67       0      0  \n",
       "121      0      0  \n",
       "122      0      0  \n",
       "\n",
       "[5 rows x 42 columns]"
      ]
     },
     "execution_count": 447,
     "metadata": {},
     "output_type": "execute_result"
    }
   ],
   "source": [
    "input_data[:5]"
   ]
  },
  {
   "cell_type": "code",
   "execution_count": 448,
   "metadata": {
    "collapsed": false
   },
   "outputs": [
    {
     "data": {
      "text/html": [
       "<div style=\"max-height:1000px;max-width:1500px;overflow:auto;\">\n",
       "<table border=\"1\" class=\"dataframe\">\n",
       "  <thead>\n",
       "    <tr style=\"text-align: right;\">\n",
       "      <th></th>\n",
       "      <th>Player1</th>\n",
       "      <th>Player2</th>\n",
       "      <th>Round</th>\n",
       "      <th>Result</th>\n",
       "      <th>FNL.1</th>\n",
       "      <th>FNL.2</th>\n",
       "      <th>FSP.1</th>\n",
       "      <th>FSW.1</th>\n",
       "      <th>SSP.1</th>\n",
       "      <th>SSW.1</th>\n",
       "      <th>...</th>\n",
       "      <th>BPC.2</th>\n",
       "      <th>BPW.2</th>\n",
       "      <th>NPA.2</th>\n",
       "      <th>NPW.2</th>\n",
       "      <th>TPW.2</th>\n",
       "      <th>ST1.2</th>\n",
       "      <th>ST2.2</th>\n",
       "      <th>ST3.2</th>\n",
       "      <th>ST4.2</th>\n",
       "      <th>ST5.2</th>\n",
       "    </tr>\n",
       "  </thead>\n",
       "  <tbody>\n",
       "    <tr>\n",
       "      <th>7 </th>\n",
       "      <td> 162</td>\n",
       "      <td> 363</td>\n",
       "      <td> 1</td>\n",
       "      <td> 1</td>\n",
       "      <td> 2</td>\n",
       "      <td> 0</td>\n",
       "      <td> 60</td>\n",
       "      <td> 24</td>\n",
       "      <td> 40</td>\n",
       "      <td> 11</td>\n",
       "      <td>...</td>\n",
       "      <td>  3</td>\n",
       "      <td> 7</td>\n",
       "      <td>  0</td>\n",
       "      <td>  2</td>\n",
       "      <td> 46</td>\n",
       "      <td> 1</td>\n",
       "      <td> 4</td>\n",
       "      <td> 0</td>\n",
       "      <td> 0</td>\n",
       "      <td> 0</td>\n",
       "    </tr>\n",
       "    <tr>\n",
       "      <th>99</th>\n",
       "      <td> 414</td>\n",
       "      <td>  31</td>\n",
       "      <td> 4</td>\n",
       "      <td> 0</td>\n",
       "      <td> 0</td>\n",
       "      <td> 3</td>\n",
       "      <td> 61</td>\n",
       "      <td> 36</td>\n",
       "      <td> 39</td>\n",
       "      <td> 16</td>\n",
       "      <td>...</td>\n",
       "      <td> 10</td>\n",
       "      <td> 5</td>\n",
       "      <td> 42</td>\n",
       "      <td> 31</td>\n",
       "      <td>  0</td>\n",
       "      <td> 6</td>\n",
       "      <td> 7</td>\n",
       "      <td> 6</td>\n",
       "      <td> 0</td>\n",
       "      <td> 0</td>\n",
       "    </tr>\n",
       "    <tr>\n",
       "      <th>7 </th>\n",
       "      <td> 334</td>\n",
       "      <td>  62</td>\n",
       "      <td> 1</td>\n",
       "      <td> 0</td>\n",
       "      <td> 0</td>\n",
       "      <td> 2</td>\n",
       "      <td> 61</td>\n",
       "      <td> 15</td>\n",
       "      <td> 39</td>\n",
       "      <td> 11</td>\n",
       "      <td>...</td>\n",
       "      <td>  8</td>\n",
       "      <td> 9</td>\n",
       "      <td>  4</td>\n",
       "      <td>  6</td>\n",
       "      <td> 73</td>\n",
       "      <td> 6</td>\n",
       "      <td> 6</td>\n",
       "      <td> 0</td>\n",
       "      <td> 0</td>\n",
       "      <td> 0</td>\n",
       "    </tr>\n",
       "    <tr>\n",
       "      <th>96</th>\n",
       "      <td> 156</td>\n",
       "      <td> 466</td>\n",
       "      <td> 3</td>\n",
       "      <td> 0</td>\n",
       "      <td> 0</td>\n",
       "      <td> 3</td>\n",
       "      <td> 65</td>\n",
       "      <td> 41</td>\n",
       "      <td> 35</td>\n",
       "      <td> 10</td>\n",
       "      <td>...</td>\n",
       "      <td>  5</td>\n",
       "      <td> 8</td>\n",
       "      <td> 16</td>\n",
       "      <td> 21</td>\n",
       "      <td> 93</td>\n",
       "      <td> 6</td>\n",
       "      <td> 6</td>\n",
       "      <td> 7</td>\n",
       "      <td> 0</td>\n",
       "      <td> 0</td>\n",
       "    </tr>\n",
       "    <tr>\n",
       "      <th>84</th>\n",
       "      <td> 433</td>\n",
       "      <td>  62</td>\n",
       "      <td> 2</td>\n",
       "      <td> 0</td>\n",
       "      <td> 0</td>\n",
       "      <td> 2</td>\n",
       "      <td> 73</td>\n",
       "      <td> 17</td>\n",
       "      <td> 27</td>\n",
       "      <td>  4</td>\n",
       "      <td>...</td>\n",
       "      <td>  5</td>\n",
       "      <td> 8</td>\n",
       "      <td>  2</td>\n",
       "      <td>  2</td>\n",
       "      <td> 58</td>\n",
       "      <td> 6</td>\n",
       "      <td> 6</td>\n",
       "      <td> 0</td>\n",
       "      <td> 0</td>\n",
       "      <td> 0</td>\n",
       "    </tr>\n",
       "  </tbody>\n",
       "</table>\n",
       "<p>5 rows × 42 columns</p>\n",
       "</div>"
      ],
      "text/plain": [
       "    Player1  Player2  Round  Result  FNL.1  FNL.2  FSP.1  FSW.1  SSP.1  SSW.1  \\\n",
       "7       162      363      1       1      2      0     60     24     40     11   \n",
       "99      414       31      4       0      0      3     61     36     39     16   \n",
       "7       334       62      1       0      0      2     61     15     39     11   \n",
       "96      156      466      3       0      0      3     65     41     35     10   \n",
       "84      433       62      2       0      0      2     73     17     27      4   \n",
       "\n",
       "    ...    BPC.2  BPW.2  NPA.2  NPW.2  TPW.2  ST1.2  ST2.2  ST3.2  ST4.2  \\\n",
       "7   ...        3      7      0      2     46      1      4      0      0   \n",
       "99  ...       10      5     42     31      0      6      7      6      0   \n",
       "7   ...        8      9      4      6     73      6      6      0      0   \n",
       "96  ...        5      8     16     21     93      6      6      7      0   \n",
       "84  ...        5      8      2      2     58      6      6      0      0   \n",
       "\n",
       "    ST5.2  \n",
       "7       0  \n",
       "99      0  \n",
       "7       0  \n",
       "96      0  \n",
       "84      0  \n",
       "\n",
       "[5 rows x 42 columns]"
      ]
     },
     "execution_count": 448,
     "metadata": {},
     "output_type": "execute_result"
    }
   ],
   "source": [
    "test_data[:5]"
   ]
  },
  {
   "cell_type": "markdown",
   "metadata": {},
   "source": [
    "# Now lets make our first prediction function: Say we want to predict the result of the matches. \n",
    "The match result is stored in 'Result' column of the input_data. The result is a discrete variable, \n",
    "i.e. it is either 1 or 0. So we will use Logistci regression. The sklearn library have linear_model module which proides\n",
    "functions for Linear/Logistic regressions."
   ]
  },
  {
   "cell_type": "code",
   "execution_count": 449,
   "metadata": {
    "collapsed": true
   },
   "outputs": [],
   "source": [
    "from sklearn import linear_model\n",
    "logistic_regr = linear_model.LogisticRegression()"
   ]
  },
  {
   "cell_type": "markdown",
   "metadata": {},
   "source": [
    "We need to define input data and target data for the model. Out target data in this case will be data of the 'Result' column. And rest of the data will be input data. So lets seperate the input and target data."
   ]
  },
  {
   "cell_type": "code",
   "execution_count": 450,
   "metadata": {
    "collapsed": false
   },
   "outputs": [],
   "source": [
    "target_column = 'Result';\n",
    "input_data_columns = [];\n",
    "for column in input_data.keys():\n",
    "    if column != target_column:\n",
    "        input_data_columns.append(column);"
   ]
  },
  {
   "cell_type": "code",
   "execution_count": 451,
   "metadata": {
    "collapsed": false
   },
   "outputs": [
    {
     "data": {
      "text/plain": [
       "['Player1',\n",
       " 'Player2',\n",
       " 'Round',\n",
       " 'FNL.1',\n",
       " 'FNL.2',\n",
       " 'FSP.1',\n",
       " 'FSW.1',\n",
       " 'SSP.1',\n",
       " 'SSW.1',\n",
       " 'ACE.1',\n",
       " 'DBF.1',\n",
       " 'WNR.1',\n",
       " 'UFE.1',\n",
       " 'BPC.1',\n",
       " 'BPW.1',\n",
       " 'NPA.1',\n",
       " 'NPW.1',\n",
       " 'TPW.1',\n",
       " 'ST1.1',\n",
       " 'ST2.1',\n",
       " 'ST3.1',\n",
       " 'ST4.1',\n",
       " 'ST5.1',\n",
       " 'FSP.2',\n",
       " 'FSW.2',\n",
       " 'SSP.2',\n",
       " 'SSW.2',\n",
       " 'ACE.2',\n",
       " 'DBF.2',\n",
       " 'WNR.2',\n",
       " 'UFE.2',\n",
       " 'BPC.2',\n",
       " 'BPW.2',\n",
       " 'NPA.2',\n",
       " 'NPW.2',\n",
       " 'TPW.2',\n",
       " 'ST1.2',\n",
       " 'ST2.2',\n",
       " 'ST3.2',\n",
       " 'ST4.2',\n",
       " 'ST5.2']"
      ]
     },
     "execution_count": 451,
     "metadata": {},
     "output_type": "execute_result"
    }
   ],
   "source": [
    "input_data_columns"
   ]
  },
  {
   "cell_type": "code",
   "execution_count": 452,
   "metadata": {
    "collapsed": true
   },
   "outputs": [],
   "source": [
    "data_x = input_data[input_data_columns];\n",
    "data_y = input_data[target_column];"
   ]
  },
  {
   "cell_type": "markdown",
   "metadata": {},
   "source": [
    "Lets train our classifier"
   ]
  },
  {
   "cell_type": "code",
   "execution_count": 453,
   "metadata": {
    "collapsed": true
   },
   "outputs": [],
   "source": [
    "clf = logistic_regr.fit(data_x, data_y);"
   ]
  },
  {
   "cell_type": "markdown",
   "metadata": {},
   "source": [
    "Now lets test this classifier on our test data"
   ]
  },
  {
   "cell_type": "code",
   "execution_count": 454,
   "metadata": {
    "collapsed": false
   },
   "outputs": [],
   "source": [
    "test_data_x = test_data[input_data_columns];\n",
    "predicted_result = clf.predict(test_data_x)"
   ]
  },
  {
   "cell_type": "code",
   "execution_count": 455,
   "metadata": {
    "collapsed": false
   },
   "outputs": [
    {
     "data": {
      "text/plain": [
       "array([1, 0, 0, 0, 0, 0, 1, 0, 1, 1, 1, 0, 0, 1, 1, 1, 0, 0, 0, 1, 1, 0, 1,\n",
       "       1, 1, 1, 0, 1, 1, 0, 1, 0, 1, 0, 0, 1, 1, 0, 1, 1, 0, 1, 1, 1, 0, 0,\n",
       "       1, 1, 1, 1, 0, 0, 1, 0, 1, 0, 1, 0, 1, 1, 1, 0, 1, 0, 0, 1, 0, 0, 0,\n",
       "       0, 1, 0, 0, 0, 0, 0, 1, 0, 0, 0, 0, 0, 1, 1, 1, 0, 0, 1, 0, 1, 1, 1,\n",
       "       0, 0, 0, 1, 0, 0, 0, 0])"
      ]
     },
     "execution_count": 455,
     "metadata": {},
     "output_type": "execute_result"
    }
   ],
   "source": [
    "predicted_result"
   ]
  },
  {
   "cell_type": "markdown",
   "metadata": {},
   "source": [
    "Now lets compare it with actual result of the matches."
   ]
  },
  {
   "cell_type": "code",
   "execution_count": 456,
   "metadata": {
    "collapsed": false
   },
   "outputs": [],
   "source": [
    "actual_result = test_data[target_column].values;"
   ]
  },
  {
   "cell_type": "markdown",
   "metadata": {},
   "source": [
    "Lets make a function to compare the results"
   ]
  },
  {
   "cell_type": "code",
   "execution_count": 457,
   "metadata": {
    "collapsed": true
   },
   "outputs": [],
   "source": [
    "def compare_data(predicted, actual):\n",
    "    total_match = 0;\n",
    "    total_mismatch = 0;\n",
    "    for i in range(0, len(predicted)):\n",
    "        if predicted[i] == actual[i]:\n",
    "            total_match += 1;\n",
    "        else:\n",
    "            total_mismatch += 1;\n",
    "    print 'Total tested: ' + str(total_match + total_mismatch);\n",
    "    print 'Correct results: ' + str(total_match);\n",
    "    print 'Incorrect results: ' + str(total_mismatch);"
   ]
  },
  {
   "cell_type": "code",
   "execution_count": 458,
   "metadata": {
    "collapsed": false
   },
   "outputs": [
    {
     "name": "stdout",
     "output_type": "stream",
     "text": [
      "Total tested: 100\n",
      "Correct results: 99\n",
      "Incorrect results: 1\n"
     ]
    }
   ],
   "source": [
    "compare_data(predicted_result, actual_result)"
   ]
  },
  {
   "cell_type": "markdown",
   "metadata": {},
   "source": [
    "Lets plot the data. We can use matplotlib module to plot the data"
   ]
  },
  {
   "cell_type": "code",
   "execution_count": 459,
   "metadata": {
    "collapsed": false
   },
   "outputs": [],
   "source": [
    "%matplotlib inline\n",
    "import matplotlib as plt\n",
    "pd.set_option('display.mpl_style', 'default') # Make the graphs a bit prettier"
   ]
  },
  {
   "cell_type": "code",
   "execution_count": 460,
   "metadata": {
    "collapsed": false
   },
   "outputs": [
    {
     "data": {
      "text/plain": [
       "array([<matplotlib.axes._subplots.AxesSubplot object at 0x7faad89ace90>], dtype=object)"
      ]
     },
     "execution_count": 460,
     "metadata": {},
     "output_type": "execute_result"
    },
    {
     "data": {
      "image/png": "[encoded data removed]",
      "text/plain": [
       "<matplotlib.figure.Figure at 0x7faad8cfe810>"
      ]
     },
     "metadata": {},
     "output_type": "display_data"
    }
   ],
   "source": [
    "test_data['Result'][:20].plot(kind='bar', subplots=True, figsize=(15, 5))"
   ]
  },
  {
   "cell_type": "markdown",
   "metadata": {},
   "source": [
    "To plot the predicted data we need to convert it into pandas data frame first."
   ]
  },
  {
   "cell_type": "code",
   "execution_count": 461,
   "metadata": {
    "collapsed": true
   },
   "outputs": [],
   "source": [
    "predicted_result = pd.DataFrame(predicted_result, columns=['Predicted Result']);"
   ]
  },
  {
   "cell_type": "code",
   "execution_count": 462,
   "metadata": {
    "collapsed": false
   },
   "outputs": [
    {
     "data": {
      "text/plain": [
       "array([<matplotlib.axes._subplots.AxesSubplot object at 0x7faad8cd7e90>], dtype=object)"
      ]
     },
     "execution_count": 462,
     "metadata": {},
     "output_type": "execute_result"
    },
    {
     "data": {
      "image/png": "[encoded data removed]",
      "text/plain": [
       "<matplotlib.figure.Figure at 0x7faada1d00d0>"
      ]
     },
     "metadata": {},
     "output_type": "display_data"
    }
   ],
   "source": [
    "predicted_result[:20].plot(kind='bar', subplots=True, figsize=(15, 5))"
   ]
  },
  {
   "cell_type": "markdown",
   "metadata": {},
   "source": [
    "We can see that both the graphs are exactly same."
   ]
  },
  {
   "cell_type": "markdown",
   "metadata": {},
   "source": [
    "# Now lets make another classifier which predicts how many Double Faults player one commits. \n",
    "The column which stores this data in input_data is 'DBF.1'. Since it is a continuous variable we will use linear \n",
    "regression this time. The target column will be 'DBF1' and rest of the columns will be input data for the classifier."
   ]
  },
  {
   "cell_type": "code",
   "execution_count": 463,
   "metadata": {
    "collapsed": true
   },
   "outputs": [],
   "source": [
    "target_column = 'DBF.1';\n",
    "input_data_columns = [];\n",
    "for column in input_data.keys():\n",
    "    if column != target_column:\n",
    "        input_data_columns.append(column);"
   ]
  },
  {
   "cell_type": "code",
   "execution_count": 464,
   "metadata": {
    "collapsed": true
   },
   "outputs": [],
   "source": [
    "data_x = input_data[input_data_columns];\n",
    "data_y = input_data[target_column];"
   ]
  },
  {
   "cell_type": "code",
   "execution_count": 465,
   "metadata": {
    "collapsed": true
   },
   "outputs": [],
   "source": [
    "linear_regr = linear_model.LinearRegression()"
   ]
  },
  {
   "cell_type": "code",
   "execution_count": 466,
   "metadata": {
    "collapsed": true
   },
   "outputs": [],
   "source": [
    "#Train the classifier\n",
    "cfl = linear_regr.fit(data_x, data_y);"
   ]
  },
  {
   "cell_type": "code",
   "execution_count": 467,
   "metadata": {
    "collapsed": true
   },
   "outputs": [],
   "source": [
    "#Test data input\n",
    "test_data_x = test_data[input_data_columns];\n",
    "\n",
    "predicted_result = cfl.predict(test_data_x)"
   ]
  },
  {
   "cell_type": "code",
   "execution_count": 468,
   "metadata": {
    "collapsed": false
   },
   "outputs": [
    {
     "data": {
      "text/plain": [
       "array([ 3.25619117,  2.77190334,  4.04996131,  3.22540595,  1.5601717 ,\n",
       "        3.41595685,  1.89588416,  3.89111816,  1.73556083,  2.50592248,\n",
       "        2.04411431,  1.92202082,  5.6010761 ,  3.96582789,  2.42089505,\n",
       "        4.56183357,  3.27808787,  2.07282529,  2.18626355,  2.03119446,\n",
       "        2.26144094,  5.34531929,  3.73221358,  6.28251361,  4.39666059,\n",
       "        1.3094139 ,  5.34167461,  1.80792876,  4.88729894,  7.84259755,\n",
       "        5.38167494,  1.64219261,  2.10799788,  5.96218787,  1.98637298,\n",
       "        4.21503958,  0.9209255 , -1.17416309,  3.59589791,  4.12070695,\n",
       "        6.99008417,  3.38926029,  0.09678329,  2.80865944,  4.46692946,\n",
       "        3.08076651,  5.13008772,  4.11851728,  1.91013549,  3.25507227,\n",
       "        4.82984123,  5.96450302,  2.9928312 ,  4.99307375,  3.416918  ,\n",
       "       -0.10078439,  2.38096923,  4.07650606,  4.0771783 ,  2.49620467,\n",
       "        3.62645938,  3.13393569,  0.81872823,  4.00967985,  4.67001272,\n",
       "        1.43022094,  3.17382921,  6.83718475,  2.9144033 ,  2.2105988 ,\n",
       "        5.29447046,  0.789409  ,  4.51905692,  1.78044757,  4.85910737,\n",
       "        5.43737466,  1.47144664,  3.79156371,  3.83821934,  3.60093522,\n",
       "        0.76275481,  3.78992918,  6.07513387,  3.03142204,  4.21603639,\n",
       "        4.98411535,  6.06423406,  5.51860883,  4.55370248,  3.28643347,\n",
       "        2.79472687,  4.13161796,  3.82402049,  8.3687424 ,  4.26936434,\n",
       "        4.56342989,  5.01096501,  3.85160771,  2.62872611,  3.96259464])"
      ]
     },
     "execution_count": 468,
     "metadata": {},
     "output_type": "execute_result"
    }
   ],
   "source": [
    "predicted_result"
   ]
  },
  {
   "cell_type": "code",
   "execution_count": 469,
   "metadata": {
    "collapsed": false
   },
   "outputs": [],
   "source": [
    "test_data['Predicted_DBF.1'] = predicted_result"
   ]
  },
  {
   "cell_type": "code",
   "execution_count": 470,
   "metadata": {
    "collapsed": false
   },
   "outputs": [
    {
     "data": {
      "text/html": [
       "<div style=\"max-height:1000px;max-width:1500px;overflow:auto;\">\n",
       "<table border=\"1\" class=\"dataframe\">\n",
       "  <thead>\n",
       "    <tr style=\"text-align: right;\">\n",
       "      <th></th>\n",
       "      <th>DBF.1</th>\n",
       "      <th>Predicted_DBF.1</th>\n",
       "    </tr>\n",
       "  </thead>\n",
       "  <tbody>\n",
       "    <tr>\n",
       "      <th>7  </th>\n",
       "      <td>  2</td>\n",
       "      <td> 3.256191</td>\n",
       "    </tr>\n",
       "    <tr>\n",
       "      <th>99 </th>\n",
       "      <td>  1</td>\n",
       "      <td> 2.771903</td>\n",
       "    </tr>\n",
       "    <tr>\n",
       "      <th>7  </th>\n",
       "      <td>  4</td>\n",
       "      <td> 4.049961</td>\n",
       "    </tr>\n",
       "    <tr>\n",
       "      <th>96 </th>\n",
       "      <td>  1</td>\n",
       "      <td> 3.225406</td>\n",
       "    </tr>\n",
       "    <tr>\n",
       "      <th>84 </th>\n",
       "      <td>  3</td>\n",
       "      <td> 1.560172</td>\n",
       "    </tr>\n",
       "    <tr>\n",
       "      <th>66 </th>\n",
       "      <td>  4</td>\n",
       "      <td> 3.415957</td>\n",
       "    </tr>\n",
       "    <tr>\n",
       "      <th>105</th>\n",
       "      <td>  1</td>\n",
       "      <td> 1.895884</td>\n",
       "    </tr>\n",
       "    <tr>\n",
       "      <th>10 </th>\n",
       "      <td>  4</td>\n",
       "      <td> 3.891118</td>\n",
       "    </tr>\n",
       "    <tr>\n",
       "      <th>116</th>\n",
       "      <td>  3</td>\n",
       "      <td> 1.735561</td>\n",
       "    </tr>\n",
       "    <tr>\n",
       "      <th>82 </th>\n",
       "      <td>  2</td>\n",
       "      <td> 2.505922</td>\n",
       "    </tr>\n",
       "    <tr>\n",
       "      <th>100</th>\n",
       "      <td>  4</td>\n",
       "      <td> 2.044114</td>\n",
       "    </tr>\n",
       "    <tr>\n",
       "      <th>101</th>\n",
       "      <td>  5</td>\n",
       "      <td> 1.922021</td>\n",
       "    </tr>\n",
       "    <tr>\n",
       "      <th>83 </th>\n",
       "      <td>  4</td>\n",
       "      <td> 5.601076</td>\n",
       "    </tr>\n",
       "    <tr>\n",
       "      <th>96 </th>\n",
       "      <td>  2</td>\n",
       "      <td> 3.965828</td>\n",
       "    </tr>\n",
       "    <tr>\n",
       "      <th>39 </th>\n",
       "      <td>  1</td>\n",
       "      <td> 2.420895</td>\n",
       "    </tr>\n",
       "    <tr>\n",
       "      <th>93 </th>\n",
       "      <td>  6</td>\n",
       "      <td> 4.561834</td>\n",
       "    </tr>\n",
       "    <tr>\n",
       "      <th>121</th>\n",
       "      <td>  5</td>\n",
       "      <td> 3.278088</td>\n",
       "    </tr>\n",
       "    <tr>\n",
       "      <th>26 </th>\n",
       "      <td>  3</td>\n",
       "      <td> 2.072825</td>\n",
       "    </tr>\n",
       "    <tr>\n",
       "      <th>12 </th>\n",
       "      <td>  4</td>\n",
       "      <td> 2.186264</td>\n",
       "    </tr>\n",
       "    <tr>\n",
       "      <th>3  </th>\n",
       "      <td>  4</td>\n",
       "      <td> 2.031194</td>\n",
       "    </tr>\n",
       "    <tr>\n",
       "      <th>56 </th>\n",
       "      <td>  0</td>\n",
       "      <td> 2.261441</td>\n",
       "    </tr>\n",
       "    <tr>\n",
       "      <th>77 </th>\n",
       "      <td>  5</td>\n",
       "      <td> 5.345319</td>\n",
       "    </tr>\n",
       "    <tr>\n",
       "      <th>0  </th>\n",
       "      <td>  7</td>\n",
       "      <td> 3.732214</td>\n",
       "    </tr>\n",
       "    <tr>\n",
       "      <th>75 </th>\n",
       "      <td>  1</td>\n",
       "      <td> 6.282514</td>\n",
       "    </tr>\n",
       "    <tr>\n",
       "      <th>30 </th>\n",
       "      <td>  3</td>\n",
       "      <td> 4.396661</td>\n",
       "    </tr>\n",
       "    <tr>\n",
       "      <th>119</th>\n",
       "      <td>  3</td>\n",
       "      <td> 1.309414</td>\n",
       "    </tr>\n",
       "    <tr>\n",
       "      <th>54 </th>\n",
       "      <td>  6</td>\n",
       "      <td> 5.341675</td>\n",
       "    </tr>\n",
       "    <tr>\n",
       "      <th>126</th>\n",
       "      <td>  0</td>\n",
       "      <td> 1.807929</td>\n",
       "    </tr>\n",
       "    <tr>\n",
       "      <th>27 </th>\n",
       "      <td>  7</td>\n",
       "      <td> 4.887299</td>\n",
       "    </tr>\n",
       "    <tr>\n",
       "      <th>61 </th>\n",
       "      <td>  8</td>\n",
       "      <td> 7.842598</td>\n",
       "    </tr>\n",
       "    <tr>\n",
       "      <th>...</th>\n",
       "      <td>...</td>\n",
       "      <td>...</td>\n",
       "    </tr>\n",
       "    <tr>\n",
       "      <th>12 </th>\n",
       "      <td>  5</td>\n",
       "      <td> 5.294470</td>\n",
       "    </tr>\n",
       "    <tr>\n",
       "      <th>111</th>\n",
       "      <td>  2</td>\n",
       "      <td> 0.789409</td>\n",
       "    </tr>\n",
       "    <tr>\n",
       "      <th>62 </th>\n",
       "      <td>  6</td>\n",
       "      <td> 4.519057</td>\n",
       "    </tr>\n",
       "    <tr>\n",
       "      <th>1  </th>\n",
       "      <td>  0</td>\n",
       "      <td> 1.780448</td>\n",
       "    </tr>\n",
       "    <tr>\n",
       "      <th>20 </th>\n",
       "      <td>  3</td>\n",
       "      <td> 4.859107</td>\n",
       "    </tr>\n",
       "    <tr>\n",
       "      <th>16 </th>\n",
       "      <td> 10</td>\n",
       "      <td> 5.437375</td>\n",
       "    </tr>\n",
       "    <tr>\n",
       "      <th>106</th>\n",
       "      <td>  1</td>\n",
       "      <td> 1.471447</td>\n",
       "    </tr>\n",
       "    <tr>\n",
       "      <th>15 </th>\n",
       "      <td>  5</td>\n",
       "      <td> 3.791564</td>\n",
       "    </tr>\n",
       "    <tr>\n",
       "      <th>0  </th>\n",
       "      <td>  1</td>\n",
       "      <td> 3.838219</td>\n",
       "    </tr>\n",
       "    <tr>\n",
       "      <th>75 </th>\n",
       "      <td>  1</td>\n",
       "      <td> 3.600935</td>\n",
       "    </tr>\n",
       "    <tr>\n",
       "      <th>8  </th>\n",
       "      <td>  2</td>\n",
       "      <td> 0.762755</td>\n",
       "    </tr>\n",
       "    <tr>\n",
       "      <th>16 </th>\n",
       "      <td>  7</td>\n",
       "      <td> 3.789929</td>\n",
       "    </tr>\n",
       "    <tr>\n",
       "      <th>18 </th>\n",
       "      <td> 10</td>\n",
       "      <td> 6.075134</td>\n",
       "    </tr>\n",
       "    <tr>\n",
       "      <th>107</th>\n",
       "      <td>  1</td>\n",
       "      <td> 3.031422</td>\n",
       "    </tr>\n",
       "    <tr>\n",
       "      <th>37 </th>\n",
       "      <td>  2</td>\n",
       "      <td> 4.216036</td>\n",
       "    </tr>\n",
       "    <tr>\n",
       "      <th>76 </th>\n",
       "      <td>  7</td>\n",
       "      <td> 4.984115</td>\n",
       "    </tr>\n",
       "    <tr>\n",
       "      <th>81 </th>\n",
       "      <td> 18</td>\n",
       "      <td> 6.064234</td>\n",
       "    </tr>\n",
       "    <tr>\n",
       "      <th>22 </th>\n",
       "      <td>  2</td>\n",
       "      <td> 5.518609</td>\n",
       "    </tr>\n",
       "    <tr>\n",
       "      <th>115</th>\n",
       "      <td>  2</td>\n",
       "      <td> 4.553702</td>\n",
       "    </tr>\n",
       "    <tr>\n",
       "      <th>22 </th>\n",
       "      <td>  0</td>\n",
       "      <td> 3.286433</td>\n",
       "    </tr>\n",
       "    <tr>\n",
       "      <th>23 </th>\n",
       "      <td>  1</td>\n",
       "      <td> 2.794727</td>\n",
       "    </tr>\n",
       "    <tr>\n",
       "      <th>15 </th>\n",
       "      <td>  2</td>\n",
       "      <td> 4.131618</td>\n",
       "    </tr>\n",
       "    <tr>\n",
       "      <th>8  </th>\n",
       "      <td>  0</td>\n",
       "      <td> 3.824020</td>\n",
       "    </tr>\n",
       "    <tr>\n",
       "      <th>2  </th>\n",
       "      <td> 13</td>\n",
       "      <td> 8.368742</td>\n",
       "    </tr>\n",
       "    <tr>\n",
       "      <th>21 </th>\n",
       "      <td>  5</td>\n",
       "      <td> 4.269364</td>\n",
       "    </tr>\n",
       "    <tr>\n",
       "      <th>86 </th>\n",
       "      <td>  9</td>\n",
       "      <td> 4.563430</td>\n",
       "    </tr>\n",
       "    <tr>\n",
       "      <th>113</th>\n",
       "      <td>  3</td>\n",
       "      <td> 5.010965</td>\n",
       "    </tr>\n",
       "    <tr>\n",
       "      <th>115</th>\n",
       "      <td>  4</td>\n",
       "      <td> 3.851608</td>\n",
       "    </tr>\n",
       "    <tr>\n",
       "      <th>75 </th>\n",
       "      <td>  4</td>\n",
       "      <td> 2.628726</td>\n",
       "    </tr>\n",
       "    <tr>\n",
       "      <th>1  </th>\n",
       "      <td>  4</td>\n",
       "      <td> 3.962595</td>\n",
       "    </tr>\n",
       "  </tbody>\n",
       "</table>\n",
       "<p>100 rows × 2 columns</p>\n",
       "</div>"
      ],
      "text/plain": [
       "     DBF.1  Predicted_DBF.1\n",
       "7        2         3.256191\n",
       "99       1         2.771903\n",
       "7        4         4.049961\n",
       "96       1         3.225406\n",
       "84       3         1.560172\n",
       "66       4         3.415957\n",
       "105      1         1.895884\n",
       "10       4         3.891118\n",
       "116      3         1.735561\n",
       "82       2         2.505922\n",
       "100      4         2.044114\n",
       "101      5         1.922021\n",
       "83       4         5.601076\n",
       "96       2         3.965828\n",
       "39       1         2.420895\n",
       "93       6         4.561834\n",
       "121      5         3.278088\n",
       "26       3         2.072825\n",
       "12       4         2.186264\n",
       "3        4         2.031194\n",
       "56       0         2.261441\n",
       "77       5         5.345319\n",
       "0        7         3.732214\n",
       "75       1         6.282514\n",
       "30       3         4.396661\n",
       "119      3         1.309414\n",
       "54       6         5.341675\n",
       "126      0         1.807929\n",
       "27       7         4.887299\n",
       "61       8         7.842598\n",
       "..     ...              ...\n",
       "12       5         5.294470\n",
       "111      2         0.789409\n",
       "62       6         4.519057\n",
       "1        0         1.780448\n",
       "20       3         4.859107\n",
       "16      10         5.437375\n",
       "106      1         1.471447\n",
       "15       5         3.791564\n",
       "0        1         3.838219\n",
       "75       1         3.600935\n",
       "8        2         0.762755\n",
       "16       7         3.789929\n",
       "18      10         6.075134\n",
       "107      1         3.031422\n",
       "37       2         4.216036\n",
       "76       7         4.984115\n",
       "81      18         6.064234\n",
       "22       2         5.518609\n",
       "115      2         4.553702\n",
       "22       0         3.286433\n",
       "23       1         2.794727\n",
       "15       2         4.131618\n",
       "8        0         3.824020\n",
       "2       13         8.368742\n",
       "21       5         4.269364\n",
       "86       9         4.563430\n",
       "113      3         5.010965\n",
       "115      4         3.851608\n",
       "75       4         2.628726\n",
       "1        4         3.962595\n",
       "\n",
       "[100 rows x 2 columns]"
      ]
     },
     "execution_count": 470,
     "metadata": {},
     "output_type": "execute_result"
    }
   ],
   "source": [
    "#Lets check the actual result versus predicted result\n",
    "test_data[['DBF.1', 'Predicted_DBF.1']]"
   ]
  },
  {
   "cell_type": "code",
   "execution_count": 471,
   "metadata": {
    "collapsed": false
   },
   "outputs": [
    {
     "data": {
      "text/plain": [
       "<matplotlib.axes._subplots.AxesSubplot at 0x7faad8fe2ed0>"
      ]
     },
     "execution_count": 471,
     "metadata": {},
     "output_type": "execute_result"
    },
    {
     "data": {
      "image/png": "[encoded data removed]",
      "text/plain": [
       "<matplotlib.figure.Figure at 0x7faad8e1a410>"
      ]
     },
     "metadata": {},
     "output_type": "display_data"
    }
   ],
   "source": [
    "test_data[['DBF.1', 'Predicted_DBF.1']].plot(kind='bar', figsize=(15, 8))"
   ]
  },
  {
   "cell_type": "code",
   "execution_count": 472,
   "metadata": {
    "collapsed": true
   },
   "outputs": [],
   "source": [
    "test_data['Prediction_error'] = abs(test_data['DBF.1'] - test_data['Predicted_DBF.1'])*100/test_data['DBF.1']"
   ]
  },
  {
   "cell_type": "code",
   "execution_count": 473,
   "metadata": {
    "collapsed": false
   },
   "outputs": [
    {
     "data": {
      "image/png": "[encoded data removed]",
      "text/plain": [
       "<matplotlib.figure.Figure at 0x7faae0c12510>"
      ]
     },
     "metadata": {},
     "output_type": "display_data"
    }
   ],
   "source": [
    "test_data['Prediction_error'].plot(kind='bar', figsize=(15, 8));"
   ]
  },
  {
   "cell_type": "markdown",
   "metadata": {},
   "source": [
    "# Lets now predict the Aces won by player2\n",
    "\n",
    "The data related to Aces won by player2 is in column 'ACE.2'. We will use linear regression to predict this data."
   ]
  },
  {
   "cell_type": "code",
   "execution_count": 474,
   "metadata": {
    "collapsed": true
   },
   "outputs": [],
   "source": [
    "#Our target column is 'ACE.2'\n",
    "target_column = 'ACE.2';\n",
    "input_data_columns = [];\n",
    "for column in input_data.keys():\n",
    "    if column != target_column:\n",
    "        input_data_columns.append(column);"
   ]
  },
  {
   "cell_type": "markdown",
   "metadata": {},
   "source": [
    "Based on the target column, lets get data_x, and data_y to train the classifier"
   ]
  },
  {
   "cell_type": "code",
   "execution_count": 475,
   "metadata": {
    "collapsed": false
   },
   "outputs": [],
   "source": [
    "data_x = input_data[input_data_columns];\n",
    "data_y = input_data[target_column];"
   ]
  },
  {
   "cell_type": "code",
   "execution_count": 476,
   "metadata": {
    "collapsed": true
   },
   "outputs": [],
   "source": [
    "linear_regr = linear_model.LinearRegression()\n",
    "#train the classifier\n",
    "clf = linear_regr.fit(data_x, data_y)"
   ]
  },
  {
   "cell_type": "code",
   "execution_count": 477,
   "metadata": {
    "collapsed": true
   },
   "outputs": [],
   "source": [
    "#Test data input\n",
    "test_data_x = test_data[input_data_columns];\n",
    "\n",
    "predicted_result = cfl.predict(test_data_x)"
   ]
  },
  {
   "cell_type": "code",
   "execution_count": 478,
   "metadata": {
    "collapsed": false
   },
   "outputs": [
    {
     "data": {
      "text/plain": [
       "array([ -7.34691526e-01,   1.17093828e+00,   1.51652227e+00,\n",
       "         1.47881871e+00,   4.55697999e-01,   3.69123789e+00,\n",
       "         2.83899961e+00,   8.11363287e-01,  -1.89847342e+00,\n",
       "         3.69695090e+00,   3.86516878e+00,   6.14718443e-01,\n",
       "         4.32718859e+00,   1.92137548e+00,  -8.63008037e-01,\n",
       "        -1.25573327e+00,   3.35971411e+00,   2.50043649e+00,\n",
       "         3.08413716e+00,   4.17654876e+00,  -4.21466550e+00,\n",
       "         1.11369336e+01,  -3.71898211e+00,   8.68348931e+00,\n",
       "         5.47441217e+00,   1.22819517e+00,   6.99351464e+00,\n",
       "        -5.21541890e-01,  -4.47924328e+00,   3.42495490e+00,\n",
       "        -2.08084500e+00,   2.42756836e+00,  -1.09438779e+00,\n",
       "        -1.00416750e-03,   1.88857288e+00,  -9.88164204e-01,\n",
       "        -4.28109311e-01,  -3.87390585e+00,  -1.65494934e-01,\n",
       "        -2.59516771e+00,   3.87135147e+00,   3.17466088e+00,\n",
       "         1.11530696e+00,  -1.55243934e+00,   3.53151939e+00,\n",
       "         4.24276281e+00,   1.58792251e+00,   6.96742665e+00,\n",
       "        -2.00210880e+00,  -5.69987103e-01,   2.20709748e+00,\n",
       "         5.28767784e+00,  -6.41889654e-01,   1.56167114e+00,\n",
       "         3.28363485e+00,  -4.12036520e-01,  -4.35821980e+00,\n",
       "         3.16032094e+00,   7.43119980e+00,  -3.74578102e-01,\n",
       "         9.53499220e-01,   5.09708595e+00,  -5.30344286e+00,\n",
       "         6.12162588e-01,  -1.62089465e+00,   2.39542387e+00,\n",
       "         4.12617717e+00,   1.78977096e+00,   5.47793537e+00,\n",
       "         4.00747054e+00,   2.63001105e+00,   4.59616289e-01,\n",
       "         4.63461856e+00,   1.89475932e+00,   5.09531527e+00,\n",
       "         7.83625528e+00,   2.52000589e+00,   3.54741680e+00,\n",
       "         1.15381383e+00,   1.45512925e+00,   1.11651288e+00,\n",
       "         4.52674862e+00,   1.08004293e+01,   2.22965049e+00,\n",
       "        -3.44497084e+00,   5.94189019e+00,   3.13205535e+00,\n",
       "        -1.78170064e+00,   2.40726205e+00,   2.29299709e+00,\n",
       "         3.37871526e+00,   2.73444591e+00,   1.81050908e+00,\n",
       "        -4.91000252e-01,   4.18159634e+00,  -1.47905500e-01,\n",
       "         2.83481298e+00,   1.24892750e+00,   3.57914347e+00,\n",
       "         7.84802512e+00])"
      ]
     },
     "execution_count": 478,
     "metadata": {},
     "output_type": "execute_result"
    }
   ],
   "source": [
    "predicted_result"
   ]
  },
  {
   "cell_type": "code",
   "execution_count": 479,
   "metadata": {
    "collapsed": false
   },
   "outputs": [],
   "source": [
    "test_data['Predicted_ACE.2'] = predicted_result"
   ]
  },
  {
   "cell_type": "code",
   "execution_count": 480,
   "metadata": {
    "collapsed": false
   },
   "outputs": [
    {
     "data": {
      "text/html": [
       "<div style=\"max-height:1000px;max-width:1500px;overflow:auto;\">\n",
       "<table border=\"1\" class=\"dataframe\">\n",
       "  <thead>\n",
       "    <tr style=\"text-align: right;\">\n",
       "      <th></th>\n",
       "      <th>ACE.2</th>\n",
       "      <th>Predicted_ACE.2</th>\n",
       "    </tr>\n",
       "  </thead>\n",
       "  <tbody>\n",
       "    <tr>\n",
       "      <th>7  </th>\n",
       "      <td>  1</td>\n",
       "      <td> -0.734692</td>\n",
       "    </tr>\n",
       "    <tr>\n",
       "      <th>99 </th>\n",
       "      <td> 15</td>\n",
       "      <td>  1.170938</td>\n",
       "    </tr>\n",
       "    <tr>\n",
       "      <th>7  </th>\n",
       "      <td>  3</td>\n",
       "      <td>  1.516522</td>\n",
       "    </tr>\n",
       "    <tr>\n",
       "      <th>96 </th>\n",
       "      <td>  6</td>\n",
       "      <td>  1.478819</td>\n",
       "    </tr>\n",
       "    <tr>\n",
       "      <th>84 </th>\n",
       "      <td>  0</td>\n",
       "      <td>  0.455698</td>\n",
       "    </tr>\n",
       "    <tr>\n",
       "      <th>66 </th>\n",
       "      <td>  2</td>\n",
       "      <td>  3.691238</td>\n",
       "    </tr>\n",
       "    <tr>\n",
       "      <th>105</th>\n",
       "      <td>  3</td>\n",
       "      <td>  2.839000</td>\n",
       "    </tr>\n",
       "    <tr>\n",
       "      <th>10 </th>\n",
       "      <td>  7</td>\n",
       "      <td>  0.811363</td>\n",
       "    </tr>\n",
       "    <tr>\n",
       "      <th>116</th>\n",
       "      <td>  0</td>\n",
       "      <td> -1.898473</td>\n",
       "    </tr>\n",
       "    <tr>\n",
       "      <th>82 </th>\n",
       "      <td>  6</td>\n",
       "      <td>  3.696951</td>\n",
       "    </tr>\n",
       "    <tr>\n",
       "      <th>100</th>\n",
       "      <td>  9</td>\n",
       "      <td>  3.865169</td>\n",
       "    </tr>\n",
       "    <tr>\n",
       "      <th>101</th>\n",
       "      <td>  0</td>\n",
       "      <td>  0.614718</td>\n",
       "    </tr>\n",
       "    <tr>\n",
       "      <th>83 </th>\n",
       "      <td>  0</td>\n",
       "      <td>  4.327189</td>\n",
       "    </tr>\n",
       "    <tr>\n",
       "      <th>96 </th>\n",
       "      <td>  2</td>\n",
       "      <td>  1.921375</td>\n",
       "    </tr>\n",
       "    <tr>\n",
       "      <th>39 </th>\n",
       "      <td>  2</td>\n",
       "      <td> -0.863008</td>\n",
       "    </tr>\n",
       "    <tr>\n",
       "      <th>93 </th>\n",
       "      <td>  7</td>\n",
       "      <td> -1.255733</td>\n",
       "    </tr>\n",
       "    <tr>\n",
       "      <th>121</th>\n",
       "      <td>  2</td>\n",
       "      <td>  3.359714</td>\n",
       "    </tr>\n",
       "    <tr>\n",
       "      <th>26 </th>\n",
       "      <td>  1</td>\n",
       "      <td>  2.500436</td>\n",
       "    </tr>\n",
       "    <tr>\n",
       "      <th>12 </th>\n",
       "      <td>  2</td>\n",
       "      <td>  3.084137</td>\n",
       "    </tr>\n",
       "    <tr>\n",
       "      <th>3  </th>\n",
       "      <td>  0</td>\n",
       "      <td>  4.176549</td>\n",
       "    </tr>\n",
       "    <tr>\n",
       "      <th>56 </th>\n",
       "      <td>  2</td>\n",
       "      <td> -4.214665</td>\n",
       "    </tr>\n",
       "    <tr>\n",
       "      <th>77 </th>\n",
       "      <td> 18</td>\n",
       "      <td> 11.136934</td>\n",
       "    </tr>\n",
       "    <tr>\n",
       "      <th>0  </th>\n",
       "      <td>  6</td>\n",
       "      <td> -3.718982</td>\n",
       "    </tr>\n",
       "    <tr>\n",
       "      <th>75 </th>\n",
       "      <td>  1</td>\n",
       "      <td>  8.683489</td>\n",
       "    </tr>\n",
       "    <tr>\n",
       "      <th>30 </th>\n",
       "      <td>  1</td>\n",
       "      <td>  5.474412</td>\n",
       "    </tr>\n",
       "    <tr>\n",
       "      <th>119</th>\n",
       "      <td>  0</td>\n",
       "      <td>  1.228195</td>\n",
       "    </tr>\n",
       "    <tr>\n",
       "      <th>54 </th>\n",
       "      <td>  9</td>\n",
       "      <td>  6.993515</td>\n",
       "    </tr>\n",
       "    <tr>\n",
       "      <th>126</th>\n",
       "      <td>  2</td>\n",
       "      <td> -0.521542</td>\n",
       "    </tr>\n",
       "    <tr>\n",
       "      <th>27 </th>\n",
       "      <td> 12</td>\n",
       "      <td> -4.479243</td>\n",
       "    </tr>\n",
       "    <tr>\n",
       "      <th>61 </th>\n",
       "      <td>  4</td>\n",
       "      <td>  3.424955</td>\n",
       "    </tr>\n",
       "    <tr>\n",
       "      <th>...</th>\n",
       "      <td>...</td>\n",
       "      <td>...</td>\n",
       "    </tr>\n",
       "    <tr>\n",
       "      <th>12 </th>\n",
       "      <td>  4</td>\n",
       "      <td>  2.630011</td>\n",
       "    </tr>\n",
       "    <tr>\n",
       "      <th>111</th>\n",
       "      <td>  0</td>\n",
       "      <td>  0.459616</td>\n",
       "    </tr>\n",
       "    <tr>\n",
       "      <th>62 </th>\n",
       "      <td>  1</td>\n",
       "      <td>  4.634619</td>\n",
       "    </tr>\n",
       "    <tr>\n",
       "      <th>1  </th>\n",
       "      <td>  4</td>\n",
       "      <td>  1.894759</td>\n",
       "    </tr>\n",
       "    <tr>\n",
       "      <th>20 </th>\n",
       "      <td>  1</td>\n",
       "      <td>  5.095315</td>\n",
       "    </tr>\n",
       "    <tr>\n",
       "      <th>16 </th>\n",
       "      <td>  2</td>\n",
       "      <td>  7.836255</td>\n",
       "    </tr>\n",
       "    <tr>\n",
       "      <th>106</th>\n",
       "      <td>  0</td>\n",
       "      <td>  2.520006</td>\n",
       "    </tr>\n",
       "    <tr>\n",
       "      <th>15 </th>\n",
       "      <td>  3</td>\n",
       "      <td>  3.547417</td>\n",
       "    </tr>\n",
       "    <tr>\n",
       "      <th>0  </th>\n",
       "      <td> 10</td>\n",
       "      <td>  1.153814</td>\n",
       "    </tr>\n",
       "    <tr>\n",
       "      <th>75 </th>\n",
       "      <td>  9</td>\n",
       "      <td>  1.455129</td>\n",
       "    </tr>\n",
       "    <tr>\n",
       "      <th>8  </th>\n",
       "      <td>  6</td>\n",
       "      <td>  1.116513</td>\n",
       "    </tr>\n",
       "    <tr>\n",
       "      <th>16 </th>\n",
       "      <td>  5</td>\n",
       "      <td>  4.526749</td>\n",
       "    </tr>\n",
       "    <tr>\n",
       "      <th>18 </th>\n",
       "      <td> 20</td>\n",
       "      <td> 10.800429</td>\n",
       "    </tr>\n",
       "    <tr>\n",
       "      <th>107</th>\n",
       "      <td>  0</td>\n",
       "      <td>  2.229650</td>\n",
       "    </tr>\n",
       "    <tr>\n",
       "      <th>37 </th>\n",
       "      <td>  9</td>\n",
       "      <td> -3.444971</td>\n",
       "    </tr>\n",
       "    <tr>\n",
       "      <th>76 </th>\n",
       "      <td>  0</td>\n",
       "      <td>  5.941890</td>\n",
       "    </tr>\n",
       "    <tr>\n",
       "      <th>81 </th>\n",
       "      <td>  2</td>\n",
       "      <td>  3.132055</td>\n",
       "    </tr>\n",
       "    <tr>\n",
       "      <th>22 </th>\n",
       "      <td> 13</td>\n",
       "      <td> -1.781701</td>\n",
       "    </tr>\n",
       "    <tr>\n",
       "      <th>115</th>\n",
       "      <td>  1</td>\n",
       "      <td>  2.407262</td>\n",
       "    </tr>\n",
       "    <tr>\n",
       "      <th>22 </th>\n",
       "      <td>  7</td>\n",
       "      <td>  2.292997</td>\n",
       "    </tr>\n",
       "    <tr>\n",
       "      <th>23 </th>\n",
       "      <td>  0</td>\n",
       "      <td>  3.378715</td>\n",
       "    </tr>\n",
       "    <tr>\n",
       "      <th>15 </th>\n",
       "      <td>  1</td>\n",
       "      <td>  2.734446</td>\n",
       "    </tr>\n",
       "    <tr>\n",
       "      <th>8  </th>\n",
       "      <td> 12</td>\n",
       "      <td>  1.810509</td>\n",
       "    </tr>\n",
       "    <tr>\n",
       "      <th>2  </th>\n",
       "      <td> 10</td>\n",
       "      <td> -0.491000</td>\n",
       "    </tr>\n",
       "    <tr>\n",
       "      <th>21 </th>\n",
       "      <td> 11</td>\n",
       "      <td>  4.181596</td>\n",
       "    </tr>\n",
       "    <tr>\n",
       "      <th>86 </th>\n",
       "      <td>  0</td>\n",
       "      <td> -0.147906</td>\n",
       "    </tr>\n",
       "    <tr>\n",
       "      <th>113</th>\n",
       "      <td>  6</td>\n",
       "      <td>  2.834813</td>\n",
       "    </tr>\n",
       "    <tr>\n",
       "      <th>115</th>\n",
       "      <td>  8</td>\n",
       "      <td>  1.248928</td>\n",
       "    </tr>\n",
       "    <tr>\n",
       "      <th>75 </th>\n",
       "      <td> 12</td>\n",
       "      <td>  3.579143</td>\n",
       "    </tr>\n",
       "    <tr>\n",
       "      <th>1  </th>\n",
       "      <td> 12</td>\n",
       "      <td>  7.848025</td>\n",
       "    </tr>\n",
       "  </tbody>\n",
       "</table>\n",
       "<p>100 rows × 2 columns</p>\n",
       "</div>"
      ],
      "text/plain": [
       "     ACE.2  Predicted_ACE.2\n",
       "7        1        -0.734692\n",
       "99      15         1.170938\n",
       "7        3         1.516522\n",
       "96       6         1.478819\n",
       "84       0         0.455698\n",
       "66       2         3.691238\n",
       "105      3         2.839000\n",
       "10       7         0.811363\n",
       "116      0        -1.898473\n",
       "82       6         3.696951\n",
       "100      9         3.865169\n",
       "101      0         0.614718\n",
       "83       0         4.327189\n",
       "96       2         1.921375\n",
       "39       2        -0.863008\n",
       "93       7        -1.255733\n",
       "121      2         3.359714\n",
       "26       1         2.500436\n",
       "12       2         3.084137\n",
       "3        0         4.176549\n",
       "56       2        -4.214665\n",
       "77      18        11.136934\n",
       "0        6        -3.718982\n",
       "75       1         8.683489\n",
       "30       1         5.474412\n",
       "119      0         1.228195\n",
       "54       9         6.993515\n",
       "126      2        -0.521542\n",
       "27      12        -4.479243\n",
       "61       4         3.424955\n",
       "..     ...              ...\n",
       "12       4         2.630011\n",
       "111      0         0.459616\n",
       "62       1         4.634619\n",
       "1        4         1.894759\n",
       "20       1         5.095315\n",
       "16       2         7.836255\n",
       "106      0         2.520006\n",
       "15       3         3.547417\n",
       "0       10         1.153814\n",
       "75       9         1.455129\n",
       "8        6         1.116513\n",
       "16       5         4.526749\n",
       "18      20        10.800429\n",
       "107      0         2.229650\n",
       "37       9        -3.444971\n",
       "76       0         5.941890\n",
       "81       2         3.132055\n",
       "22      13        -1.781701\n",
       "115      1         2.407262\n",
       "22       7         2.292997\n",
       "23       0         3.378715\n",
       "15       1         2.734446\n",
       "8       12         1.810509\n",
       "2       10        -0.491000\n",
       "21      11         4.181596\n",
       "86       0        -0.147906\n",
       "113      6         2.834813\n",
       "115      8         1.248928\n",
       "75      12         3.579143\n",
       "1       12         7.848025\n",
       "\n",
       "[100 rows x 2 columns]"
      ]
     },
     "execution_count": 480,
     "metadata": {},
     "output_type": "execute_result"
    }
   ],
   "source": [
    "#Lets see the predicted result versus actual result\n",
    "test_data[['ACE.2', 'Predicted_ACE.2']]"
   ]
  },
  {
   "cell_type": "markdown",
   "metadata": {},
   "source": [
    "Lets plot the two results"
   ]
  },
  {
   "cell_type": "code",
   "execution_count": 481,
   "metadata": {
    "collapsed": false
   },
   "outputs": [
    {
     "data": {
      "text/plain": [
       "<matplotlib.axes._subplots.AxesSubplot at 0x7faacfb54990>"
      ]
     },
     "execution_count": 481,
     "metadata": {},
     "output_type": "execute_result"
    },
    {
     "data": {
      "image/png": "[encoded data removed]",
      "text/plain": [
       "<matplotlib.figure.Figure at 0x7faad89f2750>"
      ]
     },
     "metadata": {},
     "output_type": "display_data"
    }
   ],
   "source": [
    "test_data[['ACE.2', 'Predicted_ACE.2']].plot(kind='bar', figsize=(15, 8))"
   ]
  },
  {
   "cell_type": "markdown",
   "metadata": {
    "collapsed": true
   },
   "source": [
    "# Let us now make a classifier to predict \"Which palyer is Player1 playing against in the match?\" \n",
    "\n",
    "We will use Logistic regression first to predict the results. Then we will predict the results using SVM method, and will compare both the results. Lets start by gathering the training and test data."
   ]
  },
  {
   "cell_type": "code",
   "execution_count": 482,
   "metadata": {
    "collapsed": true
   },
   "outputs": [],
   "source": [
    "#Our target column is 'Player2'\n",
    "target_column = 'Player2';\n",
    "input_data_columns = [];\n",
    "for column in input_data.keys():\n",
    "    if column != target_column:\n",
    "        input_data_columns.append(column);"
   ]
  },
  {
   "cell_type": "code",
   "execution_count": 483,
   "metadata": {
    "collapsed": false
   },
   "outputs": [],
   "source": [
    "data_x = input_data[input_data_columns];\n",
    "data_y = input_data[target_column];\n",
    "\n",
    "test_data_x = test_data[input_data_columns];\n",
    "test_data_y = test_data[target_column];"
   ]
  },
  {
   "cell_type": "markdown",
   "metadata": {},
   "source": [
    "Lets verify the data by checking a few rows"
   ]
  },
  {
   "cell_type": "code",
   "execution_count": 484,
   "metadata": {
    "collapsed": false
   },
   "outputs": [
    {
     "data": {
      "text/html": [
       "<div style=\"max-height:1000px;max-width:1500px;overflow:auto;\">\n",
       "<table border=\"1\" class=\"dataframe\">\n",
       "  <thead>\n",
       "    <tr style=\"text-align: right;\">\n",
       "      <th></th>\n",
       "      <th>Player1</th>\n",
       "      <th>Round</th>\n",
       "      <th>Result</th>\n",
       "      <th>FNL.1</th>\n",
       "      <th>FNL.2</th>\n",
       "      <th>FSP.1</th>\n",
       "      <th>FSW.1</th>\n",
       "      <th>SSP.1</th>\n",
       "      <th>SSW.1</th>\n",
       "      <th>ACE.1</th>\n",
       "      <th>...</th>\n",
       "      <th>BPC.2</th>\n",
       "      <th>BPW.2</th>\n",
       "      <th>NPA.2</th>\n",
       "      <th>NPW.2</th>\n",
       "      <th>TPW.2</th>\n",
       "      <th>ST1.2</th>\n",
       "      <th>ST2.2</th>\n",
       "      <th>ST3.2</th>\n",
       "      <th>ST4.2</th>\n",
       "      <th>ST5.2</th>\n",
       "    </tr>\n",
       "  </thead>\n",
       "  <tbody>\n",
       "    <tr>\n",
       "      <th>93 </th>\n",
       "      <td>  70</td>\n",
       "      <td> 2</td>\n",
       "      <td> 0</td>\n",
       "      <td> 2</td>\n",
       "      <td> 3</td>\n",
       "      <td> 57</td>\n",
       "      <td> 57</td>\n",
       "      <td> 43</td>\n",
       "      <td> 33</td>\n",
       "      <td> 12</td>\n",
       "      <td>...</td>\n",
       "      <td> 6</td>\n",
       "      <td> 15</td>\n",
       "      <td> 31</td>\n",
       "      <td> 48</td>\n",
       "      <td> 158</td>\n",
       "      <td> 6</td>\n",
       "      <td> 2</td>\n",
       "      <td> 6</td>\n",
       "      <td> 4</td>\n",
       "      <td> 7</td>\n",
       "    </tr>\n",
       "    <tr>\n",
       "      <th>28 </th>\n",
       "      <td> 171</td>\n",
       "      <td> 1</td>\n",
       "      <td> 1</td>\n",
       "      <td> 2</td>\n",
       "      <td> 1</td>\n",
       "      <td> 76</td>\n",
       "      <td> 44</td>\n",
       "      <td> 24</td>\n",
       "      <td> 15</td>\n",
       "      <td>  2</td>\n",
       "      <td>...</td>\n",
       "      <td> 6</td>\n",
       "      <td>  1</td>\n",
       "      <td> 25</td>\n",
       "      <td> 16</td>\n",
       "      <td>   0</td>\n",
       "      <td> 2</td>\n",
       "      <td> 6</td>\n",
       "      <td> 4</td>\n",
       "      <td> 0</td>\n",
       "      <td> 0</td>\n",
       "    </tr>\n",
       "    <tr>\n",
       "      <th>67 </th>\n",
       "      <td>  79</td>\n",
       "      <td> 2</td>\n",
       "      <td> 0</td>\n",
       "      <td> 0</td>\n",
       "      <td> 2</td>\n",
       "      <td> 75</td>\n",
       "      <td> 13</td>\n",
       "      <td> 25</td>\n",
       "      <td>  3</td>\n",
       "      <td>  0</td>\n",
       "      <td>...</td>\n",
       "      <td> 6</td>\n",
       "      <td>  7</td>\n",
       "      <td>  0</td>\n",
       "      <td>  1</td>\n",
       "      <td>  57</td>\n",
       "      <td> 6</td>\n",
       "      <td> 6</td>\n",
       "      <td> 0</td>\n",
       "      <td> 0</td>\n",
       "      <td> 0</td>\n",
       "    </tr>\n",
       "    <tr>\n",
       "      <th>121</th>\n",
       "      <td> 458</td>\n",
       "      <td> 5</td>\n",
       "      <td> 1</td>\n",
       "      <td> 2</td>\n",
       "      <td> 0</td>\n",
       "      <td> 64</td>\n",
       "      <td> 23</td>\n",
       "      <td> 36</td>\n",
       "      <td> 10</td>\n",
       "      <td>  1</td>\n",
       "      <td>...</td>\n",
       "      <td> 1</td>\n",
       "      <td>  4</td>\n",
       "      <td>  2</td>\n",
       "      <td>  2</td>\n",
       "      <td>  37</td>\n",
       "      <td> 2</td>\n",
       "      <td> 2</td>\n",
       "      <td> 0</td>\n",
       "      <td> 0</td>\n",
       "      <td> 0</td>\n",
       "    </tr>\n",
       "    <tr>\n",
       "      <th>122</th>\n",
       "      <td>  45</td>\n",
       "      <td> 5</td>\n",
       "      <td> 0</td>\n",
       "      <td> 0</td>\n",
       "      <td> 2</td>\n",
       "      <td> 70</td>\n",
       "      <td> 28</td>\n",
       "      <td> 30</td>\n",
       "      <td>  5</td>\n",
       "      <td>  2</td>\n",
       "      <td>...</td>\n",
       "      <td> 6</td>\n",
       "      <td>  7</td>\n",
       "      <td> 16</td>\n",
       "      <td> 24</td>\n",
       "      <td>  80</td>\n",
       "      <td> 6</td>\n",
       "      <td> 7</td>\n",
       "      <td> 0</td>\n",
       "      <td> 0</td>\n",
       "      <td> 0</td>\n",
       "    </tr>\n",
       "  </tbody>\n",
       "</table>\n",
       "<p>5 rows × 41 columns</p>\n",
       "</div>"
      ],
      "text/plain": [
       "     Player1  Round  Result  FNL.1  FNL.2  FSP.1  FSW.1  SSP.1  SSW.1  ACE.1  \\\n",
       "93        70      2       0      2      3     57     57     43     33     12   \n",
       "28       171      1       1      2      1     76     44     24     15      2   \n",
       "67        79      2       0      0      2     75     13     25      3      0   \n",
       "121      458      5       1      2      0     64     23     36     10      1   \n",
       "122       45      5       0      0      2     70     28     30      5      2   \n",
       "\n",
       "     ...    BPC.2  BPW.2  NPA.2  NPW.2  TPW.2  ST1.2  ST2.2  ST3.2  ST4.2  \\\n",
       "93   ...        6     15     31     48    158      6      2      6      4   \n",
       "28   ...        6      1     25     16      0      2      6      4      0   \n",
       "67   ...        6      7      0      1     57      6      6      0      0   \n",
       "121  ...        1      4      2      2     37      2      2      0      0   \n",
       "122  ...        6      7     16     24     80      6      7      0      0   \n",
       "\n",
       "     ST5.2  \n",
       "93       7  \n",
       "28       0  \n",
       "67       0  \n",
       "121      0  \n",
       "122      0  \n",
       "\n",
       "[5 rows x 41 columns]"
      ]
     },
     "execution_count": 484,
     "metadata": {},
     "output_type": "execute_result"
    }
   ],
   "source": [
    "data_x[:5]"
   ]
  },
  {
   "cell_type": "code",
   "execution_count": 485,
   "metadata": {
    "collapsed": false
   },
   "outputs": [
    {
     "data": {
      "text/plain": [
       "93     163\n",
       "28     630\n",
       "67      62\n",
       "121    201\n",
       "122    567\n",
       "Name: Player2, dtype: int64"
      ]
     },
     "execution_count": 485,
     "metadata": {},
     "output_type": "execute_result"
    }
   ],
   "source": [
    "data_y[:5]"
   ]
  },
  {
   "cell_type": "code",
   "execution_count": 486,
   "metadata": {
    "collapsed": false
   },
   "outputs": [
    {
     "data": {
      "text/html": [
       "<div style=\"max-height:1000px;max-width:1500px;overflow:auto;\">\n",
       "<table border=\"1\" class=\"dataframe\">\n",
       "  <thead>\n",
       "    <tr style=\"text-align: right;\">\n",
       "      <th></th>\n",
       "      <th>Player1</th>\n",
       "      <th>Round</th>\n",
       "      <th>Result</th>\n",
       "      <th>FNL.1</th>\n",
       "      <th>FNL.2</th>\n",
       "      <th>FSP.1</th>\n",
       "      <th>FSW.1</th>\n",
       "      <th>SSP.1</th>\n",
       "      <th>SSW.1</th>\n",
       "      <th>ACE.1</th>\n",
       "      <th>...</th>\n",
       "      <th>BPC.2</th>\n",
       "      <th>BPW.2</th>\n",
       "      <th>NPA.2</th>\n",
       "      <th>NPW.2</th>\n",
       "      <th>TPW.2</th>\n",
       "      <th>ST1.2</th>\n",
       "      <th>ST2.2</th>\n",
       "      <th>ST3.2</th>\n",
       "      <th>ST4.2</th>\n",
       "      <th>ST5.2</th>\n",
       "    </tr>\n",
       "  </thead>\n",
       "  <tbody>\n",
       "    <tr>\n",
       "      <th>7 </th>\n",
       "      <td> 162</td>\n",
       "      <td> 1</td>\n",
       "      <td> 1</td>\n",
       "      <td> 2</td>\n",
       "      <td> 0</td>\n",
       "      <td> 60</td>\n",
       "      <td> 24</td>\n",
       "      <td> 40</td>\n",
       "      <td> 11</td>\n",
       "      <td> 1</td>\n",
       "      <td>...</td>\n",
       "      <td>  3</td>\n",
       "      <td> 7</td>\n",
       "      <td>  0</td>\n",
       "      <td>  2</td>\n",
       "      <td> 46</td>\n",
       "      <td> 1</td>\n",
       "      <td> 4</td>\n",
       "      <td> 0</td>\n",
       "      <td> 0</td>\n",
       "      <td> 0</td>\n",
       "    </tr>\n",
       "    <tr>\n",
       "      <th>99</th>\n",
       "      <td> 414</td>\n",
       "      <td> 4</td>\n",
       "      <td> 0</td>\n",
       "      <td> 0</td>\n",
       "      <td> 3</td>\n",
       "      <td> 61</td>\n",
       "      <td> 36</td>\n",
       "      <td> 39</td>\n",
       "      <td> 16</td>\n",
       "      <td> 1</td>\n",
       "      <td>...</td>\n",
       "      <td> 10</td>\n",
       "      <td> 5</td>\n",
       "      <td> 42</td>\n",
       "      <td> 31</td>\n",
       "      <td>  0</td>\n",
       "      <td> 6</td>\n",
       "      <td> 7</td>\n",
       "      <td> 6</td>\n",
       "      <td> 0</td>\n",
       "      <td> 0</td>\n",
       "    </tr>\n",
       "    <tr>\n",
       "      <th>7 </th>\n",
       "      <td> 334</td>\n",
       "      <td> 1</td>\n",
       "      <td> 0</td>\n",
       "      <td> 0</td>\n",
       "      <td> 2</td>\n",
       "      <td> 61</td>\n",
       "      <td> 15</td>\n",
       "      <td> 39</td>\n",
       "      <td> 11</td>\n",
       "      <td> 2</td>\n",
       "      <td>...</td>\n",
       "      <td>  8</td>\n",
       "      <td> 9</td>\n",
       "      <td>  4</td>\n",
       "      <td>  6</td>\n",
       "      <td> 73</td>\n",
       "      <td> 6</td>\n",
       "      <td> 6</td>\n",
       "      <td> 0</td>\n",
       "      <td> 0</td>\n",
       "      <td> 0</td>\n",
       "    </tr>\n",
       "    <tr>\n",
       "      <th>96</th>\n",
       "      <td> 156</td>\n",
       "      <td> 3</td>\n",
       "      <td> 0</td>\n",
       "      <td> 0</td>\n",
       "      <td> 3</td>\n",
       "      <td> 65</td>\n",
       "      <td> 41</td>\n",
       "      <td> 35</td>\n",
       "      <td> 10</td>\n",
       "      <td> 5</td>\n",
       "      <td>...</td>\n",
       "      <td>  5</td>\n",
       "      <td> 8</td>\n",
       "      <td> 16</td>\n",
       "      <td> 21</td>\n",
       "      <td> 93</td>\n",
       "      <td> 6</td>\n",
       "      <td> 6</td>\n",
       "      <td> 7</td>\n",
       "      <td> 0</td>\n",
       "      <td> 0</td>\n",
       "    </tr>\n",
       "    <tr>\n",
       "      <th>84</th>\n",
       "      <td> 433</td>\n",
       "      <td> 2</td>\n",
       "      <td> 0</td>\n",
       "      <td> 0</td>\n",
       "      <td> 2</td>\n",
       "      <td> 73</td>\n",
       "      <td> 17</td>\n",
       "      <td> 27</td>\n",
       "      <td>  4</td>\n",
       "      <td> 0</td>\n",
       "      <td>...</td>\n",
       "      <td>  5</td>\n",
       "      <td> 8</td>\n",
       "      <td>  2</td>\n",
       "      <td>  2</td>\n",
       "      <td> 58</td>\n",
       "      <td> 6</td>\n",
       "      <td> 6</td>\n",
       "      <td> 0</td>\n",
       "      <td> 0</td>\n",
       "      <td> 0</td>\n",
       "    </tr>\n",
       "  </tbody>\n",
       "</table>\n",
       "<p>5 rows × 41 columns</p>\n",
       "</div>"
      ],
      "text/plain": [
       "    Player1  Round  Result  FNL.1  FNL.2  FSP.1  FSW.1  SSP.1  SSW.1  ACE.1  \\\n",
       "7       162      1       1      2      0     60     24     40     11      1   \n",
       "99      414      4       0      0      3     61     36     39     16      1   \n",
       "7       334      1       0      0      2     61     15     39     11      2   \n",
       "96      156      3       0      0      3     65     41     35     10      5   \n",
       "84      433      2       0      0      2     73     17     27      4      0   \n",
       "\n",
       "    ...    BPC.2  BPW.2  NPA.2  NPW.2  TPW.2  ST1.2  ST2.2  ST3.2  ST4.2  \\\n",
       "7   ...        3      7      0      2     46      1      4      0      0   \n",
       "99  ...       10      5     42     31      0      6      7      6      0   \n",
       "7   ...        8      9      4      6     73      6      6      0      0   \n",
       "96  ...        5      8     16     21     93      6      6      7      0   \n",
       "84  ...        5      8      2      2     58      6      6      0      0   \n",
       "\n",
       "    ST5.2  \n",
       "7       0  \n",
       "99      0  \n",
       "7       0  \n",
       "96      0  \n",
       "84      0  \n",
       "\n",
       "[5 rows x 41 columns]"
      ]
     },
     "execution_count": 486,
     "metadata": {},
     "output_type": "execute_result"
    }
   ],
   "source": [
    "test_data_x[:5]"
   ]
  },
  {
   "cell_type": "code",
   "execution_count": 487,
   "metadata": {
    "collapsed": false
   },
   "outputs": [
    {
     "data": {
      "text/plain": [
       "7     363\n",
       "99     31\n",
       "7      62\n",
       "96    466\n",
       "84     62\n",
       "Name: Player2, dtype: int64"
      ]
     },
     "execution_count": 487,
     "metadata": {},
     "output_type": "execute_result"
    }
   ],
   "source": [
    "test_data_y[:5]"
   ]
  },
  {
   "cell_type": "code",
   "execution_count": 488,
   "metadata": {
    "collapsed": false
   },
   "outputs": [],
   "source": [
    "#Lets train the logistic classifier\n",
    "logistic_clf = logistic_regr.fit(data_x, data_y);"
   ]
  },
  {
   "cell_type": "markdown",
   "metadata": {},
   "source": [
    "Lets predict the results for test_data now."
   ]
  },
  {
   "cell_type": "code",
   "execution_count": 489,
   "metadata": {
    "collapsed": false
   },
   "outputs": [],
   "source": [
    "predicted_results = logistic_clf.predict(test_data_x);"
   ]
  },
  {
   "cell_type": "markdown",
   "metadata": {},
   "source": [
    "Lets put actual and predicted results in a single data frame"
   ]
  },
  {
   "cell_type": "code",
   "execution_count": 490,
   "metadata": {
    "collapsed": false
   },
   "outputs": [],
   "source": [
    "results = pd.DataFrame({'Actual_Player2': names_fit.inverse_transform(test_data_y.values[:]), 'Logistic_Player2': names_fit.inverse_transform(predicted_results[:])})"
   ]
  },
  {
   "cell_type": "markdown",
   "metadata": {},
   "source": [
    "lets checkout a few results"
   ]
  },
  {
   "cell_type": "code",
   "execution_count": 491,
   "metadata": {
    "collapsed": false
   },
   "outputs": [
    {
     "data": {
      "text/html": [
       "<div style=\"max-height:1000px;max-width:1500px;overflow:auto;\">\n",
       "<table border=\"1\" class=\"dataframe\">\n",
       "  <thead>\n",
       "    <tr style=\"text-align: right;\">\n",
       "      <th></th>\n",
       "      <th>Actual_Player2</th>\n",
       "      <th>Logistic_Player2</th>\n",
       "    </tr>\n",
       "  </thead>\n",
       "  <tbody>\n",
       "    <tr>\n",
       "      <th>0 </th>\n",
       "      <td>      Lesia Tsurenko</td>\n",
       "      <td>         Lauren Davis</td>\n",
       "    </tr>\n",
       "    <tr>\n",
       "      <th>1 </th>\n",
       "      <td>            A.Murray</td>\n",
       "      <td>             A.Murray</td>\n",
       "    </tr>\n",
       "    <tr>\n",
       "      <th>2 </th>\n",
       "      <td>        Ana Ivanovic</td>\n",
       "      <td>      Elina Svitolina</td>\n",
       "    </tr>\n",
       "    <tr>\n",
       "      <th>3 </th>\n",
       "      <td>      Novak Djokovic</td>\n",
       "      <td>        Roger Federer</td>\n",
       "    </tr>\n",
       "    <tr>\n",
       "      <th>4 </th>\n",
       "      <td>        Ana Ivanovic</td>\n",
       "      <td>      Maria Sharapova</td>\n",
       "    </tr>\n",
       "    <tr>\n",
       "      <th>5 </th>\n",
       "      <td>            V.Dolonc</td>\n",
       "      <td>           S Stephens</td>\n",
       "    </tr>\n",
       "    <tr>\n",
       "      <th>6 </th>\n",
       "      <td>            S.Stosur</td>\n",
       "      <td>             J.Chardy</td>\n",
       "    </tr>\n",
       "    <tr>\n",
       "      <th>7 </th>\n",
       "      <td>    Garbine Muguruza</td>\n",
       "      <td>        Jeremy Chardy</td>\n",
       "    </tr>\n",
       "    <tr>\n",
       "      <th>8 </th>\n",
       "      <td>     Mikhail Youzhny</td>\n",
       "      <td>        Jeremy Chardy</td>\n",
       "    </tr>\n",
       "    <tr>\n",
       "      <th>9 </th>\n",
       "      <td>        M.Przysiezny</td>\n",
       "      <td>             J.Chardy</td>\n",
       "    </tr>\n",
       "    <tr>\n",
       "      <th>10</th>\n",
       "      <td>       K.De Schepper</td>\n",
       "      <td>            C.Berlocq</td>\n",
       "    </tr>\n",
       "    <tr>\n",
       "      <th>11</th>\n",
       "      <td> Francesca Schiavone</td>\n",
       "      <td>      Maria Kirilenko</td>\n",
       "    </tr>\n",
       "    <tr>\n",
       "      <th>12</th>\n",
       "      <td>        Simona Halep</td>\n",
       "      <td>         Simona Halep</td>\n",
       "    </tr>\n",
       "    <tr>\n",
       "      <th>13</th>\n",
       "      <td>  Daniela Hantuchova</td>\n",
       "      <td>      Michael Russell</td>\n",
       "    </tr>\n",
       "    <tr>\n",
       "      <th>14</th>\n",
       "      <td>    Filippo Volandri</td>\n",
       "      <td>         Gilles Simon</td>\n",
       "    </tr>\n",
       "    <tr>\n",
       "      <th>15</th>\n",
       "      <td>      Kevin Anderson</td>\n",
       "      <td>      Michael Russell</td>\n",
       "    </tr>\n",
       "    <tr>\n",
       "      <th>16</th>\n",
       "      <td>           M.Bartoli</td>\n",
       "      <td>     C.Suarez Navarro</td>\n",
       "    </tr>\n",
       "    <tr>\n",
       "      <th>17</th>\n",
       "      <td>          A.Petkovic</td>\n",
       "      <td>          E.Birnerova</td>\n",
       "    </tr>\n",
       "    <tr>\n",
       "      <th>18</th>\n",
       "      <td>          E.Makarova</td>\n",
       "      <td>     C Suarez Navarro</td>\n",
       "    </tr>\n",
       "    <tr>\n",
       "      <th>19</th>\n",
       "      <td>              V.King</td>\n",
       "      <td>         M.Rybarikova</td>\n",
       "    </tr>\n",
       "    <tr>\n",
       "      <th>20</th>\n",
       "      <td>      Michael Llodra</td>\n",
       "      <td>         Daniel Evans</td>\n",
       "    </tr>\n",
       "    <tr>\n",
       "      <th>21</th>\n",
       "      <td>            G.Zemlja</td>\n",
       "      <td>              A.Seppi</td>\n",
       "    </tr>\n",
       "    <tr>\n",
       "      <th>22</th>\n",
       "      <td>     Michael Russell</td>\n",
       "      <td>      Stephane Robert</td>\n",
       "    </tr>\n",
       "    <tr>\n",
       "      <th>23</th>\n",
       "      <td>  A Medina Garrigues</td>\n",
       "      <td>             A Kerber</td>\n",
       "    </tr>\n",
       "    <tr>\n",
       "      <th>24</th>\n",
       "      <td>               M.Doi</td>\n",
       "      <td>             A Kerber</td>\n",
       "    </tr>\n",
       "    <tr>\n",
       "      <th>25</th>\n",
       "      <td>          K.Flipkens</td>\n",
       "      <td>             K.Kanepi</td>\n",
       "    </tr>\n",
       "    <tr>\n",
       "      <th>26</th>\n",
       "      <td>             G.Soeda</td>\n",
       "      <td>             A.Murray</td>\n",
       "    </tr>\n",
       "    <tr>\n",
       "      <th>27</th>\n",
       "      <td>     Maria Sharapova</td>\n",
       "      <td>      Elina Svitolina</td>\n",
       "    </tr>\n",
       "    <tr>\n",
       "      <th>28</th>\n",
       "      <td>       Steve Johnson</td>\n",
       "      <td>            Jack Sock</td>\n",
       "    </tr>\n",
       "    <tr>\n",
       "      <th>29</th>\n",
       "      <td>         Guido Pella</td>\n",
       "      <td>      Jarkko Nieminen</td>\n",
       "    </tr>\n",
       "    <tr>\n",
       "      <th>...</th>\n",
       "      <td>...</td>\n",
       "      <td>...</td>\n",
       "    </tr>\n",
       "    <tr>\n",
       "      <th>70</th>\n",
       "      <td>      Lucie Safarova</td>\n",
       "      <td>        Kei Nishikori</td>\n",
       "    </tr>\n",
       "    <tr>\n",
       "      <th>71</th>\n",
       "      <td>                N.Li</td>\n",
       "      <td>          D.Cibulkova</td>\n",
       "    </tr>\n",
       "    <tr>\n",
       "      <th>72</th>\n",
       "      <td>          V Williams</td>\n",
       "      <td>             A Kerber</td>\n",
       "    </tr>\n",
       "    <tr>\n",
       "      <th>73</th>\n",
       "      <td>          F.Pennetta</td>\n",
       "      <td>              I.Dodig</td>\n",
       "    </tr>\n",
       "    <tr>\n",
       "      <th>74</th>\n",
       "      <td>           S.Cirstea</td>\n",
       "      <td>          D.Cibulkova</td>\n",
       "    </tr>\n",
       "    <tr>\n",
       "      <th>75</th>\n",
       "      <td>          V Azarenka</td>\n",
       "      <td>          E Svitolina</td>\n",
       "    </tr>\n",
       "    <tr>\n",
       "      <th>76</th>\n",
       "      <td>        K.Date-Krumm</td>\n",
       "      <td>          F.Schiavone</td>\n",
       "    </tr>\n",
       "    <tr>\n",
       "      <th>77</th>\n",
       "      <td>             S Halep</td>\n",
       "      <td>           S Stephens</td>\n",
       "    </tr>\n",
       "    <tr>\n",
       "      <th>78</th>\n",
       "      <td>      Novak Djokovic</td>\n",
       "      <td>   Daniela Hantuchova</td>\n",
       "    </tr>\n",
       "    <tr>\n",
       "      <th>79</th>\n",
       "      <td>     Nicolas Almagro</td>\n",
       "      <td>      Marina Erakovic</td>\n",
       "    </tr>\n",
       "    <tr>\n",
       "      <th>80</th>\n",
       "      <td>          A.Ivanovic</td>\n",
       "      <td>           K.Flipkens</td>\n",
       "    </tr>\n",
       "    <tr>\n",
       "      <th>81</th>\n",
       "      <td>         M.Sharapova</td>\n",
       "      <td>               S.Peng</td>\n",
       "    </tr>\n",
       "    <tr>\n",
       "      <th>82</th>\n",
       "      <td>             L.Rosol</td>\n",
       "      <td>             J.Levine</td>\n",
       "    </tr>\n",
       "    <tr>\n",
       "      <th>83</th>\n",
       "      <td>          F.Pennetta</td>\n",
       "      <td>            M.Barthel</td>\n",
       "    </tr>\n",
       "    <tr>\n",
       "      <th>84</th>\n",
       "      <td>        Grega Zemlja</td>\n",
       "      <td>      Mikhail Youzhny</td>\n",
       "    </tr>\n",
       "    <tr>\n",
       "      <th>85</th>\n",
       "      <td>         E.Birnerova</td>\n",
       "      <td>              R Vinci</td>\n",
       "    </tr>\n",
       "    <tr>\n",
       "      <th>86</th>\n",
       "      <td> Teymuraz Gabashvili</td>\n",
       "      <td>        Storm Sanders</td>\n",
       "    </tr>\n",
       "    <tr>\n",
       "      <th>87</th>\n",
       "      <td>     Grigor Dimitrov</td>\n",
       "      <td>    Marcel Granollers</td>\n",
       "    </tr>\n",
       "    <tr>\n",
       "      <th>88</th>\n",
       "      <td>     Maria Kirilenko</td>\n",
       "      <td>    Victoria Azarenka</td>\n",
       "    </tr>\n",
       "    <tr>\n",
       "      <th>89</th>\n",
       "      <td>            A.Glatch</td>\n",
       "      <td>            M.Barthel</td>\n",
       "    </tr>\n",
       "    <tr>\n",
       "      <th>90</th>\n",
       "      <td>          Y Shvedova</td>\n",
       "      <td>          F.Schiavone</td>\n",
       "    </tr>\n",
       "    <tr>\n",
       "      <th>91</th>\n",
       "      <td>         Sara Errani</td>\n",
       "      <td>      Michael Russell</td>\n",
       "    </tr>\n",
       "    <tr>\n",
       "      <th>92</th>\n",
       "      <td>     Richard Gasquet</td>\n",
       "      <td>        Roger Federer</td>\n",
       "    </tr>\n",
       "    <tr>\n",
       "      <th>93</th>\n",
       "      <td>     Guillaume Rufin</td>\n",
       "      <td>  Alexandr Dolgopolov</td>\n",
       "    </tr>\n",
       "    <tr>\n",
       "      <th>94</th>\n",
       "      <td>                N Li</td>\n",
       "      <td> Mariana Duque-Marino</td>\n",
       "    </tr>\n",
       "    <tr>\n",
       "      <th>95</th>\n",
       "      <td>       Camila Giorgi</td>\n",
       "      <td>     Yanina Wickmayer</td>\n",
       "    </tr>\n",
       "    <tr>\n",
       "      <th>96</th>\n",
       "      <td>    Eugenie Bouchard</td>\n",
       "      <td>        Roger Federer</td>\n",
       "    </tr>\n",
       "    <tr>\n",
       "      <th>97</th>\n",
       "      <td>     Flavia Pennetta</td>\n",
       "      <td>        Roger Federer</td>\n",
       "    </tr>\n",
       "    <tr>\n",
       "      <th>98</th>\n",
       "      <td>             B.Paire</td>\n",
       "      <td>             S.Darcis</td>\n",
       "    </tr>\n",
       "    <tr>\n",
       "      <th>99</th>\n",
       "      <td>              Y-H.Lu</td>\n",
       "      <td>            T.Berdych</td>\n",
       "    </tr>\n",
       "  </tbody>\n",
       "</table>\n",
       "<p>100 rows × 2 columns</p>\n",
       "</div>"
      ],
      "text/plain": [
       "         Actual_Player2      Logistic_Player2\n",
       "0        Lesia Tsurenko          Lauren Davis\n",
       "1              A.Murray              A.Murray\n",
       "2          Ana Ivanovic       Elina Svitolina\n",
       "3        Novak Djokovic         Roger Federer\n",
       "4          Ana Ivanovic       Maria Sharapova\n",
       "5              V.Dolonc            S Stephens\n",
       "6              S.Stosur              J.Chardy\n",
       "7      Garbine Muguruza         Jeremy Chardy\n",
       "8       Mikhail Youzhny         Jeremy Chardy\n",
       "9          M.Przysiezny              J.Chardy\n",
       "10        K.De Schepper             C.Berlocq\n",
       "11  Francesca Schiavone       Maria Kirilenko\n",
       "12         Simona Halep          Simona Halep\n",
       "13   Daniela Hantuchova       Michael Russell\n",
       "14     Filippo Volandri          Gilles Simon\n",
       "15       Kevin Anderson       Michael Russell\n",
       "16            M.Bartoli      C.Suarez Navarro\n",
       "17           A.Petkovic           E.Birnerova\n",
       "18           E.Makarova      C Suarez Navarro\n",
       "19               V.King          M.Rybarikova\n",
       "20       Michael Llodra          Daniel Evans\n",
       "21             G.Zemlja               A.Seppi\n",
       "22      Michael Russell       Stephane Robert\n",
       "23   A Medina Garrigues              A Kerber\n",
       "24                M.Doi              A Kerber\n",
       "25           K.Flipkens              K.Kanepi\n",
       "26              G.Soeda              A.Murray\n",
       "27      Maria Sharapova       Elina Svitolina\n",
       "28        Steve Johnson             Jack Sock\n",
       "29          Guido Pella       Jarkko Nieminen\n",
       "..                  ...                   ...\n",
       "70       Lucie Safarova         Kei Nishikori\n",
       "71                 N.Li           D.Cibulkova\n",
       "72           V Williams              A Kerber\n",
       "73           F.Pennetta               I.Dodig\n",
       "74            S.Cirstea           D.Cibulkova\n",
       "75           V Azarenka           E Svitolina\n",
       "76         K.Date-Krumm           F.Schiavone\n",
       "77              S Halep            S Stephens\n",
       "78       Novak Djokovic    Daniela Hantuchova\n",
       "79      Nicolas Almagro       Marina Erakovic\n",
       "80           A.Ivanovic            K.Flipkens\n",
       "81          M.Sharapova                S.Peng\n",
       "82              L.Rosol              J.Levine\n",
       "83           F.Pennetta             M.Barthel\n",
       "84         Grega Zemlja       Mikhail Youzhny\n",
       "85          E.Birnerova               R Vinci\n",
       "86  Teymuraz Gabashvili         Storm Sanders\n",
       "87      Grigor Dimitrov     Marcel Granollers\n",
       "88      Maria Kirilenko     Victoria Azarenka\n",
       "89             A.Glatch             M.Barthel\n",
       "90           Y Shvedova           F.Schiavone\n",
       "91          Sara Errani       Michael Russell\n",
       "92      Richard Gasquet         Roger Federer\n",
       "93      Guillaume Rufin   Alexandr Dolgopolov\n",
       "94                 N Li  Mariana Duque-Marino\n",
       "95        Camila Giorgi      Yanina Wickmayer\n",
       "96     Eugenie Bouchard         Roger Federer\n",
       "97      Flavia Pennetta         Roger Federer\n",
       "98              B.Paire              S.Darcis\n",
       "99               Y-H.Lu             T.Berdych\n",
       "\n",
       "[100 rows x 2 columns]"
      ]
     },
     "execution_count": 491,
     "metadata": {},
     "output_type": "execute_result"
    }
   ],
   "source": [
    "results"
   ]
  },
  {
   "cell_type": "markdown",
   "metadata": {},
   "source": [
    "Lets see the palyers for which it has predicted correctly"
   ]
  },
  {
   "cell_type": "code",
   "execution_count": 492,
   "metadata": {
    "collapsed": false
   },
   "outputs": [
    {
     "data": {
      "text/html": [
       "<div style=\"max-height:1000px;max-width:1500px;overflow:auto;\">\n",
       "<table border=\"1\" class=\"dataframe\">\n",
       "  <thead>\n",
       "    <tr style=\"text-align: right;\">\n",
       "      <th></th>\n",
       "      <th>Actual_Player2</th>\n",
       "      <th>Logistic_Player2</th>\n",
       "    </tr>\n",
       "  </thead>\n",
       "  <tbody>\n",
       "    <tr>\n",
       "      <th>1 </th>\n",
       "      <td>     A.Murray</td>\n",
       "      <td>     A.Murray</td>\n",
       "    </tr>\n",
       "    <tr>\n",
       "      <th>12</th>\n",
       "      <td> Simona Halep</td>\n",
       "      <td> Simona Halep</td>\n",
       "    </tr>\n",
       "    <tr>\n",
       "      <th>44</th>\n",
       "      <td>     A.Murray</td>\n",
       "      <td>     A.Murray</td>\n",
       "    </tr>\n",
       "    <tr>\n",
       "      <th>64</th>\n",
       "      <td> Rafael Nadal</td>\n",
       "      <td> Rafael Nadal</td>\n",
       "    </tr>\n",
       "    <tr>\n",
       "      <th>69</th>\n",
       "      <td>    T.Berdych</td>\n",
       "      <td>    T.Berdych</td>\n",
       "    </tr>\n",
       "  </tbody>\n",
       "</table>\n",
       "</div>"
      ],
      "text/plain": [
       "   Actual_Player2 Logistic_Player2\n",
       "1        A.Murray         A.Murray\n",
       "12   Simona Halep     Simona Halep\n",
       "44       A.Murray         A.Murray\n",
       "64   Rafael Nadal     Rafael Nadal\n",
       "69      T.Berdych        T.Berdych"
      ]
     },
     "execution_count": 492,
     "metadata": {},
     "output_type": "execute_result"
    }
   ],
   "source": [
    "results[results['Actual_Player2'] == results['Logistic_Player2']]"
   ]
  },
  {
   "cell_type": "code",
   "execution_count": 493,
   "metadata": {
    "collapsed": false
   },
   "outputs": [
    {
     "data": {
      "text/plain": [
       "5"
      ]
     },
     "execution_count": 493,
     "metadata": {},
     "output_type": "execute_result"
    }
   ],
   "source": [
    "#Number of correct results\n",
    "len(results[results['Actual_Player2'] == results['Logistic_Player2']])"
   ]
  },
  {
   "cell_type": "code",
   "execution_count": 494,
   "metadata": {
    "collapsed": false
   },
   "outputs": [
    {
     "data": {
      "text/plain": [
       "95"
      ]
     },
     "execution_count": 494,
     "metadata": {},
     "output_type": "execute_result"
    }
   ],
   "source": [
    "#Number of ivcorrect results\n",
    "len(results[results['Actual_Player2'] != results['Logistic_Player2']])"
   ]
  },
  {
   "cell_type": "markdown",
   "metadata": {},
   "source": [
    "# Now lets predict the palyer names using SVM algorithm on the same data."
   ]
  },
  {
   "cell_type": "code",
   "execution_count": 495,
   "metadata": {
    "collapsed": true
   },
   "outputs": [],
   "source": [
    "from sklearn import svm\n",
    "svm_clf = svm.LinearSVC();"
   ]
  },
  {
   "cell_type": "code",
   "execution_count": 496,
   "metadata": {
    "collapsed": true
   },
   "outputs": [],
   "source": [
    "#Lets train the classifier\n",
    "svm_clf.fit(data_x, data_y);"
   ]
  },
  {
   "cell_type": "code",
   "execution_count": 497,
   "metadata": {
    "collapsed": true
   },
   "outputs": [],
   "source": [
    "#predict the result on test_data now\n",
    "predicted_results = svm_clf.predict(test_data_x)"
   ]
  },
  {
   "cell_type": "code",
   "execution_count": 498,
   "metadata": {
    "collapsed": true
   },
   "outputs": [],
   "source": [
    "#Lets fit the predicted results in the results data frame\n",
    "results['Svm_Player2'] = names_fit.inverse_transform(predicted_results[:])"
   ]
  },
  {
   "cell_type": "code",
   "execution_count": 499,
   "metadata": {
    "collapsed": false
   },
   "outputs": [
    {
     "data": {
      "text/html": [
       "<div style=\"max-height:1000px;max-width:1500px;overflow:auto;\">\n",
       "<table border=\"1\" class=\"dataframe\">\n",
       "  <thead>\n",
       "    <tr style=\"text-align: right;\">\n",
       "      <th></th>\n",
       "      <th>Actual_Player2</th>\n",
       "      <th>Logistic_Player2</th>\n",
       "      <th>Svm_Player2</th>\n",
       "    </tr>\n",
       "  </thead>\n",
       "  <tbody>\n",
       "    <tr>\n",
       "      <th>0 </th>\n",
       "      <td>      Lesia Tsurenko</td>\n",
       "      <td>         Lauren Davis</td>\n",
       "      <td>        Marina Erakovic</td>\n",
       "    </tr>\n",
       "    <tr>\n",
       "      <th>1 </th>\n",
       "      <td>            A.Murray</td>\n",
       "      <td>             A.Murray</td>\n",
       "      <td>                I.Dodig</td>\n",
       "    </tr>\n",
       "    <tr>\n",
       "      <th>2 </th>\n",
       "      <td>        Ana Ivanovic</td>\n",
       "      <td>      Elina Svitolina</td>\n",
       "      <td>        Elina Svitolina</td>\n",
       "    </tr>\n",
       "    <tr>\n",
       "      <th>3 </th>\n",
       "      <td>      Novak Djokovic</td>\n",
       "      <td>        Roger Federer</td>\n",
       "      <td>          Roger Federer</td>\n",
       "    </tr>\n",
       "    <tr>\n",
       "      <th>4 </th>\n",
       "      <td>        Ana Ivanovic</td>\n",
       "      <td>      Maria Sharapova</td>\n",
       "      <td>        Maria Sharapova</td>\n",
       "    </tr>\n",
       "    <tr>\n",
       "      <th>5 </th>\n",
       "      <td>            V.Dolonc</td>\n",
       "      <td>           S Stephens</td>\n",
       "      <td>             S Stephens</td>\n",
       "    </tr>\n",
       "    <tr>\n",
       "      <th>6 </th>\n",
       "      <td>            S.Stosur</td>\n",
       "      <td>             J.Chardy</td>\n",
       "      <td>     Thanasi Kokkinakis</td>\n",
       "    </tr>\n",
       "    <tr>\n",
       "      <th>7 </th>\n",
       "      <td>    Garbine Muguruza</td>\n",
       "      <td>        Jeremy Chardy</td>\n",
       "      <td> Guillermo Garcia-Lopez</td>\n",
       "    </tr>\n",
       "    <tr>\n",
       "      <th>8 </th>\n",
       "      <td>     Mikhail Youzhny</td>\n",
       "      <td>        Jeremy Chardy</td>\n",
       "      <td>        Elina Svitolina</td>\n",
       "    </tr>\n",
       "    <tr>\n",
       "      <th>9 </th>\n",
       "      <td>        M.Przysiezny</td>\n",
       "      <td>             J.Chardy</td>\n",
       "      <td>            J.Benneteau</td>\n",
       "    </tr>\n",
       "    <tr>\n",
       "      <th>10</th>\n",
       "      <td>       K.De Schepper</td>\n",
       "      <td>            C.Berlocq</td>\n",
       "      <td>            J.Benneteau</td>\n",
       "    </tr>\n",
       "    <tr>\n",
       "      <th>11</th>\n",
       "      <td> Francesca Schiavone</td>\n",
       "      <td>      Maria Kirilenko</td>\n",
       "      <td>           Ana Ivanovic</td>\n",
       "    </tr>\n",
       "    <tr>\n",
       "      <th>12</th>\n",
       "      <td>        Simona Halep</td>\n",
       "      <td>         Simona Halep</td>\n",
       "      <td>       Janko Tipsarevic</td>\n",
       "    </tr>\n",
       "    <tr>\n",
       "      <th>13</th>\n",
       "      <td>  Daniela Hantuchova</td>\n",
       "      <td>      Michael Russell</td>\n",
       "      <td>       Janko Tipsarevic</td>\n",
       "    </tr>\n",
       "    <tr>\n",
       "      <th>14</th>\n",
       "      <td>    Filippo Volandri</td>\n",
       "      <td>         Gilles Simon</td>\n",
       "      <td>               Go Soeda</td>\n",
       "    </tr>\n",
       "    <tr>\n",
       "      <th>15</th>\n",
       "      <td>      Kevin Anderson</td>\n",
       "      <td>      Michael Russell</td>\n",
       "      <td>         Frank Dancevic</td>\n",
       "    </tr>\n",
       "    <tr>\n",
       "      <th>16</th>\n",
       "      <td>           M.Bartoli</td>\n",
       "      <td>     C.Suarez Navarro</td>\n",
       "      <td>                 I.Begu</td>\n",
       "    </tr>\n",
       "    <tr>\n",
       "      <th>17</th>\n",
       "      <td>          A.Petkovic</td>\n",
       "      <td>          E.Birnerova</td>\n",
       "      <td>             M Burdette</td>\n",
       "    </tr>\n",
       "    <tr>\n",
       "      <th>18</th>\n",
       "      <td>          E.Makarova</td>\n",
       "      <td>     C Suarez Navarro</td>\n",
       "      <td>       C Suarez Navarro</td>\n",
       "    </tr>\n",
       "    <tr>\n",
       "      <th>19</th>\n",
       "      <td>              V.King</td>\n",
       "      <td>         M.Rybarikova</td>\n",
       "      <td>               C Giorgi</td>\n",
       "    </tr>\n",
       "    <tr>\n",
       "      <th>20</th>\n",
       "      <td>      Michael Llodra</td>\n",
       "      <td>         Daniel Evans</td>\n",
       "      <td>        Maria Kirilenko</td>\n",
       "    </tr>\n",
       "    <tr>\n",
       "      <th>21</th>\n",
       "      <td>            G.Zemlja</td>\n",
       "      <td>              A.Seppi</td>\n",
       "      <td>                A.Seppi</td>\n",
       "    </tr>\n",
       "    <tr>\n",
       "      <th>22</th>\n",
       "      <td>     Michael Russell</td>\n",
       "      <td>      Stephane Robert</td>\n",
       "      <td>        Elina Svitolina</td>\n",
       "    </tr>\n",
       "    <tr>\n",
       "      <th>23</th>\n",
       "      <td>  A Medina Garrigues</td>\n",
       "      <td>             A Kerber</td>\n",
       "      <td>           K Mladenovic</td>\n",
       "    </tr>\n",
       "    <tr>\n",
       "      <th>24</th>\n",
       "      <td>               M.Doi</td>\n",
       "      <td>             A Kerber</td>\n",
       "      <td>        Elina Svitolina</td>\n",
       "    </tr>\n",
       "    <tr>\n",
       "      <th>25</th>\n",
       "      <td>          K.Flipkens</td>\n",
       "      <td>             K.Kanepi</td>\n",
       "      <td>       Janko Tipsarevic</td>\n",
       "    </tr>\n",
       "    <tr>\n",
       "      <th>26</th>\n",
       "      <td>             G.Soeda</td>\n",
       "      <td>             A.Murray</td>\n",
       "      <td>            J.Del Potro</td>\n",
       "    </tr>\n",
       "    <tr>\n",
       "      <th>27</th>\n",
       "      <td>     Maria Sharapova</td>\n",
       "      <td>      Elina Svitolina</td>\n",
       "      <td>       Janko Tipsarevic</td>\n",
       "    </tr>\n",
       "    <tr>\n",
       "      <th>28</th>\n",
       "      <td>       Steve Johnson</td>\n",
       "      <td>            Jack Sock</td>\n",
       "      <td>       Janko Tipsarevic</td>\n",
       "    </tr>\n",
       "    <tr>\n",
       "      <th>29</th>\n",
       "      <td>         Guido Pella</td>\n",
       "      <td>      Jarkko Nieminen</td>\n",
       "      <td>               C McHale</td>\n",
       "    </tr>\n",
       "    <tr>\n",
       "      <th>...</th>\n",
       "      <td>...</td>\n",
       "      <td>...</td>\n",
       "      <td>...</td>\n",
       "    </tr>\n",
       "    <tr>\n",
       "      <th>70</th>\n",
       "      <td>      Lucie Safarova</td>\n",
       "      <td>        Kei Nishikori</td>\n",
       "      <td> Guillermo Garcia-Lopez</td>\n",
       "    </tr>\n",
       "    <tr>\n",
       "      <th>71</th>\n",
       "      <td>                N.Li</td>\n",
       "      <td>          D.Cibulkova</td>\n",
       "      <td>               S.Stosur</td>\n",
       "    </tr>\n",
       "    <tr>\n",
       "      <th>72</th>\n",
       "      <td>          V Williams</td>\n",
       "      <td>             A Kerber</td>\n",
       "      <td>            J.Benneteau</td>\n",
       "    </tr>\n",
       "    <tr>\n",
       "      <th>73</th>\n",
       "      <td>          F.Pennetta</td>\n",
       "      <td>              I.Dodig</td>\n",
       "      <td>          Jamie Hampton</td>\n",
       "    </tr>\n",
       "    <tr>\n",
       "      <th>74</th>\n",
       "      <td>           S.Cirstea</td>\n",
       "      <td>          D.Cibulkova</td>\n",
       "      <td>             M Burdette</td>\n",
       "    </tr>\n",
       "    <tr>\n",
       "      <th>75</th>\n",
       "      <td>          V Azarenka</td>\n",
       "      <td>          E Svitolina</td>\n",
       "      <td>            E Svitolina</td>\n",
       "    </tr>\n",
       "    <tr>\n",
       "      <th>76</th>\n",
       "      <td>        K.Date-Krumm</td>\n",
       "      <td>          F.Schiavone</td>\n",
       "      <td>        Elina Svitolina</td>\n",
       "    </tr>\n",
       "    <tr>\n",
       "      <th>77</th>\n",
       "      <td>             S Halep</td>\n",
       "      <td>           S Stephens</td>\n",
       "      <td>       C Suarez Navarro</td>\n",
       "    </tr>\n",
       "    <tr>\n",
       "      <th>78</th>\n",
       "      <td>      Novak Djokovic</td>\n",
       "      <td>   Daniela Hantuchova</td>\n",
       "      <td>        Elina Svitolina</td>\n",
       "    </tr>\n",
       "    <tr>\n",
       "      <th>79</th>\n",
       "      <td>     Nicolas Almagro</td>\n",
       "      <td>      Marina Erakovic</td>\n",
       "      <td>           D Hantuchova</td>\n",
       "    </tr>\n",
       "    <tr>\n",
       "      <th>80</th>\n",
       "      <td>          A.Ivanovic</td>\n",
       "      <td>           K.Flipkens</td>\n",
       "      <td>             K.Flipkens</td>\n",
       "    </tr>\n",
       "    <tr>\n",
       "      <th>81</th>\n",
       "      <td>         M.Sharapova</td>\n",
       "      <td>               S.Peng</td>\n",
       "      <td>               K.Kanepi</td>\n",
       "    </tr>\n",
       "    <tr>\n",
       "      <th>82</th>\n",
       "      <td>             L.Rosol</td>\n",
       "      <td>             J.Levine</td>\n",
       "      <td>               J.Levine</td>\n",
       "    </tr>\n",
       "    <tr>\n",
       "      <th>83</th>\n",
       "      <td>          F.Pennetta</td>\n",
       "      <td>            M.Barthel</td>\n",
       "      <td>        Elina Svitolina</td>\n",
       "    </tr>\n",
       "    <tr>\n",
       "      <th>84</th>\n",
       "      <td>        Grega Zemlja</td>\n",
       "      <td>      Mikhail Youzhny</td>\n",
       "      <td>     Thanasi Kokkinakis</td>\n",
       "    </tr>\n",
       "    <tr>\n",
       "      <th>85</th>\n",
       "      <td>         E.Birnerova</td>\n",
       "      <td>              R Vinci</td>\n",
       "      <td>                R Vinci</td>\n",
       "    </tr>\n",
       "    <tr>\n",
       "      <th>86</th>\n",
       "      <td> Teymuraz Gabashvili</td>\n",
       "      <td>        Storm Sanders</td>\n",
       "      <td>               C McHale</td>\n",
       "    </tr>\n",
       "    <tr>\n",
       "      <th>87</th>\n",
       "      <td>     Grigor Dimitrov</td>\n",
       "      <td>    Marcel Granollers</td>\n",
       "      <td>           G.Voskoboeva</td>\n",
       "    </tr>\n",
       "    <tr>\n",
       "      <th>88</th>\n",
       "      <td>     Maria Kirilenko</td>\n",
       "      <td>    Victoria Azarenka</td>\n",
       "      <td>           G.Voskoboeva</td>\n",
       "    </tr>\n",
       "    <tr>\n",
       "      <th>89</th>\n",
       "      <td>            A.Glatch</td>\n",
       "      <td>            M.Barthel</td>\n",
       "      <td>                 M.Keys</td>\n",
       "    </tr>\n",
       "    <tr>\n",
       "      <th>90</th>\n",
       "      <td>          Y Shvedova</td>\n",
       "      <td>          F.Schiavone</td>\n",
       "      <td>             M Burdette</td>\n",
       "    </tr>\n",
       "    <tr>\n",
       "      <th>91</th>\n",
       "      <td>         Sara Errani</td>\n",
       "      <td>      Michael Russell</td>\n",
       "      <td>            Sara Errani</td>\n",
       "    </tr>\n",
       "    <tr>\n",
       "      <th>92</th>\n",
       "      <td>     Richard Gasquet</td>\n",
       "      <td>        Roger Federer</td>\n",
       "      <td>        Nicolas Almagro</td>\n",
       "    </tr>\n",
       "    <tr>\n",
       "      <th>93</th>\n",
       "      <td>     Guillaume Rufin</td>\n",
       "      <td>  Alexandr Dolgopolov</td>\n",
       "      <td>              J.Goerges</td>\n",
       "    </tr>\n",
       "    <tr>\n",
       "      <th>94</th>\n",
       "      <td>                N Li</td>\n",
       "      <td> Mariana Duque-Marino</td>\n",
       "      <td>             M Burdette</td>\n",
       "    </tr>\n",
       "    <tr>\n",
       "      <th>95</th>\n",
       "      <td>       Camila Giorgi</td>\n",
       "      <td>     Yanina Wickmayer</td>\n",
       "      <td>       Yanina Wickmayer</td>\n",
       "    </tr>\n",
       "    <tr>\n",
       "      <th>96</th>\n",
       "      <td>    Eugenie Bouchard</td>\n",
       "      <td>        Roger Federer</td>\n",
       "      <td>          Kei Nishikori</td>\n",
       "    </tr>\n",
       "    <tr>\n",
       "      <th>97</th>\n",
       "      <td>     Flavia Pennetta</td>\n",
       "      <td>        Roger Federer</td>\n",
       "      <td>         Venus Williams</td>\n",
       "    </tr>\n",
       "    <tr>\n",
       "      <th>98</th>\n",
       "      <td>             B.Paire</td>\n",
       "      <td>             S.Darcis</td>\n",
       "      <td>            J.Benneteau</td>\n",
       "    </tr>\n",
       "    <tr>\n",
       "      <th>99</th>\n",
       "      <td>              Y-H.Lu</td>\n",
       "      <td>            T.Berdych</td>\n",
       "      <td>            J.Benneteau</td>\n",
       "    </tr>\n",
       "  </tbody>\n",
       "</table>\n",
       "<p>100 rows × 3 columns</p>\n",
       "</div>"
      ],
      "text/plain": [
       "         Actual_Player2      Logistic_Player2             Svm_Player2\n",
       "0        Lesia Tsurenko          Lauren Davis         Marina Erakovic\n",
       "1              A.Murray              A.Murray                 I.Dodig\n",
       "2          Ana Ivanovic       Elina Svitolina         Elina Svitolina\n",
       "3        Novak Djokovic         Roger Federer           Roger Federer\n",
       "4          Ana Ivanovic       Maria Sharapova         Maria Sharapova\n",
       "5              V.Dolonc            S Stephens              S Stephens\n",
       "6              S.Stosur              J.Chardy      Thanasi Kokkinakis\n",
       "7      Garbine Muguruza         Jeremy Chardy  Guillermo Garcia-Lopez\n",
       "8       Mikhail Youzhny         Jeremy Chardy         Elina Svitolina\n",
       "9          M.Przysiezny              J.Chardy             J.Benneteau\n",
       "10        K.De Schepper             C.Berlocq             J.Benneteau\n",
       "11  Francesca Schiavone       Maria Kirilenko            Ana Ivanovic\n",
       "12         Simona Halep          Simona Halep        Janko Tipsarevic\n",
       "13   Daniela Hantuchova       Michael Russell        Janko Tipsarevic\n",
       "14     Filippo Volandri          Gilles Simon                Go Soeda\n",
       "15       Kevin Anderson       Michael Russell          Frank Dancevic\n",
       "16            M.Bartoli      C.Suarez Navarro                  I.Begu\n",
       "17           A.Petkovic           E.Birnerova              M Burdette\n",
       "18           E.Makarova      C Suarez Navarro        C Suarez Navarro\n",
       "19               V.King          M.Rybarikova                C Giorgi\n",
       "20       Michael Llodra          Daniel Evans         Maria Kirilenko\n",
       "21             G.Zemlja               A.Seppi                 A.Seppi\n",
       "22      Michael Russell       Stephane Robert         Elina Svitolina\n",
       "23   A Medina Garrigues              A Kerber            K Mladenovic\n",
       "24                M.Doi              A Kerber         Elina Svitolina\n",
       "25           K.Flipkens              K.Kanepi        Janko Tipsarevic\n",
       "26              G.Soeda              A.Murray             J.Del Potro\n",
       "27      Maria Sharapova       Elina Svitolina        Janko Tipsarevic\n",
       "28        Steve Johnson             Jack Sock        Janko Tipsarevic\n",
       "29          Guido Pella       Jarkko Nieminen                C McHale\n",
       "..                  ...                   ...                     ...\n",
       "70       Lucie Safarova         Kei Nishikori  Guillermo Garcia-Lopez\n",
       "71                 N.Li           D.Cibulkova                S.Stosur\n",
       "72           V Williams              A Kerber             J.Benneteau\n",
       "73           F.Pennetta               I.Dodig           Jamie Hampton\n",
       "74            S.Cirstea           D.Cibulkova              M Burdette\n",
       "75           V Azarenka           E Svitolina             E Svitolina\n",
       "76         K.Date-Krumm           F.Schiavone         Elina Svitolina\n",
       "77              S Halep            S Stephens        C Suarez Navarro\n",
       "78       Novak Djokovic    Daniela Hantuchova         Elina Svitolina\n",
       "79      Nicolas Almagro       Marina Erakovic            D Hantuchova\n",
       "80           A.Ivanovic            K.Flipkens              K.Flipkens\n",
       "81          M.Sharapova                S.Peng                K.Kanepi\n",
       "82              L.Rosol              J.Levine                J.Levine\n",
       "83           F.Pennetta             M.Barthel         Elina Svitolina\n",
       "84         Grega Zemlja       Mikhail Youzhny      Thanasi Kokkinakis\n",
       "85          E.Birnerova               R Vinci                 R Vinci\n",
       "86  Teymuraz Gabashvili         Storm Sanders                C McHale\n",
       "87      Grigor Dimitrov     Marcel Granollers            G.Voskoboeva\n",
       "88      Maria Kirilenko     Victoria Azarenka            G.Voskoboeva\n",
       "89             A.Glatch             M.Barthel                  M.Keys\n",
       "90           Y Shvedova           F.Schiavone              M Burdette\n",
       "91          Sara Errani       Michael Russell             Sara Errani\n",
       "92      Richard Gasquet         Roger Federer         Nicolas Almagro\n",
       "93      Guillaume Rufin   Alexandr Dolgopolov               J.Goerges\n",
       "94                 N Li  Mariana Duque-Marino              M Burdette\n",
       "95        Camila Giorgi      Yanina Wickmayer        Yanina Wickmayer\n",
       "96     Eugenie Bouchard         Roger Federer           Kei Nishikori\n",
       "97      Flavia Pennetta         Roger Federer          Venus Williams\n",
       "98              B.Paire              S.Darcis             J.Benneteau\n",
       "99               Y-H.Lu             T.Berdych             J.Benneteau\n",
       "\n",
       "[100 rows x 3 columns]"
      ]
     },
     "execution_count": 499,
     "metadata": {},
     "output_type": "execute_result"
    }
   ],
   "source": [
    "results"
   ]
  },
  {
   "cell_type": "code",
   "execution_count": 500,
   "metadata": {
    "collapsed": false
   },
   "outputs": [
    {
     "data": {
      "text/plain": [
       "1"
      ]
     },
     "execution_count": 500,
     "metadata": {},
     "output_type": "execute_result"
    }
   ],
   "source": [
    "#number of correct predictions by svm\n",
    "len(results[results['Actual_Player2'] == results['Svm_Player2']])"
   ]
  },
  {
   "cell_type": "code",
   "execution_count": 501,
   "metadata": {
    "collapsed": false
   },
   "outputs": [
    {
     "data": {
      "text/html": [
       "<div style=\"max-height:1000px;max-width:1500px;overflow:auto;\">\n",
       "<table border=\"1\" class=\"dataframe\">\n",
       "  <thead>\n",
       "    <tr style=\"text-align: right;\">\n",
       "      <th></th>\n",
       "      <th>Actual_Player2</th>\n",
       "      <th>Logistic_Player2</th>\n",
       "      <th>Svm_Player2</th>\n",
       "    </tr>\n",
       "  </thead>\n",
       "  <tbody>\n",
       "    <tr>\n",
       "      <th>91</th>\n",
       "      <td> Sara Errani</td>\n",
       "      <td> Michael Russell</td>\n",
       "      <td> Sara Errani</td>\n",
       "    </tr>\n",
       "  </tbody>\n",
       "</table>\n",
       "</div>"
      ],
      "text/plain": [
       "   Actual_Player2 Logistic_Player2  Svm_Player2\n",
       "91    Sara Errani  Michael Russell  Sara Errani"
      ]
     },
     "execution_count": 501,
     "metadata": {},
     "output_type": "execute_result"
    }
   ],
   "source": [
    "#The players for which it predicted correctly is\n",
    "results[results['Actual_Player2'] == results['Svm_Player2']]"
   ]
  },
  {
   "cell_type": "markdown",
   "metadata": {},
   "source": [
    "Here we see that Logistic alogrithm predicted incorrectly for these players"
   ]
  },
  {
   "cell_type": "code",
   "execution_count": 502,
   "metadata": {
    "collapsed": false
   },
   "outputs": [
    {
     "data": {
      "text/plain": [
       "99"
      ]
     },
     "execution_count": 502,
     "metadata": {},
     "output_type": "execute_result"
    }
   ],
   "source": [
    "#number of incorrect predictions by svm\n",
    "len(results[results['Actual_Player2'] != results['Svm_Player2']])"
   ]
  },
  {
   "cell_type": "markdown",
   "metadata": {},
   "source": [
    "# Lets try SVM with RBF kernel now"
   ]
  },
  {
   "cell_type": "code",
   "execution_count": 503,
   "metadata": {
    "collapsed": true
   },
   "outputs": [],
   "source": [
    "svm_clf = svm.SVC(kernel='rbf')"
   ]
  },
  {
   "cell_type": "code",
   "execution_count": 504,
   "metadata": {
    "collapsed": false
   },
   "outputs": [
    {
     "data": {
      "text/plain": [
       "SVC(C=1.0, cache_size=200, class_weight=None, coef0=0.0, degree=3, gamma=0.0,\n",
       "  kernel='rbf', max_iter=-1, probability=False, random_state=None,\n",
       "  shrinking=True, tol=0.001, verbose=False)"
      ]
     },
     "execution_count": 504,
     "metadata": {},
     "output_type": "execute_result"
    }
   ],
   "source": [
    "svm_clf.fit(data_x, data_y)"
   ]
  },
  {
   "cell_type": "code",
   "execution_count": 505,
   "metadata": {
    "collapsed": true
   },
   "outputs": [],
   "source": [
    "#predict the result on test_data now\n",
    "predicted_results = svm_clf.predict(test_data_x)"
   ]
  },
  {
   "cell_type": "code",
   "execution_count": 506,
   "metadata": {
    "collapsed": true
   },
   "outputs": [],
   "source": [
    "#Lets fit the predicted results in the results data frame\n",
    "results['Svm_Player2'] = names_fit.inverse_transform(predicted_results[:])"
   ]
  },
  {
   "cell_type": "code",
   "execution_count": 507,
   "metadata": {
    "collapsed": false
   },
   "outputs": [
    {
     "data": {
      "text/html": [
       "<div style=\"max-height:1000px;max-width:1500px;overflow:auto;\">\n",
       "<table border=\"1\" class=\"dataframe\">\n",
       "  <thead>\n",
       "    <tr style=\"text-align: right;\">\n",
       "      <th></th>\n",
       "      <th>Actual_Player2</th>\n",
       "      <th>Logistic_Player2</th>\n",
       "      <th>Svm_Player2</th>\n",
       "    </tr>\n",
       "  </thead>\n",
       "  <tbody>\n",
       "  </tbody>\n",
       "</table>\n",
       "</div>"
      ],
      "text/plain": [
       "Empty DataFrame\n",
       "Columns: [Actual_Player2, Logistic_Player2, Svm_Player2]\n",
       "Index: []"
      ]
     },
     "execution_count": 507,
     "metadata": {},
     "output_type": "execute_result"
    }
   ],
   "source": [
    "#The players for which it predicted correctly is\n",
    "results[results['Actual_Player2'] == results['Svm_Player2']]"
   ]
  },
  {
   "cell_type": "code",
   "execution_count": 508,
   "metadata": {
    "collapsed": false
   },
   "outputs": [
    {
     "data": {
      "text/plain": [
       "0"
      ]
     },
     "execution_count": 508,
     "metadata": {},
     "output_type": "execute_result"
    }
   ],
   "source": [
    "#Number of correct predictions\n",
    "len(results[results['Actual_Player2'] == results['Svm_Player2']])"
   ]
  },
  {
   "cell_type": "code",
   "execution_count": 509,
   "metadata": {
    "collapsed": false
   },
   "outputs": [
    {
     "data": {
      "text/plain": [
       "100"
      ]
     },
     "execution_count": 509,
     "metadata": {},
     "output_type": "execute_result"
    }
   ],
   "source": [
    "#Number of incorrect predictions\n",
    "len(results[results['Actual_Player2'] != results['Svm_Player2']])"
   ]
  },
  {
   "cell_type": "code",
   "execution_count": 510,
   "metadata": {
    "collapsed": true
   },
   "outputs": [],
   "source": [
    "from sklearn.ensemble import RandomForestClassifier"
   ]
  },
  {
   "cell_type": "code",
   "execution_count": 519,
   "metadata": {
    "collapsed": true
   },
   "outputs": [],
   "source": [
    "forest_clf = RandomForestClassifier(n_estimators=200)"
   ]
  },
  {
   "cell_type": "code",
   "execution_count": 520,
   "metadata": {
    "collapsed": false
   },
   "outputs": [
    {
     "data": {
      "text/plain": [
       "RandomForestClassifier(bootstrap=True, compute_importances=None,\n",
       "            criterion='gini', max_depth=None, max_features='auto',\n",
       "            max_leaf_nodes=None, min_density=None, min_samples_leaf=1,\n",
       "            min_samples_split=2, n_estimators=200, n_jobs=1,\n",
       "            oob_score=False, random_state=None, verbose=0)"
      ]
     },
     "execution_count": 520,
     "metadata": {},
     "output_type": "execute_result"
    }
   ],
   "source": [
    "forest_clf.fit(data_x, data_y)"
   ]
  },
  {
   "cell_type": "code",
   "execution_count": 521,
   "metadata": {
    "collapsed": true
   },
   "outputs": [],
   "source": [
    "predicted_results = forest_clf.predict(test_data_x)"
   ]
  },
  {
   "cell_type": "code",
   "execution_count": 522,
   "metadata": {
    "collapsed": true
   },
   "outputs": [],
   "source": [
    "#Lets fit the predicted results in the results data frame\n",
    "results['Forest_Player2'] = names_fit.inverse_transform(predicted_results[:])"
   ]
  },
  {
   "cell_type": "code",
   "execution_count": 523,
   "metadata": {
    "collapsed": false
   },
   "outputs": [
    {
     "data": {
      "text/plain": [
       "5"
      ]
     },
     "execution_count": 523,
     "metadata": {},
     "output_type": "execute_result"
    }
   ],
   "source": [
    "#Number of correct predictions\n",
    "len(results[results['Actual_Player2'] == results['Forest_Player2']])"
   ]
  },
  {
   "cell_type": "code",
   "execution_count": 524,
   "metadata": {
    "collapsed": false
   },
   "outputs": [
    {
     "data": {
      "text/plain": [
       "95"
      ]
     },
     "execution_count": 524,
     "metadata": {},
     "output_type": "execute_result"
    }
   ],
   "source": [
    "#Number of incorrect predictions\n",
    "len(results[results['Actual_Player2'] != results['Forest_Player2']])"
   ]
  },
  {
   "cell_type": "code",
   "execution_count": null,
   "metadata": {
    "collapsed": true
   },
   "outputs": [],
   "source": []
  }
 ],
 "metadata": {
  "kernelspec": {
   "display_name": "Python 2",
   "language": "python",
   "name": "python2"
  },
  "language_info": {
   "codemirror_mode": {
    "name": "ipython",
    "version": 2
   },
   "file_extension": ".py",
   "mimetype": "text/x-python",
   "name": "python",
   "nbconvert_exporter": "python",
   "pygments_lexer": "ipython2",
   "version": "2.7.9"
  }
 },
 "nbformat": 4,
 "nbformat_minor": 0
}
