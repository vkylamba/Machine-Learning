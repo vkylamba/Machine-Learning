{
 "cells": [
  {
   "cell_type": "markdown",
   "metadata": {},
   "source": [
    "# This procedure does some machine learning tasks on the UCI Tennis data. The data is stored in the form of CSV files in current folder. We will use python to implement machine learning."
   ]
  },
  {
   "cell_type": "code",
   "execution_count": 860,
   "metadata": {
    "collapsed": true
   },
   "outputs": [],
   "source": [
    "#Lets load os module to fine the files present in the directory\n",
    "import os"
   ]
  },
  {
   "cell_type": "markdown",
   "metadata": {},
   "source": [
    "Our csv files are in the data folder. So let's see the files first"
   ]
  },
  {
   "cell_type": "code",
   "execution_count": 861,
   "metadata": {
    "collapsed": true
   },
   "outputs": [],
   "source": [
    "data_files_path = 'data/'\n",
    "data_files = os.listdir(data_files_path)"
   ]
  },
  {
   "cell_type": "code",
   "execution_count": 862,
   "metadata": {
    "collapsed": false
   },
   "outputs": [
    {
     "name": "stdout",
     "output_type": "stream",
     "text": [
      "['Wimbledon-women-2013.csv', 'FrenchOpen-women-2013.csv', 'AusOpen-men-2013.csv', 'FrenchOpen-men-2013.csv', 'Wimbledon-men-2013.csv', 'AusOpen-women-2013.csv', 'USOpen-women-2013.csv', 'USOpen-men-2013.csv']\n"
     ]
    }
   ],
   "source": [
    "print data_files"
   ]
  },
  {
   "cell_type": "markdown",
   "metadata": {},
   "source": [
    "Now lets load the data from the files. We will use pandas module to load the data."
   ]
  },
  {
   "cell_type": "code",
   "execution_count": 863,
   "metadata": {
    "collapsed": true
   },
   "outputs": [],
   "source": [
    "import pandas as pd\n",
    "input_data = pd.read_csv(data_files_path + data_files[0]);"
   ]
  },
  {
   "cell_type": "markdown",
   "metadata": {},
   "source": [
    "Now lets see how does the data looks. Lets see first 5 rows of the data."
   ]
  },
  {
   "cell_type": "code",
   "execution_count": 864,
   "metadata": {
    "collapsed": false
   },
   "outputs": [
    {
     "data": {
      "text/html": [
       "<div style=\"max-height:1000px;max-width:1500px;overflow:auto;\">\n",
       "<table border=\"1\" class=\"dataframe\">\n",
       "  <thead>\n",
       "    <tr style=\"text-align: right;\">\n",
       "      <th></th>\n",
       "      <th>Player1</th>\n",
       "      <th>Player2</th>\n",
       "      <th>Round</th>\n",
       "      <th>Result</th>\n",
       "      <th>FNL.1</th>\n",
       "      <th>FNL.2</th>\n",
       "      <th>FSP.1</th>\n",
       "      <th>FSW.1</th>\n",
       "      <th>SSP.1</th>\n",
       "      <th>SSW.1</th>\n",
       "      <th>...</th>\n",
       "      <th>BPC.2</th>\n",
       "      <th>BPW.2</th>\n",
       "      <th>NPA.2</th>\n",
       "      <th>NPW.2</th>\n",
       "      <th>TPW.2</th>\n",
       "      <th>ST1.2</th>\n",
       "      <th>ST2.2</th>\n",
       "      <th>ST3.2</th>\n",
       "      <th>ST4.2</th>\n",
       "      <th>ST5.2</th>\n",
       "    </tr>\n",
       "  </thead>\n",
       "  <tbody>\n",
       "    <tr>\n",
       "      <th>0</th>\n",
       "      <td>    M.Koehler</td>\n",
       "      <td> V.Azarenka</td>\n",
       "      <td> 1</td>\n",
       "      <td> 0</td>\n",
       "      <td> 0</td>\n",
       "      <td> 2</td>\n",
       "      <td> 60</td>\n",
       "      <td> 21</td>\n",
       "      <td> 40</td>\n",
       "      <td>  8</td>\n",
       "      <td>...</td>\n",
       "      <td> 16</td>\n",
       "      <td> 6</td>\n",
       "      <td>  8</td>\n",
       "      <td>  4</td>\n",
       "      <td>NaN</td>\n",
       "      <td> 6</td>\n",
       "      <td> 6</td>\n",
       "      <td>NaN</td>\n",
       "      <td>NaN</td>\n",
       "      <td>NaN</td>\n",
       "    </tr>\n",
       "    <tr>\n",
       "      <th>1</th>\n",
       "      <td>   E.Baltacha</td>\n",
       "      <td> F.Pennetta</td>\n",
       "      <td> 1</td>\n",
       "      <td> 0</td>\n",
       "      <td> 0</td>\n",
       "      <td> 2</td>\n",
       "      <td> 69</td>\n",
       "      <td> 23</td>\n",
       "      <td> 31</td>\n",
       "      <td>  6</td>\n",
       "      <td>...</td>\n",
       "      <td>  6</td>\n",
       "      <td> 5</td>\n",
       "      <td> 14</td>\n",
       "      <td> 11</td>\n",
       "      <td>NaN</td>\n",
       "      <td> 6</td>\n",
       "      <td> 6</td>\n",
       "      <td>NaN</td>\n",
       "      <td>NaN</td>\n",
       "      <td>NaN</td>\n",
       "    </tr>\n",
       "    <tr>\n",
       "      <th>2</th>\n",
       "      <td>    S-W.Hsieh</td>\n",
       "      <td>    T.Maria</td>\n",
       "      <td> 1</td>\n",
       "      <td> 1</td>\n",
       "      <td> 2</td>\n",
       "      <td> 0</td>\n",
       "      <td> 63</td>\n",
       "      <td> 17</td>\n",
       "      <td> 37</td>\n",
       "      <td> 10</td>\n",
       "      <td>...</td>\n",
       "      <td>  1</td>\n",
       "      <td> 0</td>\n",
       "      <td>  8</td>\n",
       "      <td>  2</td>\n",
       "      <td>NaN</td>\n",
       "      <td> 1</td>\n",
       "      <td> 0</td>\n",
       "      <td>NaN</td>\n",
       "      <td>NaN</td>\n",
       "      <td>NaN</td>\n",
       "    </tr>\n",
       "    <tr>\n",
       "      <th>3</th>\n",
       "      <td>     A.Cornet</td>\n",
       "      <td>     V.King</td>\n",
       "      <td> 1</td>\n",
       "      <td> 1</td>\n",
       "      <td> 2</td>\n",
       "      <td> 1</td>\n",
       "      <td> 57</td>\n",
       "      <td> 36</td>\n",
       "      <td> 43</td>\n",
       "      <td> 21</td>\n",
       "      <td>...</td>\n",
       "      <td>  4</td>\n",
       "      <td> 1</td>\n",
       "      <td> 48</td>\n",
       "      <td> 32</td>\n",
       "      <td>NaN</td>\n",
       "      <td> 6</td>\n",
       "      <td> 3</td>\n",
       "      <td>  1</td>\n",
       "      <td>NaN</td>\n",
       "      <td>NaN</td>\n",
       "    </tr>\n",
       "    <tr>\n",
       "      <th>4</th>\n",
       "      <td> Y.Putintseva</td>\n",
       "      <td> K.Flipkens</td>\n",
       "      <td> 1</td>\n",
       "      <td> 0</td>\n",
       "      <td> 0</td>\n",
       "      <td> 2</td>\n",
       "      <td> 73</td>\n",
       "      <td> 34</td>\n",
       "      <td> 27</td>\n",
       "      <td> 12</td>\n",
       "      <td>...</td>\n",
       "      <td>  9</td>\n",
       "      <td> 3</td>\n",
       "      <td> 35</td>\n",
       "      <td> 24</td>\n",
       "      <td>NaN</td>\n",
       "      <td> 7</td>\n",
       "      <td> 6</td>\n",
       "      <td>NaN</td>\n",
       "      <td>NaN</td>\n",
       "      <td>NaN</td>\n",
       "    </tr>\n",
       "  </tbody>\n",
       "</table>\n",
       "<p>5 rows × 42 columns</p>\n",
       "</div>"
      ],
      "text/plain": [
       "        Player1     Player2  Round  Result  FNL.1  FNL.2  FSP.1  FSW.1  SSP.1  \\\n",
       "0     M.Koehler  V.Azarenka      1       0      0      2     60     21     40   \n",
       "1    E.Baltacha  F.Pennetta      1       0      0      2     69     23     31   \n",
       "2     S-W.Hsieh     T.Maria      1       1      2      0     63     17     37   \n",
       "3      A.Cornet      V.King      1       1      2      1     57     36     43   \n",
       "4  Y.Putintseva  K.Flipkens      1       0      0      2     73     34     27   \n",
       "\n",
       "   SSW.1  ...    BPC.2  BPW.2  NPA.2  NPW.2  TPW.2  ST1.2  ST2.2  ST3.2  \\\n",
       "0      8  ...       16      6      8      4    NaN      6      6    NaN   \n",
       "1      6  ...        6      5     14     11    NaN      6      6    NaN   \n",
       "2     10  ...        1      0      8      2    NaN      1      0    NaN   \n",
       "3     21  ...        4      1     48     32    NaN      6      3      1   \n",
       "4     12  ...        9      3     35     24    NaN      7      6    NaN   \n",
       "\n",
       "   ST4.2  ST5.2  \n",
       "0    NaN    NaN  \n",
       "1    NaN    NaN  \n",
       "2    NaN    NaN  \n",
       "3    NaN    NaN  \n",
       "4    NaN    NaN  \n",
       "\n",
       "[5 rows x 42 columns]"
      ]
     },
     "execution_count": 864,
     "metadata": {},
     "output_type": "execute_result"
    }
   ],
   "source": [
    "input_data[:5]"
   ]
  },
  {
   "cell_type": "markdown",
   "metadata": {},
   "source": [
    "Lets see the Player1 column for first 5 rows"
   ]
  },
  {
   "cell_type": "code",
   "execution_count": 865,
   "metadata": {
    "collapsed": false
   },
   "outputs": [
    {
     "data": {
      "text/plain": [
       "0       M.Koehler\n",
       "1      E.Baltacha\n",
       "2       S-W.Hsieh\n",
       "3        A.Cornet\n",
       "4    Y.Putintseva\n",
       "Name: Player1, dtype: object"
      ]
     },
     "execution_count": 865,
     "metadata": {},
     "output_type": "execute_result"
    }
   ],
   "source": [
    "input_data['Player1'][:5]"
   ]
  },
  {
   "cell_type": "markdown",
   "metadata": {},
   "source": [
    "Now lets make a function to load data from all the data files. Since each file belongs to certain type of match/tournament. We will add additional column indiacting the file name or tournament type."
   ]
  },
  {
   "cell_type": "code",
   "execution_count": 866,
   "metadata": {
    "collapsed": true
   },
   "outputs": [],
   "source": [
    "def load_data(data_files):\n",
    "    input_data = None;\n",
    "    input_data_initialized = False; # to check the state of input_data variable\n",
    "    for file_name in data_files:\n",
    "        print 'Reading from file ' + file_name\n",
    "        if not input_data_initialized:\n",
    "            #Initialize the input_data\n",
    "            data = pd.read_csv(data_files_path + file_name);\n",
    "            input_data = data;\n",
    "            input_data['Type'] = file_name.split('.')[0];\n",
    "            input_data_initialized = True;\n",
    "        else:\n",
    "            #Store the data into data variable\n",
    "            data = pd.read_csv(data_files_path + file_name);\n",
    "            data['Type'] = file_name.split('.')[0];\n",
    "            #Append the data into input_data\n",
    "            input_data = input_data.append(data);\n",
    "    return input_data;"
   ]
  },
  {
   "cell_type": "code",
   "execution_count": 867,
   "metadata": {
    "collapsed": false
   },
   "outputs": [
    {
     "name": "stdout",
     "output_type": "stream",
     "text": [
      "Reading from file Wimbledon-women-2013.csv\n",
      "Reading from file FrenchOpen-women-2013.csv\n",
      "Reading from file AusOpen-men-2013.csv\n",
      "Reading from file FrenchOpen-men-2013.csv\n",
      "Reading from file Wimbledon-men-2013.csv\n",
      "Reading from file AusOpen-women-2013.csv\n",
      "Reading from file USOpen-women-2013.csv\n",
      "Reading from file USOpen-men-2013.csv\n"
     ]
    }
   ],
   "source": [
    "#Lets load data from all the files\n",
    "input_data = load_data(data_files);"
   ]
  },
  {
   "cell_type": "markdown",
   "metadata": {},
   "source": [
    "Lets check the size of data"
   ]
  },
  {
   "cell_type": "code",
   "execution_count": 868,
   "metadata": {
    "collapsed": false
   },
   "outputs": [
    {
     "data": {
      "text/plain": [
       "(943, 43)"
      ]
     },
     "execution_count": 868,
     "metadata": {},
     "output_type": "execute_result"
    }
   ],
   "source": [
    "input_data.shape"
   ]
  },
  {
   "cell_type": "markdown",
   "metadata": {},
   "source": [
    "This means the input_data have 943 rows and 42 columns"
   ]
  },
  {
   "cell_type": "markdown",
   "metadata": {},
   "source": [
    "Lets see first 5 rows of input_data"
   ]
  },
  {
   "cell_type": "code",
   "execution_count": 869,
   "metadata": {
    "collapsed": false
   },
   "outputs": [
    {
     "data": {
      "text/html": [
       "<div style=\"max-height:1000px;max-width:1500px;overflow:auto;\">\n",
       "<table border=\"1\" class=\"dataframe\">\n",
       "  <thead>\n",
       "    <tr style=\"text-align: right;\">\n",
       "      <th></th>\n",
       "      <th>Player1</th>\n",
       "      <th>Player2</th>\n",
       "      <th>Round</th>\n",
       "      <th>Result</th>\n",
       "      <th>FNL.1</th>\n",
       "      <th>FNL.2</th>\n",
       "      <th>FSP.1</th>\n",
       "      <th>FSW.1</th>\n",
       "      <th>SSP.1</th>\n",
       "      <th>SSW.1</th>\n",
       "      <th>...</th>\n",
       "      <th>BPW.2</th>\n",
       "      <th>NPA.2</th>\n",
       "      <th>NPW.2</th>\n",
       "      <th>TPW.2</th>\n",
       "      <th>ST1.2</th>\n",
       "      <th>ST2.2</th>\n",
       "      <th>ST3.2</th>\n",
       "      <th>ST4.2</th>\n",
       "      <th>ST5.2</th>\n",
       "      <th>Type</th>\n",
       "    </tr>\n",
       "  </thead>\n",
       "  <tbody>\n",
       "    <tr>\n",
       "      <th>0</th>\n",
       "      <td>    M.Koehler</td>\n",
       "      <td> V.Azarenka</td>\n",
       "      <td> 1</td>\n",
       "      <td> 0</td>\n",
       "      <td> 0</td>\n",
       "      <td> 2</td>\n",
       "      <td> 60</td>\n",
       "      <td> 21</td>\n",
       "      <td> 40</td>\n",
       "      <td>  8</td>\n",
       "      <td>...</td>\n",
       "      <td> 6</td>\n",
       "      <td>  8</td>\n",
       "      <td>  4</td>\n",
       "      <td>NaN</td>\n",
       "      <td> 6</td>\n",
       "      <td> 6</td>\n",
       "      <td>NaN</td>\n",
       "      <td>NaN</td>\n",
       "      <td>NaN</td>\n",
       "      <td> Wimbledon-women-2013</td>\n",
       "    </tr>\n",
       "    <tr>\n",
       "      <th>1</th>\n",
       "      <td>   E.Baltacha</td>\n",
       "      <td> F.Pennetta</td>\n",
       "      <td> 1</td>\n",
       "      <td> 0</td>\n",
       "      <td> 0</td>\n",
       "      <td> 2</td>\n",
       "      <td> 69</td>\n",
       "      <td> 23</td>\n",
       "      <td> 31</td>\n",
       "      <td>  6</td>\n",
       "      <td>...</td>\n",
       "      <td> 5</td>\n",
       "      <td> 14</td>\n",
       "      <td> 11</td>\n",
       "      <td>NaN</td>\n",
       "      <td> 6</td>\n",
       "      <td> 6</td>\n",
       "      <td>NaN</td>\n",
       "      <td>NaN</td>\n",
       "      <td>NaN</td>\n",
       "      <td> Wimbledon-women-2013</td>\n",
       "    </tr>\n",
       "    <tr>\n",
       "      <th>2</th>\n",
       "      <td>    S-W.Hsieh</td>\n",
       "      <td>    T.Maria</td>\n",
       "      <td> 1</td>\n",
       "      <td> 1</td>\n",
       "      <td> 2</td>\n",
       "      <td> 0</td>\n",
       "      <td> 63</td>\n",
       "      <td> 17</td>\n",
       "      <td> 37</td>\n",
       "      <td> 10</td>\n",
       "      <td>...</td>\n",
       "      <td> 0</td>\n",
       "      <td>  8</td>\n",
       "      <td>  2</td>\n",
       "      <td>NaN</td>\n",
       "      <td> 1</td>\n",
       "      <td> 0</td>\n",
       "      <td>NaN</td>\n",
       "      <td>NaN</td>\n",
       "      <td>NaN</td>\n",
       "      <td> Wimbledon-women-2013</td>\n",
       "    </tr>\n",
       "    <tr>\n",
       "      <th>3</th>\n",
       "      <td>     A.Cornet</td>\n",
       "      <td>     V.King</td>\n",
       "      <td> 1</td>\n",
       "      <td> 1</td>\n",
       "      <td> 2</td>\n",
       "      <td> 1</td>\n",
       "      <td> 57</td>\n",
       "      <td> 36</td>\n",
       "      <td> 43</td>\n",
       "      <td> 21</td>\n",
       "      <td>...</td>\n",
       "      <td> 1</td>\n",
       "      <td> 48</td>\n",
       "      <td> 32</td>\n",
       "      <td>NaN</td>\n",
       "      <td> 6</td>\n",
       "      <td> 3</td>\n",
       "      <td>  1</td>\n",
       "      <td>NaN</td>\n",
       "      <td>NaN</td>\n",
       "      <td> Wimbledon-women-2013</td>\n",
       "    </tr>\n",
       "    <tr>\n",
       "      <th>4</th>\n",
       "      <td> Y.Putintseva</td>\n",
       "      <td> K.Flipkens</td>\n",
       "      <td> 1</td>\n",
       "      <td> 0</td>\n",
       "      <td> 0</td>\n",
       "      <td> 2</td>\n",
       "      <td> 73</td>\n",
       "      <td> 34</td>\n",
       "      <td> 27</td>\n",
       "      <td> 12</td>\n",
       "      <td>...</td>\n",
       "      <td> 3</td>\n",
       "      <td> 35</td>\n",
       "      <td> 24</td>\n",
       "      <td>NaN</td>\n",
       "      <td> 7</td>\n",
       "      <td> 6</td>\n",
       "      <td>NaN</td>\n",
       "      <td>NaN</td>\n",
       "      <td>NaN</td>\n",
       "      <td> Wimbledon-women-2013</td>\n",
       "    </tr>\n",
       "  </tbody>\n",
       "</table>\n",
       "<p>5 rows × 43 columns</p>\n",
       "</div>"
      ],
      "text/plain": [
       "        Player1     Player2  Round  Result  FNL.1  FNL.2  FSP.1  FSW.1  SSP.1  \\\n",
       "0     M.Koehler  V.Azarenka      1       0      0      2     60     21     40   \n",
       "1    E.Baltacha  F.Pennetta      1       0      0      2     69     23     31   \n",
       "2     S-W.Hsieh     T.Maria      1       1      2      0     63     17     37   \n",
       "3      A.Cornet      V.King      1       1      2      1     57     36     43   \n",
       "4  Y.Putintseva  K.Flipkens      1       0      0      2     73     34     27   \n",
       "\n",
       "   SSW.1          ...           BPW.2  NPA.2  NPW.2  TPW.2  ST1.2  ST2.2  \\\n",
       "0      8          ...               6      8      4    NaN      6      6   \n",
       "1      6          ...               5     14     11    NaN      6      6   \n",
       "2     10          ...               0      8      2    NaN      1      0   \n",
       "3     21          ...               1     48     32    NaN      6      3   \n",
       "4     12          ...               3     35     24    NaN      7      6   \n",
       "\n",
       "   ST3.2  ST4.2  ST5.2                  Type  \n",
       "0    NaN    NaN    NaN  Wimbledon-women-2013  \n",
       "1    NaN    NaN    NaN  Wimbledon-women-2013  \n",
       "2    NaN    NaN    NaN  Wimbledon-women-2013  \n",
       "3      1    NaN    NaN  Wimbledon-women-2013  \n",
       "4    NaN    NaN    NaN  Wimbledon-women-2013  \n",
       "\n",
       "[5 rows x 43 columns]"
      ]
     },
     "execution_count": 869,
     "metadata": {},
     "output_type": "execute_result"
    }
   ],
   "source": [
    "input_data[:5]"
   ]
  },
  {
   "cell_type": "markdown",
   "metadata": {},
   "source": [
    "Lets read all the player names and match types"
   ]
  },
  {
   "cell_type": "code",
   "execution_count": 870,
   "metadata": {
    "collapsed": true
   },
   "outputs": [],
   "source": [
    "player_names = input_data['Player1'].copy();\n",
    "player_names = player_names.append(input_data['Player2']);\n",
    "\n",
    "tournament_types = input_data['Type'].copy();"
   ]
  },
  {
   "cell_type": "code",
   "execution_count": 871,
   "metadata": {
    "collapsed": false
   },
   "outputs": [
    {
     "data": {
      "text/plain": [
       "0       M.Koehler\n",
       "1      E.Baltacha\n",
       "2       S-W.Hsieh\n",
       "3        A.Cornet\n",
       "4    Y.Putintseva\n",
       "dtype: object"
      ]
     },
     "execution_count": 871,
     "metadata": {},
     "output_type": "execute_result"
    }
   ],
   "source": [
    "player_names[:5]"
   ]
  },
  {
   "cell_type": "markdown",
   "metadata": {},
   "source": [
    "We need to divide the data into two parts. One to train the learning algorithms, and other part to test the algorithms. We will select 100 rows randomaly for test data."
   ]
  },
  {
   "cell_type": "code",
   "execution_count": 872,
   "metadata": {
    "collapsed": false
   },
   "outputs": [],
   "source": [
    "import numpy as np\n",
    "#Lets randomize the rows in input_data\n",
    "input_data = input_data.take(np.random.permutation(len(input_data))[:])\n",
    "#Lets take first 100 rows now\n",
    "test_data = input_data[:100].copy();\n",
    "input_data = input_data[100:-1];"
   ]
  },
  {
   "cell_type": "markdown",
   "metadata": {},
   "source": [
    "Test data looks like:"
   ]
  },
  {
   "cell_type": "code",
   "execution_count": 873,
   "metadata": {
    "collapsed": false
   },
   "outputs": [
    {
     "data": {
      "text/plain": [
       "(100, 43)"
      ]
     },
     "execution_count": 873,
     "metadata": {},
     "output_type": "execute_result"
    }
   ],
   "source": [
    "test_data.shape"
   ]
  },
  {
   "cell_type": "code",
   "execution_count": 874,
   "metadata": {
    "collapsed": false
   },
   "outputs": [
    {
     "data": {
      "text/plain": [
       "(842, 43)"
      ]
     },
     "execution_count": 874,
     "metadata": {},
     "output_type": "execute_result"
    }
   ],
   "source": [
    "input_data.shape"
   ]
  },
  {
   "cell_type": "markdown",
   "metadata": {},
   "source": [
    "The Result column have results of all the matches. \n",
    "The result is 1 if Player1 won the match, it is zero if Player2 won the match. We will be feeding all this data to learning algorithm. The algorithm accepts numeric values only. So we need to convert the player names and match types into numeric values. We will be identifying each player with a unique number. To do so lets import preprocessing module of sklearn, and use the label encoder availabel in it."
   ]
  },
  {
   "cell_type": "code",
   "execution_count": 875,
   "metadata": {
    "collapsed": true
   },
   "outputs": [],
   "source": [
    "from sklearn import preprocessing\n",
    "name_encoder = preprocessing.LabelEncoder()\n",
    "tournament_encoder = preprocessing.LabelEncoder()"
   ]
  },
  {
   "cell_type": "markdown",
   "metadata": {},
   "source": [
    "Now lets transform the names into numeric values"
   ]
  },
  {
   "cell_type": "code",
   "execution_count": 876,
   "metadata": {
    "collapsed": false,
    "scrolled": true
   },
   "outputs": [],
   "source": [
    "names_fit = name_encoder.fit(player_names)\n",
    "tournament_fit = tournament_encoder.fit(tournament_types)\n",
    "input_data['Player1'] = names_fit.transform(input_data['Player1']);\n",
    "input_data['Player2'] = names_fit.transform(input_data['Player2']);\n",
    "input_data['Type'] = tournament_fit.transform(input_data['Type']);\n",
    "\n",
    "test_data['Player1'] = names_fit.transform(test_data['Player1']);\n",
    "test_data['Player2'] = names_fit.transform(test_data['Player2']);\n",
    "test_data['Type'] = tournament_fit.transform(test_data['Type']);"
   ]
  },
  {
   "cell_type": "code",
   "execution_count": 877,
   "metadata": {
    "collapsed": false
   },
   "outputs": [
    {
     "data": {
      "text/html": [
       "<div style=\"max-height:1000px;max-width:1500px;overflow:auto;\">\n",
       "<table border=\"1\" class=\"dataframe\">\n",
       "  <thead>\n",
       "    <tr style=\"text-align: right;\">\n",
       "      <th></th>\n",
       "      <th>Player1</th>\n",
       "      <th>Player2</th>\n",
       "      <th>Type</th>\n",
       "    </tr>\n",
       "  </thead>\n",
       "  <tbody>\n",
       "    <tr>\n",
       "      <th>104</th>\n",
       "      <td>  97</td>\n",
       "      <td> 331</td>\n",
       "      <td> 2</td>\n",
       "    </tr>\n",
       "    <tr>\n",
       "      <th>24 </th>\n",
       "      <td> 465</td>\n",
       "      <td> 423</td>\n",
       "      <td> 3</td>\n",
       "    </tr>\n",
       "    <tr>\n",
       "      <th>52 </th>\n",
       "      <td> 326</td>\n",
       "      <td> 219</td>\n",
       "      <td> 1</td>\n",
       "    </tr>\n",
       "    <tr>\n",
       "      <th>17 </th>\n",
       "      <td> 310</td>\n",
       "      <td> 503</td>\n",
       "      <td> 5</td>\n",
       "    </tr>\n",
       "    <tr>\n",
       "      <th>64 </th>\n",
       "      <td> 568</td>\n",
       "      <td> 639</td>\n",
       "      <td> 1</td>\n",
       "    </tr>\n",
       "  </tbody>\n",
       "</table>\n",
       "</div>"
      ],
      "text/plain": [
       "     Player1  Player2  Type\n",
       "104       97      331     2\n",
       "24       465      423     3\n",
       "52       326      219     1\n",
       "17       310      503     5\n",
       "64       568      639     1"
      ]
     },
     "execution_count": 877,
     "metadata": {},
     "output_type": "execute_result"
    }
   ],
   "source": [
    "input_data[['Player1', 'Player2', 'Type']][:5]"
   ]
  },
  {
   "cell_type": "code",
   "execution_count": 878,
   "metadata": {
    "collapsed": false
   },
   "outputs": [
    {
     "data": {
      "text/html": [
       "<div style=\"max-height:1000px;max-width:1500px;overflow:auto;\">\n",
       "<table border=\"1\" class=\"dataframe\">\n",
       "  <thead>\n",
       "    <tr style=\"text-align: right;\">\n",
       "      <th></th>\n",
       "      <th>Player1</th>\n",
       "      <th>Player2</th>\n",
       "      <th>Type</th>\n",
       "    </tr>\n",
       "  </thead>\n",
       "  <tbody>\n",
       "    <tr>\n",
       "      <th>94</th>\n",
       "      <td> 276</td>\n",
       "      <td> 217</td>\n",
       "      <td> 0</td>\n",
       "    </tr>\n",
       "    <tr>\n",
       "      <th>32</th>\n",
       "      <td> 398</td>\n",
       "      <td> 455</td>\n",
       "      <td> 7</td>\n",
       "    </tr>\n",
       "    <tr>\n",
       "      <th>46</th>\n",
       "      <td> 590</td>\n",
       "      <td> 393</td>\n",
       "      <td> 7</td>\n",
       "    </tr>\n",
       "    <tr>\n",
       "      <th>86</th>\n",
       "      <td> 517</td>\n",
       "      <td> 432</td>\n",
       "      <td> 2</td>\n",
       "    </tr>\n",
       "    <tr>\n",
       "      <th>85</th>\n",
       "      <td> 583</td>\n",
       "      <td> 442</td>\n",
       "      <td> 0</td>\n",
       "    </tr>\n",
       "  </tbody>\n",
       "</table>\n",
       "</div>"
      ],
      "text/plain": [
       "    Player1  Player2  Type\n",
       "94      276      217     0\n",
       "32      398      455     7\n",
       "46      590      393     7\n",
       "86      517      432     2\n",
       "85      583      442     0"
      ]
     },
     "execution_count": 878,
     "metadata": {},
     "output_type": "execute_result"
    }
   ],
   "source": [
    "test_data[['Player1', 'Player2', 'Type']][:5]"
   ]
  },
  {
   "cell_type": "markdown",
   "metadata": {},
   "source": [
    "And the input_data looks like:"
   ]
  },
  {
   "cell_type": "code",
   "execution_count": 879,
   "metadata": {
    "collapsed": false
   },
   "outputs": [
    {
     "data": {
      "text/html": [
       "<div style=\"max-height:1000px;max-width:1500px;overflow:auto;\">\n",
       "<table border=\"1\" class=\"dataframe\">\n",
       "  <thead>\n",
       "    <tr style=\"text-align: right;\">\n",
       "      <th></th>\n",
       "      <th>Player1</th>\n",
       "      <th>Player2</th>\n",
       "      <th>Round</th>\n",
       "      <th>Result</th>\n",
       "      <th>FNL.1</th>\n",
       "      <th>FNL.2</th>\n",
       "      <th>FSP.1</th>\n",
       "      <th>FSW.1</th>\n",
       "      <th>SSP.1</th>\n",
       "      <th>SSW.1</th>\n",
       "      <th>...</th>\n",
       "      <th>BPW.2</th>\n",
       "      <th>NPA.2</th>\n",
       "      <th>NPW.2</th>\n",
       "      <th>TPW.2</th>\n",
       "      <th>ST1.2</th>\n",
       "      <th>ST2.2</th>\n",
       "      <th>ST3.2</th>\n",
       "      <th>ST4.2</th>\n",
       "      <th>ST5.2</th>\n",
       "      <th>Type</th>\n",
       "    </tr>\n",
       "  </thead>\n",
       "  <tbody>\n",
       "    <tr>\n",
       "      <th>104</th>\n",
       "      <td>  97</td>\n",
       "      <td> 331</td>\n",
       "      <td> 3</td>\n",
       "      <td> 0</td>\n",
       "      <td> 1</td>\n",
       "      <td> 3</td>\n",
       "      <td> 43</td>\n",
       "      <td> 40</td>\n",
       "      <td> 57</td>\n",
       "      <td> 36</td>\n",
       "      <td>...</td>\n",
       "      <td> 19</td>\n",
       "      <td> 14</td>\n",
       "      <td> 27</td>\n",
       "      <td> 137</td>\n",
       "      <td> 6</td>\n",
       "      <td> 6</td>\n",
       "      <td>  6</td>\n",
       "      <td>  6</td>\n",
       "      <td>NaN</td>\n",
       "      <td> 2</td>\n",
       "    </tr>\n",
       "    <tr>\n",
       "      <th>24 </th>\n",
       "      <td> 465</td>\n",
       "      <td> 423</td>\n",
       "      <td> 1</td>\n",
       "      <td> 0</td>\n",
       "      <td> 0</td>\n",
       "      <td> 2</td>\n",
       "      <td> 69</td>\n",
       "      <td> 15</td>\n",
       "      <td> 31</td>\n",
       "      <td>  4</td>\n",
       "      <td>...</td>\n",
       "      <td> 11</td>\n",
       "      <td>  3</td>\n",
       "      <td>  5</td>\n",
       "      <td>  60</td>\n",
       "      <td> 6</td>\n",
       "      <td> 6</td>\n",
       "      <td>NaN</td>\n",
       "      <td>NaN</td>\n",
       "      <td>NaN</td>\n",
       "      <td> 3</td>\n",
       "    </tr>\n",
       "    <tr>\n",
       "      <th>52 </th>\n",
       "      <td> 326</td>\n",
       "      <td> 219</td>\n",
       "      <td> 1</td>\n",
       "      <td> 0</td>\n",
       "      <td> 1</td>\n",
       "      <td> 2</td>\n",
       "      <td> 64</td>\n",
       "      <td> 27</td>\n",
       "      <td> 36</td>\n",
       "      <td> 12</td>\n",
       "      <td>...</td>\n",
       "      <td> 12</td>\n",
       "      <td>  1</td>\n",
       "      <td>  3</td>\n",
       "      <td>  85</td>\n",
       "      <td> 6</td>\n",
       "      <td> 2</td>\n",
       "      <td>  6</td>\n",
       "      <td>NaN</td>\n",
       "      <td>NaN</td>\n",
       "      <td> 1</td>\n",
       "    </tr>\n",
       "    <tr>\n",
       "      <th>17 </th>\n",
       "      <td> 310</td>\n",
       "      <td> 503</td>\n",
       "      <td> 3</td>\n",
       "      <td> 0</td>\n",
       "      <td> 0</td>\n",
       "      <td> 2</td>\n",
       "      <td> 58</td>\n",
       "      <td> 22</td>\n",
       "      <td> 42</td>\n",
       "      <td>  8</td>\n",
       "      <td>...</td>\n",
       "      <td>  5</td>\n",
       "      <td> 17</td>\n",
       "      <td> 12</td>\n",
       "      <td> NaN</td>\n",
       "      <td> 6</td>\n",
       "      <td> 6</td>\n",
       "      <td>NaN</td>\n",
       "      <td>NaN</td>\n",
       "      <td>NaN</td>\n",
       "      <td> 5</td>\n",
       "    </tr>\n",
       "    <tr>\n",
       "      <th>64 </th>\n",
       "      <td> 568</td>\n",
       "      <td> 639</td>\n",
       "      <td> 2</td>\n",
       "      <td> 1</td>\n",
       "      <td> 2</td>\n",
       "      <td> 0</td>\n",
       "      <td> 66</td>\n",
       "      <td> 28</td>\n",
       "      <td> 34</td>\n",
       "      <td>  8</td>\n",
       "      <td>...</td>\n",
       "      <td>  1</td>\n",
       "      <td>  3</td>\n",
       "      <td>  3</td>\n",
       "      <td>  37</td>\n",
       "      <td> 1</td>\n",
       "      <td> 2</td>\n",
       "      <td>NaN</td>\n",
       "      <td>NaN</td>\n",
       "      <td>NaN</td>\n",
       "      <td> 1</td>\n",
       "    </tr>\n",
       "  </tbody>\n",
       "</table>\n",
       "<p>5 rows × 43 columns</p>\n",
       "</div>"
      ],
      "text/plain": [
       "     Player1  Player2  Round  Result  FNL.1  FNL.2  FSP.1  FSW.1  SSP.1  \\\n",
       "104       97      331      3       0      1      3     43     40     57   \n",
       "24       465      423      1       0      0      2     69     15     31   \n",
       "52       326      219      1       0      1      2     64     27     36   \n",
       "17       310      503      3       0      0      2     58     22     42   \n",
       "64       568      639      2       1      2      0     66     28     34   \n",
       "\n",
       "     SSW.1  ...   BPW.2  NPA.2  NPW.2  TPW.2  ST1.2  ST2.2  ST3.2  ST4.2  \\\n",
       "104     36  ...      19     14     27    137      6      6      6      6   \n",
       "24       4  ...      11      3      5     60      6      6    NaN    NaN   \n",
       "52      12  ...      12      1      3     85      6      2      6    NaN   \n",
       "17       8  ...       5     17     12    NaN      6      6    NaN    NaN   \n",
       "64       8  ...       1      3      3     37      1      2    NaN    NaN   \n",
       "\n",
       "     ST5.2  Type  \n",
       "104    NaN     2  \n",
       "24     NaN     3  \n",
       "52     NaN     1  \n",
       "17     NaN     5  \n",
       "64     NaN     1  \n",
       "\n",
       "[5 rows x 43 columns]"
      ]
     },
     "execution_count": 879,
     "metadata": {},
     "output_type": "execute_result"
    }
   ],
   "source": [
    "input_data[:5]"
   ]
  },
  {
   "cell_type": "markdown",
   "metadata": {},
   "source": [
    "Now we see that some data points are 'NaN', which is not a numeric value. So we need to replace it with numeric values. We will replace NaN values with 0. To check which values are 'NaN' there is isnul function which returns True if the value is null."
   ]
  },
  {
   "cell_type": "code",
   "execution_count": 880,
   "metadata": {
    "collapsed": false,
    "scrolled": true
   },
   "outputs": [
    {
     "data": {
      "text/html": [
       "<div style=\"max-height:1000px;max-width:1500px;overflow:auto;\">\n",
       "<table border=\"1\" class=\"dataframe\">\n",
       "  <thead>\n",
       "    <tr style=\"text-align: right;\">\n",
       "      <th></th>\n",
       "      <th>Player1</th>\n",
       "      <th>Player2</th>\n",
       "      <th>Round</th>\n",
       "      <th>Result</th>\n",
       "      <th>FNL.1</th>\n",
       "      <th>FNL.2</th>\n",
       "      <th>FSP.1</th>\n",
       "      <th>FSW.1</th>\n",
       "      <th>SSP.1</th>\n",
       "      <th>SSW.1</th>\n",
       "      <th>...</th>\n",
       "      <th>BPW.2</th>\n",
       "      <th>NPA.2</th>\n",
       "      <th>NPW.2</th>\n",
       "      <th>TPW.2</th>\n",
       "      <th>ST1.2</th>\n",
       "      <th>ST2.2</th>\n",
       "      <th>ST3.2</th>\n",
       "      <th>ST4.2</th>\n",
       "      <th>ST5.2</th>\n",
       "      <th>Type</th>\n",
       "    </tr>\n",
       "  </thead>\n",
       "  <tbody>\n",
       "    <tr>\n",
       "      <th>104</th>\n",
       "      <td> False</td>\n",
       "      <td> False</td>\n",
       "      <td> False</td>\n",
       "      <td> False</td>\n",
       "      <td> False</td>\n",
       "      <td> False</td>\n",
       "      <td> False</td>\n",
       "      <td> False</td>\n",
       "      <td> False</td>\n",
       "      <td> False</td>\n",
       "      <td>...</td>\n",
       "      <td> False</td>\n",
       "      <td> False</td>\n",
       "      <td> False</td>\n",
       "      <td> False</td>\n",
       "      <td> False</td>\n",
       "      <td> False</td>\n",
       "      <td> False</td>\n",
       "      <td> False</td>\n",
       "      <td> True</td>\n",
       "      <td> False</td>\n",
       "    </tr>\n",
       "    <tr>\n",
       "      <th>24 </th>\n",
       "      <td> False</td>\n",
       "      <td> False</td>\n",
       "      <td> False</td>\n",
       "      <td> False</td>\n",
       "      <td> False</td>\n",
       "      <td> False</td>\n",
       "      <td> False</td>\n",
       "      <td> False</td>\n",
       "      <td> False</td>\n",
       "      <td> False</td>\n",
       "      <td>...</td>\n",
       "      <td> False</td>\n",
       "      <td> False</td>\n",
       "      <td> False</td>\n",
       "      <td> False</td>\n",
       "      <td> False</td>\n",
       "      <td> False</td>\n",
       "      <td>  True</td>\n",
       "      <td>  True</td>\n",
       "      <td> True</td>\n",
       "      <td> False</td>\n",
       "    </tr>\n",
       "    <tr>\n",
       "      <th>52 </th>\n",
       "      <td> False</td>\n",
       "      <td> False</td>\n",
       "      <td> False</td>\n",
       "      <td> False</td>\n",
       "      <td> False</td>\n",
       "      <td> False</td>\n",
       "      <td> False</td>\n",
       "      <td> False</td>\n",
       "      <td> False</td>\n",
       "      <td> False</td>\n",
       "      <td>...</td>\n",
       "      <td> False</td>\n",
       "      <td> False</td>\n",
       "      <td> False</td>\n",
       "      <td> False</td>\n",
       "      <td> False</td>\n",
       "      <td> False</td>\n",
       "      <td> False</td>\n",
       "      <td>  True</td>\n",
       "      <td> True</td>\n",
       "      <td> False</td>\n",
       "    </tr>\n",
       "    <tr>\n",
       "      <th>17 </th>\n",
       "      <td> False</td>\n",
       "      <td> False</td>\n",
       "      <td> False</td>\n",
       "      <td> False</td>\n",
       "      <td> False</td>\n",
       "      <td> False</td>\n",
       "      <td> False</td>\n",
       "      <td> False</td>\n",
       "      <td> False</td>\n",
       "      <td> False</td>\n",
       "      <td>...</td>\n",
       "      <td> False</td>\n",
       "      <td> False</td>\n",
       "      <td> False</td>\n",
       "      <td>  True</td>\n",
       "      <td> False</td>\n",
       "      <td> False</td>\n",
       "      <td>  True</td>\n",
       "      <td>  True</td>\n",
       "      <td> True</td>\n",
       "      <td> False</td>\n",
       "    </tr>\n",
       "    <tr>\n",
       "      <th>64 </th>\n",
       "      <td> False</td>\n",
       "      <td> False</td>\n",
       "      <td> False</td>\n",
       "      <td> False</td>\n",
       "      <td> False</td>\n",
       "      <td> False</td>\n",
       "      <td> False</td>\n",
       "      <td> False</td>\n",
       "      <td> False</td>\n",
       "      <td> False</td>\n",
       "      <td>...</td>\n",
       "      <td> False</td>\n",
       "      <td> False</td>\n",
       "      <td> False</td>\n",
       "      <td> False</td>\n",
       "      <td> False</td>\n",
       "      <td> False</td>\n",
       "      <td>  True</td>\n",
       "      <td>  True</td>\n",
       "      <td> True</td>\n",
       "      <td> False</td>\n",
       "    </tr>\n",
       "  </tbody>\n",
       "</table>\n",
       "<p>5 rows × 43 columns</p>\n",
       "</div>"
      ],
      "text/plain": [
       "    Player1 Player2  Round Result  FNL.1  FNL.2  FSP.1  FSW.1  SSP.1  SSW.1  \\\n",
       "104   False   False  False  False  False  False  False  False  False  False   \n",
       "24    False   False  False  False  False  False  False  False  False  False   \n",
       "52    False   False  False  False  False  False  False  False  False  False   \n",
       "17    False   False  False  False  False  False  False  False  False  False   \n",
       "64    False   False  False  False  False  False  False  False  False  False   \n",
       "\n",
       "     ...    BPW.2  NPA.2  NPW.2  TPW.2  ST1.2  ST2.2  ST3.2  ST4.2 ST5.2  \\\n",
       "104  ...    False  False  False  False  False  False  False  False  True   \n",
       "24   ...    False  False  False  False  False  False   True   True  True   \n",
       "52   ...    False  False  False  False  False  False  False   True  True   \n",
       "17   ...    False  False  False   True  False  False   True   True  True   \n",
       "64   ...    False  False  False  False  False  False   True   True  True   \n",
       "\n",
       "      Type  \n",
       "104  False  \n",
       "24   False  \n",
       "52   False  \n",
       "17   False  \n",
       "64   False  \n",
       "\n",
       "[5 rows x 43 columns]"
      ]
     },
     "execution_count": 880,
     "metadata": {},
     "output_type": "execute_result"
    }
   ],
   "source": [
    "input_data.isnull()[:5]"
   ]
  },
  {
   "cell_type": "markdown",
   "metadata": {},
   "source": [
    "Lets replace all the null values with 0."
   ]
  },
  {
   "cell_type": "code",
   "execution_count": 881,
   "metadata": {
    "collapsed": false
   },
   "outputs": [],
   "source": [
    "input_data[input_data.isnull()] = 0\n",
    "test_data[test_data.isnull()] = 0"
   ]
  },
  {
   "cell_type": "code",
   "execution_count": 882,
   "metadata": {
    "collapsed": false
   },
   "outputs": [
    {
     "data": {
      "text/html": [
       "<div style=\"max-height:1000px;max-width:1500px;overflow:auto;\">\n",
       "<table border=\"1\" class=\"dataframe\">\n",
       "  <thead>\n",
       "    <tr style=\"text-align: right;\">\n",
       "      <th></th>\n",
       "      <th>Player1</th>\n",
       "      <th>Player2</th>\n",
       "      <th>Round</th>\n",
       "      <th>Result</th>\n",
       "      <th>FNL.1</th>\n",
       "      <th>FNL.2</th>\n",
       "      <th>FSP.1</th>\n",
       "      <th>FSW.1</th>\n",
       "      <th>SSP.1</th>\n",
       "      <th>SSW.1</th>\n",
       "      <th>...</th>\n",
       "      <th>BPW.2</th>\n",
       "      <th>NPA.2</th>\n",
       "      <th>NPW.2</th>\n",
       "      <th>TPW.2</th>\n",
       "      <th>ST1.2</th>\n",
       "      <th>ST2.2</th>\n",
       "      <th>ST3.2</th>\n",
       "      <th>ST4.2</th>\n",
       "      <th>ST5.2</th>\n",
       "      <th>Type</th>\n",
       "    </tr>\n",
       "  </thead>\n",
       "  <tbody>\n",
       "    <tr>\n",
       "      <th>104</th>\n",
       "      <td>  97</td>\n",
       "      <td> 331</td>\n",
       "      <td> 3</td>\n",
       "      <td> 0</td>\n",
       "      <td> 1</td>\n",
       "      <td> 3</td>\n",
       "      <td> 43</td>\n",
       "      <td> 40</td>\n",
       "      <td> 57</td>\n",
       "      <td> 36</td>\n",
       "      <td>...</td>\n",
       "      <td> 19</td>\n",
       "      <td> 14</td>\n",
       "      <td> 27</td>\n",
       "      <td> 137</td>\n",
       "      <td> 6</td>\n",
       "      <td> 6</td>\n",
       "      <td> 6</td>\n",
       "      <td> 6</td>\n",
       "      <td> 0</td>\n",
       "      <td> 2</td>\n",
       "    </tr>\n",
       "    <tr>\n",
       "      <th>24 </th>\n",
       "      <td> 465</td>\n",
       "      <td> 423</td>\n",
       "      <td> 1</td>\n",
       "      <td> 0</td>\n",
       "      <td> 0</td>\n",
       "      <td> 2</td>\n",
       "      <td> 69</td>\n",
       "      <td> 15</td>\n",
       "      <td> 31</td>\n",
       "      <td>  4</td>\n",
       "      <td>...</td>\n",
       "      <td> 11</td>\n",
       "      <td>  3</td>\n",
       "      <td>  5</td>\n",
       "      <td>  60</td>\n",
       "      <td> 6</td>\n",
       "      <td> 6</td>\n",
       "      <td> 0</td>\n",
       "      <td> 0</td>\n",
       "      <td> 0</td>\n",
       "      <td> 3</td>\n",
       "    </tr>\n",
       "    <tr>\n",
       "      <th>52 </th>\n",
       "      <td> 326</td>\n",
       "      <td> 219</td>\n",
       "      <td> 1</td>\n",
       "      <td> 0</td>\n",
       "      <td> 1</td>\n",
       "      <td> 2</td>\n",
       "      <td> 64</td>\n",
       "      <td> 27</td>\n",
       "      <td> 36</td>\n",
       "      <td> 12</td>\n",
       "      <td>...</td>\n",
       "      <td> 12</td>\n",
       "      <td>  1</td>\n",
       "      <td>  3</td>\n",
       "      <td>  85</td>\n",
       "      <td> 6</td>\n",
       "      <td> 2</td>\n",
       "      <td> 6</td>\n",
       "      <td> 0</td>\n",
       "      <td> 0</td>\n",
       "      <td> 1</td>\n",
       "    </tr>\n",
       "    <tr>\n",
       "      <th>17 </th>\n",
       "      <td> 310</td>\n",
       "      <td> 503</td>\n",
       "      <td> 3</td>\n",
       "      <td> 0</td>\n",
       "      <td> 0</td>\n",
       "      <td> 2</td>\n",
       "      <td> 58</td>\n",
       "      <td> 22</td>\n",
       "      <td> 42</td>\n",
       "      <td>  8</td>\n",
       "      <td>...</td>\n",
       "      <td>  5</td>\n",
       "      <td> 17</td>\n",
       "      <td> 12</td>\n",
       "      <td>   0</td>\n",
       "      <td> 6</td>\n",
       "      <td> 6</td>\n",
       "      <td> 0</td>\n",
       "      <td> 0</td>\n",
       "      <td> 0</td>\n",
       "      <td> 5</td>\n",
       "    </tr>\n",
       "    <tr>\n",
       "      <th>64 </th>\n",
       "      <td> 568</td>\n",
       "      <td> 639</td>\n",
       "      <td> 2</td>\n",
       "      <td> 1</td>\n",
       "      <td> 2</td>\n",
       "      <td> 0</td>\n",
       "      <td> 66</td>\n",
       "      <td> 28</td>\n",
       "      <td> 34</td>\n",
       "      <td>  8</td>\n",
       "      <td>...</td>\n",
       "      <td>  1</td>\n",
       "      <td>  3</td>\n",
       "      <td>  3</td>\n",
       "      <td>  37</td>\n",
       "      <td> 1</td>\n",
       "      <td> 2</td>\n",
       "      <td> 0</td>\n",
       "      <td> 0</td>\n",
       "      <td> 0</td>\n",
       "      <td> 1</td>\n",
       "    </tr>\n",
       "  </tbody>\n",
       "</table>\n",
       "<p>5 rows × 43 columns</p>\n",
       "</div>"
      ],
      "text/plain": [
       "     Player1  Player2  Round  Result  FNL.1  FNL.2  FSP.1  FSW.1  SSP.1  \\\n",
       "104       97      331      3       0      1      3     43     40     57   \n",
       "24       465      423      1       0      0      2     69     15     31   \n",
       "52       326      219      1       0      1      2     64     27     36   \n",
       "17       310      503      3       0      0      2     58     22     42   \n",
       "64       568      639      2       1      2      0     66     28     34   \n",
       "\n",
       "     SSW.1  ...   BPW.2  NPA.2  NPW.2  TPW.2  ST1.2  ST2.2  ST3.2  ST4.2  \\\n",
       "104     36  ...      19     14     27    137      6      6      6      6   \n",
       "24       4  ...      11      3      5     60      6      6      0      0   \n",
       "52      12  ...      12      1      3     85      6      2      6      0   \n",
       "17       8  ...       5     17     12      0      6      6      0      0   \n",
       "64       8  ...       1      3      3     37      1      2      0      0   \n",
       "\n",
       "     ST5.2  Type  \n",
       "104      0     2  \n",
       "24       0     3  \n",
       "52       0     1  \n",
       "17       0     5  \n",
       "64       0     1  \n",
       "\n",
       "[5 rows x 43 columns]"
      ]
     },
     "execution_count": 882,
     "metadata": {},
     "output_type": "execute_result"
    }
   ],
   "source": [
    "input_data[:5]"
   ]
  },
  {
   "cell_type": "code",
   "execution_count": 883,
   "metadata": {
    "collapsed": false
   },
   "outputs": [
    {
     "data": {
      "text/html": [
       "<div style=\"max-height:1000px;max-width:1500px;overflow:auto;\">\n",
       "<table border=\"1\" class=\"dataframe\">\n",
       "  <thead>\n",
       "    <tr style=\"text-align: right;\">\n",
       "      <th></th>\n",
       "      <th>Player1</th>\n",
       "      <th>Player2</th>\n",
       "      <th>Round</th>\n",
       "      <th>Result</th>\n",
       "      <th>FNL.1</th>\n",
       "      <th>FNL.2</th>\n",
       "      <th>FSP.1</th>\n",
       "      <th>FSW.1</th>\n",
       "      <th>SSP.1</th>\n",
       "      <th>SSW.1</th>\n",
       "      <th>...</th>\n",
       "      <th>BPW.2</th>\n",
       "      <th>NPA.2</th>\n",
       "      <th>NPW.2</th>\n",
       "      <th>TPW.2</th>\n",
       "      <th>ST1.2</th>\n",
       "      <th>ST2.2</th>\n",
       "      <th>ST3.2</th>\n",
       "      <th>ST4.2</th>\n",
       "      <th>ST5.2</th>\n",
       "      <th>Type</th>\n",
       "    </tr>\n",
       "  </thead>\n",
       "  <tbody>\n",
       "    <tr>\n",
       "      <th>94</th>\n",
       "      <td> 276</td>\n",
       "      <td> 217</td>\n",
       "      <td> 2</td>\n",
       "      <td> 0</td>\n",
       "      <td> 0</td>\n",
       "      <td> 3</td>\n",
       "      <td> 58</td>\n",
       "      <td> 48</td>\n",
       "      <td> 42</td>\n",
       "      <td> 23</td>\n",
       "      <td>...</td>\n",
       "      <td> 11</td>\n",
       "      <td> 20</td>\n",
       "      <td> 26</td>\n",
       "      <td> 117</td>\n",
       "      <td> 7</td>\n",
       "      <td> 7</td>\n",
       "      <td> 6</td>\n",
       "      <td> 0</td>\n",
       "      <td> 0</td>\n",
       "      <td> 0</td>\n",
       "    </tr>\n",
       "    <tr>\n",
       "      <th>32</th>\n",
       "      <td> 398</td>\n",
       "      <td> 455</td>\n",
       "      <td> 1</td>\n",
       "      <td> 0</td>\n",
       "      <td> 0</td>\n",
       "      <td> 2</td>\n",
       "      <td> 50</td>\n",
       "      <td> 11</td>\n",
       "      <td> 50</td>\n",
       "      <td> 11</td>\n",
       "      <td>...</td>\n",
       "      <td>  5</td>\n",
       "      <td> 18</td>\n",
       "      <td> 16</td>\n",
       "      <td>   0</td>\n",
       "      <td> 6</td>\n",
       "      <td> 6</td>\n",
       "      <td> 0</td>\n",
       "      <td> 0</td>\n",
       "      <td> 0</td>\n",
       "      <td> 7</td>\n",
       "    </tr>\n",
       "    <tr>\n",
       "      <th>46</th>\n",
       "      <td> 590</td>\n",
       "      <td> 393</td>\n",
       "      <td> 1</td>\n",
       "      <td> 0</td>\n",
       "      <td> 1</td>\n",
       "      <td> 2</td>\n",
       "      <td> 51</td>\n",
       "      <td> 25</td>\n",
       "      <td> 49</td>\n",
       "      <td> 15</td>\n",
       "      <td>...</td>\n",
       "      <td>  7</td>\n",
       "      <td> 18</td>\n",
       "      <td> 12</td>\n",
       "      <td>   0</td>\n",
       "      <td> 4</td>\n",
       "      <td> 6</td>\n",
       "      <td> 6</td>\n",
       "      <td> 0</td>\n",
       "      <td> 0</td>\n",
       "      <td> 7</td>\n",
       "    </tr>\n",
       "    <tr>\n",
       "      <th>86</th>\n",
       "      <td> 517</td>\n",
       "      <td> 432</td>\n",
       "      <td> 2</td>\n",
       "      <td> 1</td>\n",
       "      <td> 3</td>\n",
       "      <td> 1</td>\n",
       "      <td> 74</td>\n",
       "      <td> 55</td>\n",
       "      <td> 26</td>\n",
       "      <td> 10</td>\n",
       "      <td>...</td>\n",
       "      <td>  7</td>\n",
       "      <td> 15</td>\n",
       "      <td> 28</td>\n",
       "      <td>  90</td>\n",
       "      <td> 6</td>\n",
       "      <td> 3</td>\n",
       "      <td> 3</td>\n",
       "      <td> 3</td>\n",
       "      <td> 0</td>\n",
       "      <td> 2</td>\n",
       "    </tr>\n",
       "    <tr>\n",
       "      <th>85</th>\n",
       "      <td> 583</td>\n",
       "      <td> 442</td>\n",
       "      <td> 2</td>\n",
       "      <td> 1</td>\n",
       "      <td> 3</td>\n",
       "      <td> 1</td>\n",
       "      <td> 58</td>\n",
       "      <td> 56</td>\n",
       "      <td> 42</td>\n",
       "      <td> 30</td>\n",
       "      <td>...</td>\n",
       "      <td>  7</td>\n",
       "      <td> 22</td>\n",
       "      <td> 36</td>\n",
       "      <td> 112</td>\n",
       "      <td> 6</td>\n",
       "      <td> 1</td>\n",
       "      <td> 7</td>\n",
       "      <td> 1</td>\n",
       "      <td> 0</td>\n",
       "      <td> 0</td>\n",
       "    </tr>\n",
       "  </tbody>\n",
       "</table>\n",
       "<p>5 rows × 43 columns</p>\n",
       "</div>"
      ],
      "text/plain": [
       "    Player1  Player2  Round  Result  FNL.1  FNL.2  FSP.1  FSW.1  SSP.1  SSW.1  \\\n",
       "94      276      217      2       0      0      3     58     48     42     23   \n",
       "32      398      455      1       0      0      2     50     11     50     11   \n",
       "46      590      393      1       0      1      2     51     25     49     15   \n",
       "86      517      432      2       1      3      1     74     55     26     10   \n",
       "85      583      442      2       1      3      1     58     56     42     30   \n",
       "\n",
       "    ...   BPW.2  NPA.2  NPW.2  TPW.2  ST1.2  ST2.2  ST3.2  ST4.2  ST5.2  Type  \n",
       "94  ...      11     20     26    117      7      7      6      0      0     0  \n",
       "32  ...       5     18     16      0      6      6      0      0      0     7  \n",
       "46  ...       7     18     12      0      4      6      6      0      0     7  \n",
       "86  ...       7     15     28     90      6      3      3      3      0     2  \n",
       "85  ...       7     22     36    112      6      1      7      1      0     0  \n",
       "\n",
       "[5 rows x 43 columns]"
      ]
     },
     "execution_count": 883,
     "metadata": {},
     "output_type": "execute_result"
    }
   ],
   "source": [
    "test_data[:5]"
   ]
  },
  {
   "cell_type": "markdown",
   "metadata": {},
   "source": [
    "# Now lets make our first prediction function: Say we want to predict the result of the matches. \n",
    "The match result is stored in 'Result' column of the input_data. The result is a discrete variable, \n",
    "i.e. it is either 1 or 0. So we will use Logistci regression. The sklearn library have linear_model module which proides\n",
    "functions for Linear/Logistic regressions."
   ]
  },
  {
   "cell_type": "code",
   "execution_count": 884,
   "metadata": {
    "collapsed": true
   },
   "outputs": [],
   "source": [
    "from sklearn import linear_model\n",
    "logistic_regr = linear_model.LogisticRegression()"
   ]
  },
  {
   "cell_type": "markdown",
   "metadata": {},
   "source": [
    "We need to define input data and target data for the model. Out target data in this case will be data of the 'Result' column. And rest of the data will be input data. So lets seperate the input and target data."
   ]
  },
  {
   "cell_type": "code",
   "execution_count": 885,
   "metadata": {
    "collapsed": false
   },
   "outputs": [],
   "source": [
    "target_column = 'Result';\n",
    "input_data_columns = [];\n",
    "for column in input_data.keys():\n",
    "    if column != target_column:\n",
    "        input_data_columns.append(column);"
   ]
  },
  {
   "cell_type": "code",
   "execution_count": 886,
   "metadata": {
    "collapsed": false
   },
   "outputs": [
    {
     "data": {
      "text/plain": [
       "['Player1',\n",
       " 'Player2',\n",
       " 'Round',\n",
       " 'FNL.1',\n",
       " 'FNL.2',\n",
       " 'FSP.1',\n",
       " 'FSW.1',\n",
       " 'SSP.1',\n",
       " 'SSW.1',\n",
       " 'ACE.1',\n",
       " 'DBF.1',\n",
       " 'WNR.1',\n",
       " 'UFE.1',\n",
       " 'BPC.1',\n",
       " 'BPW.1',\n",
       " 'NPA.1',\n",
       " 'NPW.1',\n",
       " 'TPW.1',\n",
       " 'ST1.1',\n",
       " 'ST2.1',\n",
       " 'ST3.1',\n",
       " 'ST4.1',\n",
       " 'ST5.1',\n",
       " 'FSP.2',\n",
       " 'FSW.2',\n",
       " 'SSP.2',\n",
       " 'SSW.2',\n",
       " 'ACE.2',\n",
       " 'DBF.2',\n",
       " 'WNR.2',\n",
       " 'UFE.2',\n",
       " 'BPC.2',\n",
       " 'BPW.2',\n",
       " 'NPA.2',\n",
       " 'NPW.2',\n",
       " 'TPW.2',\n",
       " 'ST1.2',\n",
       " 'ST2.2',\n",
       " 'ST3.2',\n",
       " 'ST4.2',\n",
       " 'ST5.2',\n",
       " 'Type']"
      ]
     },
     "execution_count": 886,
     "metadata": {},
     "output_type": "execute_result"
    }
   ],
   "source": [
    "input_data_columns"
   ]
  },
  {
   "cell_type": "code",
   "execution_count": 887,
   "metadata": {
    "collapsed": true
   },
   "outputs": [],
   "source": [
    "data_x = input_data[input_data_columns];\n",
    "data_y = input_data[target_column];"
   ]
  },
  {
   "cell_type": "markdown",
   "metadata": {},
   "source": [
    "Lets train our classifier"
   ]
  },
  {
   "cell_type": "code",
   "execution_count": 888,
   "metadata": {
    "collapsed": true
   },
   "outputs": [],
   "source": [
    "clf = logistic_regr.fit(data_x, data_y);"
   ]
  },
  {
   "cell_type": "markdown",
   "metadata": {},
   "source": [
    "Now lets test this classifier on our test data"
   ]
  },
  {
   "cell_type": "code",
   "execution_count": 889,
   "metadata": {
    "collapsed": false
   },
   "outputs": [],
   "source": [
    "test_data_x = test_data[input_data_columns];\n",
    "predicted_result = clf.predict(test_data_x)"
   ]
  },
  {
   "cell_type": "code",
   "execution_count": 890,
   "metadata": {
    "collapsed": false
   },
   "outputs": [
    {
     "data": {
      "text/plain": [
       "array([0, 0, 0, 1, 1, 1, 0, 0, 1, 1, 0, 0, 1, 1, 1, 1, 0, 1, 1, 1, 1, 1, 1,\n",
       "       0, 0, 0, 0, 0, 1, 0, 1, 0, 1, 1, 1, 0, 1, 0, 1, 1, 0, 1, 1, 0, 1, 1,\n",
       "       0, 0, 0, 0, 1, 0, 0, 0, 0, 0, 1, 0, 0, 0, 0, 1, 0, 1, 1, 0, 1, 1, 1,\n",
       "       1, 0, 1, 1, 1, 0, 0, 0, 0, 0, 0, 1, 0, 1, 1, 1, 1, 0, 0, 1, 0, 0, 0,\n",
       "       0, 1, 0, 0, 0, 1, 0, 0])"
      ]
     },
     "execution_count": 890,
     "metadata": {},
     "output_type": "execute_result"
    }
   ],
   "source": [
    "predicted_result"
   ]
  },
  {
   "cell_type": "markdown",
   "metadata": {},
   "source": [
    "Now lets compare it with actual result of the matches."
   ]
  },
  {
   "cell_type": "code",
   "execution_count": 891,
   "metadata": {
    "collapsed": false
   },
   "outputs": [],
   "source": [
    "actual_result = test_data[target_column].values;"
   ]
  },
  {
   "cell_type": "markdown",
   "metadata": {},
   "source": [
    "Lets make a function to compare the results"
   ]
  },
  {
   "cell_type": "code",
   "execution_count": 892,
   "metadata": {
    "collapsed": true
   },
   "outputs": [],
   "source": [
    "def compare_data(predicted, actual):\n",
    "    total_match = 0;\n",
    "    total_mismatch = 0;\n",
    "    for i in range(0, len(predicted)):\n",
    "        if predicted[i] == actual[i]:\n",
    "            total_match += 1;\n",
    "        else:\n",
    "            total_mismatch += 1;\n",
    "    print 'Total tested: ' + str(total_match + total_mismatch);\n",
    "    print 'Correct results: ' + str(total_match);\n",
    "    print 'Incorrect results: ' + str(total_mismatch);"
   ]
  },
  {
   "cell_type": "code",
   "execution_count": 893,
   "metadata": {
    "collapsed": false
   },
   "outputs": [
    {
     "name": "stdout",
     "output_type": "stream",
     "text": [
      "Total tested: 100\n",
      "Correct results: 100\n",
      "Incorrect results: 0\n"
     ]
    }
   ],
   "source": [
    "compare_data(predicted_result, actual_result)"
   ]
  },
  {
   "cell_type": "markdown",
   "metadata": {},
   "source": [
    "Lets plot the data. We can use matplotlib module to plot the data"
   ]
  },
  {
   "cell_type": "code",
   "execution_count": 894,
   "metadata": {
    "collapsed": false
   },
   "outputs": [],
   "source": [
    "%matplotlib inline\n",
    "import matplotlib as plt\n",
    "pd.set_option('display.mpl_style', 'default') # Make the graphs a bit prettier"
   ]
  },
  {
   "cell_type": "code",
   "execution_count": 895,
   "metadata": {
    "collapsed": false
   },
   "outputs": [
    {
     "data": {
      "text/plain": [
       "array([<matplotlib.axes._subplots.AxesSubplot object at 0x7f2c862ed850>], dtype=object)"
      ]
     },
     "execution_count": 895,
     "metadata": {},
     "output_type": "execute_result"
    },
    {
     "data": {
      "image/png": "[encoded data removed]",
      "text/plain": [
       "<matplotlib.figure.Figure at 0x7f2c626e80d0>"
      ]
     },
     "metadata": {},
     "output_type": "display_data"
    }
   ],
   "source": [
    "test_data['Result'][:20].plot(kind='bar', subplots=True, figsize=(15, 5))"
   ]
  },
  {
   "cell_type": "markdown",
   "metadata": {},
   "source": [
    "To plot the predicted data we need to convert it into pandas data frame first."
   ]
  },
  {
   "cell_type": "code",
   "execution_count": 896,
   "metadata": {
    "collapsed": true
   },
   "outputs": [],
   "source": [
    "predicted_result = pd.DataFrame(predicted_result, columns=['Predicted Result']);"
   ]
  },
  {
   "cell_type": "code",
   "execution_count": 897,
   "metadata": {
    "collapsed": false
   },
   "outputs": [
    {
     "data": {
      "text/plain": [
       "array([<matplotlib.axes._subplots.AxesSubplot object at 0x7f2c37915090>], dtype=object)"
      ]
     },
     "execution_count": 897,
     "metadata": {},
     "output_type": "execute_result"
    },
    {
     "data": {
      "image/png": "[encoded data removed]",
      "text/plain": [
       "<matplotlib.figure.Figure at 0x7f2c3c493750>"
      ]
     },
     "metadata": {},
     "output_type": "display_data"
    }
   ],
   "source": [
    "predicted_result[:20].plot(kind='bar', subplots=True, figsize=(15, 5))"
   ]
  },
  {
   "cell_type": "markdown",
   "metadata": {},
   "source": [
    "We can see that both the graphs are exactly same."
   ]
  },
  {
   "cell_type": "markdown",
   "metadata": {},
   "source": [
    "# Now lets make another classifier which predicts how many Double Faults player one commits. \n",
    "The column which stores this data in input_data is 'DBF.1'. Since it is a continuous variable we will use linear \n",
    "regression this time. The target column will be 'DBF1' and rest of the columns will be input data for the classifier."
   ]
  },
  {
   "cell_type": "code",
   "execution_count": 898,
   "metadata": {
    "collapsed": true
   },
   "outputs": [],
   "source": [
    "target_column = 'DBF.1';\n",
    "input_data_columns = [];\n",
    "for column in input_data.keys():\n",
    "    if column != target_column:\n",
    "        input_data_columns.append(column);"
   ]
  },
  {
   "cell_type": "code",
   "execution_count": 899,
   "metadata": {
    "collapsed": true
   },
   "outputs": [],
   "source": [
    "data_x = input_data[input_data_columns];\n",
    "data_y = input_data[target_column];"
   ]
  },
  {
   "cell_type": "code",
   "execution_count": 900,
   "metadata": {
    "collapsed": true
   },
   "outputs": [],
   "source": [
    "linear_regr = linear_model.LinearRegression()"
   ]
  },
  {
   "cell_type": "code",
   "execution_count": 901,
   "metadata": {
    "collapsed": true
   },
   "outputs": [],
   "source": [
    "#Train the classifier\n",
    "clf = linear_regr.fit(data_x, data_y);"
   ]
  },
  {
   "cell_type": "code",
   "execution_count": 902,
   "metadata": {
    "collapsed": true
   },
   "outputs": [],
   "source": [
    "#Test data input\n",
    "test_data_x = test_data[input_data_columns];\n",
    "\n",
    "predicted_result = clf.predict(test_data_x)"
   ]
  },
  {
   "cell_type": "code",
   "execution_count": 903,
   "metadata": {
    "collapsed": false
   },
   "outputs": [
    {
     "data": {
      "text/plain": [
       "array([ 4.6807754 ,  2.74814154,  5.7547152 ,  2.59835707,  3.5741537 ,\n",
       "        4.61715699,  4.25682735,  2.50014081,  0.85882584,  2.03040124,\n",
       "       -0.21647355,  3.89913808,  2.49302772,  1.96312777,  3.90008352,\n",
       "        1.26450756,  1.87756698,  2.690476  ,  2.41177514,  3.7689064 ,\n",
       "        4.61406108,  3.16796618,  6.84437681,  3.47613382,  6.74253787,\n",
       "        2.99245833,  3.37776623,  4.49254527,  6.5125463 ,  3.61497829,\n",
       "        3.4071823 ,  3.50450105,  1.47960735,  5.06754886,  2.01215479,\n",
       "        3.61536968,  2.11816697,  3.65699522,  4.14249929,  3.87128127,\n",
       "        6.22777656,  3.73790753,  4.3544958 ,  3.81993735,  3.33751151,\n",
       "        5.12465966,  4.59656088,  3.83451933,  4.39090843,  4.27520305,\n",
       "        3.0523599 ,  3.31472356,  8.30825087,  3.67689785,  2.13132765,\n",
       "        5.46061115,  3.97163359,  3.92543485,  6.05249292,  6.00850435,\n",
       "        7.88229405,  2.43907427,  3.24320171,  0.95616103,  2.12885613,\n",
       "        4.67518323,  1.67323009,  3.63011277,  5.41522562,  1.50312295,\n",
       "        3.65764186,  2.04494725,  5.66455606,  2.06461613,  4.00841896,\n",
       "        3.35960579,  4.20148863,  3.17091908,  3.710936  ,  4.33146103,\n",
       "        1.17835677,  6.34855825,  3.40262899,  6.12896949,  0.91391578,\n",
       "        4.16800863,  6.90233797,  1.69958487,  0.64659609,  6.35369965,\n",
       "        1.70723291,  2.72202733,  3.30036586,  2.0154789 ,  2.28933499,\n",
       "        5.32890407,  4.08366837,  4.85606478,  2.16974007,  5.9723021 ])"
      ]
     },
     "execution_count": 903,
     "metadata": {},
     "output_type": "execute_result"
    }
   ],
   "source": [
    "predicted_result"
   ]
  },
  {
   "cell_type": "code",
   "execution_count": 904,
   "metadata": {
    "collapsed": false
   },
   "outputs": [],
   "source": [
    "test_data['Predicted_DBF.1'] = predicted_result"
   ]
  },
  {
   "cell_type": "code",
   "execution_count": 905,
   "metadata": {
    "collapsed": false
   },
   "outputs": [
    {
     "data": {
      "text/html": [
       "<div style=\"max-height:1000px;max-width:1500px;overflow:auto;\">\n",
       "<table border=\"1\" class=\"dataframe\">\n",
       "  <thead>\n",
       "    <tr style=\"text-align: right;\">\n",
       "      <th></th>\n",
       "      <th>DBF.1</th>\n",
       "      <th>Predicted_DBF.1</th>\n",
       "    </tr>\n",
       "  </thead>\n",
       "  <tbody>\n",
       "    <tr>\n",
       "      <th>94 </th>\n",
       "      <td>  9</td>\n",
       "      <td> 4.680775</td>\n",
       "    </tr>\n",
       "    <tr>\n",
       "      <th>32 </th>\n",
       "      <td>  2</td>\n",
       "      <td> 2.748142</td>\n",
       "    </tr>\n",
       "    <tr>\n",
       "      <th>46 </th>\n",
       "      <td>  8</td>\n",
       "      <td> 5.754715</td>\n",
       "    </tr>\n",
       "    <tr>\n",
       "      <th>86 </th>\n",
       "      <td>  2</td>\n",
       "      <td> 2.598357</td>\n",
       "    </tr>\n",
       "    <tr>\n",
       "      <th>85 </th>\n",
       "      <td>  8</td>\n",
       "      <td> 3.574154</td>\n",
       "    </tr>\n",
       "    <tr>\n",
       "      <th>33 </th>\n",
       "      <td>  3</td>\n",
       "      <td> 4.617157</td>\n",
       "    </tr>\n",
       "    <tr>\n",
       "      <th>93 </th>\n",
       "      <td>  2</td>\n",
       "      <td> 4.256827</td>\n",
       "    </tr>\n",
       "    <tr>\n",
       "      <th>12 </th>\n",
       "      <td>  4</td>\n",
       "      <td> 2.500141</td>\n",
       "    </tr>\n",
       "    <tr>\n",
       "      <th>104</th>\n",
       "      <td>  2</td>\n",
       "      <td> 0.858826</td>\n",
       "    </tr>\n",
       "    <tr>\n",
       "      <th>40 </th>\n",
       "      <td>  1</td>\n",
       "      <td> 2.030401</td>\n",
       "    </tr>\n",
       "    <tr>\n",
       "      <th>61 </th>\n",
       "      <td>  1</td>\n",
       "      <td>-0.216474</td>\n",
       "    </tr>\n",
       "    <tr>\n",
       "      <th>15 </th>\n",
       "      <td>  5</td>\n",
       "      <td> 3.899138</td>\n",
       "    </tr>\n",
       "    <tr>\n",
       "      <th>39 </th>\n",
       "      <td>  1</td>\n",
       "      <td> 2.493028</td>\n",
       "    </tr>\n",
       "    <tr>\n",
       "      <th>125</th>\n",
       "      <td>  2</td>\n",
       "      <td> 1.963128</td>\n",
       "    </tr>\n",
       "    <tr>\n",
       "      <th>29 </th>\n",
       "      <td>  5</td>\n",
       "      <td> 3.900084</td>\n",
       "    </tr>\n",
       "    <tr>\n",
       "      <th>31 </th>\n",
       "      <td>  0</td>\n",
       "      <td> 1.264508</td>\n",
       "    </tr>\n",
       "    <tr>\n",
       "      <th>26 </th>\n",
       "      <td>  3</td>\n",
       "      <td> 1.877567</td>\n",
       "    </tr>\n",
       "    <tr>\n",
       "      <th>59 </th>\n",
       "      <td>  5</td>\n",
       "      <td> 2.690476</td>\n",
       "    </tr>\n",
       "    <tr>\n",
       "      <th>2  </th>\n",
       "      <td>  1</td>\n",
       "      <td> 2.411775</td>\n",
       "    </tr>\n",
       "    <tr>\n",
       "      <th>52 </th>\n",
       "      <td>  2</td>\n",
       "      <td> 3.768906</td>\n",
       "    </tr>\n",
       "    <tr>\n",
       "      <th>1  </th>\n",
       "      <td>  2</td>\n",
       "      <td> 4.614061</td>\n",
       "    </tr>\n",
       "    <tr>\n",
       "      <th>118</th>\n",
       "      <td>  1</td>\n",
       "      <td> 3.167966</td>\n",
       "    </tr>\n",
       "    <tr>\n",
       "      <th>66 </th>\n",
       "      <td> 10</td>\n",
       "      <td> 6.844377</td>\n",
       "    </tr>\n",
       "    <tr>\n",
       "      <th>94 </th>\n",
       "      <td>  4</td>\n",
       "      <td> 3.476134</td>\n",
       "    </tr>\n",
       "    <tr>\n",
       "      <th>72 </th>\n",
       "      <td>  4</td>\n",
       "      <td> 6.742538</td>\n",
       "    </tr>\n",
       "    <tr>\n",
       "      <th>34 </th>\n",
       "      <td>  1</td>\n",
       "      <td> 2.992458</td>\n",
       "    </tr>\n",
       "    <tr>\n",
       "      <th>67 </th>\n",
       "      <td>  4</td>\n",
       "      <td> 3.377766</td>\n",
       "    </tr>\n",
       "    <tr>\n",
       "      <th>20 </th>\n",
       "      <td>  7</td>\n",
       "      <td> 4.492545</td>\n",
       "    </tr>\n",
       "    <tr>\n",
       "      <th>20 </th>\n",
       "      <td>  5</td>\n",
       "      <td> 6.512546</td>\n",
       "    </tr>\n",
       "    <tr>\n",
       "      <th>71 </th>\n",
       "      <td>  1</td>\n",
       "      <td> 3.614978</td>\n",
       "    </tr>\n",
       "    <tr>\n",
       "      <th>...</th>\n",
       "      <td>...</td>\n",
       "      <td>...</td>\n",
       "    </tr>\n",
       "    <tr>\n",
       "      <th>8  </th>\n",
       "      <td>  0</td>\n",
       "      <td> 3.657642</td>\n",
       "    </tr>\n",
       "    <tr>\n",
       "      <th>96 </th>\n",
       "      <td>  5</td>\n",
       "      <td> 2.044947</td>\n",
       "    </tr>\n",
       "    <tr>\n",
       "      <th>6  </th>\n",
       "      <td>  3</td>\n",
       "      <td> 5.664556</td>\n",
       "    </tr>\n",
       "    <tr>\n",
       "      <th>121</th>\n",
       "      <td>  0</td>\n",
       "      <td> 2.064616</td>\n",
       "    </tr>\n",
       "    <tr>\n",
       "      <th>80 </th>\n",
       "      <td>  0</td>\n",
       "      <td> 4.008419</td>\n",
       "    </tr>\n",
       "    <tr>\n",
       "      <th>44 </th>\n",
       "      <td>  6</td>\n",
       "      <td> 3.359606</td>\n",
       "    </tr>\n",
       "    <tr>\n",
       "      <th>3  </th>\n",
       "      <td>  6</td>\n",
       "      <td> 4.201489</td>\n",
       "    </tr>\n",
       "    <tr>\n",
       "      <th>4  </th>\n",
       "      <td>  4</td>\n",
       "      <td> 3.170919</td>\n",
       "    </tr>\n",
       "    <tr>\n",
       "      <th>16 </th>\n",
       "      <td>  4</td>\n",
       "      <td> 3.710936</td>\n",
       "    </tr>\n",
       "    <tr>\n",
       "      <th>1  </th>\n",
       "      <td>  4</td>\n",
       "      <td> 4.331461</td>\n",
       "    </tr>\n",
       "    <tr>\n",
       "      <th>119</th>\n",
       "      <td>  1</td>\n",
       "      <td> 1.178357</td>\n",
       "    </tr>\n",
       "    <tr>\n",
       "      <th>107</th>\n",
       "      <td>  9</td>\n",
       "      <td> 6.348558</td>\n",
       "    </tr>\n",
       "    <tr>\n",
       "      <th>86 </th>\n",
       "      <td>  5</td>\n",
       "      <td> 3.402629</td>\n",
       "    </tr>\n",
       "    <tr>\n",
       "      <th>73 </th>\n",
       "      <td>  3</td>\n",
       "      <td> 6.128969</td>\n",
       "    </tr>\n",
       "    <tr>\n",
       "      <th>55 </th>\n",
       "      <td>  1</td>\n",
       "      <td> 0.913916</td>\n",
       "    </tr>\n",
       "    <tr>\n",
       "      <th>33 </th>\n",
       "      <td>  4</td>\n",
       "      <td> 4.168009</td>\n",
       "    </tr>\n",
       "    <tr>\n",
       "      <th>16 </th>\n",
       "      <td> 14</td>\n",
       "      <td> 6.902338</td>\n",
       "    </tr>\n",
       "    <tr>\n",
       "      <th>124</th>\n",
       "      <td>  0</td>\n",
       "      <td> 1.699585</td>\n",
       "    </tr>\n",
       "    <tr>\n",
       "      <th>90 </th>\n",
       "      <td>  0</td>\n",
       "      <td> 0.646596</td>\n",
       "    </tr>\n",
       "    <tr>\n",
       "      <th>107</th>\n",
       "      <td>  3</td>\n",
       "      <td> 6.353700</td>\n",
       "    </tr>\n",
       "    <tr>\n",
       "      <th>39 </th>\n",
       "      <td>  3</td>\n",
       "      <td> 1.707233</td>\n",
       "    </tr>\n",
       "    <tr>\n",
       "      <th>119</th>\n",
       "      <td>  0</td>\n",
       "      <td> 2.722027</td>\n",
       "    </tr>\n",
       "    <tr>\n",
       "      <th>105</th>\n",
       "      <td>  3</td>\n",
       "      <td> 3.300366</td>\n",
       "    </tr>\n",
       "    <tr>\n",
       "      <th>102</th>\n",
       "      <td>  1</td>\n",
       "      <td> 2.015479</td>\n",
       "    </tr>\n",
       "    <tr>\n",
       "      <th>14 </th>\n",
       "      <td>  2</td>\n",
       "      <td> 2.289335</td>\n",
       "    </tr>\n",
       "    <tr>\n",
       "      <th>113</th>\n",
       "      <td>  3</td>\n",
       "      <td> 5.328904</td>\n",
       "    </tr>\n",
       "    <tr>\n",
       "      <th>124</th>\n",
       "      <td>  2</td>\n",
       "      <td> 4.083668</td>\n",
       "    </tr>\n",
       "    <tr>\n",
       "      <th>7  </th>\n",
       "      <td>  4</td>\n",
       "      <td> 4.856065</td>\n",
       "    </tr>\n",
       "    <tr>\n",
       "      <th>88 </th>\n",
       "      <td>  2</td>\n",
       "      <td> 2.169740</td>\n",
       "    </tr>\n",
       "    <tr>\n",
       "      <th>95 </th>\n",
       "      <td>  6</td>\n",
       "      <td> 5.972302</td>\n",
       "    </tr>\n",
       "  </tbody>\n",
       "</table>\n",
       "<p>100 rows × 2 columns</p>\n",
       "</div>"
      ],
      "text/plain": [
       "     DBF.1  Predicted_DBF.1\n",
       "94       9         4.680775\n",
       "32       2         2.748142\n",
       "46       8         5.754715\n",
       "86       2         2.598357\n",
       "85       8         3.574154\n",
       "33       3         4.617157\n",
       "93       2         4.256827\n",
       "12       4         2.500141\n",
       "104      2         0.858826\n",
       "40       1         2.030401\n",
       "61       1        -0.216474\n",
       "15       5         3.899138\n",
       "39       1         2.493028\n",
       "125      2         1.963128\n",
       "29       5         3.900084\n",
       "31       0         1.264508\n",
       "26       3         1.877567\n",
       "59       5         2.690476\n",
       "2        1         2.411775\n",
       "52       2         3.768906\n",
       "1        2         4.614061\n",
       "118      1         3.167966\n",
       "66      10         6.844377\n",
       "94       4         3.476134\n",
       "72       4         6.742538\n",
       "34       1         2.992458\n",
       "67       4         3.377766\n",
       "20       7         4.492545\n",
       "20       5         6.512546\n",
       "71       1         3.614978\n",
       "..     ...              ...\n",
       "8        0         3.657642\n",
       "96       5         2.044947\n",
       "6        3         5.664556\n",
       "121      0         2.064616\n",
       "80       0         4.008419\n",
       "44       6         3.359606\n",
       "3        6         4.201489\n",
       "4        4         3.170919\n",
       "16       4         3.710936\n",
       "1        4         4.331461\n",
       "119      1         1.178357\n",
       "107      9         6.348558\n",
       "86       5         3.402629\n",
       "73       3         6.128969\n",
       "55       1         0.913916\n",
       "33       4         4.168009\n",
       "16      14         6.902338\n",
       "124      0         1.699585\n",
       "90       0         0.646596\n",
       "107      3         6.353700\n",
       "39       3         1.707233\n",
       "119      0         2.722027\n",
       "105      3         3.300366\n",
       "102      1         2.015479\n",
       "14       2         2.289335\n",
       "113      3         5.328904\n",
       "124      2         4.083668\n",
       "7        4         4.856065\n",
       "88       2         2.169740\n",
       "95       6         5.972302\n",
       "\n",
       "[100 rows x 2 columns]"
      ]
     },
     "execution_count": 905,
     "metadata": {},
     "output_type": "execute_result"
    }
   ],
   "source": [
    "#Lets check the actual result versus predicted result\n",
    "test_data[['DBF.1', 'Predicted_DBF.1']]"
   ]
  },
  {
   "cell_type": "code",
   "execution_count": 906,
   "metadata": {
    "collapsed": false
   },
   "outputs": [
    {
     "data": {
      "text/plain": [
       "<matplotlib.axes._subplots.AxesSubplot at 0x7f2c32dd1310>"
      ]
     },
     "execution_count": 906,
     "metadata": {},
     "output_type": "execute_result"
    },
    {
     "data": {
      "image/png": "[encoded data removed]",
      "text/plain": [
       "<matplotlib.figure.Figure at 0x7f2c367f8350>"
      ]
     },
     "metadata": {},
     "output_type": "display_data"
    }
   ],
   "source": [
    "test_data[['DBF.1', 'Predicted_DBF.1']].plot(kind='bar', figsize=(15, 8))"
   ]
  },
  {
   "cell_type": "code",
   "execution_count": 907,
   "metadata": {
    "collapsed": true
   },
   "outputs": [],
   "source": [
    "test_data['Prediction_error'] = abs(test_data['DBF.1'] - test_data['Predicted_DBF.1'])*100/test_data['DBF.1']"
   ]
  },
  {
   "cell_type": "code",
   "execution_count": 908,
   "metadata": {
    "collapsed": false,
    "scrolled": true
   },
   "outputs": [
    {
     "data": {
      "image/png": "[encoded data removed]",
      "text/plain": [
       "<matplotlib.figure.Figure at 0x7f2c7db68650>"
      ]
     },
     "metadata": {},
     "output_type": "display_data"
    }
   ],
   "source": [
    "test_data['Prediction_error'].plot(kind='bar', figsize=(15, 8));"
   ]
  },
  {
   "cell_type": "markdown",
   "metadata": {},
   "source": [
    "# Lets now predict the tournament name to which a game belongs to:\n",
    "\n",
    "The data related to tournament name is in column 'Type'. We will predict it with Logistic regression, support vector machine and random forestal gorithms and will compare the results."
   ]
  },
  {
   "cell_type": "code",
   "execution_count": 909,
   "metadata": {
    "collapsed": true
   },
   "outputs": [],
   "source": [
    "#Our target column is 'Type'\n",
    "target_column = 'Type';\n",
    "input_data_columns = [];\n",
    "for column in input_data.keys():\n",
    "    if column != target_column:\n",
    "        input_data_columns.append(column);"
   ]
  },
  {
   "cell_type": "markdown",
   "metadata": {},
   "source": [
    "Based on the target column, lets get data_x, and data_y to train the classifier"
   ]
  },
  {
   "cell_type": "code",
   "execution_count": 910,
   "metadata": {
    "collapsed": false
   },
   "outputs": [],
   "source": [
    "data_x = input_data[input_data_columns];\n",
    "data_y = input_data[target_column];"
   ]
  },
  {
   "cell_type": "code",
   "execution_count": 911,
   "metadata": {
    "collapsed": false
   },
   "outputs": [],
   "source": [
    "from sklearn import svm\n",
    "from sklearn.ensemble import RandomForestClassifier\n",
    "#logistic regression classifier\n",
    "logistic_clf = linear_model.LogisticRegression();\n",
    "#Linear SVC classifier\n",
    "svm_clf = svm.LinearSVC();\n",
    "#Random forest classifier\n",
    "forest_clf = RandomForestClassifier(n_estimators=30)"
   ]
  },
  {
   "cell_type": "markdown",
   "metadata": {},
   "source": [
    "Lets train all the different classifiers now"
   ]
  },
  {
   "cell_type": "code",
   "execution_count": 912,
   "metadata": {
    "collapsed": true
   },
   "outputs": [],
   "source": [
    "logistic_clf.fit(data_x, data_y);\n",
    "\n",
    "svm_clf.fit(data_x, data_y);\n",
    "\n",
    "forest_clf.fit(data_x, data_y);"
   ]
  },
  {
   "cell_type": "code",
   "execution_count": 913,
   "metadata": {
    "collapsed": true
   },
   "outputs": [],
   "source": [
    "#Test data input\n",
    "test_data_x = test_data[input_data_columns];\n",
    "test_data_y = test_data[target_column];"
   ]
  },
  {
   "cell_type": "markdown",
   "metadata": {},
   "source": [
    "Lets predict results for each classifier now"
   ]
  },
  {
   "cell_type": "code",
   "execution_count": 914,
   "metadata": {
    "collapsed": false
   },
   "outputs": [],
   "source": [
    "logistic_predicted_results = logistic_clf.predict(test_data_x);\n",
    "svm_predicted_results = svm_clf.predict(test_data_x);\n",
    "forest_predicted_results = forest_clf.predict(test_data_x);"
   ]
  },
  {
   "cell_type": "markdown",
   "metadata": {},
   "source": [
    "Lets put all the results in a single data frame for easy comparision"
   ]
  },
  {
   "cell_type": "code",
   "execution_count": 915,
   "metadata": {
    "collapsed": false
   },
   "outputs": [],
   "source": [
    "results = pd.DataFrame({'Actual_Type': test_data_y.values,\n",
    "                        'Logistic_Predicted_Type': logistic_predicted_results,\n",
    "                        'Svm_Predicted_Type': svm_predicted_results,\n",
    "                        'Forest_predicted_Type': forest_predicted_results})"
   ]
  },
  {
   "cell_type": "code",
   "execution_count": 916,
   "metadata": {
    "collapsed": false
   },
   "outputs": [
    {
     "data": {
      "text/html": [
       "<div style=\"max-height:1000px;max-width:1500px;overflow:auto;\">\n",
       "<table border=\"1\" class=\"dataframe\">\n",
       "  <thead>\n",
       "    <tr style=\"text-align: right;\">\n",
       "      <th></th>\n",
       "      <th>Actual_Type</th>\n",
       "      <th>Forest_predicted_Type</th>\n",
       "      <th>Logistic_Predicted_Type</th>\n",
       "      <th>Svm_Predicted_Type</th>\n",
       "    </tr>\n",
       "  </thead>\n",
       "  <tbody>\n",
       "    <tr>\n",
       "      <th>0 </th>\n",
       "      <td> 0</td>\n",
       "      <td> 0</td>\n",
       "      <td> 0</td>\n",
       "      <td> 0</td>\n",
       "    </tr>\n",
       "    <tr>\n",
       "      <th>1 </th>\n",
       "      <td> 7</td>\n",
       "      <td> 7</td>\n",
       "      <td> 7</td>\n",
       "      <td> 7</td>\n",
       "    </tr>\n",
       "    <tr>\n",
       "      <th>2 </th>\n",
       "      <td> 7</td>\n",
       "      <td> 5</td>\n",
       "      <td> 5</td>\n",
       "      <td> 7</td>\n",
       "    </tr>\n",
       "    <tr>\n",
       "      <th>3 </th>\n",
       "      <td> 2</td>\n",
       "      <td> 2</td>\n",
       "      <td> 2</td>\n",
       "      <td> 0</td>\n",
       "    </tr>\n",
       "    <tr>\n",
       "      <th>4 </th>\n",
       "      <td> 0</td>\n",
       "      <td> 0</td>\n",
       "      <td> 0</td>\n",
       "      <td> 0</td>\n",
       "    </tr>\n",
       "    <tr>\n",
       "      <th>5 </th>\n",
       "      <td> 4</td>\n",
       "      <td> 4</td>\n",
       "      <td> 4</td>\n",
       "      <td> 0</td>\n",
       "    </tr>\n",
       "    <tr>\n",
       "      <th>6 </th>\n",
       "      <td> 1</td>\n",
       "      <td> 3</td>\n",
       "      <td> 1</td>\n",
       "      <td> 1</td>\n",
       "    </tr>\n",
       "    <tr>\n",
       "      <th>7 </th>\n",
       "      <td> 0</td>\n",
       "      <td> 0</td>\n",
       "      <td> 0</td>\n",
       "      <td> 0</td>\n",
       "    </tr>\n",
       "    <tr>\n",
       "      <th>8 </th>\n",
       "      <td> 4</td>\n",
       "      <td> 4</td>\n",
       "      <td> 4</td>\n",
       "      <td> 4</td>\n",
       "    </tr>\n",
       "    <tr>\n",
       "      <th>9 </th>\n",
       "      <td> 5</td>\n",
       "      <td> 7</td>\n",
       "      <td> 7</td>\n",
       "      <td> 7</td>\n",
       "    </tr>\n",
       "    <tr>\n",
       "      <th>10</th>\n",
       "      <td> 3</td>\n",
       "      <td> 3</td>\n",
       "      <td> 3</td>\n",
       "      <td> 0</td>\n",
       "    </tr>\n",
       "    <tr>\n",
       "      <th>11</th>\n",
       "      <td> 5</td>\n",
       "      <td> 5</td>\n",
       "      <td> 5</td>\n",
       "      <td> 7</td>\n",
       "    </tr>\n",
       "    <tr>\n",
       "      <th>12</th>\n",
       "      <td> 0</td>\n",
       "      <td> 2</td>\n",
       "      <td> 0</td>\n",
       "      <td> 0</td>\n",
       "    </tr>\n",
       "    <tr>\n",
       "      <th>13</th>\n",
       "      <td> 1</td>\n",
       "      <td> 3</td>\n",
       "      <td> 1</td>\n",
       "      <td> 1</td>\n",
       "    </tr>\n",
       "    <tr>\n",
       "      <th>14</th>\n",
       "      <td> 1</td>\n",
       "      <td> 1</td>\n",
       "      <td> 1</td>\n",
       "      <td> 1</td>\n",
       "    </tr>\n",
       "    <tr>\n",
       "      <th>15</th>\n",
       "      <td> 0</td>\n",
       "      <td> 0</td>\n",
       "      <td> 2</td>\n",
       "      <td> 0</td>\n",
       "    </tr>\n",
       "    <tr>\n",
       "      <th>16</th>\n",
       "      <td> 7</td>\n",
       "      <td> 7</td>\n",
       "      <td> 7</td>\n",
       "      <td> 7</td>\n",
       "    </tr>\n",
       "    <tr>\n",
       "      <th>17</th>\n",
       "      <td> 1</td>\n",
       "      <td> 1</td>\n",
       "      <td> 3</td>\n",
       "      <td> 0</td>\n",
       "    </tr>\n",
       "    <tr>\n",
       "      <th>18</th>\n",
       "      <td> 5</td>\n",
       "      <td> 5</td>\n",
       "      <td> 5</td>\n",
       "      <td> 7</td>\n",
       "    </tr>\n",
       "    <tr>\n",
       "      <th>19</th>\n",
       "      <td> 6</td>\n",
       "      <td> 6</td>\n",
       "      <td> 6</td>\n",
       "      <td> 6</td>\n",
       "    </tr>\n",
       "    <tr>\n",
       "      <th>20</th>\n",
       "      <td> 4</td>\n",
       "      <td> 4</td>\n",
       "      <td> 4</td>\n",
       "      <td> 4</td>\n",
       "    </tr>\n",
       "    <tr>\n",
       "      <th>21</th>\n",
       "      <td> 3</td>\n",
       "      <td> 3</td>\n",
       "      <td> 3</td>\n",
       "      <td> 0</td>\n",
       "    </tr>\n",
       "    <tr>\n",
       "      <th>22</th>\n",
       "      <td> 4</td>\n",
       "      <td> 4</td>\n",
       "      <td> 4</td>\n",
       "      <td> 4</td>\n",
       "    </tr>\n",
       "    <tr>\n",
       "      <th>23</th>\n",
       "      <td> 7</td>\n",
       "      <td> 7</td>\n",
       "      <td> 7</td>\n",
       "      <td> 7</td>\n",
       "    </tr>\n",
       "    <tr>\n",
       "      <th>24</th>\n",
       "      <td> 5</td>\n",
       "      <td> 5</td>\n",
       "      <td> 5</td>\n",
       "      <td> 5</td>\n",
       "    </tr>\n",
       "    <tr>\n",
       "      <th>25</th>\n",
       "      <td> 2</td>\n",
       "      <td> 0</td>\n",
       "      <td> 2</td>\n",
       "      <td> 0</td>\n",
       "    </tr>\n",
       "    <tr>\n",
       "      <th>26</th>\n",
       "      <td> 2</td>\n",
       "      <td> 0</td>\n",
       "      <td> 0</td>\n",
       "      <td> 0</td>\n",
       "    </tr>\n",
       "    <tr>\n",
       "      <th>27</th>\n",
       "      <td> 3</td>\n",
       "      <td> 3</td>\n",
       "      <td> 1</td>\n",
       "      <td> 0</td>\n",
       "    </tr>\n",
       "    <tr>\n",
       "      <th>28</th>\n",
       "      <td> 4</td>\n",
       "      <td> 4</td>\n",
       "      <td> 4</td>\n",
       "      <td> 4</td>\n",
       "    </tr>\n",
       "    <tr>\n",
       "      <th>29</th>\n",
       "      <td> 2</td>\n",
       "      <td> 2</td>\n",
       "      <td> 2</td>\n",
       "      <td> 0</td>\n",
       "    </tr>\n",
       "    <tr>\n",
       "      <th>...</th>\n",
       "      <td>...</td>\n",
       "      <td>...</td>\n",
       "      <td>...</td>\n",
       "      <td>...</td>\n",
       "    </tr>\n",
       "    <tr>\n",
       "      <th>70</th>\n",
       "      <td> 0</td>\n",
       "      <td> 2</td>\n",
       "      <td> 0</td>\n",
       "      <td> 0</td>\n",
       "    </tr>\n",
       "    <tr>\n",
       "      <th>71</th>\n",
       "      <td> 7</td>\n",
       "      <td> 7</td>\n",
       "      <td> 7</td>\n",
       "      <td> 7</td>\n",
       "    </tr>\n",
       "    <tr>\n",
       "      <th>72</th>\n",
       "      <td> 6</td>\n",
       "      <td> 6</td>\n",
       "      <td> 6</td>\n",
       "      <td> 6</td>\n",
       "    </tr>\n",
       "    <tr>\n",
       "      <th>73</th>\n",
       "      <td> 2</td>\n",
       "      <td> 2</td>\n",
       "      <td> 2</td>\n",
       "      <td> 0</td>\n",
       "    </tr>\n",
       "    <tr>\n",
       "      <th>74</th>\n",
       "      <td> 2</td>\n",
       "      <td> 0</td>\n",
       "      <td> 2</td>\n",
       "      <td> 0</td>\n",
       "    </tr>\n",
       "    <tr>\n",
       "      <th>75</th>\n",
       "      <td> 6</td>\n",
       "      <td> 6</td>\n",
       "      <td> 6</td>\n",
       "      <td> 7</td>\n",
       "    </tr>\n",
       "    <tr>\n",
       "      <th>76</th>\n",
       "      <td> 3</td>\n",
       "      <td> 1</td>\n",
       "      <td> 3</td>\n",
       "      <td> 1</td>\n",
       "    </tr>\n",
       "    <tr>\n",
       "      <th>77</th>\n",
       "      <td> 2</td>\n",
       "      <td> 0</td>\n",
       "      <td> 2</td>\n",
       "      <td> 0</td>\n",
       "    </tr>\n",
       "    <tr>\n",
       "      <th>78</th>\n",
       "      <td> 0</td>\n",
       "      <td> 2</td>\n",
       "      <td> 2</td>\n",
       "      <td> 0</td>\n",
       "    </tr>\n",
       "    <tr>\n",
       "      <th>79</th>\n",
       "      <td> 6</td>\n",
       "      <td> 6</td>\n",
       "      <td> 6</td>\n",
       "      <td> 6</td>\n",
       "    </tr>\n",
       "    <tr>\n",
       "      <th>80</th>\n",
       "      <td> 3</td>\n",
       "      <td> 1</td>\n",
       "      <td> 3</td>\n",
       "      <td> 0</td>\n",
       "    </tr>\n",
       "    <tr>\n",
       "      <th>81</th>\n",
       "      <td> 6</td>\n",
       "      <td> 6</td>\n",
       "      <td> 6</td>\n",
       "      <td> 6</td>\n",
       "    </tr>\n",
       "    <tr>\n",
       "      <th>82</th>\n",
       "      <td> 7</td>\n",
       "      <td> 7</td>\n",
       "      <td> 7</td>\n",
       "      <td> 7</td>\n",
       "    </tr>\n",
       "    <tr>\n",
       "      <th>83</th>\n",
       "      <td> 4</td>\n",
       "      <td> 4</td>\n",
       "      <td> 4</td>\n",
       "      <td> 4</td>\n",
       "    </tr>\n",
       "    <tr>\n",
       "      <th>84</th>\n",
       "      <td> 3</td>\n",
       "      <td> 1</td>\n",
       "      <td> 1</td>\n",
       "      <td> 1</td>\n",
       "    </tr>\n",
       "    <tr>\n",
       "      <th>85</th>\n",
       "      <td> 2</td>\n",
       "      <td> 2</td>\n",
       "      <td> 2</td>\n",
       "      <td> 0</td>\n",
       "    </tr>\n",
       "    <tr>\n",
       "      <th>86</th>\n",
       "      <td> 4</td>\n",
       "      <td> 4</td>\n",
       "      <td> 4</td>\n",
       "      <td> 4</td>\n",
       "    </tr>\n",
       "    <tr>\n",
       "      <th>87</th>\n",
       "      <td> 3</td>\n",
       "      <td> 1</td>\n",
       "      <td> 0</td>\n",
       "      <td> 0</td>\n",
       "    </tr>\n",
       "    <tr>\n",
       "      <th>88</th>\n",
       "      <td> 7</td>\n",
       "      <td> 7</td>\n",
       "      <td> 7</td>\n",
       "      <td> 7</td>\n",
       "    </tr>\n",
       "    <tr>\n",
       "      <th>89</th>\n",
       "      <td> 0</td>\n",
       "      <td> 0</td>\n",
       "      <td> 0</td>\n",
       "      <td> 0</td>\n",
       "    </tr>\n",
       "    <tr>\n",
       "      <th>90</th>\n",
       "      <td> 1</td>\n",
       "      <td> 1</td>\n",
       "      <td> 1</td>\n",
       "      <td> 0</td>\n",
       "    </tr>\n",
       "    <tr>\n",
       "      <th>91</th>\n",
       "      <td> 1</td>\n",
       "      <td> 3</td>\n",
       "      <td> 1</td>\n",
       "      <td> 0</td>\n",
       "    </tr>\n",
       "    <tr>\n",
       "      <th>92</th>\n",
       "      <td> 1</td>\n",
       "      <td> 3</td>\n",
       "      <td> 1</td>\n",
       "      <td> 0</td>\n",
       "    </tr>\n",
       "    <tr>\n",
       "      <th>93</th>\n",
       "      <td> 7</td>\n",
       "      <td> 7</td>\n",
       "      <td> 7</td>\n",
       "      <td> 7</td>\n",
       "    </tr>\n",
       "    <tr>\n",
       "      <th>94</th>\n",
       "      <td> 5</td>\n",
       "      <td> 7</td>\n",
       "      <td> 5</td>\n",
       "      <td> 7</td>\n",
       "    </tr>\n",
       "    <tr>\n",
       "      <th>95</th>\n",
       "      <td> 1</td>\n",
       "      <td> 3</td>\n",
       "      <td> 1</td>\n",
       "      <td> 0</td>\n",
       "    </tr>\n",
       "    <tr>\n",
       "      <th>96</th>\n",
       "      <td> 1</td>\n",
       "      <td> 3</td>\n",
       "      <td> 1</td>\n",
       "      <td> 1</td>\n",
       "    </tr>\n",
       "    <tr>\n",
       "      <th>97</th>\n",
       "      <td> 0</td>\n",
       "      <td> 1</td>\n",
       "      <td> 1</td>\n",
       "      <td> 1</td>\n",
       "    </tr>\n",
       "    <tr>\n",
       "      <th>98</th>\n",
       "      <td> 3</td>\n",
       "      <td> 3</td>\n",
       "      <td> 1</td>\n",
       "      <td> 1</td>\n",
       "    </tr>\n",
       "    <tr>\n",
       "      <th>99</th>\n",
       "      <td> 4</td>\n",
       "      <td> 4</td>\n",
       "      <td> 4</td>\n",
       "      <td> 4</td>\n",
       "    </tr>\n",
       "  </tbody>\n",
       "</table>\n",
       "<p>100 rows × 4 columns</p>\n",
       "</div>"
      ],
      "text/plain": [
       "    Actual_Type  Forest_predicted_Type  Logistic_Predicted_Type  \\\n",
       "0             0                      0                        0   \n",
       "1             7                      7                        7   \n",
       "2             7                      5                        5   \n",
       "3             2                      2                        2   \n",
       "4             0                      0                        0   \n",
       "5             4                      4                        4   \n",
       "6             1                      3                        1   \n",
       "7             0                      0                        0   \n",
       "8             4                      4                        4   \n",
       "9             5                      7                        7   \n",
       "10            3                      3                        3   \n",
       "11            5                      5                        5   \n",
       "12            0                      2                        0   \n",
       "13            1                      3                        1   \n",
       "14            1                      1                        1   \n",
       "15            0                      0                        2   \n",
       "16            7                      7                        7   \n",
       "17            1                      1                        3   \n",
       "18            5                      5                        5   \n",
       "19            6                      6                        6   \n",
       "20            4                      4                        4   \n",
       "21            3                      3                        3   \n",
       "22            4                      4                        4   \n",
       "23            7                      7                        7   \n",
       "24            5                      5                        5   \n",
       "25            2                      0                        2   \n",
       "26            2                      0                        0   \n",
       "27            3                      3                        1   \n",
       "28            4                      4                        4   \n",
       "29            2                      2                        2   \n",
       "..          ...                    ...                      ...   \n",
       "70            0                      2                        0   \n",
       "71            7                      7                        7   \n",
       "72            6                      6                        6   \n",
       "73            2                      2                        2   \n",
       "74            2                      0                        2   \n",
       "75            6                      6                        6   \n",
       "76            3                      1                        3   \n",
       "77            2                      0                        2   \n",
       "78            0                      2                        2   \n",
       "79            6                      6                        6   \n",
       "80            3                      1                        3   \n",
       "81            6                      6                        6   \n",
       "82            7                      7                        7   \n",
       "83            4                      4                        4   \n",
       "84            3                      1                        1   \n",
       "85            2                      2                        2   \n",
       "86            4                      4                        4   \n",
       "87            3                      1                        0   \n",
       "88            7                      7                        7   \n",
       "89            0                      0                        0   \n",
       "90            1                      1                        1   \n",
       "91            1                      3                        1   \n",
       "92            1                      3                        1   \n",
       "93            7                      7                        7   \n",
       "94            5                      7                        5   \n",
       "95            1                      3                        1   \n",
       "96            1                      3                        1   \n",
       "97            0                      1                        1   \n",
       "98            3                      3                        1   \n",
       "99            4                      4                        4   \n",
       "\n",
       "    Svm_Predicted_Type  \n",
       "0                    0  \n",
       "1                    7  \n",
       "2                    7  \n",
       "3                    0  \n",
       "4                    0  \n",
       "5                    0  \n",
       "6                    1  \n",
       "7                    0  \n",
       "8                    4  \n",
       "9                    7  \n",
       "10                   0  \n",
       "11                   7  \n",
       "12                   0  \n",
       "13                   1  \n",
       "14                   1  \n",
       "15                   0  \n",
       "16                   7  \n",
       "17                   0  \n",
       "18                   7  \n",
       "19                   6  \n",
       "20                   4  \n",
       "21                   0  \n",
       "22                   4  \n",
       "23                   7  \n",
       "24                   5  \n",
       "25                   0  \n",
       "26                   0  \n",
       "27                   0  \n",
       "28                   4  \n",
       "29                   0  \n",
       "..                 ...  \n",
       "70                   0  \n",
       "71                   7  \n",
       "72                   6  \n",
       "73                   0  \n",
       "74                   0  \n",
       "75                   7  \n",
       "76                   1  \n",
       "77                   0  \n",
       "78                   0  \n",
       "79                   6  \n",
       "80                   0  \n",
       "81                   6  \n",
       "82                   7  \n",
       "83                   4  \n",
       "84                   1  \n",
       "85                   0  \n",
       "86                   4  \n",
       "87                   0  \n",
       "88                   7  \n",
       "89                   0  \n",
       "90                   0  \n",
       "91                   0  \n",
       "92                   0  \n",
       "93                   7  \n",
       "94                   7  \n",
       "95                   0  \n",
       "96                   1  \n",
       "97                   1  \n",
       "98                   1  \n",
       "99                   4  \n",
       "\n",
       "[100 rows x 4 columns]"
      ]
     },
     "execution_count": 916,
     "metadata": {},
     "output_type": "execute_result"
    }
   ],
   "source": [
    "#Lets see the predicted results versus actual result\n",
    "results"
   ]
  },
  {
   "cell_type": "markdown",
   "metadata": {},
   "source": [
    "Number of correct predictions by Logistic regression classifier"
   ]
  },
  {
   "cell_type": "code",
   "execution_count": 917,
   "metadata": {
    "collapsed": false
   },
   "outputs": [
    {
     "data": {
      "text/plain": [
       "80"
      ]
     },
     "execution_count": 917,
     "metadata": {},
     "output_type": "execute_result"
    }
   ],
   "source": [
    "#Number of correct predictions\n",
    "len(results[results['Actual_Type'] == results['Logistic_Predicted_Type']])"
   ]
  },
  {
   "cell_type": "markdown",
   "metadata": {},
   "source": [
    "Number of correct predictions by SVM classifier"
   ]
  },
  {
   "cell_type": "code",
   "execution_count": 918,
   "metadata": {
    "collapsed": false
   },
   "outputs": [
    {
     "data": {
      "text/plain": [
       "53"
      ]
     },
     "execution_count": 918,
     "metadata": {},
     "output_type": "execute_result"
    }
   ],
   "source": [
    "#Number of correct predictions\n",
    "len(results[results['Actual_Type'] == results['Svm_Predicted_Type']])"
   ]
  },
  {
   "cell_type": "markdown",
   "metadata": {},
   "source": [
    "Number of correct predictions by Random forest classifier"
   ]
  },
  {
   "cell_type": "code",
   "execution_count": 919,
   "metadata": {
    "collapsed": false
   },
   "outputs": [
    {
     "data": {
      "text/plain": [
       "66"
      ]
     },
     "execution_count": 919,
     "metadata": {},
     "output_type": "execute_result"
    }
   ],
   "source": [
    "#Number of correct predictions\n",
    "len(results[results['Actual_Type'] == results['Forest_predicted_Type']])"
   ]
  },
  {
   "cell_type": "markdown",
   "metadata": {},
   "source": [
    "Lets plot the first 20 results"
   ]
  },
  {
   "cell_type": "code",
   "execution_count": 920,
   "metadata": {
    "collapsed": false,
    "scrolled": true
   },
   "outputs": [
    {
     "data": {
      "text/plain": [
       "<matplotlib.axes._subplots.AxesSubplot at 0x7f2c54770e50>"
      ]
     },
     "execution_count": 920,
     "metadata": {},
     "output_type": "execute_result"
    },
    {
     "data": {
      "image/png": "[encoded data removed]",
      "text/plain": [
       "<matplotlib.figure.Figure at 0x7f2c3c7f3a50>"
      ]
     },
     "metadata": {},
     "output_type": "display_data"
    }
   ],
   "source": [
    "results[:20].plot(kind='bar', figsize=(15, 8))"
   ]
  },
  {
   "cell_type": "markdown",
   "metadata": {
    "collapsed": true
   },
   "source": [
    "# Let us now make a classifier to predict \"Which palyer is playing against Player1 in the match?\" \n",
    "\n",
    "We will use Logistic regression first to predict the results. Then we will predict the results using SVM method, and will compare both the results. Lets start by gathering the training and test data."
   ]
  },
  {
   "cell_type": "code",
   "execution_count": 921,
   "metadata": {
    "collapsed": true
   },
   "outputs": [],
   "source": [
    "#Our target column is 'Player2'\n",
    "target_column = 'Player2';\n",
    "input_data_columns = [];\n",
    "for column in input_data.keys():\n",
    "    if column != target_column:\n",
    "        input_data_columns.append(column);"
   ]
  },
  {
   "cell_type": "code",
   "execution_count": 922,
   "metadata": {
    "collapsed": false
   },
   "outputs": [],
   "source": [
    "data_x = input_data[input_data_columns];\n",
    "data_y = input_data[target_column];\n",
    "\n",
    "test_data_x = test_data[input_data_columns];\n",
    "test_data_y = test_data[target_column];"
   ]
  },
  {
   "cell_type": "markdown",
   "metadata": {},
   "source": [
    "Lets verify the data by checking a few rows"
   ]
  },
  {
   "cell_type": "code",
   "execution_count": 923,
   "metadata": {
    "collapsed": false
   },
   "outputs": [
    {
     "data": {
      "text/html": [
       "<div style=\"max-height:1000px;max-width:1500px;overflow:auto;\">\n",
       "<table border=\"1\" class=\"dataframe\">\n",
       "  <thead>\n",
       "    <tr style=\"text-align: right;\">\n",
       "      <th></th>\n",
       "      <th>Player1</th>\n",
       "      <th>Round</th>\n",
       "      <th>Result</th>\n",
       "      <th>FNL.1</th>\n",
       "      <th>FNL.2</th>\n",
       "      <th>FSP.1</th>\n",
       "      <th>FSW.1</th>\n",
       "      <th>SSP.1</th>\n",
       "      <th>SSW.1</th>\n",
       "      <th>ACE.1</th>\n",
       "      <th>...</th>\n",
       "      <th>BPW.2</th>\n",
       "      <th>NPA.2</th>\n",
       "      <th>NPW.2</th>\n",
       "      <th>TPW.2</th>\n",
       "      <th>ST1.2</th>\n",
       "      <th>ST2.2</th>\n",
       "      <th>ST3.2</th>\n",
       "      <th>ST4.2</th>\n",
       "      <th>ST5.2</th>\n",
       "      <th>Type</th>\n",
       "    </tr>\n",
       "  </thead>\n",
       "  <tbody>\n",
       "    <tr>\n",
       "      <th>104</th>\n",
       "      <td>  97</td>\n",
       "      <td> 3</td>\n",
       "      <td> 0</td>\n",
       "      <td> 1</td>\n",
       "      <td> 3</td>\n",
       "      <td> 43</td>\n",
       "      <td> 40</td>\n",
       "      <td> 57</td>\n",
       "      <td> 36</td>\n",
       "      <td>  6</td>\n",
       "      <td>...</td>\n",
       "      <td> 19</td>\n",
       "      <td> 14</td>\n",
       "      <td> 27</td>\n",
       "      <td> 137</td>\n",
       "      <td> 6</td>\n",
       "      <td> 6</td>\n",
       "      <td> 6</td>\n",
       "      <td> 6</td>\n",
       "      <td> 0</td>\n",
       "      <td> 2</td>\n",
       "    </tr>\n",
       "    <tr>\n",
       "      <th>24 </th>\n",
       "      <td> 465</td>\n",
       "      <td> 1</td>\n",
       "      <td> 0</td>\n",
       "      <td> 0</td>\n",
       "      <td> 2</td>\n",
       "      <td> 69</td>\n",
       "      <td> 15</td>\n",
       "      <td> 31</td>\n",
       "      <td>  4</td>\n",
       "      <td>  0</td>\n",
       "      <td>...</td>\n",
       "      <td> 11</td>\n",
       "      <td>  3</td>\n",
       "      <td>  5</td>\n",
       "      <td>  60</td>\n",
       "      <td> 6</td>\n",
       "      <td> 6</td>\n",
       "      <td> 0</td>\n",
       "      <td> 0</td>\n",
       "      <td> 0</td>\n",
       "      <td> 3</td>\n",
       "    </tr>\n",
       "    <tr>\n",
       "      <th>52 </th>\n",
       "      <td> 326</td>\n",
       "      <td> 1</td>\n",
       "      <td> 0</td>\n",
       "      <td> 1</td>\n",
       "      <td> 2</td>\n",
       "      <td> 64</td>\n",
       "      <td> 27</td>\n",
       "      <td> 36</td>\n",
       "      <td> 12</td>\n",
       "      <td>  6</td>\n",
       "      <td>...</td>\n",
       "      <td> 12</td>\n",
       "      <td>  1</td>\n",
       "      <td>  3</td>\n",
       "      <td>  85</td>\n",
       "      <td> 6</td>\n",
       "      <td> 2</td>\n",
       "      <td> 6</td>\n",
       "      <td> 0</td>\n",
       "      <td> 0</td>\n",
       "      <td> 1</td>\n",
       "    </tr>\n",
       "    <tr>\n",
       "      <th>17 </th>\n",
       "      <td> 310</td>\n",
       "      <td> 3</td>\n",
       "      <td> 0</td>\n",
       "      <td> 0</td>\n",
       "      <td> 2</td>\n",
       "      <td> 58</td>\n",
       "      <td> 22</td>\n",
       "      <td> 42</td>\n",
       "      <td>  8</td>\n",
       "      <td>  3</td>\n",
       "      <td>...</td>\n",
       "      <td>  5</td>\n",
       "      <td> 17</td>\n",
       "      <td> 12</td>\n",
       "      <td>   0</td>\n",
       "      <td> 6</td>\n",
       "      <td> 6</td>\n",
       "      <td> 0</td>\n",
       "      <td> 0</td>\n",
       "      <td> 0</td>\n",
       "      <td> 5</td>\n",
       "    </tr>\n",
       "    <tr>\n",
       "      <th>64 </th>\n",
       "      <td> 568</td>\n",
       "      <td> 2</td>\n",
       "      <td> 1</td>\n",
       "      <td> 2</td>\n",
       "      <td> 0</td>\n",
       "      <td> 66</td>\n",
       "      <td> 28</td>\n",
       "      <td> 34</td>\n",
       "      <td>  8</td>\n",
       "      <td> 10</td>\n",
       "      <td>...</td>\n",
       "      <td>  1</td>\n",
       "      <td>  3</td>\n",
       "      <td>  3</td>\n",
       "      <td>  37</td>\n",
       "      <td> 1</td>\n",
       "      <td> 2</td>\n",
       "      <td> 0</td>\n",
       "      <td> 0</td>\n",
       "      <td> 0</td>\n",
       "      <td> 1</td>\n",
       "    </tr>\n",
       "  </tbody>\n",
       "</table>\n",
       "<p>5 rows × 42 columns</p>\n",
       "</div>"
      ],
      "text/plain": [
       "     Player1  Round  Result  FNL.1  FNL.2  FSP.1  FSW.1  SSP.1  SSW.1  ACE.1  \\\n",
       "104       97      3       0      1      3     43     40     57     36      6   \n",
       "24       465      1       0      0      2     69     15     31      4      0   \n",
       "52       326      1       0      1      2     64     27     36     12      6   \n",
       "17       310      3       0      0      2     58     22     42      8      3   \n",
       "64       568      2       1      2      0     66     28     34      8     10   \n",
       "\n",
       "     ...   BPW.2  NPA.2  NPW.2  TPW.2  ST1.2  ST2.2  ST3.2  ST4.2  ST5.2  Type  \n",
       "104  ...      19     14     27    137      6      6      6      6      0     2  \n",
       "24   ...      11      3      5     60      6      6      0      0      0     3  \n",
       "52   ...      12      1      3     85      6      2      6      0      0     1  \n",
       "17   ...       5     17     12      0      6      6      0      0      0     5  \n",
       "64   ...       1      3      3     37      1      2      0      0      0     1  \n",
       "\n",
       "[5 rows x 42 columns]"
      ]
     },
     "execution_count": 923,
     "metadata": {},
     "output_type": "execute_result"
    }
   ],
   "source": [
    "data_x[:5]"
   ]
  },
  {
   "cell_type": "code",
   "execution_count": 924,
   "metadata": {
    "collapsed": false
   },
   "outputs": [
    {
     "data": {
      "text/plain": [
       "104    331\n",
       "24     423\n",
       "52     219\n",
       "17     503\n",
       "64     639\n",
       "Name: Player2, dtype: int64"
      ]
     },
     "execution_count": 924,
     "metadata": {},
     "output_type": "execute_result"
    }
   ],
   "source": [
    "data_y[:5]"
   ]
  },
  {
   "cell_type": "code",
   "execution_count": 925,
   "metadata": {
    "collapsed": false
   },
   "outputs": [
    {
     "data": {
      "text/html": [
       "<div style=\"max-height:1000px;max-width:1500px;overflow:auto;\">\n",
       "<table border=\"1\" class=\"dataframe\">\n",
       "  <thead>\n",
       "    <tr style=\"text-align: right;\">\n",
       "      <th></th>\n",
       "      <th>Player1</th>\n",
       "      <th>Round</th>\n",
       "      <th>Result</th>\n",
       "      <th>FNL.1</th>\n",
       "      <th>FNL.2</th>\n",
       "      <th>FSP.1</th>\n",
       "      <th>FSW.1</th>\n",
       "      <th>SSP.1</th>\n",
       "      <th>SSW.1</th>\n",
       "      <th>ACE.1</th>\n",
       "      <th>...</th>\n",
       "      <th>BPW.2</th>\n",
       "      <th>NPA.2</th>\n",
       "      <th>NPW.2</th>\n",
       "      <th>TPW.2</th>\n",
       "      <th>ST1.2</th>\n",
       "      <th>ST2.2</th>\n",
       "      <th>ST3.2</th>\n",
       "      <th>ST4.2</th>\n",
       "      <th>ST5.2</th>\n",
       "      <th>Type</th>\n",
       "    </tr>\n",
       "  </thead>\n",
       "  <tbody>\n",
       "    <tr>\n",
       "      <th>94</th>\n",
       "      <td> 276</td>\n",
       "      <td> 2</td>\n",
       "      <td> 0</td>\n",
       "      <td> 0</td>\n",
       "      <td> 3</td>\n",
       "      <td> 58</td>\n",
       "      <td> 48</td>\n",
       "      <td> 42</td>\n",
       "      <td> 23</td>\n",
       "      <td>  5</td>\n",
       "      <td>...</td>\n",
       "      <td> 11</td>\n",
       "      <td> 20</td>\n",
       "      <td> 26</td>\n",
       "      <td> 117</td>\n",
       "      <td> 7</td>\n",
       "      <td> 7</td>\n",
       "      <td> 6</td>\n",
       "      <td> 0</td>\n",
       "      <td> 0</td>\n",
       "      <td> 0</td>\n",
       "    </tr>\n",
       "    <tr>\n",
       "      <th>32</th>\n",
       "      <td> 398</td>\n",
       "      <td> 1</td>\n",
       "      <td> 0</td>\n",
       "      <td> 0</td>\n",
       "      <td> 2</td>\n",
       "      <td> 50</td>\n",
       "      <td> 11</td>\n",
       "      <td> 50</td>\n",
       "      <td> 11</td>\n",
       "      <td>  1</td>\n",
       "      <td>...</td>\n",
       "      <td>  5</td>\n",
       "      <td> 18</td>\n",
       "      <td> 16</td>\n",
       "      <td>   0</td>\n",
       "      <td> 6</td>\n",
       "      <td> 6</td>\n",
       "      <td> 0</td>\n",
       "      <td> 0</td>\n",
       "      <td> 0</td>\n",
       "      <td> 7</td>\n",
       "    </tr>\n",
       "    <tr>\n",
       "      <th>46</th>\n",
       "      <td> 590</td>\n",
       "      <td> 1</td>\n",
       "      <td> 0</td>\n",
       "      <td> 1</td>\n",
       "      <td> 2</td>\n",
       "      <td> 51</td>\n",
       "      <td> 25</td>\n",
       "      <td> 49</td>\n",
       "      <td> 15</td>\n",
       "      <td>  7</td>\n",
       "      <td>...</td>\n",
       "      <td>  7</td>\n",
       "      <td> 18</td>\n",
       "      <td> 12</td>\n",
       "      <td>   0</td>\n",
       "      <td> 4</td>\n",
       "      <td> 6</td>\n",
       "      <td> 6</td>\n",
       "      <td> 0</td>\n",
       "      <td> 0</td>\n",
       "      <td> 7</td>\n",
       "    </tr>\n",
       "    <tr>\n",
       "      <th>86</th>\n",
       "      <td> 517</td>\n",
       "      <td> 2</td>\n",
       "      <td> 1</td>\n",
       "      <td> 3</td>\n",
       "      <td> 1</td>\n",
       "      <td> 74</td>\n",
       "      <td> 55</td>\n",
       "      <td> 26</td>\n",
       "      <td> 10</td>\n",
       "      <td>  5</td>\n",
       "      <td>...</td>\n",
       "      <td>  7</td>\n",
       "      <td> 15</td>\n",
       "      <td> 28</td>\n",
       "      <td>  90</td>\n",
       "      <td> 6</td>\n",
       "      <td> 3</td>\n",
       "      <td> 3</td>\n",
       "      <td> 3</td>\n",
       "      <td> 0</td>\n",
       "      <td> 2</td>\n",
       "    </tr>\n",
       "    <tr>\n",
       "      <th>85</th>\n",
       "      <td> 583</td>\n",
       "      <td> 2</td>\n",
       "      <td> 1</td>\n",
       "      <td> 3</td>\n",
       "      <td> 1</td>\n",
       "      <td> 58</td>\n",
       "      <td> 56</td>\n",
       "      <td> 42</td>\n",
       "      <td> 30</td>\n",
       "      <td> 13</td>\n",
       "      <td>...</td>\n",
       "      <td>  7</td>\n",
       "      <td> 22</td>\n",
       "      <td> 36</td>\n",
       "      <td> 112</td>\n",
       "      <td> 6</td>\n",
       "      <td> 1</td>\n",
       "      <td> 7</td>\n",
       "      <td> 1</td>\n",
       "      <td> 0</td>\n",
       "      <td> 0</td>\n",
       "    </tr>\n",
       "  </tbody>\n",
       "</table>\n",
       "<p>5 rows × 42 columns</p>\n",
       "</div>"
      ],
      "text/plain": [
       "    Player1  Round  Result  FNL.1  FNL.2  FSP.1  FSW.1  SSP.1  SSW.1  ACE.1  \\\n",
       "94      276      2       0      0      3     58     48     42     23      5   \n",
       "32      398      1       0      0      2     50     11     50     11      1   \n",
       "46      590      1       0      1      2     51     25     49     15      7   \n",
       "86      517      2       1      3      1     74     55     26     10      5   \n",
       "85      583      2       1      3      1     58     56     42     30     13   \n",
       "\n",
       "    ...   BPW.2  NPA.2  NPW.2  TPW.2  ST1.2  ST2.2  ST3.2  ST4.2  ST5.2  Type  \n",
       "94  ...      11     20     26    117      7      7      6      0      0     0  \n",
       "32  ...       5     18     16      0      6      6      0      0      0     7  \n",
       "46  ...       7     18     12      0      4      6      6      0      0     7  \n",
       "86  ...       7     15     28     90      6      3      3      3      0     2  \n",
       "85  ...       7     22     36    112      6      1      7      1      0     0  \n",
       "\n",
       "[5 rows x 42 columns]"
      ]
     },
     "execution_count": 925,
     "metadata": {},
     "output_type": "execute_result"
    }
   ],
   "source": [
    "test_data_x[:5]"
   ]
  },
  {
   "cell_type": "code",
   "execution_count": 926,
   "metadata": {
    "collapsed": false
   },
   "outputs": [
    {
     "data": {
      "text/plain": [
       "94    217\n",
       "32    455\n",
       "46    393\n",
       "86    432\n",
       "85    442\n",
       "Name: Player2, dtype: int64"
      ]
     },
     "execution_count": 926,
     "metadata": {},
     "output_type": "execute_result"
    }
   ],
   "source": [
    "test_data_y[:5]"
   ]
  },
  {
   "cell_type": "code",
   "execution_count": 927,
   "metadata": {
    "collapsed": false
   },
   "outputs": [],
   "source": [
    "#Lets train the logistic classifier\n",
    "logistic_clf = logistic_regr.fit(data_x, data_y);"
   ]
  },
  {
   "cell_type": "markdown",
   "metadata": {},
   "source": [
    "Lets predict the results for test_data now."
   ]
  },
  {
   "cell_type": "code",
   "execution_count": 928,
   "metadata": {
    "collapsed": false
   },
   "outputs": [],
   "source": [
    "predicted_results = logistic_clf.predict(test_data_x);"
   ]
  },
  {
   "cell_type": "markdown",
   "metadata": {},
   "source": [
    "Lets put actual and predicted results in a single data frame"
   ]
  },
  {
   "cell_type": "code",
   "execution_count": 929,
   "metadata": {
    "collapsed": false
   },
   "outputs": [],
   "source": [
    "results = pd.DataFrame({'Actual_Player2': names_fit.inverse_transform(test_data_y.values[:]), 'Logistic_Player2': names_fit.inverse_transform(predicted_results[:])})"
   ]
  },
  {
   "cell_type": "markdown",
   "metadata": {},
   "source": [
    "lets checkout a few results"
   ]
  },
  {
   "cell_type": "code",
   "execution_count": 930,
   "metadata": {
    "collapsed": false
   },
   "outputs": [
    {
     "data": {
      "text/html": [
       "<div style=\"max-height:1000px;max-width:1500px;overflow:auto;\">\n",
       "<table border=\"1\" class=\"dataframe\">\n",
       "  <thead>\n",
       "    <tr style=\"text-align: right;\">\n",
       "      <th></th>\n",
       "      <th>Actual_Player2</th>\n",
       "      <th>Logistic_Player2</th>\n",
       "    </tr>\n",
       "  </thead>\n",
       "  <tbody>\n",
       "    <tr>\n",
       "      <th>0 </th>\n",
       "      <td>          Gael Monfils</td>\n",
       "      <td>        Feliciano Lopez</td>\n",
       "    </tr>\n",
       "    <tr>\n",
       "      <th>1 </th>\n",
       "      <td>                  N.Li</td>\n",
       "      <td>            E.Birnerova</td>\n",
       "    </tr>\n",
       "    <tr>\n",
       "      <th>2 </th>\n",
       "      <td>           M.Johansson</td>\n",
       "      <td>             J.Cepelova</td>\n",
       "    </tr>\n",
       "    <tr>\n",
       "      <th>3 </th>\n",
       "      <td>         Martin Klizan</td>\n",
       "      <td>     Stanislas Wawrinka</td>\n",
       "    </tr>\n",
       "    <tr>\n",
       "      <th>4 </th>\n",
       "      <td>     Michal Przysiezny</td>\n",
       "      <td>         Ernests Gulbis</td>\n",
       "    </tr>\n",
       "    <tr>\n",
       "      <th>5 </th>\n",
       "      <td>      Thiemo de Bakker</td>\n",
       "      <td>         Kevin Anderson</td>\n",
       "    </tr>\n",
       "    <tr>\n",
       "      <th>6 </th>\n",
       "      <td>       Elina Svitolina</td>\n",
       "      <td>           Ana Ivanovic</td>\n",
       "    </tr>\n",
       "    <tr>\n",
       "      <th>7 </th>\n",
       "      <td>        Vasek Pospisil</td>\n",
       "      <td>          Damir Dzumhur</td>\n",
       "    </tr>\n",
       "    <tr>\n",
       "      <th>8 </th>\n",
       "      <td>            Joao Sousa</td>\n",
       "      <td>        James Duckworth</td>\n",
       "    </tr>\n",
       "    <tr>\n",
       "      <th>9 </th>\n",
       "      <td>             M Barthel</td>\n",
       "      <td>                I.Dodig</td>\n",
       "    </tr>\n",
       "    <tr>\n",
       "      <th>10</th>\n",
       "      <td>       Johanna Larsson</td>\n",
       "      <td>        Richard Gasquet</td>\n",
       "    </tr>\n",
       "    <tr>\n",
       "      <th>11</th>\n",
       "      <td>               S Halep</td>\n",
       "      <td>             S Stephens</td>\n",
       "    </tr>\n",
       "    <tr>\n",
       "      <th>12</th>\n",
       "      <td>      Filippo Volandri</td>\n",
       "      <td>           Gilles Simon</td>\n",
       "    </tr>\n",
       "    <tr>\n",
       "      <th>13</th>\n",
       "      <td>   Agnieszka Radwanska</td>\n",
       "      <td>      Victoria Azarenka</td>\n",
       "    </tr>\n",
       "    <tr>\n",
       "      <th>14</th>\n",
       "      <td>       Anna Tatishvili</td>\n",
       "      <td>             Misaki Doi</td>\n",
       "    </tr>\n",
       "    <tr>\n",
       "      <th>15</th>\n",
       "      <td>  Aleksandr Nedovyesov</td>\n",
       "      <td>        Feliciano Lopez</td>\n",
       "    </tr>\n",
       "    <tr>\n",
       "      <th>16</th>\n",
       "      <td>            A.Petkovic</td>\n",
       "      <td>                A Riske</td>\n",
       "    </tr>\n",
       "    <tr>\n",
       "      <th>17</th>\n",
       "      <td>   Svetlana Kuznetsova</td>\n",
       "      <td>     Daniela Hantuchova</td>\n",
       "    </tr>\n",
       "    <tr>\n",
       "      <th>18</th>\n",
       "      <td>                  N Li</td>\n",
       "      <td>             S Stephens</td>\n",
       "    </tr>\n",
       "    <tr>\n",
       "      <th>19</th>\n",
       "      <td>             S.Querrey</td>\n",
       "      <td>             M.Erakovic</td>\n",
       "    </tr>\n",
       "    <tr>\n",
       "      <th>20</th>\n",
       "      <td>       Albano Olivetti</td>\n",
       "      <td>         Kevin Anderson</td>\n",
       "    </tr>\n",
       "    <tr>\n",
       "      <th>21</th>\n",
       "      <td>      Angelique Kerber</td>\n",
       "      <td>   Carla Suarez Navarro</td>\n",
       "    </tr>\n",
       "    <tr>\n",
       "      <th>22</th>\n",
       "      <td>         Bradley Klahn</td>\n",
       "      <td>  Juan Martin Del Potro</td>\n",
       "    </tr>\n",
       "    <tr>\n",
       "      <th>23</th>\n",
       "      <td>            E.Makarova</td>\n",
       "      <td>             K.Flipkens</td>\n",
       "    </tr>\n",
       "    <tr>\n",
       "      <th>24</th>\n",
       "      <td>            E Bouchard</td>\n",
       "      <td>               C McHale</td>\n",
       "    </tr>\n",
       "    <tr>\n",
       "      <th>25</th>\n",
       "      <td>     Nikolay Davydenko</td>\n",
       "      <td> Edouard Roger-Vasselin</td>\n",
       "    </tr>\n",
       "    <tr>\n",
       "      <th>26</th>\n",
       "      <td>           Marin Cilic</td>\n",
       "      <td>  Philipp Kohlschreiber</td>\n",
       "    </tr>\n",
       "    <tr>\n",
       "      <th>27</th>\n",
       "      <td>      Kirsten Flipkens</td>\n",
       "      <td>       Kirsten Flipkens</td>\n",
       "    </tr>\n",
       "    <tr>\n",
       "      <th>28</th>\n",
       "      <td>           Lukas Rosol</td>\n",
       "      <td>         Michael Llodra</td>\n",
       "    </tr>\n",
       "    <tr>\n",
       "      <th>29</th>\n",
       "      <td>          David Ferrer</td>\n",
       "      <td>          Kei Nishikori</td>\n",
       "    </tr>\n",
       "    <tr>\n",
       "      <th>...</th>\n",
       "      <td>...</td>\n",
       "      <td>...</td>\n",
       "    </tr>\n",
       "    <tr>\n",
       "      <th>70</th>\n",
       "      <td>       Richard Gasquet</td>\n",
       "      <td>            Sam Querrey</td>\n",
       "    </tr>\n",
       "    <tr>\n",
       "      <th>71</th>\n",
       "      <td>              C.Giorgi</td>\n",
       "      <td>               S.Stosur</td>\n",
       "    </tr>\n",
       "    <tr>\n",
       "      <th>72</th>\n",
       "      <td>            A.Montanes</td>\n",
       "      <td>              M.Russell</td>\n",
       "    </tr>\n",
       "    <tr>\n",
       "      <th>73</th>\n",
       "      <td>            Tommy Haas</td>\n",
       "      <td>           Ana Ivanovic</td>\n",
       "    </tr>\n",
       "    <tr>\n",
       "      <th>74</th>\n",
       "      <td>     Nikolay Davydenko</td>\n",
       "      <td>          Roger Federer</td>\n",
       "    </tr>\n",
       "    <tr>\n",
       "      <th>75</th>\n",
       "      <td>          A.Dolgopolov</td>\n",
       "      <td>            A.Mannarino</td>\n",
       "    </tr>\n",
       "    <tr>\n",
       "      <th>76</th>\n",
       "      <td>         Melanie Oudin</td>\n",
       "      <td>              Jie Zheng</td>\n",
       "    </tr>\n",
       "    <tr>\n",
       "      <th>77</th>\n",
       "      <td>           Sam Querrey</td>\n",
       "      <td>          Denis Istomin</td>\n",
       "    </tr>\n",
       "    <tr>\n",
       "      <th>78</th>\n",
       "      <td>          David Ferrer</td>\n",
       "      <td>       Kirsten Flipkens</td>\n",
       "    </tr>\n",
       "    <tr>\n",
       "      <th>79</th>\n",
       "      <td>                Y-H.Lu</td>\n",
       "      <td>              T.Berdych</td>\n",
       "    </tr>\n",
       "    <tr>\n",
       "      <th>80</th>\n",
       "      <td>         Roberta Vinci</td>\n",
       "      <td>     Ekaterina Makarova</td>\n",
       "    </tr>\n",
       "    <tr>\n",
       "      <th>81</th>\n",
       "      <td>              A.Murray</td>\n",
       "      <td>              S.Giraldo</td>\n",
       "    </tr>\n",
       "    <tr>\n",
       "      <th>82</th>\n",
       "      <td>                S.Peng</td>\n",
       "      <td>            M.Sharapova</td>\n",
       "    </tr>\n",
       "    <tr>\n",
       "      <th>83</th>\n",
       "      <td>           Sam Querrey</td>\n",
       "      <td>         Kevin Anderson</td>\n",
       "    </tr>\n",
       "    <tr>\n",
       "      <th>84</th>\n",
       "      <td>          Laura Robson</td>\n",
       "      <td>       Garbine Muguruza</td>\n",
       "    </tr>\n",
       "    <tr>\n",
       "      <th>85</th>\n",
       "      <td>        Rhyne Williams</td>\n",
       "      <td>            Sam Querrey</td>\n",
       "    </tr>\n",
       "    <tr>\n",
       "      <th>86</th>\n",
       "      <td>            Ivan Dodig</td>\n",
       "      <td>         Lleyton Hewitt</td>\n",
       "    </tr>\n",
       "    <tr>\n",
       "      <th>87</th>\n",
       "      <td>       Maria Sharapova</td>\n",
       "      <td>          Jeremy Chardy</td>\n",
       "    </tr>\n",
       "    <tr>\n",
       "      <th>88</th>\n",
       "      <td>              C.Garcia</td>\n",
       "      <td>           K.Date-Krumm</td>\n",
       "    </tr>\n",
       "    <tr>\n",
       "      <th>89</th>\n",
       "      <td> Roberto Bautista Agut</td>\n",
       "      <td>     Caroline Wozniacki</td>\n",
       "    </tr>\n",
       "    <tr>\n",
       "      <th>90</th>\n",
       "      <td>          Simona Halep</td>\n",
       "      <td>        Jelena Jankovic</td>\n",
       "    </tr>\n",
       "    <tr>\n",
       "      <th>91</th>\n",
       "      <td>     Victoria Azarenka</td>\n",
       "      <td>      Victoria Azarenka</td>\n",
       "    </tr>\n",
       "    <tr>\n",
       "      <th>92</th>\n",
       "      <td>          Simona Halep</td>\n",
       "      <td>        Caroline Garcia</td>\n",
       "    </tr>\n",
       "    <tr>\n",
       "      <th>93</th>\n",
       "      <td>                M.Keys</td>\n",
       "      <td>               E.Gulbis</td>\n",
       "    </tr>\n",
       "    <tr>\n",
       "      <th>94</th>\n",
       "      <td>              C Giorgi</td>\n",
       "      <td>              T.Berdych</td>\n",
       "    </tr>\n",
       "    <tr>\n",
       "      <th>95</th>\n",
       "      <td>      Eugenie Bouchard</td>\n",
       "      <td>         Novak Djokovic</td>\n",
       "    </tr>\n",
       "    <tr>\n",
       "      <th>96</th>\n",
       "      <td>                 Na Li</td>\n",
       "      <td>         Lucie Hradecka</td>\n",
       "    </tr>\n",
       "    <tr>\n",
       "      <th>97</th>\n",
       "      <td>    Alex Bogomolov Jr.</td>\n",
       "      <td> Guillermo Garcia-Lopez</td>\n",
       "    </tr>\n",
       "    <tr>\n",
       "      <th>98</th>\n",
       "      <td>      Angelique Kerber</td>\n",
       "      <td>         Sorana Cirstea</td>\n",
       "    </tr>\n",
       "    <tr>\n",
       "      <th>99</th>\n",
       "      <td>         Tomas Berdych</td>\n",
       "      <td>       Janko Tipsarevic</td>\n",
       "    </tr>\n",
       "  </tbody>\n",
       "</table>\n",
       "<p>100 rows × 2 columns</p>\n",
       "</div>"
      ],
      "text/plain": [
       "           Actual_Player2        Logistic_Player2\n",
       "0            Gael Monfils         Feliciano Lopez\n",
       "1                    N.Li             E.Birnerova\n",
       "2             M.Johansson              J.Cepelova\n",
       "3           Martin Klizan      Stanislas Wawrinka\n",
       "4       Michal Przysiezny          Ernests Gulbis\n",
       "5        Thiemo de Bakker          Kevin Anderson\n",
       "6         Elina Svitolina            Ana Ivanovic\n",
       "7          Vasek Pospisil           Damir Dzumhur\n",
       "8              Joao Sousa         James Duckworth\n",
       "9               M Barthel                 I.Dodig\n",
       "10        Johanna Larsson         Richard Gasquet\n",
       "11                S Halep              S Stephens\n",
       "12       Filippo Volandri            Gilles Simon\n",
       "13    Agnieszka Radwanska       Victoria Azarenka\n",
       "14        Anna Tatishvili              Misaki Doi\n",
       "15   Aleksandr Nedovyesov         Feliciano Lopez\n",
       "16             A.Petkovic                 A Riske\n",
       "17    Svetlana Kuznetsova      Daniela Hantuchova\n",
       "18                   N Li              S Stephens\n",
       "19              S.Querrey              M.Erakovic\n",
       "20        Albano Olivetti          Kevin Anderson\n",
       "21       Angelique Kerber    Carla Suarez Navarro\n",
       "22          Bradley Klahn   Juan Martin Del Potro\n",
       "23             E.Makarova              K.Flipkens\n",
       "24             E Bouchard                C McHale\n",
       "25      Nikolay Davydenko  Edouard Roger-Vasselin\n",
       "26            Marin Cilic   Philipp Kohlschreiber\n",
       "27       Kirsten Flipkens        Kirsten Flipkens\n",
       "28            Lukas Rosol          Michael Llodra\n",
       "29           David Ferrer           Kei Nishikori\n",
       "..                    ...                     ...\n",
       "70        Richard Gasquet             Sam Querrey\n",
       "71               C.Giorgi                S.Stosur\n",
       "72             A.Montanes               M.Russell\n",
       "73             Tommy Haas            Ana Ivanovic\n",
       "74      Nikolay Davydenko           Roger Federer\n",
       "75           A.Dolgopolov             A.Mannarino\n",
       "76          Melanie Oudin               Jie Zheng\n",
       "77            Sam Querrey           Denis Istomin\n",
       "78           David Ferrer        Kirsten Flipkens\n",
       "79                 Y-H.Lu               T.Berdych\n",
       "80          Roberta Vinci      Ekaterina Makarova\n",
       "81               A.Murray               S.Giraldo\n",
       "82                 S.Peng             M.Sharapova\n",
       "83            Sam Querrey          Kevin Anderson\n",
       "84           Laura Robson        Garbine Muguruza\n",
       "85         Rhyne Williams             Sam Querrey\n",
       "86             Ivan Dodig          Lleyton Hewitt\n",
       "87        Maria Sharapova           Jeremy Chardy\n",
       "88               C.Garcia            K.Date-Krumm\n",
       "89  Roberto Bautista Agut      Caroline Wozniacki\n",
       "90           Simona Halep         Jelena Jankovic\n",
       "91      Victoria Azarenka       Victoria Azarenka\n",
       "92           Simona Halep         Caroline Garcia\n",
       "93                 M.Keys                E.Gulbis\n",
       "94               C Giorgi               T.Berdych\n",
       "95       Eugenie Bouchard          Novak Djokovic\n",
       "96                  Na Li          Lucie Hradecka\n",
       "97     Alex Bogomolov Jr.  Guillermo Garcia-Lopez\n",
       "98       Angelique Kerber          Sorana Cirstea\n",
       "99          Tomas Berdych        Janko Tipsarevic\n",
       "\n",
       "[100 rows x 2 columns]"
      ]
     },
     "execution_count": 930,
     "metadata": {},
     "output_type": "execute_result"
    }
   ],
   "source": [
    "results"
   ]
  },
  {
   "cell_type": "markdown",
   "metadata": {},
   "source": [
    "Lets see the palyers for which it has predicted correctly"
   ]
  },
  {
   "cell_type": "code",
   "execution_count": 931,
   "metadata": {
    "collapsed": false
   },
   "outputs": [
    {
     "data": {
      "text/html": [
       "<div style=\"max-height:1000px;max-width:1500px;overflow:auto;\">\n",
       "<table border=\"1\" class=\"dataframe\">\n",
       "  <thead>\n",
       "    <tr style=\"text-align: right;\">\n",
       "      <th></th>\n",
       "      <th>Actual_Player2</th>\n",
       "      <th>Logistic_Player2</th>\n",
       "    </tr>\n",
       "  </thead>\n",
       "  <tbody>\n",
       "    <tr>\n",
       "      <th>27</th>\n",
       "      <td>  Kirsten Flipkens</td>\n",
       "      <td>  Kirsten Flipkens</td>\n",
       "    </tr>\n",
       "    <tr>\n",
       "      <th>62</th>\n",
       "      <td>         M.Bartoli</td>\n",
       "      <td>         M.Bartoli</td>\n",
       "    </tr>\n",
       "    <tr>\n",
       "      <th>91</th>\n",
       "      <td> Victoria Azarenka</td>\n",
       "      <td> Victoria Azarenka</td>\n",
       "    </tr>\n",
       "  </tbody>\n",
       "</table>\n",
       "</div>"
      ],
      "text/plain": [
       "       Actual_Player2   Logistic_Player2\n",
       "27   Kirsten Flipkens   Kirsten Flipkens\n",
       "62          M.Bartoli          M.Bartoli\n",
       "91  Victoria Azarenka  Victoria Azarenka"
      ]
     },
     "execution_count": 931,
     "metadata": {},
     "output_type": "execute_result"
    }
   ],
   "source": [
    "results[results['Actual_Player2'] == results['Logistic_Player2']]"
   ]
  },
  {
   "cell_type": "code",
   "execution_count": 932,
   "metadata": {
    "collapsed": false
   },
   "outputs": [
    {
     "data": {
      "text/plain": [
       "3"
      ]
     },
     "execution_count": 932,
     "metadata": {},
     "output_type": "execute_result"
    }
   ],
   "source": [
    "#Number of correct results\n",
    "len(results[results['Actual_Player2'] == results['Logistic_Player2']])"
   ]
  },
  {
   "cell_type": "code",
   "execution_count": 933,
   "metadata": {
    "collapsed": false
   },
   "outputs": [
    {
     "data": {
      "text/plain": [
       "97"
      ]
     },
     "execution_count": 933,
     "metadata": {},
     "output_type": "execute_result"
    }
   ],
   "source": [
    "#Number of ivcorrect results\n",
    "len(results[results['Actual_Player2'] != results['Logistic_Player2']])"
   ]
  },
  {
   "cell_type": "markdown",
   "metadata": {},
   "source": [
    "# Now lets predict the palyer names using SVM algorithm on the same data."
   ]
  },
  {
   "cell_type": "code",
   "execution_count": 934,
   "metadata": {
    "collapsed": true
   },
   "outputs": [],
   "source": [
    "from sklearn import svm\n",
    "svm_clf = svm.LinearSVC();"
   ]
  },
  {
   "cell_type": "code",
   "execution_count": 935,
   "metadata": {
    "collapsed": true
   },
   "outputs": [],
   "source": [
    "#Lets train the classifier\n",
    "svm_clf.fit(data_x, data_y);"
   ]
  },
  {
   "cell_type": "code",
   "execution_count": 936,
   "metadata": {
    "collapsed": true
   },
   "outputs": [],
   "source": [
    "#predict the result on test_data now\n",
    "predicted_results = svm_clf.predict(test_data_x)"
   ]
  },
  {
   "cell_type": "code",
   "execution_count": 937,
   "metadata": {
    "collapsed": true
   },
   "outputs": [],
   "source": [
    "#Lets fit the predicted results in the results data frame\n",
    "results['Svm_Player2'] = names_fit.inverse_transform(predicted_results[:])"
   ]
  },
  {
   "cell_type": "code",
   "execution_count": 938,
   "metadata": {
    "collapsed": false
   },
   "outputs": [
    {
     "data": {
      "text/html": [
       "<div style=\"max-height:1000px;max-width:1500px;overflow:auto;\">\n",
       "<table border=\"1\" class=\"dataframe\">\n",
       "  <thead>\n",
       "    <tr style=\"text-align: right;\">\n",
       "      <th></th>\n",
       "      <th>Actual_Player2</th>\n",
       "      <th>Logistic_Player2</th>\n",
       "      <th>Svm_Player2</th>\n",
       "    </tr>\n",
       "  </thead>\n",
       "  <tbody>\n",
       "    <tr>\n",
       "      <th>0 </th>\n",
       "      <td>          Gael Monfils</td>\n",
       "      <td>        Feliciano Lopez</td>\n",
       "      <td> Svetlana Kuznetsova</td>\n",
       "    </tr>\n",
       "    <tr>\n",
       "      <th>1 </th>\n",
       "      <td>                  N.Li</td>\n",
       "      <td>            E.Birnerova</td>\n",
       "      <td>           S Lisicki</td>\n",
       "    </tr>\n",
       "    <tr>\n",
       "      <th>2 </th>\n",
       "      <td>           M.Johansson</td>\n",
       "      <td>             J.Cepelova</td>\n",
       "      <td>           S Lisicki</td>\n",
       "    </tr>\n",
       "    <tr>\n",
       "      <th>3 </th>\n",
       "      <td>         Martin Klizan</td>\n",
       "      <td>     Stanislas Wawrinka</td>\n",
       "      <td>           S Lisicki</td>\n",
       "    </tr>\n",
       "    <tr>\n",
       "      <th>4 </th>\n",
       "      <td>     Michal Przysiezny</td>\n",
       "      <td>         Ernests Gulbis</td>\n",
       "      <td>           S Lisicki</td>\n",
       "    </tr>\n",
       "    <tr>\n",
       "      <th>5 </th>\n",
       "      <td>      Thiemo de Bakker</td>\n",
       "      <td>         Kevin Anderson</td>\n",
       "      <td>      M.Lucic-Baroni</td>\n",
       "    </tr>\n",
       "    <tr>\n",
       "      <th>6 </th>\n",
       "      <td>       Elina Svitolina</td>\n",
       "      <td>           Ana Ivanovic</td>\n",
       "      <td>           S Lisicki</td>\n",
       "    </tr>\n",
       "    <tr>\n",
       "      <th>7 </th>\n",
       "      <td>        Vasek Pospisil</td>\n",
       "      <td>          Damir Dzumhur</td>\n",
       "      <td>           S Lisicki</td>\n",
       "    </tr>\n",
       "    <tr>\n",
       "      <th>8 </th>\n",
       "      <td>            Joao Sousa</td>\n",
       "      <td>        James Duckworth</td>\n",
       "      <td>     Michael Russell</td>\n",
       "    </tr>\n",
       "    <tr>\n",
       "      <th>9 </th>\n",
       "      <td>             M Barthel</td>\n",
       "      <td>                I.Dodig</td>\n",
       "      <td>            P.Martic</td>\n",
       "    </tr>\n",
       "    <tr>\n",
       "      <th>10</th>\n",
       "      <td>       Johanna Larsson</td>\n",
       "      <td>        Richard Gasquet</td>\n",
       "      <td>  Dominika Cibulkova</td>\n",
       "    </tr>\n",
       "    <tr>\n",
       "      <th>11</th>\n",
       "      <td>               S Halep</td>\n",
       "      <td>             S Stephens</td>\n",
       "      <td>             M.Cilic</td>\n",
       "    </tr>\n",
       "    <tr>\n",
       "      <th>12</th>\n",
       "      <td>      Filippo Volandri</td>\n",
       "      <td>           Gilles Simon</td>\n",
       "      <td>     Michael Russell</td>\n",
       "    </tr>\n",
       "    <tr>\n",
       "      <th>13</th>\n",
       "      <td>   Agnieszka Radwanska</td>\n",
       "      <td>      Victoria Azarenka</td>\n",
       "      <td>           S Lisicki</td>\n",
       "    </tr>\n",
       "    <tr>\n",
       "      <th>14</th>\n",
       "      <td>       Anna Tatishvili</td>\n",
       "      <td>             Misaki Doi</td>\n",
       "      <td>           S Lisicki</td>\n",
       "    </tr>\n",
       "    <tr>\n",
       "      <th>15</th>\n",
       "      <td>  Aleksandr Nedovyesov</td>\n",
       "      <td>        Feliciano Lopez</td>\n",
       "      <td>           S Lisicki</td>\n",
       "    </tr>\n",
       "    <tr>\n",
       "      <th>16</th>\n",
       "      <td>            A.Petkovic</td>\n",
       "      <td>                A Riske</td>\n",
       "      <td>           S Lisicki</td>\n",
       "    </tr>\n",
       "    <tr>\n",
       "      <th>17</th>\n",
       "      <td>   Svetlana Kuznetsova</td>\n",
       "      <td>     Daniela Hantuchova</td>\n",
       "      <td>           S Lisicki</td>\n",
       "    </tr>\n",
       "    <tr>\n",
       "      <th>18</th>\n",
       "      <td>                  N Li</td>\n",
       "      <td>             S Stephens</td>\n",
       "      <td>           S Lisicki</td>\n",
       "    </tr>\n",
       "    <tr>\n",
       "      <th>19</th>\n",
       "      <td>             S.Querrey</td>\n",
       "      <td>             M.Erakovic</td>\n",
       "      <td>          M.Erakovic</td>\n",
       "    </tr>\n",
       "    <tr>\n",
       "      <th>20</th>\n",
       "      <td>       Albano Olivetti</td>\n",
       "      <td>         Kevin Anderson</td>\n",
       "      <td>      M.Lucic-Baroni</td>\n",
       "    </tr>\n",
       "    <tr>\n",
       "      <th>21</th>\n",
       "      <td>      Angelique Kerber</td>\n",
       "      <td>   Carla Suarez Navarro</td>\n",
       "      <td>           S Lisicki</td>\n",
       "    </tr>\n",
       "    <tr>\n",
       "      <th>22</th>\n",
       "      <td>         Bradley Klahn</td>\n",
       "      <td>  Juan Martin Del Potro</td>\n",
       "      <td>             G.Rufin</td>\n",
       "    </tr>\n",
       "    <tr>\n",
       "      <th>23</th>\n",
       "      <td>            E.Makarova</td>\n",
       "      <td>             K.Flipkens</td>\n",
       "      <td>           S Lisicki</td>\n",
       "    </tr>\n",
       "    <tr>\n",
       "      <th>24</th>\n",
       "      <td>            E Bouchard</td>\n",
       "      <td>               C McHale</td>\n",
       "      <td>           S Lisicki</td>\n",
       "    </tr>\n",
       "    <tr>\n",
       "      <th>25</th>\n",
       "      <td>     Nikolay Davydenko</td>\n",
       "      <td> Edouard Roger-Vasselin</td>\n",
       "      <td>  Dominika Cibulkova</td>\n",
       "    </tr>\n",
       "    <tr>\n",
       "      <th>26</th>\n",
       "      <td>           Marin Cilic</td>\n",
       "      <td>  Philipp Kohlschreiber</td>\n",
       "      <td>           S Lisicki</td>\n",
       "    </tr>\n",
       "    <tr>\n",
       "      <th>27</th>\n",
       "      <td>      Kirsten Flipkens</td>\n",
       "      <td>       Kirsten Flipkens</td>\n",
       "      <td>      Lucie Hradecka</td>\n",
       "    </tr>\n",
       "    <tr>\n",
       "      <th>28</th>\n",
       "      <td>           Lukas Rosol</td>\n",
       "      <td>         Michael Llodra</td>\n",
       "      <td>     Nicolas Almagro</td>\n",
       "    </tr>\n",
       "    <tr>\n",
       "      <th>29</th>\n",
       "      <td>          David Ferrer</td>\n",
       "      <td>          Kei Nishikori</td>\n",
       "      <td>       Ryan Harrison</td>\n",
       "    </tr>\n",
       "    <tr>\n",
       "      <th>...</th>\n",
       "      <td>...</td>\n",
       "      <td>...</td>\n",
       "      <td>...</td>\n",
       "    </tr>\n",
       "    <tr>\n",
       "      <th>70</th>\n",
       "      <td>       Richard Gasquet</td>\n",
       "      <td>            Sam Querrey</td>\n",
       "      <td>     Nicolas Almagro</td>\n",
       "    </tr>\n",
       "    <tr>\n",
       "      <th>71</th>\n",
       "      <td>              C.Giorgi</td>\n",
       "      <td>               S.Stosur</td>\n",
       "      <td>           S Lisicki</td>\n",
       "    </tr>\n",
       "    <tr>\n",
       "      <th>72</th>\n",
       "      <td>            A.Montanes</td>\n",
       "      <td>              M.Russell</td>\n",
       "      <td>            C McHale</td>\n",
       "    </tr>\n",
       "    <tr>\n",
       "      <th>73</th>\n",
       "      <td>            Tommy Haas</td>\n",
       "      <td>           Ana Ivanovic</td>\n",
       "      <td>           S Lisicki</td>\n",
       "    </tr>\n",
       "    <tr>\n",
       "      <th>74</th>\n",
       "      <td>     Nikolay Davydenko</td>\n",
       "      <td>          Roger Federer</td>\n",
       "      <td>        David Ferrer</td>\n",
       "    </tr>\n",
       "    <tr>\n",
       "      <th>75</th>\n",
       "      <td>          A.Dolgopolov</td>\n",
       "      <td>            A.Mannarino</td>\n",
       "      <td>             B.Paire</td>\n",
       "    </tr>\n",
       "    <tr>\n",
       "      <th>76</th>\n",
       "      <td>         Melanie Oudin</td>\n",
       "      <td>              Jie Zheng</td>\n",
       "      <td>  Dominika Cibulkova</td>\n",
       "    </tr>\n",
       "    <tr>\n",
       "      <th>77</th>\n",
       "      <td>           Sam Querrey</td>\n",
       "      <td>          Denis Istomin</td>\n",
       "      <td>           S Lisicki</td>\n",
       "    </tr>\n",
       "    <tr>\n",
       "      <th>78</th>\n",
       "      <td>          David Ferrer</td>\n",
       "      <td>       Kirsten Flipkens</td>\n",
       "      <td>        David Ferrer</td>\n",
       "    </tr>\n",
       "    <tr>\n",
       "      <th>79</th>\n",
       "      <td>                Y-H.Lu</td>\n",
       "      <td>              T.Berdych</td>\n",
       "      <td>           T.Berdych</td>\n",
       "    </tr>\n",
       "    <tr>\n",
       "      <th>80</th>\n",
       "      <td>         Roberta Vinci</td>\n",
       "      <td>     Ekaterina Makarova</td>\n",
       "      <td>           S Lisicki</td>\n",
       "    </tr>\n",
       "    <tr>\n",
       "      <th>81</th>\n",
       "      <td>              A.Murray</td>\n",
       "      <td>              S.Giraldo</td>\n",
       "      <td>           S Lisicki</td>\n",
       "    </tr>\n",
       "    <tr>\n",
       "      <th>82</th>\n",
       "      <td>                S.Peng</td>\n",
       "      <td>            M.Sharapova</td>\n",
       "      <td>           S Lisicki</td>\n",
       "    </tr>\n",
       "    <tr>\n",
       "      <th>83</th>\n",
       "      <td>           Sam Querrey</td>\n",
       "      <td>         Kevin Anderson</td>\n",
       "      <td>            S.Murray</td>\n",
       "    </tr>\n",
       "    <tr>\n",
       "      <th>84</th>\n",
       "      <td>          Laura Robson</td>\n",
       "      <td>       Garbine Muguruza</td>\n",
       "      <td>    Garbine Muguruza</td>\n",
       "    </tr>\n",
       "    <tr>\n",
       "      <th>85</th>\n",
       "      <td>        Rhyne Williams</td>\n",
       "      <td>            Sam Querrey</td>\n",
       "      <td>           S Lisicki</td>\n",
       "    </tr>\n",
       "    <tr>\n",
       "      <th>86</th>\n",
       "      <td>            Ivan Dodig</td>\n",
       "      <td>         Lleyton Hewitt</td>\n",
       "      <td>           J.Goerges</td>\n",
       "    </tr>\n",
       "    <tr>\n",
       "      <th>87</th>\n",
       "      <td>       Maria Sharapova</td>\n",
       "      <td>          Jeremy Chardy</td>\n",
       "      <td>  Dominika Cibulkova</td>\n",
       "    </tr>\n",
       "    <tr>\n",
       "      <th>88</th>\n",
       "      <td>              C.Garcia</td>\n",
       "      <td>           K.Date-Krumm</td>\n",
       "      <td>           S Lisicki</td>\n",
       "    </tr>\n",
       "    <tr>\n",
       "      <th>89</th>\n",
       "      <td> Roberto Bautista Agut</td>\n",
       "      <td>     Caroline Wozniacki</td>\n",
       "      <td>  Caroline Wozniacki</td>\n",
       "    </tr>\n",
       "    <tr>\n",
       "      <th>90</th>\n",
       "      <td>          Simona Halep</td>\n",
       "      <td>        Jelena Jankovic</td>\n",
       "      <td>  Dominika Cibulkova</td>\n",
       "    </tr>\n",
       "    <tr>\n",
       "      <th>91</th>\n",
       "      <td>     Victoria Azarenka</td>\n",
       "      <td>      Victoria Azarenka</td>\n",
       "      <td>  Dominika Cibulkova</td>\n",
       "    </tr>\n",
       "    <tr>\n",
       "      <th>92</th>\n",
       "      <td>          Simona Halep</td>\n",
       "      <td>        Caroline Garcia</td>\n",
       "      <td>           S Lisicki</td>\n",
       "    </tr>\n",
       "    <tr>\n",
       "      <th>93</th>\n",
       "      <td>                M.Keys</td>\n",
       "      <td>               E.Gulbis</td>\n",
       "      <td>              Y Duan</td>\n",
       "    </tr>\n",
       "    <tr>\n",
       "      <th>94</th>\n",
       "      <td>              C Giorgi</td>\n",
       "      <td>              T.Berdych</td>\n",
       "      <td>        D Hantuchova</td>\n",
       "    </tr>\n",
       "    <tr>\n",
       "      <th>95</th>\n",
       "      <td>      Eugenie Bouchard</td>\n",
       "      <td>         Novak Djokovic</td>\n",
       "      <td>      Novak Djokovic</td>\n",
       "    </tr>\n",
       "    <tr>\n",
       "      <th>96</th>\n",
       "      <td>                 Na Li</td>\n",
       "      <td>         Lucie Hradecka</td>\n",
       "      <td>      Lucie Hradecka</td>\n",
       "    </tr>\n",
       "    <tr>\n",
       "      <th>97</th>\n",
       "      <td>    Alex Bogomolov Jr.</td>\n",
       "      <td> Guillermo Garcia-Lopez</td>\n",
       "      <td>    Virginie Razzano</td>\n",
       "    </tr>\n",
       "    <tr>\n",
       "      <th>98</th>\n",
       "      <td>      Angelique Kerber</td>\n",
       "      <td>         Sorana Cirstea</td>\n",
       "      <td>  Dominika Cibulkova</td>\n",
       "    </tr>\n",
       "    <tr>\n",
       "      <th>99</th>\n",
       "      <td>         Tomas Berdych</td>\n",
       "      <td>       Janko Tipsarevic</td>\n",
       "      <td>    Janko Tipsarevic</td>\n",
       "    </tr>\n",
       "  </tbody>\n",
       "</table>\n",
       "<p>100 rows × 3 columns</p>\n",
       "</div>"
      ],
      "text/plain": [
       "           Actual_Player2        Logistic_Player2          Svm_Player2\n",
       "0            Gael Monfils         Feliciano Lopez  Svetlana Kuznetsova\n",
       "1                    N.Li             E.Birnerova            S Lisicki\n",
       "2             M.Johansson              J.Cepelova            S Lisicki\n",
       "3           Martin Klizan      Stanislas Wawrinka            S Lisicki\n",
       "4       Michal Przysiezny          Ernests Gulbis            S Lisicki\n",
       "5        Thiemo de Bakker          Kevin Anderson       M.Lucic-Baroni\n",
       "6         Elina Svitolina            Ana Ivanovic            S Lisicki\n",
       "7          Vasek Pospisil           Damir Dzumhur            S Lisicki\n",
       "8              Joao Sousa         James Duckworth      Michael Russell\n",
       "9               M Barthel                 I.Dodig             P.Martic\n",
       "10        Johanna Larsson         Richard Gasquet   Dominika Cibulkova\n",
       "11                S Halep              S Stephens              M.Cilic\n",
       "12       Filippo Volandri            Gilles Simon      Michael Russell\n",
       "13    Agnieszka Radwanska       Victoria Azarenka            S Lisicki\n",
       "14        Anna Tatishvili              Misaki Doi            S Lisicki\n",
       "15   Aleksandr Nedovyesov         Feliciano Lopez            S Lisicki\n",
       "16             A.Petkovic                 A Riske            S Lisicki\n",
       "17    Svetlana Kuznetsova      Daniela Hantuchova            S Lisicki\n",
       "18                   N Li              S Stephens            S Lisicki\n",
       "19              S.Querrey              M.Erakovic           M.Erakovic\n",
       "20        Albano Olivetti          Kevin Anderson       M.Lucic-Baroni\n",
       "21       Angelique Kerber    Carla Suarez Navarro            S Lisicki\n",
       "22          Bradley Klahn   Juan Martin Del Potro              G.Rufin\n",
       "23             E.Makarova              K.Flipkens            S Lisicki\n",
       "24             E Bouchard                C McHale            S Lisicki\n",
       "25      Nikolay Davydenko  Edouard Roger-Vasselin   Dominika Cibulkova\n",
       "26            Marin Cilic   Philipp Kohlschreiber            S Lisicki\n",
       "27       Kirsten Flipkens        Kirsten Flipkens       Lucie Hradecka\n",
       "28            Lukas Rosol          Michael Llodra      Nicolas Almagro\n",
       "29           David Ferrer           Kei Nishikori        Ryan Harrison\n",
       "..                    ...                     ...                  ...\n",
       "70        Richard Gasquet             Sam Querrey      Nicolas Almagro\n",
       "71               C.Giorgi                S.Stosur            S Lisicki\n",
       "72             A.Montanes               M.Russell             C McHale\n",
       "73             Tommy Haas            Ana Ivanovic            S Lisicki\n",
       "74      Nikolay Davydenko           Roger Federer         David Ferrer\n",
       "75           A.Dolgopolov             A.Mannarino              B.Paire\n",
       "76          Melanie Oudin               Jie Zheng   Dominika Cibulkova\n",
       "77            Sam Querrey           Denis Istomin            S Lisicki\n",
       "78           David Ferrer        Kirsten Flipkens         David Ferrer\n",
       "79                 Y-H.Lu               T.Berdych            T.Berdych\n",
       "80          Roberta Vinci      Ekaterina Makarova            S Lisicki\n",
       "81               A.Murray               S.Giraldo            S Lisicki\n",
       "82                 S.Peng             M.Sharapova            S Lisicki\n",
       "83            Sam Querrey          Kevin Anderson             S.Murray\n",
       "84           Laura Robson        Garbine Muguruza     Garbine Muguruza\n",
       "85         Rhyne Williams             Sam Querrey            S Lisicki\n",
       "86             Ivan Dodig          Lleyton Hewitt            J.Goerges\n",
       "87        Maria Sharapova           Jeremy Chardy   Dominika Cibulkova\n",
       "88               C.Garcia            K.Date-Krumm            S Lisicki\n",
       "89  Roberto Bautista Agut      Caroline Wozniacki   Caroline Wozniacki\n",
       "90           Simona Halep         Jelena Jankovic   Dominika Cibulkova\n",
       "91      Victoria Azarenka       Victoria Azarenka   Dominika Cibulkova\n",
       "92           Simona Halep         Caroline Garcia            S Lisicki\n",
       "93                 M.Keys                E.Gulbis               Y Duan\n",
       "94               C Giorgi               T.Berdych         D Hantuchova\n",
       "95       Eugenie Bouchard          Novak Djokovic       Novak Djokovic\n",
       "96                  Na Li          Lucie Hradecka       Lucie Hradecka\n",
       "97     Alex Bogomolov Jr.  Guillermo Garcia-Lopez     Virginie Razzano\n",
       "98       Angelique Kerber          Sorana Cirstea   Dominika Cibulkova\n",
       "99          Tomas Berdych        Janko Tipsarevic     Janko Tipsarevic\n",
       "\n",
       "[100 rows x 3 columns]"
      ]
     },
     "execution_count": 938,
     "metadata": {},
     "output_type": "execute_result"
    }
   ],
   "source": [
    "results"
   ]
  },
  {
   "cell_type": "code",
   "execution_count": 939,
   "metadata": {
    "collapsed": false
   },
   "outputs": [
    {
     "data": {
      "text/plain": [
       "3"
      ]
     },
     "execution_count": 939,
     "metadata": {},
     "output_type": "execute_result"
    }
   ],
   "source": [
    "#number of correct predictions by svm\n",
    "len(results[results['Actual_Player2'] == results['Svm_Player2']])"
   ]
  },
  {
   "cell_type": "code",
   "execution_count": 940,
   "metadata": {
    "collapsed": false
   },
   "outputs": [
    {
     "data": {
      "text/html": [
       "<div style=\"max-height:1000px;max-width:1500px;overflow:auto;\">\n",
       "<table border=\"1\" class=\"dataframe\">\n",
       "  <thead>\n",
       "    <tr style=\"text-align: right;\">\n",
       "      <th></th>\n",
       "      <th>Actual_Player2</th>\n",
       "      <th>Logistic_Player2</th>\n",
       "      <th>Svm_Player2</th>\n",
       "    </tr>\n",
       "  </thead>\n",
       "  <tbody>\n",
       "    <tr>\n",
       "      <th>47</th>\n",
       "      <td>          S Lisicki</td>\n",
       "      <td>       V Williams</td>\n",
       "      <td>          S Lisicki</td>\n",
       "    </tr>\n",
       "    <tr>\n",
       "      <th>51</th>\n",
       "      <td> Dominika Cibulkova</td>\n",
       "      <td>  Samantha Stosur</td>\n",
       "      <td> Dominika Cibulkova</td>\n",
       "    </tr>\n",
       "    <tr>\n",
       "      <th>78</th>\n",
       "      <td>       David Ferrer</td>\n",
       "      <td> Kirsten Flipkens</td>\n",
       "      <td>       David Ferrer</td>\n",
       "    </tr>\n",
       "  </tbody>\n",
       "</table>\n",
       "</div>"
      ],
      "text/plain": [
       "        Actual_Player2  Logistic_Player2         Svm_Player2\n",
       "47           S Lisicki        V Williams           S Lisicki\n",
       "51  Dominika Cibulkova   Samantha Stosur  Dominika Cibulkova\n",
       "78        David Ferrer  Kirsten Flipkens        David Ferrer"
      ]
     },
     "execution_count": 940,
     "metadata": {},
     "output_type": "execute_result"
    }
   ],
   "source": [
    "#The players for which it predicted correctly is\n",
    "results[results['Actual_Player2'] == results['Svm_Player2']]"
   ]
  },
  {
   "cell_type": "markdown",
   "metadata": {},
   "source": [
    "Here we see that Logistic alogrithm predicted incorrectly for these players"
   ]
  },
  {
   "cell_type": "code",
   "execution_count": 941,
   "metadata": {
    "collapsed": false
   },
   "outputs": [
    {
     "data": {
      "text/plain": [
       "97"
      ]
     },
     "execution_count": 941,
     "metadata": {},
     "output_type": "execute_result"
    }
   ],
   "source": [
    "#number of incorrect predictions by svm\n",
    "len(results[results['Actual_Player2'] != results['Svm_Player2']])"
   ]
  },
  {
   "cell_type": "markdown",
   "metadata": {},
   "source": [
    "# Lets try SVM with RBF kernel now"
   ]
  },
  {
   "cell_type": "code",
   "execution_count": 942,
   "metadata": {
    "collapsed": true
   },
   "outputs": [],
   "source": [
    "svm_clf = svm.SVC(kernel='rbf')"
   ]
  },
  {
   "cell_type": "code",
   "execution_count": 943,
   "metadata": {
    "collapsed": false
   },
   "outputs": [
    {
     "data": {
      "text/plain": [
       "SVC(C=1.0, cache_size=200, class_weight=None, coef0=0.0, degree=3, gamma=0.0,\n",
       "  kernel='rbf', max_iter=-1, probability=False, random_state=None,\n",
       "  shrinking=True, tol=0.001, verbose=False)"
      ]
     },
     "execution_count": 943,
     "metadata": {},
     "output_type": "execute_result"
    }
   ],
   "source": [
    "svm_clf.fit(data_x, data_y)"
   ]
  },
  {
   "cell_type": "code",
   "execution_count": 944,
   "metadata": {
    "collapsed": true
   },
   "outputs": [],
   "source": [
    "#predict the result on test_data now\n",
    "predicted_results = svm_clf.predict(test_data_x)"
   ]
  },
  {
   "cell_type": "code",
   "execution_count": 945,
   "metadata": {
    "collapsed": true
   },
   "outputs": [],
   "source": [
    "#Lets fit the predicted results in the results data frame\n",
    "results['Svm_Player2'] = names_fit.inverse_transform(predicted_results[:])"
   ]
  },
  {
   "cell_type": "code",
   "execution_count": 946,
   "metadata": {
    "collapsed": false
   },
   "outputs": [
    {
     "data": {
      "text/html": [
       "<div style=\"max-height:1000px;max-width:1500px;overflow:auto;\">\n",
       "<table border=\"1\" class=\"dataframe\">\n",
       "  <thead>\n",
       "    <tr style=\"text-align: right;\">\n",
       "      <th></th>\n",
       "      <th>Actual_Player2</th>\n",
       "      <th>Logistic_Player2</th>\n",
       "      <th>Svm_Player2</th>\n",
       "    </tr>\n",
       "  </thead>\n",
       "  <tbody>\n",
       "    <tr>\n",
       "      <th>29</th>\n",
       "      <td> David Ferrer</td>\n",
       "      <td>    Kei Nishikori</td>\n",
       "      <td> David Ferrer</td>\n",
       "    </tr>\n",
       "    <tr>\n",
       "      <th>78</th>\n",
       "      <td> David Ferrer</td>\n",
       "      <td> Kirsten Flipkens</td>\n",
       "      <td> David Ferrer</td>\n",
       "    </tr>\n",
       "  </tbody>\n",
       "</table>\n",
       "</div>"
      ],
      "text/plain": [
       "   Actual_Player2  Logistic_Player2   Svm_Player2\n",
       "29   David Ferrer     Kei Nishikori  David Ferrer\n",
       "78   David Ferrer  Kirsten Flipkens  David Ferrer"
      ]
     },
     "execution_count": 946,
     "metadata": {},
     "output_type": "execute_result"
    }
   ],
   "source": [
    "#The players for which it predicted correctly is\n",
    "results[results['Actual_Player2'] == results['Svm_Player2']]"
   ]
  },
  {
   "cell_type": "code",
   "execution_count": 947,
   "metadata": {
    "collapsed": false
   },
   "outputs": [
    {
     "data": {
      "text/plain": [
       "2"
      ]
     },
     "execution_count": 947,
     "metadata": {},
     "output_type": "execute_result"
    }
   ],
   "source": [
    "#Number of correct predictions\n",
    "len(results[results['Actual_Player2'] == results['Svm_Player2']])"
   ]
  },
  {
   "cell_type": "code",
   "execution_count": 948,
   "metadata": {
    "collapsed": false
   },
   "outputs": [
    {
     "data": {
      "text/plain": [
       "98"
      ]
     },
     "execution_count": 948,
     "metadata": {},
     "output_type": "execute_result"
    }
   ],
   "source": [
    "#Number of incorrect predictions\n",
    "len(results[results['Actual_Player2'] != results['Svm_Player2']])"
   ]
  },
  {
   "cell_type": "markdown",
   "metadata": {},
   "source": [
    "# Lets try the Random forest algorithm with this problem"
   ]
  },
  {
   "cell_type": "code",
   "execution_count": 949,
   "metadata": {
    "collapsed": true
   },
   "outputs": [],
   "source": [
    "from sklearn.ensemble import RandomForestClassifier"
   ]
  },
  {
   "cell_type": "code",
   "execution_count": null,
   "metadata": {
    "collapsed": true
   },
   "outputs": [],
   "source": [
    "forest_clf = RandomForestClassifier(n_estimators=200)"
   ]
  },
  {
   "cell_type": "code",
   "execution_count": null,
   "metadata": {
    "collapsed": false
   },
   "outputs": [
    {
     "data": {
      "text/plain": [
       "RandomForestClassifier(bootstrap=True, compute_importances=None,\n",
       "            criterion='gini', max_depth=None, max_features='auto',\n",
       "            max_leaf_nodes=None, min_density=None, min_samples_leaf=1,\n",
       "            min_samples_split=2, n_estimators=200, n_jobs=1,\n",
       "            oob_score=False, random_state=None, verbose=0)"
      ]
     },
     "execution_count": 951,
     "metadata": {},
     "output_type": "execute_result"
    }
   ],
   "source": [
    "forest_clf.fit(data_x, data_y)"
   ]
  },
  {
   "cell_type": "code",
   "execution_count": null,
   "metadata": {
    "collapsed": true
   },
   "outputs": [],
   "source": [
    "predicted_results = forest_clf.predict(test_data_x)"
   ]
  },
  {
   "cell_type": "code",
   "execution_count": null,
   "metadata": {
    "collapsed": true
   },
   "outputs": [],
   "source": [
    "#Lets fit the predicted results in the results data frame\n",
    "results['Forest_Player2'] = names_fit.inverse_transform(predicted_results[:])"
   ]
  },
  {
   "cell_type": "code",
   "execution_count": null,
   "metadata": {
    "collapsed": false
   },
   "outputs": [
    {
     "data": {
      "text/plain": [
       "4"
      ]
     },
     "execution_count": 954,
     "metadata": {},
     "output_type": "execute_result"
    }
   ],
   "source": [
    "#Number of correct predictions\n",
    "len(results[results['Actual_Player2'] == results['Forest_Player2']])"
   ]
  },
  {
   "cell_type": "code",
   "execution_count": null,
   "metadata": {
    "collapsed": false
   },
   "outputs": [
    {
     "data": {
      "text/plain": [
       "96"
      ]
     },
     "execution_count": 955,
     "metadata": {},
     "output_type": "execute_result"
    }
   ],
   "source": [
    "#Number of incorrect predictions\n",
    "len(results[results['Actual_Player2'] != results['Forest_Player2']])"
   ]
  },
  {
   "cell_type": "code",
   "execution_count": null,
   "metadata": {
    "collapsed": true
   },
   "outputs": [],
   "source": []
  }
 ],
 "metadata": {
  "kernelspec": {
   "display_name": "Python 2",
   "language": "python",
   "name": "python2"
  },
  "language_info": {
   "codemirror_mode": {
    "name": "ipython",
    "version": 2
   },
   "file_extension": ".py",
   "mimetype": "text/x-python",
   "name": "python",
   "nbconvert_exporter": "python",
   "pygments_lexer": "ipython2",
   "version": "2.7.9"
  }
 },
 "nbformat": 4,
 "nbformat_minor": 0
}
