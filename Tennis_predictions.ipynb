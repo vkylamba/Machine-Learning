{
 "cells": [
  {
   "cell_type": "markdown",
   "metadata": {},
   "source": [
    "# This procedure does some machine learning tasks on the UCI Tennis data. The data is stored in the form of CSV files in current folder. We will use python to implement machine learning."
   ]
  },
  {
   "cell_type": "code",
   "execution_count": 1,
   "metadata": {
    "collapsed": true
   },
   "outputs": [],
   "source": [
    "#Lets load os module to fine the files present in the directory\n",
    "import os"
   ]
  },
  {
   "cell_type": "markdown",
   "metadata": {},
   "source": [
    "Our csv files are in the data folder. So let's see the files first"
   ]
  },
  {
   "cell_type": "code",
   "execution_count": 2,
   "metadata": {
    "collapsed": true
   },
   "outputs": [],
   "source": [
    "data_files_path = 'data/'\n",
    "data_files = os.listdir(data_files_path)"
   ]
  },
  {
   "cell_type": "code",
   "execution_count": 3,
   "metadata": {
    "collapsed": false
   },
   "outputs": [
    {
     "name": "stdout",
     "output_type": "stream",
     "text": [
      "['Wimbledon-women-2013.csv', 'FrenchOpen-women-2013.csv', 'AusOpen-men-2013.csv', 'FrenchOpen-men-2013.csv', 'Wimbledon-men-2013.csv', 'AusOpen-women-2013.csv', 'USOpen-women-2013.csv', 'USOpen-men-2013.csv']\n"
     ]
    }
   ],
   "source": [
    "print data_files"
   ]
  },
  {
   "cell_type": "markdown",
   "metadata": {},
   "source": [
    "Now lets load the data from the files. We will use pandas module to load the data."
   ]
  },
  {
   "cell_type": "code",
   "execution_count": 4,
   "metadata": {
    "collapsed": true
   },
   "outputs": [],
   "source": [
    "import pandas as pd\n",
    "input_data = pd.read_csv(data_files_path + data_files[0]);"
   ]
  },
  {
   "cell_type": "markdown",
   "metadata": {},
   "source": [
    "Now lets see how does the data looks. Lets see first 5 rows of the data."
   ]
  },
  {
   "cell_type": "code",
   "execution_count": 5,
   "metadata": {
    "collapsed": false
   },
   "outputs": [
    {
     "data": {
      "text/html": [
       "<div style=\"max-height:1000px;max-width:1500px;overflow:auto;\">\n",
       "<table border=\"1\" class=\"dataframe\">\n",
       "  <thead>\n",
       "    <tr style=\"text-align: right;\">\n",
       "      <th></th>\n",
       "      <th>Player1</th>\n",
       "      <th>Player2</th>\n",
       "      <th>Round</th>\n",
       "      <th>Result</th>\n",
       "      <th>FNL.1</th>\n",
       "      <th>FNL.2</th>\n",
       "      <th>FSP.1</th>\n",
       "      <th>FSW.1</th>\n",
       "      <th>SSP.1</th>\n",
       "      <th>SSW.1</th>\n",
       "      <th>...</th>\n",
       "      <th>BPC.2</th>\n",
       "      <th>BPW.2</th>\n",
       "      <th>NPA.2</th>\n",
       "      <th>NPW.2</th>\n",
       "      <th>TPW.2</th>\n",
       "      <th>ST1.2</th>\n",
       "      <th>ST2.2</th>\n",
       "      <th>ST3.2</th>\n",
       "      <th>ST4.2</th>\n",
       "      <th>ST5.2</th>\n",
       "    </tr>\n",
       "  </thead>\n",
       "  <tbody>\n",
       "    <tr>\n",
       "      <th>0</th>\n",
       "      <td>    M.Koehler</td>\n",
       "      <td> V.Azarenka</td>\n",
       "      <td> 1</td>\n",
       "      <td> 0</td>\n",
       "      <td> 0</td>\n",
       "      <td> 2</td>\n",
       "      <td> 60</td>\n",
       "      <td> 21</td>\n",
       "      <td> 40</td>\n",
       "      <td>  8</td>\n",
       "      <td>...</td>\n",
       "      <td> 16</td>\n",
       "      <td> 6</td>\n",
       "      <td>  8</td>\n",
       "      <td>  4</td>\n",
       "      <td>NaN</td>\n",
       "      <td> 6</td>\n",
       "      <td> 6</td>\n",
       "      <td>NaN</td>\n",
       "      <td>NaN</td>\n",
       "      <td>NaN</td>\n",
       "    </tr>\n",
       "    <tr>\n",
       "      <th>1</th>\n",
       "      <td>   E.Baltacha</td>\n",
       "      <td> F.Pennetta</td>\n",
       "      <td> 1</td>\n",
       "      <td> 0</td>\n",
       "      <td> 0</td>\n",
       "      <td> 2</td>\n",
       "      <td> 69</td>\n",
       "      <td> 23</td>\n",
       "      <td> 31</td>\n",
       "      <td>  6</td>\n",
       "      <td>...</td>\n",
       "      <td>  6</td>\n",
       "      <td> 5</td>\n",
       "      <td> 14</td>\n",
       "      <td> 11</td>\n",
       "      <td>NaN</td>\n",
       "      <td> 6</td>\n",
       "      <td> 6</td>\n",
       "      <td>NaN</td>\n",
       "      <td>NaN</td>\n",
       "      <td>NaN</td>\n",
       "    </tr>\n",
       "    <tr>\n",
       "      <th>2</th>\n",
       "      <td>    S-W.Hsieh</td>\n",
       "      <td>    T.Maria</td>\n",
       "      <td> 1</td>\n",
       "      <td> 1</td>\n",
       "      <td> 2</td>\n",
       "      <td> 0</td>\n",
       "      <td> 63</td>\n",
       "      <td> 17</td>\n",
       "      <td> 37</td>\n",
       "      <td> 10</td>\n",
       "      <td>...</td>\n",
       "      <td>  1</td>\n",
       "      <td> 0</td>\n",
       "      <td>  8</td>\n",
       "      <td>  2</td>\n",
       "      <td>NaN</td>\n",
       "      <td> 1</td>\n",
       "      <td> 0</td>\n",
       "      <td>NaN</td>\n",
       "      <td>NaN</td>\n",
       "      <td>NaN</td>\n",
       "    </tr>\n",
       "    <tr>\n",
       "      <th>3</th>\n",
       "      <td>     A.Cornet</td>\n",
       "      <td>     V.King</td>\n",
       "      <td> 1</td>\n",
       "      <td> 1</td>\n",
       "      <td> 2</td>\n",
       "      <td> 1</td>\n",
       "      <td> 57</td>\n",
       "      <td> 36</td>\n",
       "      <td> 43</td>\n",
       "      <td> 21</td>\n",
       "      <td>...</td>\n",
       "      <td>  4</td>\n",
       "      <td> 1</td>\n",
       "      <td> 48</td>\n",
       "      <td> 32</td>\n",
       "      <td>NaN</td>\n",
       "      <td> 6</td>\n",
       "      <td> 3</td>\n",
       "      <td>  1</td>\n",
       "      <td>NaN</td>\n",
       "      <td>NaN</td>\n",
       "    </tr>\n",
       "    <tr>\n",
       "      <th>4</th>\n",
       "      <td> Y.Putintseva</td>\n",
       "      <td> K.Flipkens</td>\n",
       "      <td> 1</td>\n",
       "      <td> 0</td>\n",
       "      <td> 0</td>\n",
       "      <td> 2</td>\n",
       "      <td> 73</td>\n",
       "      <td> 34</td>\n",
       "      <td> 27</td>\n",
       "      <td> 12</td>\n",
       "      <td>...</td>\n",
       "      <td>  9</td>\n",
       "      <td> 3</td>\n",
       "      <td> 35</td>\n",
       "      <td> 24</td>\n",
       "      <td>NaN</td>\n",
       "      <td> 7</td>\n",
       "      <td> 6</td>\n",
       "      <td>NaN</td>\n",
       "      <td>NaN</td>\n",
       "      <td>NaN</td>\n",
       "    </tr>\n",
       "  </tbody>\n",
       "</table>\n",
       "<p>5 rows × 42 columns</p>\n",
       "</div>"
      ],
      "text/plain": [
       "        Player1     Player2  Round  Result  FNL.1  FNL.2  FSP.1  FSW.1  SSP.1  \\\n",
       "0     M.Koehler  V.Azarenka      1       0      0      2     60     21     40   \n",
       "1    E.Baltacha  F.Pennetta      1       0      0      2     69     23     31   \n",
       "2     S-W.Hsieh     T.Maria      1       1      2      0     63     17     37   \n",
       "3      A.Cornet      V.King      1       1      2      1     57     36     43   \n",
       "4  Y.Putintseva  K.Flipkens      1       0      0      2     73     34     27   \n",
       "\n",
       "   SSW.1  ...    BPC.2  BPW.2  NPA.2  NPW.2  TPW.2  ST1.2  ST2.2  ST3.2  \\\n",
       "0      8  ...       16      6      8      4    NaN      6      6    NaN   \n",
       "1      6  ...        6      5     14     11    NaN      6      6    NaN   \n",
       "2     10  ...        1      0      8      2    NaN      1      0    NaN   \n",
       "3     21  ...        4      1     48     32    NaN      6      3      1   \n",
       "4     12  ...        9      3     35     24    NaN      7      6    NaN   \n",
       "\n",
       "   ST4.2  ST5.2  \n",
       "0    NaN    NaN  \n",
       "1    NaN    NaN  \n",
       "2    NaN    NaN  \n",
       "3    NaN    NaN  \n",
       "4    NaN    NaN  \n",
       "\n",
       "[5 rows x 42 columns]"
      ]
     },
     "execution_count": 5,
     "metadata": {},
     "output_type": "execute_result"
    }
   ],
   "source": [
    "input_data[:5]"
   ]
  },
  {
   "cell_type": "markdown",
   "metadata": {},
   "source": [
    "Lets see the Player1 column for first 5 rows"
   ]
  },
  {
   "cell_type": "code",
   "execution_count": 6,
   "metadata": {
    "collapsed": false
   },
   "outputs": [
    {
     "data": {
      "text/plain": [
       "0       M.Koehler\n",
       "1      E.Baltacha\n",
       "2       S-W.Hsieh\n",
       "3        A.Cornet\n",
       "4    Y.Putintseva\n",
       "Name: Player1, dtype: object"
      ]
     },
     "execution_count": 6,
     "metadata": {},
     "output_type": "execute_result"
    }
   ],
   "source": [
    "input_data['Player1'][:5]"
   ]
  },
  {
   "cell_type": "markdown",
   "metadata": {},
   "source": [
    "Now lets make a function to load data from all the data files. Since each file belongs to certain type of match/tournament. We will add additional column indiacting the file name or tournament type."
   ]
  },
  {
   "cell_type": "code",
   "execution_count": 7,
   "metadata": {
    "collapsed": true
   },
   "outputs": [],
   "source": [
    "def load_data(data_files):\n",
    "    input_data = None;\n",
    "    input_data_initialized = False; # to check the state of input_data variable\n",
    "    for file_name in data_files:\n",
    "        print 'Reading from file ' + file_name\n",
    "        if not input_data_initialized:\n",
    "            #Initialize the input_data\n",
    "            data = pd.read_csv(data_files_path + file_name);\n",
    "            input_data = data;\n",
    "            input_data['Type'] = file_name.split('.')[0];\n",
    "            input_data_initialized = True;\n",
    "        else:\n",
    "            #Store the data into data variable\n",
    "            data = pd.read_csv(data_files_path + file_name);\n",
    "            data['Type'] = file_name.split('.')[0];\n",
    "            #Append the data into input_data\n",
    "            input_data = input_data.append(data);\n",
    "    return input_data;"
   ]
  },
  {
   "cell_type": "code",
   "execution_count": 8,
   "metadata": {
    "collapsed": false
   },
   "outputs": [
    {
     "name": "stdout",
     "output_type": "stream",
     "text": [
      "Reading from file Wimbledon-women-2013.csv\n",
      "Reading from file FrenchOpen-women-2013.csv\n",
      "Reading from file AusOpen-men-2013.csv\n",
      "Reading from file FrenchOpen-men-2013.csv\n",
      "Reading from file Wimbledon-men-2013.csv\n",
      "Reading from file AusOpen-women-2013.csv\n",
      "Reading from file USOpen-women-2013.csv\n",
      "Reading from file USOpen-men-2013.csv\n"
     ]
    }
   ],
   "source": [
    "#Lets load data from all the files\n",
    "input_data = load_data(data_files);"
   ]
  },
  {
   "cell_type": "markdown",
   "metadata": {},
   "source": [
    "Lets check the size of data"
   ]
  },
  {
   "cell_type": "code",
   "execution_count": 9,
   "metadata": {
    "collapsed": false
   },
   "outputs": [
    {
     "data": {
      "text/plain": [
       "(943, 43)"
      ]
     },
     "execution_count": 9,
     "metadata": {},
     "output_type": "execute_result"
    }
   ],
   "source": [
    "input_data.shape"
   ]
  },
  {
   "cell_type": "markdown",
   "metadata": {},
   "source": [
    "This means the input_data have 943 rows and 42 columns"
   ]
  },
  {
   "cell_type": "markdown",
   "metadata": {},
   "source": [
    "Lets see first 5 rows of input_data"
   ]
  },
  {
   "cell_type": "code",
   "execution_count": 10,
   "metadata": {
    "collapsed": false
   },
   "outputs": [
    {
     "data": {
      "text/html": [
       "<div style=\"max-height:1000px;max-width:1500px;overflow:auto;\">\n",
       "<table border=\"1\" class=\"dataframe\">\n",
       "  <thead>\n",
       "    <tr style=\"text-align: right;\">\n",
       "      <th></th>\n",
       "      <th>Player1</th>\n",
       "      <th>Player2</th>\n",
       "      <th>Round</th>\n",
       "      <th>Result</th>\n",
       "      <th>FNL.1</th>\n",
       "      <th>FNL.2</th>\n",
       "      <th>FSP.1</th>\n",
       "      <th>FSW.1</th>\n",
       "      <th>SSP.1</th>\n",
       "      <th>SSW.1</th>\n",
       "      <th>...</th>\n",
       "      <th>BPW.2</th>\n",
       "      <th>NPA.2</th>\n",
       "      <th>NPW.2</th>\n",
       "      <th>TPW.2</th>\n",
       "      <th>ST1.2</th>\n",
       "      <th>ST2.2</th>\n",
       "      <th>ST3.2</th>\n",
       "      <th>ST4.2</th>\n",
       "      <th>ST5.2</th>\n",
       "      <th>Type</th>\n",
       "    </tr>\n",
       "  </thead>\n",
       "  <tbody>\n",
       "    <tr>\n",
       "      <th>0</th>\n",
       "      <td>    M.Koehler</td>\n",
       "      <td> V.Azarenka</td>\n",
       "      <td> 1</td>\n",
       "      <td> 0</td>\n",
       "      <td> 0</td>\n",
       "      <td> 2</td>\n",
       "      <td> 60</td>\n",
       "      <td> 21</td>\n",
       "      <td> 40</td>\n",
       "      <td>  8</td>\n",
       "      <td>...</td>\n",
       "      <td> 6</td>\n",
       "      <td>  8</td>\n",
       "      <td>  4</td>\n",
       "      <td>NaN</td>\n",
       "      <td> 6</td>\n",
       "      <td> 6</td>\n",
       "      <td>NaN</td>\n",
       "      <td>NaN</td>\n",
       "      <td>NaN</td>\n",
       "      <td> Wimbledon-women-2013</td>\n",
       "    </tr>\n",
       "    <tr>\n",
       "      <th>1</th>\n",
       "      <td>   E.Baltacha</td>\n",
       "      <td> F.Pennetta</td>\n",
       "      <td> 1</td>\n",
       "      <td> 0</td>\n",
       "      <td> 0</td>\n",
       "      <td> 2</td>\n",
       "      <td> 69</td>\n",
       "      <td> 23</td>\n",
       "      <td> 31</td>\n",
       "      <td>  6</td>\n",
       "      <td>...</td>\n",
       "      <td> 5</td>\n",
       "      <td> 14</td>\n",
       "      <td> 11</td>\n",
       "      <td>NaN</td>\n",
       "      <td> 6</td>\n",
       "      <td> 6</td>\n",
       "      <td>NaN</td>\n",
       "      <td>NaN</td>\n",
       "      <td>NaN</td>\n",
       "      <td> Wimbledon-women-2013</td>\n",
       "    </tr>\n",
       "    <tr>\n",
       "      <th>2</th>\n",
       "      <td>    S-W.Hsieh</td>\n",
       "      <td>    T.Maria</td>\n",
       "      <td> 1</td>\n",
       "      <td> 1</td>\n",
       "      <td> 2</td>\n",
       "      <td> 0</td>\n",
       "      <td> 63</td>\n",
       "      <td> 17</td>\n",
       "      <td> 37</td>\n",
       "      <td> 10</td>\n",
       "      <td>...</td>\n",
       "      <td> 0</td>\n",
       "      <td>  8</td>\n",
       "      <td>  2</td>\n",
       "      <td>NaN</td>\n",
       "      <td> 1</td>\n",
       "      <td> 0</td>\n",
       "      <td>NaN</td>\n",
       "      <td>NaN</td>\n",
       "      <td>NaN</td>\n",
       "      <td> Wimbledon-women-2013</td>\n",
       "    </tr>\n",
       "    <tr>\n",
       "      <th>3</th>\n",
       "      <td>     A.Cornet</td>\n",
       "      <td>     V.King</td>\n",
       "      <td> 1</td>\n",
       "      <td> 1</td>\n",
       "      <td> 2</td>\n",
       "      <td> 1</td>\n",
       "      <td> 57</td>\n",
       "      <td> 36</td>\n",
       "      <td> 43</td>\n",
       "      <td> 21</td>\n",
       "      <td>...</td>\n",
       "      <td> 1</td>\n",
       "      <td> 48</td>\n",
       "      <td> 32</td>\n",
       "      <td>NaN</td>\n",
       "      <td> 6</td>\n",
       "      <td> 3</td>\n",
       "      <td>  1</td>\n",
       "      <td>NaN</td>\n",
       "      <td>NaN</td>\n",
       "      <td> Wimbledon-women-2013</td>\n",
       "    </tr>\n",
       "    <tr>\n",
       "      <th>4</th>\n",
       "      <td> Y.Putintseva</td>\n",
       "      <td> K.Flipkens</td>\n",
       "      <td> 1</td>\n",
       "      <td> 0</td>\n",
       "      <td> 0</td>\n",
       "      <td> 2</td>\n",
       "      <td> 73</td>\n",
       "      <td> 34</td>\n",
       "      <td> 27</td>\n",
       "      <td> 12</td>\n",
       "      <td>...</td>\n",
       "      <td> 3</td>\n",
       "      <td> 35</td>\n",
       "      <td> 24</td>\n",
       "      <td>NaN</td>\n",
       "      <td> 7</td>\n",
       "      <td> 6</td>\n",
       "      <td>NaN</td>\n",
       "      <td>NaN</td>\n",
       "      <td>NaN</td>\n",
       "      <td> Wimbledon-women-2013</td>\n",
       "    </tr>\n",
       "  </tbody>\n",
       "</table>\n",
       "<p>5 rows × 43 columns</p>\n",
       "</div>"
      ],
      "text/plain": [
       "        Player1     Player2  Round  Result  FNL.1  FNL.2  FSP.1  FSW.1  SSP.1  \\\n",
       "0     M.Koehler  V.Azarenka      1       0      0      2     60     21     40   \n",
       "1    E.Baltacha  F.Pennetta      1       0      0      2     69     23     31   \n",
       "2     S-W.Hsieh     T.Maria      1       1      2      0     63     17     37   \n",
       "3      A.Cornet      V.King      1       1      2      1     57     36     43   \n",
       "4  Y.Putintseva  K.Flipkens      1       0      0      2     73     34     27   \n",
       "\n",
       "   SSW.1          ...           BPW.2  NPA.2  NPW.2  TPW.2  ST1.2  ST2.2  \\\n",
       "0      8          ...               6      8      4    NaN      6      6   \n",
       "1      6          ...               5     14     11    NaN      6      6   \n",
       "2     10          ...               0      8      2    NaN      1      0   \n",
       "3     21          ...               1     48     32    NaN      6      3   \n",
       "4     12          ...               3     35     24    NaN      7      6   \n",
       "\n",
       "   ST3.2  ST4.2  ST5.2                  Type  \n",
       "0    NaN    NaN    NaN  Wimbledon-women-2013  \n",
       "1    NaN    NaN    NaN  Wimbledon-women-2013  \n",
       "2    NaN    NaN    NaN  Wimbledon-women-2013  \n",
       "3      1    NaN    NaN  Wimbledon-women-2013  \n",
       "4    NaN    NaN    NaN  Wimbledon-women-2013  \n",
       "\n",
       "[5 rows x 43 columns]"
      ]
     },
     "execution_count": 10,
     "metadata": {},
     "output_type": "execute_result"
    }
   ],
   "source": [
    "input_data[:5]"
   ]
  },
  {
   "cell_type": "markdown",
   "metadata": {},
   "source": [
    "Lets read all the player names and match types"
   ]
  },
  {
   "cell_type": "code",
   "execution_count": 11,
   "metadata": {
    "collapsed": true
   },
   "outputs": [],
   "source": [
    "player_names = input_data['Player1'].copy();\n",
    "player_names = player_names.append(input_data['Player2']);\n",
    "\n",
    "tournament_types = input_data['Type'].copy();"
   ]
  },
  {
   "cell_type": "code",
   "execution_count": 12,
   "metadata": {
    "collapsed": false
   },
   "outputs": [
    {
     "data": {
      "text/plain": [
       "0       M.Koehler\n",
       "1      E.Baltacha\n",
       "2       S-W.Hsieh\n",
       "3        A.Cornet\n",
       "4    Y.Putintseva\n",
       "dtype: object"
      ]
     },
     "execution_count": 12,
     "metadata": {},
     "output_type": "execute_result"
    }
   ],
   "source": [
    "player_names[:5]"
   ]
  },
  {
   "cell_type": "markdown",
   "metadata": {},
   "source": [
    "We need to divide the data into two parts. One to train the learning algorithms, and other part to test the algorithms. We will select 100 rows randomaly for test data."
   ]
  },
  {
   "cell_type": "code",
   "execution_count": 13,
   "metadata": {
    "collapsed": false
   },
   "outputs": [],
   "source": [
    "import numpy as np\n",
    "#Lets randomize the rows in input_data\n",
    "input_data = input_data.take(np.random.permutation(len(input_data))[:])\n",
    "#Lets take first 100 rows now\n",
    "test_data = input_data[:100].copy();\n",
    "input_data = input_data[100:-1];"
   ]
  },
  {
   "cell_type": "markdown",
   "metadata": {},
   "source": [
    "Test data looks like:"
   ]
  },
  {
   "cell_type": "code",
   "execution_count": 14,
   "metadata": {
    "collapsed": false
   },
   "outputs": [
    {
     "data": {
      "text/plain": [
       "(100, 43)"
      ]
     },
     "execution_count": 14,
     "metadata": {},
     "output_type": "execute_result"
    }
   ],
   "source": [
    "test_data.shape"
   ]
  },
  {
   "cell_type": "code",
   "execution_count": 15,
   "metadata": {
    "collapsed": false
   },
   "outputs": [
    {
     "data": {
      "text/plain": [
       "(842, 43)"
      ]
     },
     "execution_count": 15,
     "metadata": {},
     "output_type": "execute_result"
    }
   ],
   "source": [
    "input_data.shape"
   ]
  },
  {
   "cell_type": "markdown",
   "metadata": {},
   "source": [
    "The Result column have results of all the matches. \n",
    "The result is 1 if Player1 won the match, it is zero if Player2 won the match. We will be feeding all this data to learning algorithm. The algorithm accepts numeric values only. So we need to convert the player names and match types into numeric values. We will be identifying each player with a unique number. To do so lets import preprocessing module of sklearn, and use the label encoder availabel in it."
   ]
  },
  {
   "cell_type": "code",
   "execution_count": 16,
   "metadata": {
    "collapsed": true
   },
   "outputs": [],
   "source": [
    "from sklearn import preprocessing\n",
    "name_encoder = preprocessing.LabelEncoder()\n",
    "tournament_encoder = preprocessing.LabelEncoder()"
   ]
  },
  {
   "cell_type": "markdown",
   "metadata": {},
   "source": [
    "Now lets transform the names into numeric values"
   ]
  },
  {
   "cell_type": "code",
   "execution_count": 17,
   "metadata": {
    "collapsed": false,
    "scrolled": true
   },
   "outputs": [],
   "source": [
    "names_fit = name_encoder.fit(player_names)\n",
    "tournament_fit = tournament_encoder.fit(tournament_types)\n",
    "input_data['Player1'] = names_fit.transform(input_data['Player1']);\n",
    "input_data['Player2'] = names_fit.transform(input_data['Player2']);\n",
    "input_data['Type'] = tournament_fit.transform(input_data['Type']);\n",
    "\n",
    "test_data['Player1'] = names_fit.transform(test_data['Player1']);\n",
    "test_data['Player2'] = names_fit.transform(test_data['Player2']);\n",
    "test_data['Type'] = tournament_fit.transform(test_data['Type']);"
   ]
  },
  {
   "cell_type": "code",
   "execution_count": 18,
   "metadata": {
    "collapsed": false
   },
   "outputs": [
    {
     "data": {
      "text/html": [
       "<div style=\"max-height:1000px;max-width:1500px;overflow:auto;\">\n",
       "<table border=\"1\" class=\"dataframe\">\n",
       "  <thead>\n",
       "    <tr style=\"text-align: right;\">\n",
       "      <th></th>\n",
       "      <th>Player1</th>\n",
       "      <th>Player2</th>\n",
       "      <th>Type</th>\n",
       "    </tr>\n",
       "  </thead>\n",
       "  <tbody>\n",
       "    <tr>\n",
       "      <th>78</th>\n",
       "      <td> 244</td>\n",
       "      <td> 464</td>\n",
       "      <td> 4</td>\n",
       "    </tr>\n",
       "    <tr>\n",
       "      <th>18</th>\n",
       "      <td> 164</td>\n",
       "      <td> 367</td>\n",
       "      <td> 1</td>\n",
       "    </tr>\n",
       "    <tr>\n",
       "      <th>59</th>\n",
       "      <td> 535</td>\n",
       "      <td> 650</td>\n",
       "      <td> 5</td>\n",
       "    </tr>\n",
       "    <tr>\n",
       "      <th>57</th>\n",
       "      <td> 470</td>\n",
       "      <td>  37</td>\n",
       "      <td> 7</td>\n",
       "    </tr>\n",
       "    <tr>\n",
       "      <th>56</th>\n",
       "      <td> 429</td>\n",
       "      <td> 331</td>\n",
       "      <td> 0</td>\n",
       "    </tr>\n",
       "  </tbody>\n",
       "</table>\n",
       "</div>"
      ],
      "text/plain": [
       "    Player1  Player2  Type\n",
       "78      244      464     4\n",
       "18      164      367     1\n",
       "59      535      650     5\n",
       "57      470       37     7\n",
       "56      429      331     0"
      ]
     },
     "execution_count": 18,
     "metadata": {},
     "output_type": "execute_result"
    }
   ],
   "source": [
    "input_data[['Player1', 'Player2', 'Type']][:5]"
   ]
  },
  {
   "cell_type": "code",
   "execution_count": 19,
   "metadata": {
    "collapsed": false
   },
   "outputs": [
    {
     "data": {
      "text/html": [
       "<div style=\"max-height:1000px;max-width:1500px;overflow:auto;\">\n",
       "<table border=\"1\" class=\"dataframe\">\n",
       "  <thead>\n",
       "    <tr style=\"text-align: right;\">\n",
       "      <th></th>\n",
       "      <th>Player1</th>\n",
       "      <th>Player2</th>\n",
       "      <th>Type</th>\n",
       "    </tr>\n",
       "  </thead>\n",
       "  <tbody>\n",
       "    <tr>\n",
       "      <th>84</th>\n",
       "      <td> 124</td>\n",
       "      <td> 218</td>\n",
       "      <td> 1</td>\n",
       "    </tr>\n",
       "    <tr>\n",
       "      <th>73</th>\n",
       "      <td>  43</td>\n",
       "      <td> 562</td>\n",
       "      <td> 4</td>\n",
       "    </tr>\n",
       "    <tr>\n",
       "      <th>80</th>\n",
       "      <td> 100</td>\n",
       "      <td> 525</td>\n",
       "      <td> 0</td>\n",
       "    </tr>\n",
       "    <tr>\n",
       "      <th>86</th>\n",
       "      <td> 439</td>\n",
       "      <td> 198</td>\n",
       "      <td> 0</td>\n",
       "    </tr>\n",
       "    <tr>\n",
       "      <th>7 </th>\n",
       "      <td>   8</td>\n",
       "      <td> 134</td>\n",
       "      <td> 5</td>\n",
       "    </tr>\n",
       "  </tbody>\n",
       "</table>\n",
       "</div>"
      ],
      "text/plain": [
       "    Player1  Player2  Type\n",
       "84      124      218     1\n",
       "73       43      562     4\n",
       "80      100      525     0\n",
       "86      439      198     0\n",
       "7         8      134     5"
      ]
     },
     "execution_count": 19,
     "metadata": {},
     "output_type": "execute_result"
    }
   ],
   "source": [
    "test_data[['Player1', 'Player2', 'Type']][:5]"
   ]
  },
  {
   "cell_type": "markdown",
   "metadata": {},
   "source": [
    "And the input_data looks like:"
   ]
  },
  {
   "cell_type": "code",
   "execution_count": 20,
   "metadata": {
    "collapsed": false
   },
   "outputs": [
    {
     "data": {
      "text/html": [
       "<div style=\"max-height:1000px;max-width:1500px;overflow:auto;\">\n",
       "<table border=\"1\" class=\"dataframe\">\n",
       "  <thead>\n",
       "    <tr style=\"text-align: right;\">\n",
       "      <th></th>\n",
       "      <th>Player1</th>\n",
       "      <th>Player2</th>\n",
       "      <th>Round</th>\n",
       "      <th>Result</th>\n",
       "      <th>FNL.1</th>\n",
       "      <th>FNL.2</th>\n",
       "      <th>FSP.1</th>\n",
       "      <th>FSW.1</th>\n",
       "      <th>SSP.1</th>\n",
       "      <th>SSW.1</th>\n",
       "      <th>...</th>\n",
       "      <th>BPW.2</th>\n",
       "      <th>NPA.2</th>\n",
       "      <th>NPW.2</th>\n",
       "      <th>TPW.2</th>\n",
       "      <th>ST1.2</th>\n",
       "      <th>ST2.2</th>\n",
       "      <th>ST3.2</th>\n",
       "      <th>ST4.2</th>\n",
       "      <th>ST5.2</th>\n",
       "      <th>Type</th>\n",
       "    </tr>\n",
       "  </thead>\n",
       "  <tbody>\n",
       "    <tr>\n",
       "      <th>78</th>\n",
       "      <td> 244</td>\n",
       "      <td> 464</td>\n",
       "      <td> 1</td>\n",
       "      <td> 1</td>\n",
       "      <td> 3</td>\n",
       "      <td> 0</td>\n",
       "      <td> 66</td>\n",
       "      <td> 45</td>\n",
       "      <td> 34</td>\n",
       "      <td> 14</td>\n",
       "      <td>...</td>\n",
       "      <td>  6</td>\n",
       "      <td>NaN</td>\n",
       "      <td>NaN</td>\n",
       "      <td>  67</td>\n",
       "      <td> 1</td>\n",
       "      <td> 4</td>\n",
       "      <td>  4</td>\n",
       "      <td>NaN</td>\n",
       "      <td>NaN</td>\n",
       "      <td> 4</td>\n",
       "    </tr>\n",
       "    <tr>\n",
       "      <th>18</th>\n",
       "      <td> 164</td>\n",
       "      <td> 367</td>\n",
       "      <td> 1</td>\n",
       "      <td> 0</td>\n",
       "      <td> 0</td>\n",
       "      <td> 2</td>\n",
       "      <td> 47</td>\n",
       "      <td> 17</td>\n",
       "      <td> 53</td>\n",
       "      <td>  9</td>\n",
       "      <td>...</td>\n",
       "      <td>  7</td>\n",
       "      <td>NaN</td>\n",
       "      <td>NaN</td>\n",
       "      <td>  58</td>\n",
       "      <td> 6</td>\n",
       "      <td> 6</td>\n",
       "      <td>NaN</td>\n",
       "      <td>NaN</td>\n",
       "      <td>NaN</td>\n",
       "      <td> 1</td>\n",
       "    </tr>\n",
       "    <tr>\n",
       "      <th>59</th>\n",
       "      <td> 535</td>\n",
       "      <td> 650</td>\n",
       "      <td> 1</td>\n",
       "      <td> 1</td>\n",
       "      <td> 2</td>\n",
       "      <td> 0</td>\n",
       "      <td> 54</td>\n",
       "      <td> 18</td>\n",
       "      <td> 46</td>\n",
       "      <td> 16</td>\n",
       "      <td>...</td>\n",
       "      <td>  3</td>\n",
       "      <td> 11</td>\n",
       "      <td>  7</td>\n",
       "      <td> NaN</td>\n",
       "      <td> 3</td>\n",
       "      <td> 4</td>\n",
       "      <td>NaN</td>\n",
       "      <td>NaN</td>\n",
       "      <td>NaN</td>\n",
       "      <td> 5</td>\n",
       "    </tr>\n",
       "    <tr>\n",
       "      <th>57</th>\n",
       "      <td> 470</td>\n",
       "      <td>  37</td>\n",
       "      <td> 1</td>\n",
       "      <td> 1</td>\n",
       "      <td> 2</td>\n",
       "      <td> 0</td>\n",
       "      <td> 69</td>\n",
       "      <td> 24</td>\n",
       "      <td> 31</td>\n",
       "      <td>  4</td>\n",
       "      <td>...</td>\n",
       "      <td>  4</td>\n",
       "      <td>  9</td>\n",
       "      <td>  6</td>\n",
       "      <td> NaN</td>\n",
       "      <td> 4</td>\n",
       "      <td> 2</td>\n",
       "      <td>NaN</td>\n",
       "      <td>NaN</td>\n",
       "      <td>NaN</td>\n",
       "      <td> 7</td>\n",
       "    </tr>\n",
       "    <tr>\n",
       "      <th>56</th>\n",
       "      <td> 429</td>\n",
       "      <td> 331</td>\n",
       "      <td> 1</td>\n",
       "      <td> 0</td>\n",
       "      <td> 2</td>\n",
       "      <td> 3</td>\n",
       "      <td> 61</td>\n",
       "      <td> 69</td>\n",
       "      <td> 39</td>\n",
       "      <td> 29</td>\n",
       "      <td>...</td>\n",
       "      <td> 15</td>\n",
       "      <td> 11</td>\n",
       "      <td> 16</td>\n",
       "      <td> 167</td>\n",
       "      <td> 6</td>\n",
       "      <td> 5</td>\n",
       "      <td>  6</td>\n",
       "      <td>  4</td>\n",
       "      <td>  6</td>\n",
       "      <td> 0</td>\n",
       "    </tr>\n",
       "  </tbody>\n",
       "</table>\n",
       "<p>5 rows × 43 columns</p>\n",
       "</div>"
      ],
      "text/plain": [
       "    Player1  Player2  Round  Result  FNL.1  FNL.2  FSP.1  FSW.1  SSP.1  SSW.1  \\\n",
       "78      244      464      1       1      3      0     66     45     34     14   \n",
       "18      164      367      1       0      0      2     47     17     53      9   \n",
       "59      535      650      1       1      2      0     54     18     46     16   \n",
       "57      470       37      1       1      2      0     69     24     31      4   \n",
       "56      429      331      1       0      2      3     61     69     39     29   \n",
       "\n",
       "    ...   BPW.2  NPA.2  NPW.2  TPW.2  ST1.2  ST2.2  ST3.2  ST4.2  ST5.2  Type  \n",
       "78  ...       6    NaN    NaN     67      1      4      4    NaN    NaN     4  \n",
       "18  ...       7    NaN    NaN     58      6      6    NaN    NaN    NaN     1  \n",
       "59  ...       3     11      7    NaN      3      4    NaN    NaN    NaN     5  \n",
       "57  ...       4      9      6    NaN      4      2    NaN    NaN    NaN     7  \n",
       "56  ...      15     11     16    167      6      5      6      4      6     0  \n",
       "\n",
       "[5 rows x 43 columns]"
      ]
     },
     "execution_count": 20,
     "metadata": {},
     "output_type": "execute_result"
    }
   ],
   "source": [
    "input_data[:5]"
   ]
  },
  {
   "cell_type": "markdown",
   "metadata": {},
   "source": [
    "Now we see that some data points are 'NaN', which is not a numeric value. So we need to replace it with numeric values. We will replace NaN values with 0. To check which values are 'NaN' there is isnul function which returns True if the value is null."
   ]
  },
  {
   "cell_type": "code",
   "execution_count": 21,
   "metadata": {
    "collapsed": false,
    "scrolled": true
   },
   "outputs": [
    {
     "data": {
      "text/html": [
       "<div style=\"max-height:1000px;max-width:1500px;overflow:auto;\">\n",
       "<table border=\"1\" class=\"dataframe\">\n",
       "  <thead>\n",
       "    <tr style=\"text-align: right;\">\n",
       "      <th></th>\n",
       "      <th>Player1</th>\n",
       "      <th>Player2</th>\n",
       "      <th>Round</th>\n",
       "      <th>Result</th>\n",
       "      <th>FNL.1</th>\n",
       "      <th>FNL.2</th>\n",
       "      <th>FSP.1</th>\n",
       "      <th>FSW.1</th>\n",
       "      <th>SSP.1</th>\n",
       "      <th>SSW.1</th>\n",
       "      <th>...</th>\n",
       "      <th>BPW.2</th>\n",
       "      <th>NPA.2</th>\n",
       "      <th>NPW.2</th>\n",
       "      <th>TPW.2</th>\n",
       "      <th>ST1.2</th>\n",
       "      <th>ST2.2</th>\n",
       "      <th>ST3.2</th>\n",
       "      <th>ST4.2</th>\n",
       "      <th>ST5.2</th>\n",
       "      <th>Type</th>\n",
       "    </tr>\n",
       "  </thead>\n",
       "  <tbody>\n",
       "    <tr>\n",
       "      <th>78</th>\n",
       "      <td> False</td>\n",
       "      <td> False</td>\n",
       "      <td> False</td>\n",
       "      <td> False</td>\n",
       "      <td> False</td>\n",
       "      <td> False</td>\n",
       "      <td> False</td>\n",
       "      <td> False</td>\n",
       "      <td> False</td>\n",
       "      <td> False</td>\n",
       "      <td>...</td>\n",
       "      <td> False</td>\n",
       "      <td>  True</td>\n",
       "      <td>  True</td>\n",
       "      <td> False</td>\n",
       "      <td> False</td>\n",
       "      <td> False</td>\n",
       "      <td> False</td>\n",
       "      <td>  True</td>\n",
       "      <td>  True</td>\n",
       "      <td> False</td>\n",
       "    </tr>\n",
       "    <tr>\n",
       "      <th>18</th>\n",
       "      <td> False</td>\n",
       "      <td> False</td>\n",
       "      <td> False</td>\n",
       "      <td> False</td>\n",
       "      <td> False</td>\n",
       "      <td> False</td>\n",
       "      <td> False</td>\n",
       "      <td> False</td>\n",
       "      <td> False</td>\n",
       "      <td> False</td>\n",
       "      <td>...</td>\n",
       "      <td> False</td>\n",
       "      <td>  True</td>\n",
       "      <td>  True</td>\n",
       "      <td> False</td>\n",
       "      <td> False</td>\n",
       "      <td> False</td>\n",
       "      <td>  True</td>\n",
       "      <td>  True</td>\n",
       "      <td>  True</td>\n",
       "      <td> False</td>\n",
       "    </tr>\n",
       "    <tr>\n",
       "      <th>59</th>\n",
       "      <td> False</td>\n",
       "      <td> False</td>\n",
       "      <td> False</td>\n",
       "      <td> False</td>\n",
       "      <td> False</td>\n",
       "      <td> False</td>\n",
       "      <td> False</td>\n",
       "      <td> False</td>\n",
       "      <td> False</td>\n",
       "      <td> False</td>\n",
       "      <td>...</td>\n",
       "      <td> False</td>\n",
       "      <td> False</td>\n",
       "      <td> False</td>\n",
       "      <td>  True</td>\n",
       "      <td> False</td>\n",
       "      <td> False</td>\n",
       "      <td>  True</td>\n",
       "      <td>  True</td>\n",
       "      <td>  True</td>\n",
       "      <td> False</td>\n",
       "    </tr>\n",
       "    <tr>\n",
       "      <th>57</th>\n",
       "      <td> False</td>\n",
       "      <td> False</td>\n",
       "      <td> False</td>\n",
       "      <td> False</td>\n",
       "      <td> False</td>\n",
       "      <td> False</td>\n",
       "      <td> False</td>\n",
       "      <td> False</td>\n",
       "      <td> False</td>\n",
       "      <td> False</td>\n",
       "      <td>...</td>\n",
       "      <td> False</td>\n",
       "      <td> False</td>\n",
       "      <td> False</td>\n",
       "      <td>  True</td>\n",
       "      <td> False</td>\n",
       "      <td> False</td>\n",
       "      <td>  True</td>\n",
       "      <td>  True</td>\n",
       "      <td>  True</td>\n",
       "      <td> False</td>\n",
       "    </tr>\n",
       "    <tr>\n",
       "      <th>56</th>\n",
       "      <td> False</td>\n",
       "      <td> False</td>\n",
       "      <td> False</td>\n",
       "      <td> False</td>\n",
       "      <td> False</td>\n",
       "      <td> False</td>\n",
       "      <td> False</td>\n",
       "      <td> False</td>\n",
       "      <td> False</td>\n",
       "      <td> False</td>\n",
       "      <td>...</td>\n",
       "      <td> False</td>\n",
       "      <td> False</td>\n",
       "      <td> False</td>\n",
       "      <td> False</td>\n",
       "      <td> False</td>\n",
       "      <td> False</td>\n",
       "      <td> False</td>\n",
       "      <td> False</td>\n",
       "      <td> False</td>\n",
       "      <td> False</td>\n",
       "    </tr>\n",
       "  </tbody>\n",
       "</table>\n",
       "<p>5 rows × 43 columns</p>\n",
       "</div>"
      ],
      "text/plain": [
       "   Player1 Player2  Round Result  FNL.1  FNL.2  FSP.1  FSW.1  SSP.1  SSW.1  \\\n",
       "78   False   False  False  False  False  False  False  False  False  False   \n",
       "18   False   False  False  False  False  False  False  False  False  False   \n",
       "59   False   False  False  False  False  False  False  False  False  False   \n",
       "57   False   False  False  False  False  False  False  False  False  False   \n",
       "56   False   False  False  False  False  False  False  False  False  False   \n",
       "\n",
       "    ...    BPW.2  NPA.2  NPW.2  TPW.2  ST1.2  ST2.2  ST3.2  ST4.2  ST5.2  \\\n",
       "78  ...    False   True   True  False  False  False  False   True   True   \n",
       "18  ...    False   True   True  False  False  False   True   True   True   \n",
       "59  ...    False  False  False   True  False  False   True   True   True   \n",
       "57  ...    False  False  False   True  False  False   True   True   True   \n",
       "56  ...    False  False  False  False  False  False  False  False  False   \n",
       "\n",
       "     Type  \n",
       "78  False  \n",
       "18  False  \n",
       "59  False  \n",
       "57  False  \n",
       "56  False  \n",
       "\n",
       "[5 rows x 43 columns]"
      ]
     },
     "execution_count": 21,
     "metadata": {},
     "output_type": "execute_result"
    }
   ],
   "source": [
    "input_data.isnull()[:5]"
   ]
  },
  {
   "cell_type": "markdown",
   "metadata": {},
   "source": [
    "Lets replace all the null values with 0."
   ]
  },
  {
   "cell_type": "code",
   "execution_count": 22,
   "metadata": {
    "collapsed": false
   },
   "outputs": [],
   "source": [
    "input_data[input_data.isnull()] = 0\n",
    "test_data[test_data.isnull()] = 0"
   ]
  },
  {
   "cell_type": "code",
   "execution_count": 23,
   "metadata": {
    "collapsed": false
   },
   "outputs": [
    {
     "data": {
      "text/html": [
       "<div style=\"max-height:1000px;max-width:1500px;overflow:auto;\">\n",
       "<table border=\"1\" class=\"dataframe\">\n",
       "  <thead>\n",
       "    <tr style=\"text-align: right;\">\n",
       "      <th></th>\n",
       "      <th>Player1</th>\n",
       "      <th>Player2</th>\n",
       "      <th>Round</th>\n",
       "      <th>Result</th>\n",
       "      <th>FNL.1</th>\n",
       "      <th>FNL.2</th>\n",
       "      <th>FSP.1</th>\n",
       "      <th>FSW.1</th>\n",
       "      <th>SSP.1</th>\n",
       "      <th>SSW.1</th>\n",
       "      <th>...</th>\n",
       "      <th>BPW.2</th>\n",
       "      <th>NPA.2</th>\n",
       "      <th>NPW.2</th>\n",
       "      <th>TPW.2</th>\n",
       "      <th>ST1.2</th>\n",
       "      <th>ST2.2</th>\n",
       "      <th>ST3.2</th>\n",
       "      <th>ST4.2</th>\n",
       "      <th>ST5.2</th>\n",
       "      <th>Type</th>\n",
       "    </tr>\n",
       "  </thead>\n",
       "  <tbody>\n",
       "    <tr>\n",
       "      <th>78</th>\n",
       "      <td> 244</td>\n",
       "      <td> 464</td>\n",
       "      <td> 1</td>\n",
       "      <td> 1</td>\n",
       "      <td> 3</td>\n",
       "      <td> 0</td>\n",
       "      <td> 66</td>\n",
       "      <td> 45</td>\n",
       "      <td> 34</td>\n",
       "      <td> 14</td>\n",
       "      <td>...</td>\n",
       "      <td>  6</td>\n",
       "      <td>  0</td>\n",
       "      <td>  0</td>\n",
       "      <td>  67</td>\n",
       "      <td> 1</td>\n",
       "      <td> 4</td>\n",
       "      <td> 4</td>\n",
       "      <td> 0</td>\n",
       "      <td> 0</td>\n",
       "      <td> 4</td>\n",
       "    </tr>\n",
       "    <tr>\n",
       "      <th>18</th>\n",
       "      <td> 164</td>\n",
       "      <td> 367</td>\n",
       "      <td> 1</td>\n",
       "      <td> 0</td>\n",
       "      <td> 0</td>\n",
       "      <td> 2</td>\n",
       "      <td> 47</td>\n",
       "      <td> 17</td>\n",
       "      <td> 53</td>\n",
       "      <td>  9</td>\n",
       "      <td>...</td>\n",
       "      <td>  7</td>\n",
       "      <td>  0</td>\n",
       "      <td>  0</td>\n",
       "      <td>  58</td>\n",
       "      <td> 6</td>\n",
       "      <td> 6</td>\n",
       "      <td> 0</td>\n",
       "      <td> 0</td>\n",
       "      <td> 0</td>\n",
       "      <td> 1</td>\n",
       "    </tr>\n",
       "    <tr>\n",
       "      <th>59</th>\n",
       "      <td> 535</td>\n",
       "      <td> 650</td>\n",
       "      <td> 1</td>\n",
       "      <td> 1</td>\n",
       "      <td> 2</td>\n",
       "      <td> 0</td>\n",
       "      <td> 54</td>\n",
       "      <td> 18</td>\n",
       "      <td> 46</td>\n",
       "      <td> 16</td>\n",
       "      <td>...</td>\n",
       "      <td>  3</td>\n",
       "      <td> 11</td>\n",
       "      <td>  7</td>\n",
       "      <td>   0</td>\n",
       "      <td> 3</td>\n",
       "      <td> 4</td>\n",
       "      <td> 0</td>\n",
       "      <td> 0</td>\n",
       "      <td> 0</td>\n",
       "      <td> 5</td>\n",
       "    </tr>\n",
       "    <tr>\n",
       "      <th>57</th>\n",
       "      <td> 470</td>\n",
       "      <td>  37</td>\n",
       "      <td> 1</td>\n",
       "      <td> 1</td>\n",
       "      <td> 2</td>\n",
       "      <td> 0</td>\n",
       "      <td> 69</td>\n",
       "      <td> 24</td>\n",
       "      <td> 31</td>\n",
       "      <td>  4</td>\n",
       "      <td>...</td>\n",
       "      <td>  4</td>\n",
       "      <td>  9</td>\n",
       "      <td>  6</td>\n",
       "      <td>   0</td>\n",
       "      <td> 4</td>\n",
       "      <td> 2</td>\n",
       "      <td> 0</td>\n",
       "      <td> 0</td>\n",
       "      <td> 0</td>\n",
       "      <td> 7</td>\n",
       "    </tr>\n",
       "    <tr>\n",
       "      <th>56</th>\n",
       "      <td> 429</td>\n",
       "      <td> 331</td>\n",
       "      <td> 1</td>\n",
       "      <td> 0</td>\n",
       "      <td> 2</td>\n",
       "      <td> 3</td>\n",
       "      <td> 61</td>\n",
       "      <td> 69</td>\n",
       "      <td> 39</td>\n",
       "      <td> 29</td>\n",
       "      <td>...</td>\n",
       "      <td> 15</td>\n",
       "      <td> 11</td>\n",
       "      <td> 16</td>\n",
       "      <td> 167</td>\n",
       "      <td> 6</td>\n",
       "      <td> 5</td>\n",
       "      <td> 6</td>\n",
       "      <td> 4</td>\n",
       "      <td> 6</td>\n",
       "      <td> 0</td>\n",
       "    </tr>\n",
       "  </tbody>\n",
       "</table>\n",
       "<p>5 rows × 43 columns</p>\n",
       "</div>"
      ],
      "text/plain": [
       "    Player1  Player2  Round  Result  FNL.1  FNL.2  FSP.1  FSW.1  SSP.1  SSW.1  \\\n",
       "78      244      464      1       1      3      0     66     45     34     14   \n",
       "18      164      367      1       0      0      2     47     17     53      9   \n",
       "59      535      650      1       1      2      0     54     18     46     16   \n",
       "57      470       37      1       1      2      0     69     24     31      4   \n",
       "56      429      331      1       0      2      3     61     69     39     29   \n",
       "\n",
       "    ...   BPW.2  NPA.2  NPW.2  TPW.2  ST1.2  ST2.2  ST3.2  ST4.2  ST5.2  Type  \n",
       "78  ...       6      0      0     67      1      4      4      0      0     4  \n",
       "18  ...       7      0      0     58      6      6      0      0      0     1  \n",
       "59  ...       3     11      7      0      3      4      0      0      0     5  \n",
       "57  ...       4      9      6      0      4      2      0      0      0     7  \n",
       "56  ...      15     11     16    167      6      5      6      4      6     0  \n",
       "\n",
       "[5 rows x 43 columns]"
      ]
     },
     "execution_count": 23,
     "metadata": {},
     "output_type": "execute_result"
    }
   ],
   "source": [
    "input_data[:5]"
   ]
  },
  {
   "cell_type": "code",
   "execution_count": 24,
   "metadata": {
    "collapsed": false
   },
   "outputs": [
    {
     "data": {
      "text/html": [
       "<div style=\"max-height:1000px;max-width:1500px;overflow:auto;\">\n",
       "<table border=\"1\" class=\"dataframe\">\n",
       "  <thead>\n",
       "    <tr style=\"text-align: right;\">\n",
       "      <th></th>\n",
       "      <th>Player1</th>\n",
       "      <th>Player2</th>\n",
       "      <th>Round</th>\n",
       "      <th>Result</th>\n",
       "      <th>FNL.1</th>\n",
       "      <th>FNL.2</th>\n",
       "      <th>FSP.1</th>\n",
       "      <th>FSW.1</th>\n",
       "      <th>SSP.1</th>\n",
       "      <th>SSW.1</th>\n",
       "      <th>...</th>\n",
       "      <th>BPW.2</th>\n",
       "      <th>NPA.2</th>\n",
       "      <th>NPW.2</th>\n",
       "      <th>TPW.2</th>\n",
       "      <th>ST1.2</th>\n",
       "      <th>ST2.2</th>\n",
       "      <th>ST3.2</th>\n",
       "      <th>ST4.2</th>\n",
       "      <th>ST5.2</th>\n",
       "      <th>Type</th>\n",
       "    </tr>\n",
       "  </thead>\n",
       "  <tbody>\n",
       "    <tr>\n",
       "      <th>84</th>\n",
       "      <td> 124</td>\n",
       "      <td> 218</td>\n",
       "      <td> 2</td>\n",
       "      <td> 1</td>\n",
       "      <td> 2</td>\n",
       "      <td> 1</td>\n",
       "      <td> 73</td>\n",
       "      <td> 57</td>\n",
       "      <td> 27</td>\n",
       "      <td> 17</td>\n",
       "      <td>...</td>\n",
       "      <td> 17</td>\n",
       "      <td> 25</td>\n",
       "      <td> 39</td>\n",
       "      <td> 121</td>\n",
       "      <td> 6</td>\n",
       "      <td> 6</td>\n",
       "      <td> 6</td>\n",
       "      <td> 0</td>\n",
       "      <td> 0</td>\n",
       "      <td> 1</td>\n",
       "    </tr>\n",
       "    <tr>\n",
       "      <th>73</th>\n",
       "      <td>  43</td>\n",
       "      <td> 562</td>\n",
       "      <td> 1</td>\n",
       "      <td> 1</td>\n",
       "      <td> 3</td>\n",
       "      <td> 1</td>\n",
       "      <td> 55</td>\n",
       "      <td> 68</td>\n",
       "      <td> 45</td>\n",
       "      <td> 41</td>\n",
       "      <td>...</td>\n",
       "      <td>  8</td>\n",
       "      <td> 15</td>\n",
       "      <td> 24</td>\n",
       "      <td> 150</td>\n",
       "      <td> 6</td>\n",
       "      <td> 6</td>\n",
       "      <td> 7</td>\n",
       "      <td> 4</td>\n",
       "      <td> 0</td>\n",
       "      <td> 4</td>\n",
       "    </tr>\n",
       "    <tr>\n",
       "      <th>80</th>\n",
       "      <td> 100</td>\n",
       "      <td> 525</td>\n",
       "      <td> 2</td>\n",
       "      <td> 0</td>\n",
       "      <td> 0</td>\n",
       "      <td> 3</td>\n",
       "      <td> 62</td>\n",
       "      <td> 32</td>\n",
       "      <td> 38</td>\n",
       "      <td> 18</td>\n",
       "      <td>...</td>\n",
       "      <td> 11</td>\n",
       "      <td> 23</td>\n",
       "      <td> 29</td>\n",
       "      <td> 103</td>\n",
       "      <td> 6</td>\n",
       "      <td> 6</td>\n",
       "      <td> 7</td>\n",
       "      <td> 0</td>\n",
       "      <td> 0</td>\n",
       "      <td> 0</td>\n",
       "    </tr>\n",
       "    <tr>\n",
       "      <th>86</th>\n",
       "      <td> 439</td>\n",
       "      <td> 198</td>\n",
       "      <td> 2</td>\n",
       "      <td> 0</td>\n",
       "      <td> 0</td>\n",
       "      <td> 3</td>\n",
       "      <td> 68</td>\n",
       "      <td> 47</td>\n",
       "      <td> 32</td>\n",
       "      <td> 17</td>\n",
       "      <td>...</td>\n",
       "      <td> 11</td>\n",
       "      <td> 17</td>\n",
       "      <td> 21</td>\n",
       "      <td> 108</td>\n",
       "      <td> 6</td>\n",
       "      <td> 7</td>\n",
       "      <td> 6</td>\n",
       "      <td> 0</td>\n",
       "      <td> 0</td>\n",
       "      <td> 0</td>\n",
       "    </tr>\n",
       "    <tr>\n",
       "      <th>7 </th>\n",
       "      <td>   8</td>\n",
       "      <td> 134</td>\n",
       "      <td> 4</td>\n",
       "      <td> 0</td>\n",
       "      <td> 1</td>\n",
       "      <td> 2</td>\n",
       "      <td> 69</td>\n",
       "      <td> 37</td>\n",
       "      <td> 31</td>\n",
       "      <td> 14</td>\n",
       "      <td>...</td>\n",
       "      <td>  4</td>\n",
       "      <td> 16</td>\n",
       "      <td> 12</td>\n",
       "      <td>   0</td>\n",
       "      <td> 6</td>\n",
       "      <td> 5</td>\n",
       "      <td> 6</td>\n",
       "      <td> 0</td>\n",
       "      <td> 0</td>\n",
       "      <td> 5</td>\n",
       "    </tr>\n",
       "  </tbody>\n",
       "</table>\n",
       "<p>5 rows × 43 columns</p>\n",
       "</div>"
      ],
      "text/plain": [
       "    Player1  Player2  Round  Result  FNL.1  FNL.2  FSP.1  FSW.1  SSP.1  SSW.1  \\\n",
       "84      124      218      2       1      2      1     73     57     27     17   \n",
       "73       43      562      1       1      3      1     55     68     45     41   \n",
       "80      100      525      2       0      0      3     62     32     38     18   \n",
       "86      439      198      2       0      0      3     68     47     32     17   \n",
       "7         8      134      4       0      1      2     69     37     31     14   \n",
       "\n",
       "    ...   BPW.2  NPA.2  NPW.2  TPW.2  ST1.2  ST2.2  ST3.2  ST4.2  ST5.2  Type  \n",
       "84  ...      17     25     39    121      6      6      6      0      0     1  \n",
       "73  ...       8     15     24    150      6      6      7      4      0     4  \n",
       "80  ...      11     23     29    103      6      6      7      0      0     0  \n",
       "86  ...      11     17     21    108      6      7      6      0      0     0  \n",
       "7   ...       4     16     12      0      6      5      6      0      0     5  \n",
       "\n",
       "[5 rows x 43 columns]"
      ]
     },
     "execution_count": 24,
     "metadata": {},
     "output_type": "execute_result"
    }
   ],
   "source": [
    "test_data[:5]"
   ]
  },
  {
   "cell_type": "markdown",
   "metadata": {},
   "source": [
    "# Now lets make our first prediction function: Say we want to predict the result of the matches. \n",
    "The match result is stored in 'Result' column of the input_data. The result is a discrete variable, \n",
    "i.e. it is either 1 or 0. So we will use Logistci regression. The sklearn library have linear_model module which proides\n",
    "functions for Linear/Logistic regressions."
   ]
  },
  {
   "cell_type": "code",
   "execution_count": 25,
   "metadata": {
    "collapsed": true
   },
   "outputs": [],
   "source": [
    "from sklearn import linear_model\n",
    "logistic_regr = linear_model.LogisticRegression()"
   ]
  },
  {
   "cell_type": "markdown",
   "metadata": {},
   "source": [
    "We need to define input data and target data for the model. Out target data in this case will be data of the 'Result' column. And rest of the data will be input data. So lets seperate the input and target data."
   ]
  },
  {
   "cell_type": "code",
   "execution_count": 26,
   "metadata": {
    "collapsed": false
   },
   "outputs": [],
   "source": [
    "target_column = 'Result';\n",
    "input_data_columns = [];\n",
    "for column in input_data.keys():\n",
    "    if column != target_column:\n",
    "        input_data_columns.append(column);"
   ]
  },
  {
   "cell_type": "code",
   "execution_count": 27,
   "metadata": {
    "collapsed": false
   },
   "outputs": [
    {
     "data": {
      "text/plain": [
       "['Player1',\n",
       " 'Player2',\n",
       " 'Round',\n",
       " 'FNL.1',\n",
       " 'FNL.2',\n",
       " 'FSP.1',\n",
       " 'FSW.1',\n",
       " 'SSP.1',\n",
       " 'SSW.1',\n",
       " 'ACE.1',\n",
       " 'DBF.1',\n",
       " 'WNR.1',\n",
       " 'UFE.1',\n",
       " 'BPC.1',\n",
       " 'BPW.1',\n",
       " 'NPA.1',\n",
       " 'NPW.1',\n",
       " 'TPW.1',\n",
       " 'ST1.1',\n",
       " 'ST2.1',\n",
       " 'ST3.1',\n",
       " 'ST4.1',\n",
       " 'ST5.1',\n",
       " 'FSP.2',\n",
       " 'FSW.2',\n",
       " 'SSP.2',\n",
       " 'SSW.2',\n",
       " 'ACE.2',\n",
       " 'DBF.2',\n",
       " 'WNR.2',\n",
       " 'UFE.2',\n",
       " 'BPC.2',\n",
       " 'BPW.2',\n",
       " 'NPA.2',\n",
       " 'NPW.2',\n",
       " 'TPW.2',\n",
       " 'ST1.2',\n",
       " 'ST2.2',\n",
       " 'ST3.2',\n",
       " 'ST4.2',\n",
       " 'ST5.2',\n",
       " 'Type']"
      ]
     },
     "execution_count": 27,
     "metadata": {},
     "output_type": "execute_result"
    }
   ],
   "source": [
    "input_data_columns"
   ]
  },
  {
   "cell_type": "code",
   "execution_count": 28,
   "metadata": {
    "collapsed": true
   },
   "outputs": [],
   "source": [
    "data_x = input_data[input_data_columns];\n",
    "data_y = input_data[target_column];"
   ]
  },
  {
   "cell_type": "markdown",
   "metadata": {},
   "source": [
    "Lets train our classifier"
   ]
  },
  {
   "cell_type": "code",
   "execution_count": 29,
   "metadata": {
    "collapsed": true
   },
   "outputs": [],
   "source": [
    "clf = logistic_regr.fit(data_x, data_y);"
   ]
  },
  {
   "cell_type": "markdown",
   "metadata": {},
   "source": [
    "Now lets test this classifier on our test data"
   ]
  },
  {
   "cell_type": "code",
   "execution_count": 30,
   "metadata": {
    "collapsed": false
   },
   "outputs": [],
   "source": [
    "test_data_x = test_data[input_data_columns];\n",
    "predicted_result = clf.predict(test_data_x)"
   ]
  },
  {
   "cell_type": "code",
   "execution_count": 31,
   "metadata": {
    "collapsed": false
   },
   "outputs": [
    {
     "data": {
      "text/plain": [
       "array([1, 1, 0, 0, 0, 0, 1, 0, 1, 1, 1, 1, 0, 0, 1, 0, 0, 1, 1, 1, 1, 0, 1,\n",
       "       0, 1, 1, 1, 1, 0, 0, 1, 0, 1, 0, 1, 1, 1, 0, 0, 0, 0, 1, 1, 1, 1, 0,\n",
       "       1, 1, 1, 0, 1, 0, 1, 1, 1, 1, 0, 0, 0, 0, 1, 0, 1, 1, 0, 1, 1, 0, 0,\n",
       "       0, 1, 0, 0, 0, 1, 0, 0, 0, 0, 1, 1, 1, 0, 0, 0, 1, 0, 1, 1, 1, 0, 1,\n",
       "       0, 0, 1, 0, 0, 1, 0, 1])"
      ]
     },
     "execution_count": 31,
     "metadata": {},
     "output_type": "execute_result"
    }
   ],
   "source": [
    "predicted_result"
   ]
  },
  {
   "cell_type": "markdown",
   "metadata": {},
   "source": [
    "Now lets compare it with actual result of the matches."
   ]
  },
  {
   "cell_type": "code",
   "execution_count": 32,
   "metadata": {
    "collapsed": false
   },
   "outputs": [],
   "source": [
    "actual_result = test_data[target_column].values;"
   ]
  },
  {
   "cell_type": "markdown",
   "metadata": {},
   "source": [
    "Lets make a function to compare the results"
   ]
  },
  {
   "cell_type": "code",
   "execution_count": 33,
   "metadata": {
    "collapsed": true
   },
   "outputs": [],
   "source": [
    "def compare_data(predicted, actual):\n",
    "    total_match = 0;\n",
    "    total_mismatch = 0;\n",
    "    for i in range(0, len(predicted)):\n",
    "        if predicted[i] == actual[i]:\n",
    "            total_match += 1;\n",
    "        else:\n",
    "            total_mismatch += 1;\n",
    "    print 'Total tested: ' + str(total_match + total_mismatch);\n",
    "    print 'Correct results: ' + str(total_match);\n",
    "    print 'Incorrect results: ' + str(total_mismatch);"
   ]
  },
  {
   "cell_type": "code",
   "execution_count": 34,
   "metadata": {
    "collapsed": false
   },
   "outputs": [
    {
     "name": "stdout",
     "output_type": "stream",
     "text": [
      "Total tested: 100\n",
      "Correct results: 100\n",
      "Incorrect results: 0\n"
     ]
    }
   ],
   "source": [
    "compare_data(predicted_result, actual_result)"
   ]
  },
  {
   "cell_type": "markdown",
   "metadata": {},
   "source": [
    "Lets plot the data. We can use matplotlib module to plot the data"
   ]
  },
  {
   "cell_type": "code",
   "execution_count": 35,
   "metadata": {
    "collapsed": false
   },
   "outputs": [],
   "source": [
    "%matplotlib inline\n",
    "import matplotlib as plt\n",
    "pd.set_option('display.mpl_style', 'default') # Make the graphs a bit prettier"
   ]
  },
  {
   "cell_type": "code",
   "execution_count": 36,
   "metadata": {
    "collapsed": false
   },
   "outputs": [
    {
     "data": {
      "text/plain": [
       "array([<matplotlib.axes._subplots.AxesSubplot object at 0x7fdbb2467ed0>], dtype=object)"
      ]
     },
     "execution_count": 36,
     "metadata": {},
     "output_type": "execute_result"
    },
    {
     "data": {
      "image/png": "[encoded data removed]",
      "text/plain": [
       "<matplotlib.figure.Figure at 0x7fdbb477ce50>"
      ]
     },
     "metadata": {},
     "output_type": "display_data"
    }
   ],
   "source": [
    "test_data['Result'][:20].plot(kind='bar', subplots=True, figsize=(15, 5))"
   ]
  },
  {
   "cell_type": "markdown",
   "metadata": {},
   "source": [
    "To plot the predicted data we need to convert it into pandas data frame first."
   ]
  },
  {
   "cell_type": "code",
   "execution_count": 37,
   "metadata": {
    "collapsed": true
   },
   "outputs": [],
   "source": [
    "predicted_result = pd.DataFrame(predicted_result, columns=['Predicted Result']);"
   ]
  },
  {
   "cell_type": "code",
   "execution_count": 38,
   "metadata": {
    "collapsed": false
   },
   "outputs": [
    {
     "data": {
      "text/plain": [
       "array([<matplotlib.axes._subplots.AxesSubplot object at 0x7fdbb23f3a10>], dtype=object)"
      ]
     },
     "execution_count": 38,
     "metadata": {},
     "output_type": "execute_result"
    },
    {
     "data": {
      "image/png": "[encoded data removed]",
      "text/plain": [
       "<matplotlib.figure.Figure at 0x7fdbb2467590>"
      ]
     },
     "metadata": {},
     "output_type": "display_data"
    }
   ],
   "source": [
    "predicted_result[:20].plot(kind='bar', subplots=True, figsize=(15, 5))"
   ]
  },
  {
   "cell_type": "markdown",
   "metadata": {},
   "source": [
    "We can see that both the graphs are exactly same."
   ]
  },
  {
   "cell_type": "markdown",
   "metadata": {},
   "source": [
    "# Now lets make another classifier which predicts how many Double Faults player one commits. \n",
    "The column which stores this data in input_data is 'DBF.1'. Since it is a continuous variable we will use linear \n",
    "regression this time. The target column will be 'DBF1' and rest of the columns will be input data for the classifier."
   ]
  },
  {
   "cell_type": "code",
   "execution_count": 39,
   "metadata": {
    "collapsed": true
   },
   "outputs": [],
   "source": [
    "target_column = 'DBF.1';\n",
    "input_data_columns = [];\n",
    "for column in input_data.keys():\n",
    "    if column != target_column:\n",
    "        input_data_columns.append(column);"
   ]
  },
  {
   "cell_type": "code",
   "execution_count": 40,
   "metadata": {
    "collapsed": true
   },
   "outputs": [],
   "source": [
    "data_x = input_data[input_data_columns];\n",
    "data_y = input_data[target_column];"
   ]
  },
  {
   "cell_type": "code",
   "execution_count": 41,
   "metadata": {
    "collapsed": true
   },
   "outputs": [],
   "source": [
    "linear_regr = linear_model.LinearRegression()"
   ]
  },
  {
   "cell_type": "code",
   "execution_count": 42,
   "metadata": {
    "collapsed": true
   },
   "outputs": [],
   "source": [
    "#Train the classifier\n",
    "clf = linear_regr.fit(data_x, data_y);"
   ]
  },
  {
   "cell_type": "code",
   "execution_count": 43,
   "metadata": {
    "collapsed": true
   },
   "outputs": [],
   "source": [
    "#Test data input\n",
    "test_data_x = test_data[input_data_columns];\n",
    "\n",
    "predicted_result = clf.predict(test_data_x)"
   ]
  },
  {
   "cell_type": "code",
   "execution_count": 44,
   "metadata": {
    "collapsed": false
   },
   "outputs": [
    {
     "data": {
      "text/plain": [
       "array([ 3.96797089,  6.27319166,  2.05669611,  1.46838655,  2.24870816,\n",
       "        3.58739409,  2.18509419,  3.82675637,  1.22865198,  3.78253087,\n",
       "        5.04871872,  3.32239786,  2.43061685,  3.69821168,  4.48045371,\n",
       "        4.37727147,  3.87743109,  2.11891937,  2.94163972,  5.1413804 ,\n",
       "        1.77793897,  2.77361542,  3.08471639,  7.6246385 ,  3.31536512,\n",
       "        7.98118011,  3.66015819,  2.64714928,  2.46350172,  4.64543521,\n",
       "        3.59607087,  3.15755659,  1.81787362,  1.47703804,  1.68465481,\n",
       "        1.88491107,  2.29791313,  5.26641278,  3.66195496,  5.54356756,\n",
       "        5.63156975,  2.29442705,  4.41603268,  0.81141359,  2.62938263,\n",
       "        4.02310272,  5.56898454,  1.80847002,  0.97380756,  5.96096087,\n",
       "        2.04550562,  3.64602079,  4.83607019,  2.04871821,  3.79377401,\n",
       "        1.28143892,  4.91983509,  1.40209716,  2.40962959,  6.26242749,\n",
       "        3.83298518,  2.4323595 ,  4.99692163,  5.85918788,  3.41013109,\n",
       "        4.66661767,  0.60592309,  3.97032148,  4.71272211,  0.9561459 ,\n",
       "        1.98838691,  1.31824211,  3.49692729,  8.84060674,  4.43302787,\n",
       "        1.34775195,  3.67089768,  2.21440687,  4.78220931,  4.30959574,\n",
       "        0.55012598,  2.87770129,  5.4306943 ,  3.64387999,  3.27151726,\n",
       "        3.37660302,  6.48117269,  2.80534254,  4.72867864,  3.71081455,\n",
       "        4.65260386,  2.05506307,  3.51413563,  3.28651182,  6.02601975,\n",
       "        4.00181255,  5.76838822,  3.67706674,  4.13482238,  5.51039093])"
      ]
     },
     "execution_count": 44,
     "metadata": {},
     "output_type": "execute_result"
    }
   ],
   "source": [
    "predicted_result"
   ]
  },
  {
   "cell_type": "code",
   "execution_count": 45,
   "metadata": {
    "collapsed": false
   },
   "outputs": [],
   "source": [
    "test_data['Predicted_DBF.1'] = predicted_result"
   ]
  },
  {
   "cell_type": "code",
   "execution_count": 46,
   "metadata": {
    "collapsed": false
   },
   "outputs": [
    {
     "data": {
      "text/html": [
       "<div style=\"max-height:1000px;max-width:1500px;overflow:auto;\">\n",
       "<table border=\"1\" class=\"dataframe\">\n",
       "  <thead>\n",
       "    <tr style=\"text-align: right;\">\n",
       "      <th></th>\n",
       "      <th>DBF.1</th>\n",
       "      <th>Predicted_DBF.1</th>\n",
       "    </tr>\n",
       "  </thead>\n",
       "  <tbody>\n",
       "    <tr>\n",
       "      <th>84 </th>\n",
       "      <td> 5</td>\n",
       "      <td> 3.967971</td>\n",
       "    </tr>\n",
       "    <tr>\n",
       "      <th>73 </th>\n",
       "      <td> 3</td>\n",
       "      <td> 6.273192</td>\n",
       "    </tr>\n",
       "    <tr>\n",
       "      <th>80 </th>\n",
       "      <td> 3</td>\n",
       "      <td> 2.056696</td>\n",
       "    </tr>\n",
       "    <tr>\n",
       "      <th>86 </th>\n",
       "      <td> 3</td>\n",
       "      <td> 1.468387</td>\n",
       "    </tr>\n",
       "    <tr>\n",
       "      <th>7  </th>\n",
       "      <td> 1</td>\n",
       "      <td> 2.248708</td>\n",
       "    </tr>\n",
       "    <tr>\n",
       "      <th>79 </th>\n",
       "      <td> 5</td>\n",
       "      <td> 3.587394</td>\n",
       "    </tr>\n",
       "    <tr>\n",
       "      <th>99 </th>\n",
       "      <td> 2</td>\n",
       "      <td> 2.185094</td>\n",
       "    </tr>\n",
       "    <tr>\n",
       "      <th>121</th>\n",
       "      <td> 1</td>\n",
       "      <td> 3.826756</td>\n",
       "    </tr>\n",
       "    <tr>\n",
       "      <th>68 </th>\n",
       "      <td> 0</td>\n",
       "      <td> 1.228652</td>\n",
       "    </tr>\n",
       "    <tr>\n",
       "      <th>58 </th>\n",
       "      <td> 6</td>\n",
       "      <td> 3.782531</td>\n",
       "    </tr>\n",
       "    <tr>\n",
       "      <th>17 </th>\n",
       "      <td> 5</td>\n",
       "      <td> 5.048719</td>\n",
       "    </tr>\n",
       "    <tr>\n",
       "      <th>108</th>\n",
       "      <td> 3</td>\n",
       "      <td> 3.322398</td>\n",
       "    </tr>\n",
       "    <tr>\n",
       "      <th>28 </th>\n",
       "      <td> 1</td>\n",
       "      <td> 2.430617</td>\n",
       "    </tr>\n",
       "    <tr>\n",
       "      <th>78 </th>\n",
       "      <td> 6</td>\n",
       "      <td> 3.698212</td>\n",
       "    </tr>\n",
       "    <tr>\n",
       "      <th>40 </th>\n",
       "      <td> 8</td>\n",
       "      <td> 4.480454</td>\n",
       "    </tr>\n",
       "    <tr>\n",
       "      <th>32 </th>\n",
       "      <td> 7</td>\n",
       "      <td> 4.377271</td>\n",
       "    </tr>\n",
       "    <tr>\n",
       "      <th>121</th>\n",
       "      <td> 5</td>\n",
       "      <td> 3.877431</td>\n",
       "    </tr>\n",
       "    <tr>\n",
       "      <th>40 </th>\n",
       "      <td> 1</td>\n",
       "      <td> 2.118919</td>\n",
       "    </tr>\n",
       "    <tr>\n",
       "      <th>67 </th>\n",
       "      <td> 4</td>\n",
       "      <td> 2.941640</td>\n",
       "    </tr>\n",
       "    <tr>\n",
       "      <th>68 </th>\n",
       "      <td> 8</td>\n",
       "      <td> 5.141380</td>\n",
       "    </tr>\n",
       "    <tr>\n",
       "      <th>122</th>\n",
       "      <td> 1</td>\n",
       "      <td> 1.777939</td>\n",
       "    </tr>\n",
       "    <tr>\n",
       "      <th>38 </th>\n",
       "      <td> 1</td>\n",
       "      <td> 2.773615</td>\n",
       "    </tr>\n",
       "    <tr>\n",
       "      <th>82 </th>\n",
       "      <td> 6</td>\n",
       "      <td> 3.084716</td>\n",
       "    </tr>\n",
       "    <tr>\n",
       "      <th>41 </th>\n",
       "      <td> 5</td>\n",
       "      <td> 7.624638</td>\n",
       "    </tr>\n",
       "    <tr>\n",
       "      <th>15 </th>\n",
       "      <td> 5</td>\n",
       "      <td> 3.315365</td>\n",
       "    </tr>\n",
       "    <tr>\n",
       "      <th>45 </th>\n",
       "      <td> 3</td>\n",
       "      <td> 7.981180</td>\n",
       "    </tr>\n",
       "    <tr>\n",
       "      <th>35 </th>\n",
       "      <td> 3</td>\n",
       "      <td> 3.660158</td>\n",
       "    </tr>\n",
       "    <tr>\n",
       "      <th>24 </th>\n",
       "      <td> 1</td>\n",
       "      <td> 2.647149</td>\n",
       "    </tr>\n",
       "    <tr>\n",
       "      <th>115</th>\n",
       "      <td> 1</td>\n",
       "      <td> 2.463502</td>\n",
       "    </tr>\n",
       "    <tr>\n",
       "      <th>50 </th>\n",
       "      <td> 4</td>\n",
       "      <td> 4.645435</td>\n",
       "    </tr>\n",
       "    <tr>\n",
       "      <th>...</th>\n",
       "      <td>...</td>\n",
       "      <td>...</td>\n",
       "    </tr>\n",
       "    <tr>\n",
       "      <th>41 </th>\n",
       "      <td> 3</td>\n",
       "      <td> 1.988387</td>\n",
       "    </tr>\n",
       "    <tr>\n",
       "      <th>122</th>\n",
       "      <td> 2</td>\n",
       "      <td> 1.318242</td>\n",
       "    </tr>\n",
       "    <tr>\n",
       "      <th>113</th>\n",
       "      <td> 3</td>\n",
       "      <td> 3.496927</td>\n",
       "    </tr>\n",
       "    <tr>\n",
       "      <th>6  </th>\n",
       "      <td> 8</td>\n",
       "      <td> 8.840607</td>\n",
       "    </tr>\n",
       "    <tr>\n",
       "      <th>35 </th>\n",
       "      <td> 4</td>\n",
       "      <td> 4.433028</td>\n",
       "    </tr>\n",
       "    <tr>\n",
       "      <th>108</th>\n",
       "      <td> 5</td>\n",
       "      <td> 1.347752</td>\n",
       "    </tr>\n",
       "    <tr>\n",
       "      <th>73 </th>\n",
       "      <td> 2</td>\n",
       "      <td> 3.670898</td>\n",
       "    </tr>\n",
       "    <tr>\n",
       "      <th>93 </th>\n",
       "      <td> 0</td>\n",
       "      <td> 2.214407</td>\n",
       "    </tr>\n",
       "    <tr>\n",
       "      <th>28 </th>\n",
       "      <td> 6</td>\n",
       "      <td> 4.782209</td>\n",
       "    </tr>\n",
       "    <tr>\n",
       "      <th>85 </th>\n",
       "      <td> 3</td>\n",
       "      <td> 4.309596</td>\n",
       "    </tr>\n",
       "    <tr>\n",
       "      <th>120</th>\n",
       "      <td> 0</td>\n",
       "      <td> 0.550126</td>\n",
       "    </tr>\n",
       "    <tr>\n",
       "      <th>100</th>\n",
       "      <td> 4</td>\n",
       "      <td> 2.877701</td>\n",
       "    </tr>\n",
       "    <tr>\n",
       "      <th>99 </th>\n",
       "      <td> 8</td>\n",
       "      <td> 5.430694</td>\n",
       "    </tr>\n",
       "    <tr>\n",
       "      <th>44 </th>\n",
       "      <td> 6</td>\n",
       "      <td> 3.643880</td>\n",
       "    </tr>\n",
       "    <tr>\n",
       "      <th>43 </th>\n",
       "      <td> 2</td>\n",
       "      <td> 3.271517</td>\n",
       "    </tr>\n",
       "    <tr>\n",
       "      <th>31 </th>\n",
       "      <td> 3</td>\n",
       "      <td> 3.376603</td>\n",
       "    </tr>\n",
       "    <tr>\n",
       "      <th>57 </th>\n",
       "      <td> 1</td>\n",
       "      <td> 6.481173</td>\n",
       "    </tr>\n",
       "    <tr>\n",
       "      <th>1  </th>\n",
       "      <td> 3</td>\n",
       "      <td> 2.805343</td>\n",
       "    </tr>\n",
       "    <tr>\n",
       "      <th>1  </th>\n",
       "      <td> 2</td>\n",
       "      <td> 4.728679</td>\n",
       "    </tr>\n",
       "    <tr>\n",
       "      <th>96 </th>\n",
       "      <td> 2</td>\n",
       "      <td> 3.710815</td>\n",
       "    </tr>\n",
       "    <tr>\n",
       "      <th>89 </th>\n",
       "      <td> 8</td>\n",
       "      <td> 4.652604</td>\n",
       "    </tr>\n",
       "    <tr>\n",
       "      <th>27 </th>\n",
       "      <td> 2</td>\n",
       "      <td> 2.055063</td>\n",
       "    </tr>\n",
       "    <tr>\n",
       "      <th>75 </th>\n",
       "      <td> 1</td>\n",
       "      <td> 3.514136</td>\n",
       "    </tr>\n",
       "    <tr>\n",
       "      <th>77 </th>\n",
       "      <td> 3</td>\n",
       "      <td> 3.286512</td>\n",
       "    </tr>\n",
       "    <tr>\n",
       "      <th>34 </th>\n",
       "      <td> 5</td>\n",
       "      <td> 6.026020</td>\n",
       "    </tr>\n",
       "    <tr>\n",
       "      <th>36 </th>\n",
       "      <td> 1</td>\n",
       "      <td> 4.001813</td>\n",
       "    </tr>\n",
       "    <tr>\n",
       "      <th>89 </th>\n",
       "      <td> 9</td>\n",
       "      <td> 5.768388</td>\n",
       "    </tr>\n",
       "    <tr>\n",
       "      <th>70 </th>\n",
       "      <td> 2</td>\n",
       "      <td> 3.677067</td>\n",
       "    </tr>\n",
       "    <tr>\n",
       "      <th>100</th>\n",
       "      <td> 3</td>\n",
       "      <td> 4.134822</td>\n",
       "    </tr>\n",
       "    <tr>\n",
       "      <th>6  </th>\n",
       "      <td> 3</td>\n",
       "      <td> 5.510391</td>\n",
       "    </tr>\n",
       "  </tbody>\n",
       "</table>\n",
       "<p>100 rows × 2 columns</p>\n",
       "</div>"
      ],
      "text/plain": [
       "     DBF.1  Predicted_DBF.1\n",
       "84       5         3.967971\n",
       "73       3         6.273192\n",
       "80       3         2.056696\n",
       "86       3         1.468387\n",
       "7        1         2.248708\n",
       "79       5         3.587394\n",
       "99       2         2.185094\n",
       "121      1         3.826756\n",
       "68       0         1.228652\n",
       "58       6         3.782531\n",
       "17       5         5.048719\n",
       "108      3         3.322398\n",
       "28       1         2.430617\n",
       "78       6         3.698212\n",
       "40       8         4.480454\n",
       "32       7         4.377271\n",
       "121      5         3.877431\n",
       "40       1         2.118919\n",
       "67       4         2.941640\n",
       "68       8         5.141380\n",
       "122      1         1.777939\n",
       "38       1         2.773615\n",
       "82       6         3.084716\n",
       "41       5         7.624638\n",
       "15       5         3.315365\n",
       "45       3         7.981180\n",
       "35       3         3.660158\n",
       "24       1         2.647149\n",
       "115      1         2.463502\n",
       "50       4         4.645435\n",
       "..     ...              ...\n",
       "41       3         1.988387\n",
       "122      2         1.318242\n",
       "113      3         3.496927\n",
       "6        8         8.840607\n",
       "35       4         4.433028\n",
       "108      5         1.347752\n",
       "73       2         3.670898\n",
       "93       0         2.214407\n",
       "28       6         4.782209\n",
       "85       3         4.309596\n",
       "120      0         0.550126\n",
       "100      4         2.877701\n",
       "99       8         5.430694\n",
       "44       6         3.643880\n",
       "43       2         3.271517\n",
       "31       3         3.376603\n",
       "57       1         6.481173\n",
       "1        3         2.805343\n",
       "1        2         4.728679\n",
       "96       2         3.710815\n",
       "89       8         4.652604\n",
       "27       2         2.055063\n",
       "75       1         3.514136\n",
       "77       3         3.286512\n",
       "34       5         6.026020\n",
       "36       1         4.001813\n",
       "89       9         5.768388\n",
       "70       2         3.677067\n",
       "100      3         4.134822\n",
       "6        3         5.510391\n",
       "\n",
       "[100 rows x 2 columns]"
      ]
     },
     "execution_count": 46,
     "metadata": {},
     "output_type": "execute_result"
    }
   ],
   "source": [
    "#Lets check the actual result versus predicted result\n",
    "test_data[['DBF.1', 'Predicted_DBF.1']]"
   ]
  },
  {
   "cell_type": "code",
   "execution_count": 47,
   "metadata": {
    "collapsed": false
   },
   "outputs": [
    {
     "data": {
      "text/plain": [
       "<matplotlib.axes._subplots.AxesSubplot at 0x7fdbaea856d0>"
      ]
     },
     "execution_count": 47,
     "metadata": {},
     "output_type": "execute_result"
    },
    {
     "data": {
      "image/png": "[encoded data removed]",
      "text/plain": [
       "<matplotlib.figure.Figure at 0x7fdbaea6d5d0>"
      ]
     },
     "metadata": {},
     "output_type": "display_data"
    }
   ],
   "source": [
    "test_data[['DBF.1', 'Predicted_DBF.1']].plot(kind='bar', figsize=(15, 8))"
   ]
  },
  {
   "cell_type": "code",
   "execution_count": 48,
   "metadata": {
    "collapsed": true
   },
   "outputs": [],
   "source": [
    "test_data['Prediction_error'] = abs(test_data['DBF.1'] - test_data['Predicted_DBF.1'])*100/test_data['DBF.1']"
   ]
  },
  {
   "cell_type": "code",
   "execution_count": 49,
   "metadata": {
    "collapsed": false,
    "scrolled": true
   },
   "outputs": [
    {
     "data": {
      "image/png": "[encoded data removed]",
      "text/plain": [
       "<matplotlib.figure.Figure at 0x7fdbaea12a10>"
      ]
     },
     "metadata": {},
     "output_type": "display_data"
    }
   ],
   "source": [
    "test_data['Prediction_error'].plot(kind='bar', figsize=(15, 8));"
   ]
  },
  {
   "cell_type": "markdown",
   "metadata": {},
   "source": [
    "# Lets now predict the tournament name to which a game belongs to:\n",
    "\n",
    "The data related to tournament name is in column 'Type'. We will predict it with Logistic regression, support vector machine and random forestal gorithms and will compare the results."
   ]
  },
  {
   "cell_type": "code",
   "execution_count": 50,
   "metadata": {
    "collapsed": true
   },
   "outputs": [],
   "source": [
    "#Our target column is 'Type'\n",
    "target_column = 'Type';\n",
    "input_data_columns = [];\n",
    "for column in input_data.keys():\n",
    "    if column != target_column:\n",
    "        input_data_columns.append(column);"
   ]
  },
  {
   "cell_type": "markdown",
   "metadata": {},
   "source": [
    "Based on the target column, lets get data_x, and data_y to train the classifier"
   ]
  },
  {
   "cell_type": "code",
   "execution_count": 51,
   "metadata": {
    "collapsed": false
   },
   "outputs": [],
   "source": [
    "data_x = input_data[input_data_columns];\n",
    "data_y = input_data[target_column];"
   ]
  },
  {
   "cell_type": "code",
   "execution_count": 52,
   "metadata": {
    "collapsed": false
   },
   "outputs": [],
   "source": [
    "from sklearn import svm\n",
    "from sklearn.ensemble import RandomForestClassifier\n",
    "#logistic regression classifier\n",
    "logistic_clf = linear_model.LogisticRegression();\n",
    "#Linear SVC classifier\n",
    "svm_clf = svm.LinearSVC();\n",
    "#Random forest classifier\n",
    "forest_clf = RandomForestClassifier(n_estimators=160)"
   ]
  },
  {
   "cell_type": "markdown",
   "metadata": {},
   "source": [
    "Lets train all the different classifiers now"
   ]
  },
  {
   "cell_type": "code",
   "execution_count": 53,
   "metadata": {
    "collapsed": false
   },
   "outputs": [],
   "source": [
    "logistic_clf.fit(data_x, data_y);\n",
    "\n",
    "svm_clf.fit(data_x, data_y);\n",
    "\n",
    "forest_clf.fit(data_x, data_y);"
   ]
  },
  {
   "cell_type": "code",
   "execution_count": 54,
   "metadata": {
    "collapsed": true
   },
   "outputs": [],
   "source": [
    "#Test data input\n",
    "test_data_x = test_data[input_data_columns];\n",
    "test_data_y = test_data[target_column];"
   ]
  },
  {
   "cell_type": "markdown",
   "metadata": {},
   "source": [
    "Lets predict results for each classifier now"
   ]
  },
  {
   "cell_type": "code",
   "execution_count": 55,
   "metadata": {
    "collapsed": false
   },
   "outputs": [],
   "source": [
    "logistic_predicted_results = logistic_clf.predict(test_data_x);\n",
    "svm_predicted_results = svm_clf.predict(test_data_x);\n",
    "forest_predicted_results = forest_clf.predict(test_data_x);"
   ]
  },
  {
   "cell_type": "markdown",
   "metadata": {},
   "source": [
    "Lets put all the results in a single data frame for easy comparision"
   ]
  },
  {
   "cell_type": "code",
   "execution_count": 56,
   "metadata": {
    "collapsed": false
   },
   "outputs": [],
   "source": [
    "results = pd.DataFrame({'Actual_Type': test_data_y.values,\n",
    "                        'Logistic_Predicted_Type': logistic_predicted_results,\n",
    "                        'Svm_Predicted_Type': svm_predicted_results,\n",
    "                        'Forest_predicted_Type': forest_predicted_results\n",
    "                       })"
   ]
  },
  {
   "cell_type": "code",
   "execution_count": 57,
   "metadata": {
    "collapsed": false
   },
   "outputs": [
    {
     "data": {
      "text/html": [
       "<div style=\"max-height:1000px;max-width:1500px;overflow:auto;\">\n",
       "<table border=\"1\" class=\"dataframe\">\n",
       "  <thead>\n",
       "    <tr style=\"text-align: right;\">\n",
       "      <th></th>\n",
       "      <th>Actual_Type</th>\n",
       "      <th>Forest_predicted_Type</th>\n",
       "      <th>Logistic_Predicted_Type</th>\n",
       "      <th>Svm_Predicted_Type</th>\n",
       "    </tr>\n",
       "  </thead>\n",
       "  <tbody>\n",
       "    <tr>\n",
       "      <th>0 </th>\n",
       "      <td> 1</td>\n",
       "      <td> 1</td>\n",
       "      <td> 1</td>\n",
       "      <td> 0</td>\n",
       "    </tr>\n",
       "    <tr>\n",
       "      <th>1 </th>\n",
       "      <td> 4</td>\n",
       "      <td> 4</td>\n",
       "      <td> 4</td>\n",
       "      <td> 4</td>\n",
       "    </tr>\n",
       "    <tr>\n",
       "      <th>2 </th>\n",
       "      <td> 0</td>\n",
       "      <td> 2</td>\n",
       "      <td> 0</td>\n",
       "      <td> 2</td>\n",
       "    </tr>\n",
       "    <tr>\n",
       "      <th>3 </th>\n",
       "      <td> 0</td>\n",
       "      <td> 2</td>\n",
       "      <td> 2</td>\n",
       "      <td> 2</td>\n",
       "    </tr>\n",
       "    <tr>\n",
       "      <th>4 </th>\n",
       "      <td> 5</td>\n",
       "      <td> 7</td>\n",
       "      <td> 6</td>\n",
       "      <td> 6</td>\n",
       "    </tr>\n",
       "    <tr>\n",
       "      <th>5 </th>\n",
       "      <td> 4</td>\n",
       "      <td> 4</td>\n",
       "      <td> 4</td>\n",
       "      <td> 4</td>\n",
       "    </tr>\n",
       "    <tr>\n",
       "      <th>6 </th>\n",
       "      <td> 1</td>\n",
       "      <td> 3</td>\n",
       "      <td> 1</td>\n",
       "      <td> 1</td>\n",
       "    </tr>\n",
       "    <tr>\n",
       "      <th>7 </th>\n",
       "      <td> 0</td>\n",
       "      <td> 2</td>\n",
       "      <td> 2</td>\n",
       "      <td> 2</td>\n",
       "    </tr>\n",
       "    <tr>\n",
       "      <th>8 </th>\n",
       "      <td> 6</td>\n",
       "      <td> 6</td>\n",
       "      <td> 6</td>\n",
       "      <td> 6</td>\n",
       "    </tr>\n",
       "    <tr>\n",
       "      <th>9 </th>\n",
       "      <td> 1</td>\n",
       "      <td> 1</td>\n",
       "      <td> 1</td>\n",
       "      <td> 1</td>\n",
       "    </tr>\n",
       "    <tr>\n",
       "      <th>10</th>\n",
       "      <td> 7</td>\n",
       "      <td> 7</td>\n",
       "      <td> 5</td>\n",
       "      <td> 5</td>\n",
       "    </tr>\n",
       "    <tr>\n",
       "      <th>11</th>\n",
       "      <td> 7</td>\n",
       "      <td> 7</td>\n",
       "      <td> 7</td>\n",
       "      <td> 6</td>\n",
       "    </tr>\n",
       "    <tr>\n",
       "      <th>12</th>\n",
       "      <td> 0</td>\n",
       "      <td> 0</td>\n",
       "      <td> 0</td>\n",
       "      <td> 0</td>\n",
       "    </tr>\n",
       "    <tr>\n",
       "      <th>13</th>\n",
       "      <td> 0</td>\n",
       "      <td> 0</td>\n",
       "      <td> 2</td>\n",
       "      <td> 2</td>\n",
       "    </tr>\n",
       "    <tr>\n",
       "      <th>14</th>\n",
       "      <td> 6</td>\n",
       "      <td> 6</td>\n",
       "      <td> 6</td>\n",
       "      <td> 6</td>\n",
       "    </tr>\n",
       "    <tr>\n",
       "      <th>15</th>\n",
       "      <td> 3</td>\n",
       "      <td> 1</td>\n",
       "      <td> 1</td>\n",
       "      <td> 3</td>\n",
       "    </tr>\n",
       "    <tr>\n",
       "      <th>16</th>\n",
       "      <td> 3</td>\n",
       "      <td> 3</td>\n",
       "      <td> 3</td>\n",
       "      <td> 3</td>\n",
       "    </tr>\n",
       "    <tr>\n",
       "      <th>17</th>\n",
       "      <td> 5</td>\n",
       "      <td> 7</td>\n",
       "      <td> 7</td>\n",
       "      <td> 7</td>\n",
       "    </tr>\n",
       "    <tr>\n",
       "      <th>18</th>\n",
       "      <td> 6</td>\n",
       "      <td> 6</td>\n",
       "      <td> 6</td>\n",
       "      <td> 6</td>\n",
       "    </tr>\n",
       "    <tr>\n",
       "      <th>19</th>\n",
       "      <td> 5</td>\n",
       "      <td> 7</td>\n",
       "      <td> 7</td>\n",
       "      <td> 7</td>\n",
       "    </tr>\n",
       "    <tr>\n",
       "      <th>20</th>\n",
       "      <td> 2</td>\n",
       "      <td> 0</td>\n",
       "      <td> 1</td>\n",
       "      <td> 2</td>\n",
       "    </tr>\n",
       "    <tr>\n",
       "      <th>21</th>\n",
       "      <td> 7</td>\n",
       "      <td> 7</td>\n",
       "      <td> 7</td>\n",
       "      <td> 7</td>\n",
       "    </tr>\n",
       "    <tr>\n",
       "      <th>22</th>\n",
       "      <td> 2</td>\n",
       "      <td> 0</td>\n",
       "      <td> 0</td>\n",
       "      <td> 0</td>\n",
       "    </tr>\n",
       "    <tr>\n",
       "      <th>23</th>\n",
       "      <td> 6</td>\n",
       "      <td> 6</td>\n",
       "      <td> 6</td>\n",
       "      <td> 6</td>\n",
       "    </tr>\n",
       "    <tr>\n",
       "      <th>24</th>\n",
       "      <td> 7</td>\n",
       "      <td> 7</td>\n",
       "      <td> 7</td>\n",
       "      <td> 7</td>\n",
       "    </tr>\n",
       "    <tr>\n",
       "      <th>25</th>\n",
       "      <td> 4</td>\n",
       "      <td> 4</td>\n",
       "      <td> 4</td>\n",
       "      <td> 4</td>\n",
       "    </tr>\n",
       "    <tr>\n",
       "      <th>26</th>\n",
       "      <td> 3</td>\n",
       "      <td> 3</td>\n",
       "      <td> 3</td>\n",
       "      <td> 3</td>\n",
       "    </tr>\n",
       "    <tr>\n",
       "      <th>27</th>\n",
       "      <td> 6</td>\n",
       "      <td> 6</td>\n",
       "      <td> 6</td>\n",
       "      <td> 7</td>\n",
       "    </tr>\n",
       "    <tr>\n",
       "      <th>28</th>\n",
       "      <td> 0</td>\n",
       "      <td> 2</td>\n",
       "      <td> 2</td>\n",
       "      <td> 2</td>\n",
       "    </tr>\n",
       "    <tr>\n",
       "      <th>29</th>\n",
       "      <td> 7</td>\n",
       "      <td> 7</td>\n",
       "      <td> 7</td>\n",
       "      <td> 7</td>\n",
       "    </tr>\n",
       "    <tr>\n",
       "      <th>...</th>\n",
       "      <td>...</td>\n",
       "      <td>...</td>\n",
       "      <td>...</td>\n",
       "      <td>...</td>\n",
       "    </tr>\n",
       "    <tr>\n",
       "      <th>70</th>\n",
       "      <td> 4</td>\n",
       "      <td> 4</td>\n",
       "      <td> 4</td>\n",
       "      <td> 4</td>\n",
       "    </tr>\n",
       "    <tr>\n",
       "      <th>71</th>\n",
       "      <td> 3</td>\n",
       "      <td> 3</td>\n",
       "      <td> 3</td>\n",
       "      <td> 3</td>\n",
       "    </tr>\n",
       "    <tr>\n",
       "      <th>72</th>\n",
       "      <td> 0</td>\n",
       "      <td> 2</td>\n",
       "      <td> 2</td>\n",
       "      <td> 3</td>\n",
       "    </tr>\n",
       "    <tr>\n",
       "      <th>73</th>\n",
       "      <td> 4</td>\n",
       "      <td> 4</td>\n",
       "      <td> 4</td>\n",
       "      <td> 4</td>\n",
       "    </tr>\n",
       "    <tr>\n",
       "      <th>74</th>\n",
       "      <td> 7</td>\n",
       "      <td> 7</td>\n",
       "      <td> 7</td>\n",
       "      <td> 7</td>\n",
       "    </tr>\n",
       "    <tr>\n",
       "      <th>75</th>\n",
       "      <td> 2</td>\n",
       "      <td> 2</td>\n",
       "      <td> 3</td>\n",
       "      <td> 3</td>\n",
       "    </tr>\n",
       "    <tr>\n",
       "      <th>76</th>\n",
       "      <td> 2</td>\n",
       "      <td> 2</td>\n",
       "      <td> 2</td>\n",
       "      <td> 2</td>\n",
       "    </tr>\n",
       "    <tr>\n",
       "      <th>77</th>\n",
       "      <td> 6</td>\n",
       "      <td> 7</td>\n",
       "      <td> 5</td>\n",
       "      <td> 7</td>\n",
       "    </tr>\n",
       "    <tr>\n",
       "      <th>78</th>\n",
       "      <td> 3</td>\n",
       "      <td> 1</td>\n",
       "      <td> 1</td>\n",
       "      <td> 3</td>\n",
       "    </tr>\n",
       "    <tr>\n",
       "      <th>79</th>\n",
       "      <td> 6</td>\n",
       "      <td> 7</td>\n",
       "      <td> 6</td>\n",
       "      <td> 6</td>\n",
       "    </tr>\n",
       "    <tr>\n",
       "      <th>80</th>\n",
       "      <td> 2</td>\n",
       "      <td> 2</td>\n",
       "      <td> 2</td>\n",
       "      <td> 3</td>\n",
       "    </tr>\n",
       "    <tr>\n",
       "      <th>81</th>\n",
       "      <td> 4</td>\n",
       "      <td> 4</td>\n",
       "      <td> 4</td>\n",
       "      <td> 4</td>\n",
       "    </tr>\n",
       "    <tr>\n",
       "      <th>82</th>\n",
       "      <td> 0</td>\n",
       "      <td> 2</td>\n",
       "      <td> 1</td>\n",
       "      <td> 1</td>\n",
       "    </tr>\n",
       "    <tr>\n",
       "      <th>83</th>\n",
       "      <td> 6</td>\n",
       "      <td> 6</td>\n",
       "      <td> 6</td>\n",
       "      <td> 6</td>\n",
       "    </tr>\n",
       "    <tr>\n",
       "      <th>84</th>\n",
       "      <td> 1</td>\n",
       "      <td> 3</td>\n",
       "      <td> 3</td>\n",
       "      <td> 3</td>\n",
       "    </tr>\n",
       "    <tr>\n",
       "      <th>85</th>\n",
       "      <td> 3</td>\n",
       "      <td> 3</td>\n",
       "      <td> 1</td>\n",
       "      <td> 1</td>\n",
       "    </tr>\n",
       "    <tr>\n",
       "      <th>86</th>\n",
       "      <td> 4</td>\n",
       "      <td> 4</td>\n",
       "      <td> 4</td>\n",
       "      <td> 4</td>\n",
       "    </tr>\n",
       "    <tr>\n",
       "      <th>87</th>\n",
       "      <td> 2</td>\n",
       "      <td> 2</td>\n",
       "      <td> 2</td>\n",
       "      <td> 2</td>\n",
       "    </tr>\n",
       "    <tr>\n",
       "      <th>88</th>\n",
       "      <td> 4</td>\n",
       "      <td> 4</td>\n",
       "      <td> 4</td>\n",
       "      <td> 4</td>\n",
       "    </tr>\n",
       "    <tr>\n",
       "      <th>89</th>\n",
       "      <td> 1</td>\n",
       "      <td> 1</td>\n",
       "      <td> 1</td>\n",
       "      <td> 1</td>\n",
       "    </tr>\n",
       "    <tr>\n",
       "      <th>90</th>\n",
       "      <td> 4</td>\n",
       "      <td> 4</td>\n",
       "      <td> 4</td>\n",
       "      <td> 4</td>\n",
       "    </tr>\n",
       "    <tr>\n",
       "      <th>91</th>\n",
       "      <td> 7</td>\n",
       "      <td> 7</td>\n",
       "      <td> 7</td>\n",
       "      <td> 7</td>\n",
       "    </tr>\n",
       "    <tr>\n",
       "      <th>92</th>\n",
       "      <td> 2</td>\n",
       "      <td> 2</td>\n",
       "      <td> 2</td>\n",
       "      <td> 2</td>\n",
       "    </tr>\n",
       "    <tr>\n",
       "      <th>93</th>\n",
       "      <td> 1</td>\n",
       "      <td> 1</td>\n",
       "      <td> 1</td>\n",
       "      <td> 1</td>\n",
       "    </tr>\n",
       "    <tr>\n",
       "      <th>94</th>\n",
       "      <td> 5</td>\n",
       "      <td> 7</td>\n",
       "      <td> 5</td>\n",
       "      <td> 5</td>\n",
       "    </tr>\n",
       "    <tr>\n",
       "      <th>95</th>\n",
       "      <td> 1</td>\n",
       "      <td> 1</td>\n",
       "      <td> 3</td>\n",
       "      <td> 1</td>\n",
       "    </tr>\n",
       "    <tr>\n",
       "      <th>96</th>\n",
       "      <td> 2</td>\n",
       "      <td> 0</td>\n",
       "      <td> 0</td>\n",
       "      <td> 2</td>\n",
       "    </tr>\n",
       "    <tr>\n",
       "      <th>97</th>\n",
       "      <td> 1</td>\n",
       "      <td> 3</td>\n",
       "      <td> 3</td>\n",
       "      <td> 3</td>\n",
       "    </tr>\n",
       "    <tr>\n",
       "      <th>98</th>\n",
       "      <td> 3</td>\n",
       "      <td> 3</td>\n",
       "      <td> 3</td>\n",
       "      <td> 3</td>\n",
       "    </tr>\n",
       "    <tr>\n",
       "      <th>99</th>\n",
       "      <td> 6</td>\n",
       "      <td> 6</td>\n",
       "      <td> 6</td>\n",
       "      <td> 6</td>\n",
       "    </tr>\n",
       "  </tbody>\n",
       "</table>\n",
       "<p>100 rows × 4 columns</p>\n",
       "</div>"
      ],
      "text/plain": [
       "    Actual_Type  Forest_predicted_Type  Logistic_Predicted_Type  \\\n",
       "0             1                      1                        1   \n",
       "1             4                      4                        4   \n",
       "2             0                      2                        0   \n",
       "3             0                      2                        2   \n",
       "4             5                      7                        6   \n",
       "5             4                      4                        4   \n",
       "6             1                      3                        1   \n",
       "7             0                      2                        2   \n",
       "8             6                      6                        6   \n",
       "9             1                      1                        1   \n",
       "10            7                      7                        5   \n",
       "11            7                      7                        7   \n",
       "12            0                      0                        0   \n",
       "13            0                      0                        2   \n",
       "14            6                      6                        6   \n",
       "15            3                      1                        1   \n",
       "16            3                      3                        3   \n",
       "17            5                      7                        7   \n",
       "18            6                      6                        6   \n",
       "19            5                      7                        7   \n",
       "20            2                      0                        1   \n",
       "21            7                      7                        7   \n",
       "22            2                      0                        0   \n",
       "23            6                      6                        6   \n",
       "24            7                      7                        7   \n",
       "25            4                      4                        4   \n",
       "26            3                      3                        3   \n",
       "27            6                      6                        6   \n",
       "28            0                      2                        2   \n",
       "29            7                      7                        7   \n",
       "..          ...                    ...                      ...   \n",
       "70            4                      4                        4   \n",
       "71            3                      3                        3   \n",
       "72            0                      2                        2   \n",
       "73            4                      4                        4   \n",
       "74            7                      7                        7   \n",
       "75            2                      2                        3   \n",
       "76            2                      2                        2   \n",
       "77            6                      7                        5   \n",
       "78            3                      1                        1   \n",
       "79            6                      7                        6   \n",
       "80            2                      2                        2   \n",
       "81            4                      4                        4   \n",
       "82            0                      2                        1   \n",
       "83            6                      6                        6   \n",
       "84            1                      3                        3   \n",
       "85            3                      3                        1   \n",
       "86            4                      4                        4   \n",
       "87            2                      2                        2   \n",
       "88            4                      4                        4   \n",
       "89            1                      1                        1   \n",
       "90            4                      4                        4   \n",
       "91            7                      7                        7   \n",
       "92            2                      2                        2   \n",
       "93            1                      1                        1   \n",
       "94            5                      7                        5   \n",
       "95            1                      1                        3   \n",
       "96            2                      0                        0   \n",
       "97            1                      3                        3   \n",
       "98            3                      3                        3   \n",
       "99            6                      6                        6   \n",
       "\n",
       "    Svm_Predicted_Type  \n",
       "0                    0  \n",
       "1                    4  \n",
       "2                    2  \n",
       "3                    2  \n",
       "4                    6  \n",
       "5                    4  \n",
       "6                    1  \n",
       "7                    2  \n",
       "8                    6  \n",
       "9                    1  \n",
       "10                   5  \n",
       "11                   6  \n",
       "12                   0  \n",
       "13                   2  \n",
       "14                   6  \n",
       "15                   3  \n",
       "16                   3  \n",
       "17                   7  \n",
       "18                   6  \n",
       "19                   7  \n",
       "20                   2  \n",
       "21                   7  \n",
       "22                   0  \n",
       "23                   6  \n",
       "24                   7  \n",
       "25                   4  \n",
       "26                   3  \n",
       "27                   7  \n",
       "28                   2  \n",
       "29                   7  \n",
       "..                 ...  \n",
       "70                   4  \n",
       "71                   3  \n",
       "72                   3  \n",
       "73                   4  \n",
       "74                   7  \n",
       "75                   3  \n",
       "76                   2  \n",
       "77                   7  \n",
       "78                   3  \n",
       "79                   6  \n",
       "80                   3  \n",
       "81                   4  \n",
       "82                   1  \n",
       "83                   6  \n",
       "84                   3  \n",
       "85                   1  \n",
       "86                   4  \n",
       "87                   2  \n",
       "88                   4  \n",
       "89                   1  \n",
       "90                   4  \n",
       "91                   7  \n",
       "92                   2  \n",
       "93                   1  \n",
       "94                   5  \n",
       "95                   1  \n",
       "96                   2  \n",
       "97                   3  \n",
       "98                   3  \n",
       "99                   6  \n",
       "\n",
       "[100 rows x 4 columns]"
      ]
     },
     "execution_count": 57,
     "metadata": {},
     "output_type": "execute_result"
    }
   ],
   "source": [
    "#Lets see the predicted results versus actual result\n",
    "results"
   ]
  },
  {
   "cell_type": "markdown",
   "metadata": {},
   "source": [
    "Number of correct predictions by Logistic regression classifier"
   ]
  },
  {
   "cell_type": "code",
   "execution_count": 58,
   "metadata": {
    "collapsed": false
   },
   "outputs": [
    {
     "data": {
      "text/plain": [
       "67"
      ]
     },
     "execution_count": 58,
     "metadata": {},
     "output_type": "execute_result"
    }
   ],
   "source": [
    "#Number of correct predictions\n",
    "len(results[results['Actual_Type'] == results['Logistic_Predicted_Type']])"
   ]
  },
  {
   "cell_type": "markdown",
   "metadata": {},
   "source": [
    "Number of correct predictions by SVM classifier"
   ]
  },
  {
   "cell_type": "code",
   "execution_count": 59,
   "metadata": {
    "collapsed": false
   },
   "outputs": [
    {
     "data": {
      "text/plain": [
       "65"
      ]
     },
     "execution_count": 59,
     "metadata": {},
     "output_type": "execute_result"
    }
   ],
   "source": [
    "#Number of correct predictions\n",
    "len(results[results['Actual_Type'] == results['Svm_Predicted_Type']])"
   ]
  },
  {
   "cell_type": "markdown",
   "metadata": {},
   "source": [
    "Number of correct predictions by Random forest classifier"
   ]
  },
  {
   "cell_type": "code",
   "execution_count": 60,
   "metadata": {
    "collapsed": false
   },
   "outputs": [
    {
     "data": {
      "text/plain": [
       "70"
      ]
     },
     "execution_count": 60,
     "metadata": {},
     "output_type": "execute_result"
    }
   ],
   "source": [
    "#Number of correct predictions\n",
    "len(results[results['Actual_Type'] == results['Forest_predicted_Type']])"
   ]
  },
  {
   "cell_type": "markdown",
   "metadata": {},
   "source": [
    "Lets plot the first 20 results"
   ]
  },
  {
   "cell_type": "code",
   "execution_count": 61,
   "metadata": {
    "collapsed": false,
    "scrolled": true
   },
   "outputs": [
    {
     "data": {
      "text/plain": [
       "<matplotlib.axes._subplots.AxesSubplot at 0x7fdbae071750>"
      ]
     },
     "execution_count": 61,
     "metadata": {},
     "output_type": "execute_result"
    },
    {
     "data": {
      "image/png": "[encoded data removed]",
      "text/plain": [
       "<matplotlib.figure.Figure at 0x7fdbae6b2850>"
      ]
     },
     "metadata": {},
     "output_type": "display_data"
    }
   ],
   "source": [
    "results[:20].plot(kind='bar', figsize=(15, 8))"
   ]
  },
  {
   "cell_type": "markdown",
   "metadata": {
    "collapsed": true
   },
   "source": [
    "# Lets try Random forest algorithm on this data with different values of number of trees, and max_features\n",
    "\n",
    "We will make three classifiers with therr different values of \"max_features\". Then we will plot the out of bag errors for each classifier for different number of trees. Based of the OOB errors we will select optimum pair of [max_features, trees]."
   ]
  },
  {
   "cell_type": "code",
   "execution_count": 154,
   "metadata": {
    "collapsed": false
   },
   "outputs": [],
   "source": [
    "ensemble_clfs = [\n",
    "    (\"RF:max_features=sqrt\",\n",
    "        RandomForestClassifier(oob_score=True,\n",
    "                               max_features=\"sqrt\")),\n",
    "    (\"RF:max_features=log2\",\n",
    "        RandomForestClassifier(max_features='log2',\n",
    "                               oob_score=True)),\n",
    "    (\"RF:max_features=None\",\n",
    "        RandomForestClassifier(max_features=None,\n",
    "                               oob_score=True))\n",
    "]"
   ]
  },
  {
   "cell_type": "code",
   "execution_count": 155,
   "metadata": {
    "collapsed": false
   },
   "outputs": [],
   "source": [
    "from collections import OrderedDict\n",
    "# Map a classifier name to a list of (<n_estimators>, <error rate>) pairs.\n",
    "error_rate = OrderedDict((label, []) for label, _ in ensemble_clfs)\n",
    "error_rate['index'] = [];"
   ]
  },
  {
   "cell_type": "code",
   "execution_count": 156,
   "metadata": {
    "collapsed": true
   },
   "outputs": [],
   "source": [
    "# Range of `n_estimators` values to explore.\n",
    "min_estimators = 10\n",
    "max_estimators = 200"
   ]
  },
  {
   "cell_type": "code",
   "execution_count": 157,
   "metadata": {
    "collapsed": false
   },
   "outputs": [
    {
     "name": "stdout",
     "output_type": "stream",
     "text": [
      "191\n",
      "191\n"
     ]
    }
   ],
   "source": [
    "for i in range(min_estimators, max_estimators + 1):\n",
    "    error_rate['index'].append(i)\n",
    "    for label, clf in ensemble_clfs:\n",
    "        clf.set_params(n_estimators=i)\n",
    "        clf.fit(data_x, data_y)\n",
    "\n",
    "        # Record the OOB error for each `n_estimators=i` setting.\n",
    "        oob_error = 1 - clf.oob_score_\n",
    "        error_rate[label].append(oob_error)\n",
    "print len(error_rate['index'])\n",
    "print len(error_rate['RF:max_features=sqrt'])"
   ]
  },
  {
   "cell_type": "code",
   "execution_count": 158,
   "metadata": {
    "collapsed": false
   },
   "outputs": [],
   "source": [
    "errors = pd.DataFrame({'RF:max_features=sqrt': error_rate[\"RF:max_features=sqrt\"],\n",
    "                       'RF:max_features=log2': error_rate[\"RF:max_features=log2\"],\n",
    "                       'RF:max_features=None': error_rate[\"RF:max_features=None\"],\n",
    "                       'index': error_rate[\"index\"],\n",
    "                      })\n",
    "errors = errors.set_index(['index'], drop=True, append=False, inplace=False, verify_integrity=False);"
   ]
  },
  {
   "cell_type": "code",
   "execution_count": 159,
   "metadata": {
    "collapsed": false
   },
   "outputs": [
    {
     "data": {
      "text/plain": [
       "<matplotlib.axes._subplots.AxesSubplot at 0x7fdbac0e8050>"
      ]
     },
     "execution_count": 159,
     "metadata": {},
     "output_type": "execute_result"
    },
    {
     "data": {
      "image/png": "[encoded data removed]",
      "text/plain": [
       "<matplotlib.figure.Figure at 0x7fdba7bccdd0>"
      ]
     },
     "metadata": {},
     "output_type": "display_data"
    }
   ],
   "source": [
    "errors.plot(figsize=(15,8))"
   ]
  },
  {
   "cell_type": "markdown",
   "metadata": {},
   "source": [
    "Lets see the minimum error for each of the classifier, and trees"
   ]
  },
  {
   "cell_type": "code",
   "execution_count": 169,
   "metadata": {
    "collapsed": false
   },
   "outputs": [
    {
     "data": {
      "text/plain": [
       "RF:max_features=None    0.264846\n",
       "RF:max_features=log2    0.266033\n",
       "RF:max_features=sqrt    0.264846\n",
       "dtype: float64"
      ]
     },
     "execution_count": 169,
     "metadata": {},
     "output_type": "execute_result"
    }
   ],
   "source": [
    "#values of minimum errors\n",
    "errors.min()"
   ]
  },
  {
   "cell_type": "code",
   "execution_count": 172,
   "metadata": {
    "collapsed": false
   },
   "outputs": [
    {
     "data": {
      "text/plain": [
       "RF:max_features=None    136\n",
       "RF:max_features=log2    141\n",
       "RF:max_features=sqrt    196\n",
       "dtype: int64"
      ]
     },
     "execution_count": 172,
     "metadata": {},
     "output_type": "execute_result"
    }
   ],
   "source": [
    "#Number of trees corresponding to the minimum errors\n",
    "errors.idxmin()"
   ]
  },
  {
   "cell_type": "markdown",
   "metadata": {},
   "source": [
    "So we see that minimum error for \"max_features=None\", and \"max_features=sqrt\" configuration is same and \n",
    "the corresponding number of trees are 136, and 196 respectvely.\n",
    "\n",
    "So the optimum configuration for Random forest algorithm will be [max_features=sqrt, trees=196] \n",
    "or [max_features=None, trees=136].\n",
    "\n",
    "Lets make a classifier with this configuration and predict the result on the data."
   ]
  },
  {
   "cell_type": "code",
   "execution_count": 180,
   "metadata": {
    "collapsed": false
   },
   "outputs": [],
   "source": [
    "forest_clf = RandomForestClassifier(max_features=None, n_estimators=136);\n",
    "forest_clf.fit(data_x, data_y);"
   ]
  },
  {
   "cell_type": "code",
   "execution_count": 181,
   "metadata": {
    "collapsed": true
   },
   "outputs": [],
   "source": [
    "predicted_results = forest_clf.predict(test_data_x);"
   ]
  },
  {
   "cell_type": "code",
   "execution_count": 182,
   "metadata": {
    "collapsed": false
   },
   "outputs": [
    {
     "data": {
      "text/plain": [
       "array([3, 4, 0, 2, 7, 4, 3, 0, 6, 1, 5, 7, 2, 0, 6, 1, 3, 7, 6, 7, 2, 7, 0,\n",
       "       6, 7, 4, 3, 6, 2, 5, 2, 4, 7, 2, 7, 1, 6, 2, 7, 5, 5, 0, 3, 3, 3, 1,\n",
       "       4, 3, 3, 2, 6, 3, 6, 6, 6, 7, 1, 3, 3, 4, 7, 1, 4, 0, 2, 1, 7, 1, 6,\n",
       "       7, 4, 3, 2, 4, 7, 0, 2, 6, 1, 7, 2, 4, 0, 6, 3, 3, 4, 2, 4, 1, 4, 7,\n",
       "       2, 3, 7, 1, 0, 3, 1, 6])"
      ]
     },
     "execution_count": 182,
     "metadata": {},
     "output_type": "execute_result"
    }
   ],
   "source": [
    "predicted_results"
   ]
  },
  {
   "cell_type": "code",
   "execution_count": 183,
   "metadata": {
    "collapsed": true
   },
   "outputs": [],
   "source": [
    "results['Forest_predicted_Type'] = predicted_results"
   ]
  },
  {
   "cell_type": "code",
   "execution_count": 184,
   "metadata": {
    "collapsed": false
   },
   "outputs": [
    {
     "data": {
      "text/html": [
       "<div style=\"max-height:1000px;max-width:1500px;overflow:auto;\">\n",
       "<table border=\"1\" class=\"dataframe\">\n",
       "  <thead>\n",
       "    <tr style=\"text-align: right;\">\n",
       "      <th></th>\n",
       "      <th>Actual_Type</th>\n",
       "      <th>Forest_predicted_Type</th>\n",
       "      <th>Logistic_Predicted_Type</th>\n",
       "      <th>Svm_Predicted_Type</th>\n",
       "    </tr>\n",
       "  </thead>\n",
       "  <tbody>\n",
       "    <tr>\n",
       "      <th>0 </th>\n",
       "      <td> 1</td>\n",
       "      <td> 3</td>\n",
       "      <td> 1</td>\n",
       "      <td> 0</td>\n",
       "    </tr>\n",
       "    <tr>\n",
       "      <th>1 </th>\n",
       "      <td> 4</td>\n",
       "      <td> 4</td>\n",
       "      <td> 4</td>\n",
       "      <td> 4</td>\n",
       "    </tr>\n",
       "    <tr>\n",
       "      <th>2 </th>\n",
       "      <td> 0</td>\n",
       "      <td> 0</td>\n",
       "      <td> 0</td>\n",
       "      <td> 2</td>\n",
       "    </tr>\n",
       "    <tr>\n",
       "      <th>3 </th>\n",
       "      <td> 0</td>\n",
       "      <td> 2</td>\n",
       "      <td> 2</td>\n",
       "      <td> 2</td>\n",
       "    </tr>\n",
       "    <tr>\n",
       "      <th>4 </th>\n",
       "      <td> 5</td>\n",
       "      <td> 7</td>\n",
       "      <td> 6</td>\n",
       "      <td> 6</td>\n",
       "    </tr>\n",
       "    <tr>\n",
       "      <th>5 </th>\n",
       "      <td> 4</td>\n",
       "      <td> 4</td>\n",
       "      <td> 4</td>\n",
       "      <td> 4</td>\n",
       "    </tr>\n",
       "    <tr>\n",
       "      <th>6 </th>\n",
       "      <td> 1</td>\n",
       "      <td> 3</td>\n",
       "      <td> 1</td>\n",
       "      <td> 1</td>\n",
       "    </tr>\n",
       "    <tr>\n",
       "      <th>7 </th>\n",
       "      <td> 0</td>\n",
       "      <td> 0</td>\n",
       "      <td> 2</td>\n",
       "      <td> 2</td>\n",
       "    </tr>\n",
       "    <tr>\n",
       "      <th>8 </th>\n",
       "      <td> 6</td>\n",
       "      <td> 6</td>\n",
       "      <td> 6</td>\n",
       "      <td> 6</td>\n",
       "    </tr>\n",
       "    <tr>\n",
       "      <th>9 </th>\n",
       "      <td> 1</td>\n",
       "      <td> 1</td>\n",
       "      <td> 1</td>\n",
       "      <td> 1</td>\n",
       "    </tr>\n",
       "    <tr>\n",
       "      <th>10</th>\n",
       "      <td> 7</td>\n",
       "      <td> 5</td>\n",
       "      <td> 5</td>\n",
       "      <td> 5</td>\n",
       "    </tr>\n",
       "    <tr>\n",
       "      <th>11</th>\n",
       "      <td> 7</td>\n",
       "      <td> 7</td>\n",
       "      <td> 7</td>\n",
       "      <td> 6</td>\n",
       "    </tr>\n",
       "    <tr>\n",
       "      <th>12</th>\n",
       "      <td> 0</td>\n",
       "      <td> 2</td>\n",
       "      <td> 0</td>\n",
       "      <td> 0</td>\n",
       "    </tr>\n",
       "    <tr>\n",
       "      <th>13</th>\n",
       "      <td> 0</td>\n",
       "      <td> 0</td>\n",
       "      <td> 2</td>\n",
       "      <td> 2</td>\n",
       "    </tr>\n",
       "    <tr>\n",
       "      <th>14</th>\n",
       "      <td> 6</td>\n",
       "      <td> 6</td>\n",
       "      <td> 6</td>\n",
       "      <td> 6</td>\n",
       "    </tr>\n",
       "    <tr>\n",
       "      <th>15</th>\n",
       "      <td> 3</td>\n",
       "      <td> 1</td>\n",
       "      <td> 1</td>\n",
       "      <td> 3</td>\n",
       "    </tr>\n",
       "    <tr>\n",
       "      <th>16</th>\n",
       "      <td> 3</td>\n",
       "      <td> 3</td>\n",
       "      <td> 3</td>\n",
       "      <td> 3</td>\n",
       "    </tr>\n",
       "    <tr>\n",
       "      <th>17</th>\n",
       "      <td> 5</td>\n",
       "      <td> 7</td>\n",
       "      <td> 7</td>\n",
       "      <td> 7</td>\n",
       "    </tr>\n",
       "    <tr>\n",
       "      <th>18</th>\n",
       "      <td> 6</td>\n",
       "      <td> 6</td>\n",
       "      <td> 6</td>\n",
       "      <td> 6</td>\n",
       "    </tr>\n",
       "    <tr>\n",
       "      <th>19</th>\n",
       "      <td> 5</td>\n",
       "      <td> 7</td>\n",
       "      <td> 7</td>\n",
       "      <td> 7</td>\n",
       "    </tr>\n",
       "    <tr>\n",
       "      <th>20</th>\n",
       "      <td> 2</td>\n",
       "      <td> 2</td>\n",
       "      <td> 1</td>\n",
       "      <td> 2</td>\n",
       "    </tr>\n",
       "    <tr>\n",
       "      <th>21</th>\n",
       "      <td> 7</td>\n",
       "      <td> 7</td>\n",
       "      <td> 7</td>\n",
       "      <td> 7</td>\n",
       "    </tr>\n",
       "    <tr>\n",
       "      <th>22</th>\n",
       "      <td> 2</td>\n",
       "      <td> 0</td>\n",
       "      <td> 0</td>\n",
       "      <td> 0</td>\n",
       "    </tr>\n",
       "    <tr>\n",
       "      <th>23</th>\n",
       "      <td> 6</td>\n",
       "      <td> 6</td>\n",
       "      <td> 6</td>\n",
       "      <td> 6</td>\n",
       "    </tr>\n",
       "    <tr>\n",
       "      <th>24</th>\n",
       "      <td> 7</td>\n",
       "      <td> 7</td>\n",
       "      <td> 7</td>\n",
       "      <td> 7</td>\n",
       "    </tr>\n",
       "    <tr>\n",
       "      <th>25</th>\n",
       "      <td> 4</td>\n",
       "      <td> 4</td>\n",
       "      <td> 4</td>\n",
       "      <td> 4</td>\n",
       "    </tr>\n",
       "    <tr>\n",
       "      <th>26</th>\n",
       "      <td> 3</td>\n",
       "      <td> 3</td>\n",
       "      <td> 3</td>\n",
       "      <td> 3</td>\n",
       "    </tr>\n",
       "    <tr>\n",
       "      <th>27</th>\n",
       "      <td> 6</td>\n",
       "      <td> 6</td>\n",
       "      <td> 6</td>\n",
       "      <td> 7</td>\n",
       "    </tr>\n",
       "    <tr>\n",
       "      <th>28</th>\n",
       "      <td> 0</td>\n",
       "      <td> 2</td>\n",
       "      <td> 2</td>\n",
       "      <td> 2</td>\n",
       "    </tr>\n",
       "    <tr>\n",
       "      <th>29</th>\n",
       "      <td> 7</td>\n",
       "      <td> 5</td>\n",
       "      <td> 7</td>\n",
       "      <td> 7</td>\n",
       "    </tr>\n",
       "    <tr>\n",
       "      <th>...</th>\n",
       "      <td>...</td>\n",
       "      <td>...</td>\n",
       "      <td>...</td>\n",
       "      <td>...</td>\n",
       "    </tr>\n",
       "    <tr>\n",
       "      <th>70</th>\n",
       "      <td> 4</td>\n",
       "      <td> 4</td>\n",
       "      <td> 4</td>\n",
       "      <td> 4</td>\n",
       "    </tr>\n",
       "    <tr>\n",
       "      <th>71</th>\n",
       "      <td> 3</td>\n",
       "      <td> 3</td>\n",
       "      <td> 3</td>\n",
       "      <td> 3</td>\n",
       "    </tr>\n",
       "    <tr>\n",
       "      <th>72</th>\n",
       "      <td> 0</td>\n",
       "      <td> 2</td>\n",
       "      <td> 2</td>\n",
       "      <td> 3</td>\n",
       "    </tr>\n",
       "    <tr>\n",
       "      <th>73</th>\n",
       "      <td> 4</td>\n",
       "      <td> 4</td>\n",
       "      <td> 4</td>\n",
       "      <td> 4</td>\n",
       "    </tr>\n",
       "    <tr>\n",
       "      <th>74</th>\n",
       "      <td> 7</td>\n",
       "      <td> 7</td>\n",
       "      <td> 7</td>\n",
       "      <td> 7</td>\n",
       "    </tr>\n",
       "    <tr>\n",
       "      <th>75</th>\n",
       "      <td> 2</td>\n",
       "      <td> 0</td>\n",
       "      <td> 3</td>\n",
       "      <td> 3</td>\n",
       "    </tr>\n",
       "    <tr>\n",
       "      <th>76</th>\n",
       "      <td> 2</td>\n",
       "      <td> 2</td>\n",
       "      <td> 2</td>\n",
       "      <td> 2</td>\n",
       "    </tr>\n",
       "    <tr>\n",
       "      <th>77</th>\n",
       "      <td> 6</td>\n",
       "      <td> 6</td>\n",
       "      <td> 5</td>\n",
       "      <td> 7</td>\n",
       "    </tr>\n",
       "    <tr>\n",
       "      <th>78</th>\n",
       "      <td> 3</td>\n",
       "      <td> 1</td>\n",
       "      <td> 1</td>\n",
       "      <td> 3</td>\n",
       "    </tr>\n",
       "    <tr>\n",
       "      <th>79</th>\n",
       "      <td> 6</td>\n",
       "      <td> 7</td>\n",
       "      <td> 6</td>\n",
       "      <td> 6</td>\n",
       "    </tr>\n",
       "    <tr>\n",
       "      <th>80</th>\n",
       "      <td> 2</td>\n",
       "      <td> 2</td>\n",
       "      <td> 2</td>\n",
       "      <td> 3</td>\n",
       "    </tr>\n",
       "    <tr>\n",
       "      <th>81</th>\n",
       "      <td> 4</td>\n",
       "      <td> 4</td>\n",
       "      <td> 4</td>\n",
       "      <td> 4</td>\n",
       "    </tr>\n",
       "    <tr>\n",
       "      <th>82</th>\n",
       "      <td> 0</td>\n",
       "      <td> 0</td>\n",
       "      <td> 1</td>\n",
       "      <td> 1</td>\n",
       "    </tr>\n",
       "    <tr>\n",
       "      <th>83</th>\n",
       "      <td> 6</td>\n",
       "      <td> 6</td>\n",
       "      <td> 6</td>\n",
       "      <td> 6</td>\n",
       "    </tr>\n",
       "    <tr>\n",
       "      <th>84</th>\n",
       "      <td> 1</td>\n",
       "      <td> 3</td>\n",
       "      <td> 3</td>\n",
       "      <td> 3</td>\n",
       "    </tr>\n",
       "    <tr>\n",
       "      <th>85</th>\n",
       "      <td> 3</td>\n",
       "      <td> 3</td>\n",
       "      <td> 1</td>\n",
       "      <td> 1</td>\n",
       "    </tr>\n",
       "    <tr>\n",
       "      <th>86</th>\n",
       "      <td> 4</td>\n",
       "      <td> 4</td>\n",
       "      <td> 4</td>\n",
       "      <td> 4</td>\n",
       "    </tr>\n",
       "    <tr>\n",
       "      <th>87</th>\n",
       "      <td> 2</td>\n",
       "      <td> 2</td>\n",
       "      <td> 2</td>\n",
       "      <td> 2</td>\n",
       "    </tr>\n",
       "    <tr>\n",
       "      <th>88</th>\n",
       "      <td> 4</td>\n",
       "      <td> 4</td>\n",
       "      <td> 4</td>\n",
       "      <td> 4</td>\n",
       "    </tr>\n",
       "    <tr>\n",
       "      <th>89</th>\n",
       "      <td> 1</td>\n",
       "      <td> 1</td>\n",
       "      <td> 1</td>\n",
       "      <td> 1</td>\n",
       "    </tr>\n",
       "    <tr>\n",
       "      <th>90</th>\n",
       "      <td> 4</td>\n",
       "      <td> 4</td>\n",
       "      <td> 4</td>\n",
       "      <td> 4</td>\n",
       "    </tr>\n",
       "    <tr>\n",
       "      <th>91</th>\n",
       "      <td> 7</td>\n",
       "      <td> 7</td>\n",
       "      <td> 7</td>\n",
       "      <td> 7</td>\n",
       "    </tr>\n",
       "    <tr>\n",
       "      <th>92</th>\n",
       "      <td> 2</td>\n",
       "      <td> 2</td>\n",
       "      <td> 2</td>\n",
       "      <td> 2</td>\n",
       "    </tr>\n",
       "    <tr>\n",
       "      <th>93</th>\n",
       "      <td> 1</td>\n",
       "      <td> 3</td>\n",
       "      <td> 1</td>\n",
       "      <td> 1</td>\n",
       "    </tr>\n",
       "    <tr>\n",
       "      <th>94</th>\n",
       "      <td> 5</td>\n",
       "      <td> 7</td>\n",
       "      <td> 5</td>\n",
       "      <td> 5</td>\n",
       "    </tr>\n",
       "    <tr>\n",
       "      <th>95</th>\n",
       "      <td> 1</td>\n",
       "      <td> 1</td>\n",
       "      <td> 3</td>\n",
       "      <td> 1</td>\n",
       "    </tr>\n",
       "    <tr>\n",
       "      <th>96</th>\n",
       "      <td> 2</td>\n",
       "      <td> 0</td>\n",
       "      <td> 0</td>\n",
       "      <td> 2</td>\n",
       "    </tr>\n",
       "    <tr>\n",
       "      <th>97</th>\n",
       "      <td> 1</td>\n",
       "      <td> 3</td>\n",
       "      <td> 3</td>\n",
       "      <td> 3</td>\n",
       "    </tr>\n",
       "    <tr>\n",
       "      <th>98</th>\n",
       "      <td> 3</td>\n",
       "      <td> 1</td>\n",
       "      <td> 3</td>\n",
       "      <td> 3</td>\n",
       "    </tr>\n",
       "    <tr>\n",
       "      <th>99</th>\n",
       "      <td> 6</td>\n",
       "      <td> 6</td>\n",
       "      <td> 6</td>\n",
       "      <td> 6</td>\n",
       "    </tr>\n",
       "  </tbody>\n",
       "</table>\n",
       "<p>100 rows × 4 columns</p>\n",
       "</div>"
      ],
      "text/plain": [
       "    Actual_Type  Forest_predicted_Type  Logistic_Predicted_Type  \\\n",
       "0             1                      3                        1   \n",
       "1             4                      4                        4   \n",
       "2             0                      0                        0   \n",
       "3             0                      2                        2   \n",
       "4             5                      7                        6   \n",
       "5             4                      4                        4   \n",
       "6             1                      3                        1   \n",
       "7             0                      0                        2   \n",
       "8             6                      6                        6   \n",
       "9             1                      1                        1   \n",
       "10            7                      5                        5   \n",
       "11            7                      7                        7   \n",
       "12            0                      2                        0   \n",
       "13            0                      0                        2   \n",
       "14            6                      6                        6   \n",
       "15            3                      1                        1   \n",
       "16            3                      3                        3   \n",
       "17            5                      7                        7   \n",
       "18            6                      6                        6   \n",
       "19            5                      7                        7   \n",
       "20            2                      2                        1   \n",
       "21            7                      7                        7   \n",
       "22            2                      0                        0   \n",
       "23            6                      6                        6   \n",
       "24            7                      7                        7   \n",
       "25            4                      4                        4   \n",
       "26            3                      3                        3   \n",
       "27            6                      6                        6   \n",
       "28            0                      2                        2   \n",
       "29            7                      5                        7   \n",
       "..          ...                    ...                      ...   \n",
       "70            4                      4                        4   \n",
       "71            3                      3                        3   \n",
       "72            0                      2                        2   \n",
       "73            4                      4                        4   \n",
       "74            7                      7                        7   \n",
       "75            2                      0                        3   \n",
       "76            2                      2                        2   \n",
       "77            6                      6                        5   \n",
       "78            3                      1                        1   \n",
       "79            6                      7                        6   \n",
       "80            2                      2                        2   \n",
       "81            4                      4                        4   \n",
       "82            0                      0                        1   \n",
       "83            6                      6                        6   \n",
       "84            1                      3                        3   \n",
       "85            3                      3                        1   \n",
       "86            4                      4                        4   \n",
       "87            2                      2                        2   \n",
       "88            4                      4                        4   \n",
       "89            1                      1                        1   \n",
       "90            4                      4                        4   \n",
       "91            7                      7                        7   \n",
       "92            2                      2                        2   \n",
       "93            1                      3                        1   \n",
       "94            5                      7                        5   \n",
       "95            1                      1                        3   \n",
       "96            2                      0                        0   \n",
       "97            1                      3                        3   \n",
       "98            3                      1                        3   \n",
       "99            6                      6                        6   \n",
       "\n",
       "    Svm_Predicted_Type  \n",
       "0                    0  \n",
       "1                    4  \n",
       "2                    2  \n",
       "3                    2  \n",
       "4                    6  \n",
       "5                    4  \n",
       "6                    1  \n",
       "7                    2  \n",
       "8                    6  \n",
       "9                    1  \n",
       "10                   5  \n",
       "11                   6  \n",
       "12                   0  \n",
       "13                   2  \n",
       "14                   6  \n",
       "15                   3  \n",
       "16                   3  \n",
       "17                   7  \n",
       "18                   6  \n",
       "19                   7  \n",
       "20                   2  \n",
       "21                   7  \n",
       "22                   0  \n",
       "23                   6  \n",
       "24                   7  \n",
       "25                   4  \n",
       "26                   3  \n",
       "27                   7  \n",
       "28                   2  \n",
       "29                   7  \n",
       "..                 ...  \n",
       "70                   4  \n",
       "71                   3  \n",
       "72                   3  \n",
       "73                   4  \n",
       "74                   7  \n",
       "75                   3  \n",
       "76                   2  \n",
       "77                   7  \n",
       "78                   3  \n",
       "79                   6  \n",
       "80                   3  \n",
       "81                   4  \n",
       "82                   1  \n",
       "83                   6  \n",
       "84                   3  \n",
       "85                   1  \n",
       "86                   4  \n",
       "87                   2  \n",
       "88                   4  \n",
       "89                   1  \n",
       "90                   4  \n",
       "91                   7  \n",
       "92                   2  \n",
       "93                   1  \n",
       "94                   5  \n",
       "95                   1  \n",
       "96                   2  \n",
       "97                   3  \n",
       "98                   3  \n",
       "99                   6  \n",
       "\n",
       "[100 rows x 4 columns]"
      ]
     },
     "execution_count": 184,
     "metadata": {},
     "output_type": "execute_result"
    }
   ],
   "source": [
    "results"
   ]
  },
  {
   "cell_type": "markdown",
   "metadata": {},
   "source": [
    "Lets count the correct results now"
   ]
  },
  {
   "cell_type": "code",
   "execution_count": 185,
   "metadata": {
    "collapsed": false
   },
   "outputs": [
    {
     "data": {
      "text/plain": [
       "69"
      ]
     },
     "execution_count": 185,
     "metadata": {},
     "output_type": "execute_result"
    }
   ],
   "source": [
    "#Number of correct predictions\n",
    "len(results[results['Actual_Type'] == results['Forest_predicted_Type']])"
   ]
  },
  {
   "cell_type": "code",
   "execution_count": null,
   "metadata": {
    "collapsed": true
   },
   "outputs": [],
   "source": []
  }
 ],
 "metadata": {
  "kernelspec": {
   "display_name": "Python 2",
   "language": "python",
   "name": "python2"
  },
  "language_info": {
   "codemirror_mode": {
    "name": "ipython",
    "version": 2
   },
   "file_extension": ".py",
   "mimetype": "text/x-python",
   "name": "python",
   "nbconvert_exporter": "python",
   "pygments_lexer": "ipython2",
   "version": "2.7.9"
  }
 },
 "nbformat": 4,
 "nbformat_minor": 0
}
