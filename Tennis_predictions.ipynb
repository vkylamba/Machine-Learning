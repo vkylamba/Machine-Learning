{
 "cells": [
  {
   "cell_type": "markdown",
   "metadata": {},
   "source": [
    "# This procedure does some machine learning tasks on the UCI Tennis data. The data is stored in the form of CSV files in current folder. We will use python to implement machine learning."
   ]
  },
  {
   "cell_type": "code",
   "execution_count": 519,
   "metadata": {
    "collapsed": true
   },
   "outputs": [],
   "source": [
    "#Lets load os module to fine the files present in the directory\n",
    "import os"
   ]
  },
  {
   "cell_type": "markdown",
   "metadata": {},
   "source": [
    "Our csv files are in the data folder. So let's see the files first"
   ]
  },
  {
   "cell_type": "code",
   "execution_count": 520,
   "metadata": {
    "collapsed": true
   },
   "outputs": [],
   "source": [
    "data_files_path = 'data/'\n",
    "data_files = os.listdir(data_files_path)"
   ]
  },
  {
   "cell_type": "code",
   "execution_count": 521,
   "metadata": {
    "collapsed": false
   },
   "outputs": [
    {
     "name": "stdout",
     "output_type": "stream",
     "text": [
      "['Wimbledon-women-2013.csv', 'FrenchOpen-women-2013.csv', 'AusOpen-men-2013.csv', 'FrenchOpen-men-2013.csv', 'Wimbledon-men-2013.csv', 'AusOpen-women-2013.csv', 'USOpen-women-2013.csv', 'USOpen-men-2013.csv']\n"
     ]
    }
   ],
   "source": [
    "print data_files"
   ]
  },
  {
   "cell_type": "markdown",
   "metadata": {},
   "source": [
    "Now lets load the data from the files. We will use pandas module to load the data."
   ]
  },
  {
   "cell_type": "code",
   "execution_count": 522,
   "metadata": {
    "collapsed": true
   },
   "outputs": [],
   "source": [
    "import pandas as pd\n",
    "input_data = pd.read_csv(data_files_path + data_files[0]);"
   ]
  },
  {
   "cell_type": "markdown",
   "metadata": {},
   "source": [
    "Now lets see how does the data looks. Lets see first 5 rows of the data."
   ]
  },
  {
   "cell_type": "code",
   "execution_count": 523,
   "metadata": {
    "collapsed": false
   },
   "outputs": [
    {
     "data": {
      "text/html": [
       "<div style=\"max-height:1000px;max-width:1500px;overflow:auto;\">\n",
       "<table border=\"1\" class=\"dataframe\">\n",
       "  <thead>\n",
       "    <tr style=\"text-align: right;\">\n",
       "      <th></th>\n",
       "      <th>Player1</th>\n",
       "      <th>Player2</th>\n",
       "      <th>Round</th>\n",
       "      <th>Result</th>\n",
       "      <th>FNL.1</th>\n",
       "      <th>FNL.2</th>\n",
       "      <th>FSP.1</th>\n",
       "      <th>FSW.1</th>\n",
       "      <th>SSP.1</th>\n",
       "      <th>SSW.1</th>\n",
       "      <th>...</th>\n",
       "      <th>BPC.2</th>\n",
       "      <th>BPW.2</th>\n",
       "      <th>NPA.2</th>\n",
       "      <th>NPW.2</th>\n",
       "      <th>TPW.2</th>\n",
       "      <th>ST1.2</th>\n",
       "      <th>ST2.2</th>\n",
       "      <th>ST3.2</th>\n",
       "      <th>ST4.2</th>\n",
       "      <th>ST5.2</th>\n",
       "    </tr>\n",
       "  </thead>\n",
       "  <tbody>\n",
       "    <tr>\n",
       "      <th>0</th>\n",
       "      <td>    M.Koehler</td>\n",
       "      <td> V.Azarenka</td>\n",
       "      <td> 1</td>\n",
       "      <td> 0</td>\n",
       "      <td> 0</td>\n",
       "      <td> 2</td>\n",
       "      <td> 60</td>\n",
       "      <td> 21</td>\n",
       "      <td> 40</td>\n",
       "      <td>  8</td>\n",
       "      <td>...</td>\n",
       "      <td> 16</td>\n",
       "      <td> 6</td>\n",
       "      <td>  8</td>\n",
       "      <td>  4</td>\n",
       "      <td>NaN</td>\n",
       "      <td> 6</td>\n",
       "      <td> 6</td>\n",
       "      <td>NaN</td>\n",
       "      <td>NaN</td>\n",
       "      <td>NaN</td>\n",
       "    </tr>\n",
       "    <tr>\n",
       "      <th>1</th>\n",
       "      <td>   E.Baltacha</td>\n",
       "      <td> F.Pennetta</td>\n",
       "      <td> 1</td>\n",
       "      <td> 0</td>\n",
       "      <td> 0</td>\n",
       "      <td> 2</td>\n",
       "      <td> 69</td>\n",
       "      <td> 23</td>\n",
       "      <td> 31</td>\n",
       "      <td>  6</td>\n",
       "      <td>...</td>\n",
       "      <td>  6</td>\n",
       "      <td> 5</td>\n",
       "      <td> 14</td>\n",
       "      <td> 11</td>\n",
       "      <td>NaN</td>\n",
       "      <td> 6</td>\n",
       "      <td> 6</td>\n",
       "      <td>NaN</td>\n",
       "      <td>NaN</td>\n",
       "      <td>NaN</td>\n",
       "    </tr>\n",
       "    <tr>\n",
       "      <th>2</th>\n",
       "      <td>    S-W.Hsieh</td>\n",
       "      <td>    T.Maria</td>\n",
       "      <td> 1</td>\n",
       "      <td> 1</td>\n",
       "      <td> 2</td>\n",
       "      <td> 0</td>\n",
       "      <td> 63</td>\n",
       "      <td> 17</td>\n",
       "      <td> 37</td>\n",
       "      <td> 10</td>\n",
       "      <td>...</td>\n",
       "      <td>  1</td>\n",
       "      <td> 0</td>\n",
       "      <td>  8</td>\n",
       "      <td>  2</td>\n",
       "      <td>NaN</td>\n",
       "      <td> 1</td>\n",
       "      <td> 0</td>\n",
       "      <td>NaN</td>\n",
       "      <td>NaN</td>\n",
       "      <td>NaN</td>\n",
       "    </tr>\n",
       "    <tr>\n",
       "      <th>3</th>\n",
       "      <td>     A.Cornet</td>\n",
       "      <td>     V.King</td>\n",
       "      <td> 1</td>\n",
       "      <td> 1</td>\n",
       "      <td> 2</td>\n",
       "      <td> 1</td>\n",
       "      <td> 57</td>\n",
       "      <td> 36</td>\n",
       "      <td> 43</td>\n",
       "      <td> 21</td>\n",
       "      <td>...</td>\n",
       "      <td>  4</td>\n",
       "      <td> 1</td>\n",
       "      <td> 48</td>\n",
       "      <td> 32</td>\n",
       "      <td>NaN</td>\n",
       "      <td> 6</td>\n",
       "      <td> 3</td>\n",
       "      <td>  1</td>\n",
       "      <td>NaN</td>\n",
       "      <td>NaN</td>\n",
       "    </tr>\n",
       "    <tr>\n",
       "      <th>4</th>\n",
       "      <td> Y.Putintseva</td>\n",
       "      <td> K.Flipkens</td>\n",
       "      <td> 1</td>\n",
       "      <td> 0</td>\n",
       "      <td> 0</td>\n",
       "      <td> 2</td>\n",
       "      <td> 73</td>\n",
       "      <td> 34</td>\n",
       "      <td> 27</td>\n",
       "      <td> 12</td>\n",
       "      <td>...</td>\n",
       "      <td>  9</td>\n",
       "      <td> 3</td>\n",
       "      <td> 35</td>\n",
       "      <td> 24</td>\n",
       "      <td>NaN</td>\n",
       "      <td> 7</td>\n",
       "      <td> 6</td>\n",
       "      <td>NaN</td>\n",
       "      <td>NaN</td>\n",
       "      <td>NaN</td>\n",
       "    </tr>\n",
       "  </tbody>\n",
       "</table>\n",
       "<p>5 rows × 42 columns</p>\n",
       "</div>"
      ],
      "text/plain": [
       "        Player1     Player2  Round  Result  FNL.1  FNL.2  FSP.1  FSW.1  SSP.1  \\\n",
       "0     M.Koehler  V.Azarenka      1       0      0      2     60     21     40   \n",
       "1    E.Baltacha  F.Pennetta      1       0      0      2     69     23     31   \n",
       "2     S-W.Hsieh     T.Maria      1       1      2      0     63     17     37   \n",
       "3      A.Cornet      V.King      1       1      2      1     57     36     43   \n",
       "4  Y.Putintseva  K.Flipkens      1       0      0      2     73     34     27   \n",
       "\n",
       "   SSW.1  ...    BPC.2  BPW.2  NPA.2  NPW.2  TPW.2  ST1.2  ST2.2  ST3.2  \\\n",
       "0      8  ...       16      6      8      4    NaN      6      6    NaN   \n",
       "1      6  ...        6      5     14     11    NaN      6      6    NaN   \n",
       "2     10  ...        1      0      8      2    NaN      1      0    NaN   \n",
       "3     21  ...        4      1     48     32    NaN      6      3      1   \n",
       "4     12  ...        9      3     35     24    NaN      7      6    NaN   \n",
       "\n",
       "   ST4.2  ST5.2  \n",
       "0    NaN    NaN  \n",
       "1    NaN    NaN  \n",
       "2    NaN    NaN  \n",
       "3    NaN    NaN  \n",
       "4    NaN    NaN  \n",
       "\n",
       "[5 rows x 42 columns]"
      ]
     },
     "execution_count": 523,
     "metadata": {},
     "output_type": "execute_result"
    }
   ],
   "source": [
    "input_data[:5]"
   ]
  },
  {
   "cell_type": "markdown",
   "metadata": {},
   "source": [
    "Lets see the Player1 column for first 5 rows"
   ]
  },
  {
   "cell_type": "code",
   "execution_count": 524,
   "metadata": {
    "collapsed": false
   },
   "outputs": [
    {
     "data": {
      "text/plain": [
       "0       M.Koehler\n",
       "1      E.Baltacha\n",
       "2       S-W.Hsieh\n",
       "3        A.Cornet\n",
       "4    Y.Putintseva\n",
       "Name: Player1, dtype: object"
      ]
     },
     "execution_count": 524,
     "metadata": {},
     "output_type": "execute_result"
    }
   ],
   "source": [
    "input_data['Player1'][:5]"
   ]
  },
  {
   "cell_type": "markdown",
   "metadata": {},
   "source": [
    "Now lets make a function to load data from all the data files."
   ]
  },
  {
   "cell_type": "code",
   "execution_count": 525,
   "metadata": {
    "collapsed": true
   },
   "outputs": [],
   "source": [
    "def load_data(data_files):\n",
    "    input_data = None;\n",
    "    input_data_initialized = False; # to check the state of input_data variable\n",
    "    for file_name in data_files:\n",
    "        print 'Reading from file ' + file_name\n",
    "        if not input_data_initialized:\n",
    "            #Initialize the input_data\n",
    "            data = pd.read_csv(data_files_path + file_name);\n",
    "            input_data = data;\n",
    "            input_data_initialized = True;\n",
    "        else:\n",
    "            #Store the data into data variable\n",
    "            data = pd.read_csv(data_files_path + file_name);\n",
    "            #Append the data into input_data\n",
    "            input_data = input_data.append(data);\n",
    "    return input_data;"
   ]
  },
  {
   "cell_type": "code",
   "execution_count": 526,
   "metadata": {
    "collapsed": false
   },
   "outputs": [
    {
     "name": "stdout",
     "output_type": "stream",
     "text": [
      "Reading from file Wimbledon-women-2013.csv\n",
      "Reading from file FrenchOpen-women-2013.csv\n",
      "Reading from file AusOpen-men-2013.csv\n",
      "Reading from file FrenchOpen-men-2013.csv\n",
      "Reading from file Wimbledon-men-2013.csv\n",
      "Reading from file AusOpen-women-2013.csv\n",
      "Reading from file USOpen-women-2013.csv\n",
      "Reading from file USOpen-men-2013.csv\n"
     ]
    }
   ],
   "source": [
    "#Lets load data from all the files\n",
    "input_data = load_data(data_files);"
   ]
  },
  {
   "cell_type": "markdown",
   "metadata": {},
   "source": [
    "Lets check the size of data"
   ]
  },
  {
   "cell_type": "code",
   "execution_count": 527,
   "metadata": {
    "collapsed": false
   },
   "outputs": [
    {
     "data": {
      "text/plain": [
       "(943, 42)"
      ]
     },
     "execution_count": 527,
     "metadata": {},
     "output_type": "execute_result"
    }
   ],
   "source": [
    "input_data.shape"
   ]
  },
  {
   "cell_type": "markdown",
   "metadata": {},
   "source": [
    "This means the input_data have 943 rows and 42 columns"
   ]
  },
  {
   "cell_type": "markdown",
   "metadata": {},
   "source": [
    "Lets see first 5 rows of input_data"
   ]
  },
  {
   "cell_type": "code",
   "execution_count": 528,
   "metadata": {
    "collapsed": false
   },
   "outputs": [
    {
     "data": {
      "text/html": [
       "<div style=\"max-height:1000px;max-width:1500px;overflow:auto;\">\n",
       "<table border=\"1\" class=\"dataframe\">\n",
       "  <thead>\n",
       "    <tr style=\"text-align: right;\">\n",
       "      <th></th>\n",
       "      <th>Player1</th>\n",
       "      <th>Player2</th>\n",
       "      <th>Round</th>\n",
       "      <th>Result</th>\n",
       "      <th>FNL.1</th>\n",
       "      <th>FNL.2</th>\n",
       "      <th>FSP.1</th>\n",
       "      <th>FSW.1</th>\n",
       "      <th>SSP.1</th>\n",
       "      <th>SSW.1</th>\n",
       "      <th>...</th>\n",
       "      <th>BPC.2</th>\n",
       "      <th>BPW.2</th>\n",
       "      <th>NPA.2</th>\n",
       "      <th>NPW.2</th>\n",
       "      <th>TPW.2</th>\n",
       "      <th>ST1.2</th>\n",
       "      <th>ST2.2</th>\n",
       "      <th>ST3.2</th>\n",
       "      <th>ST4.2</th>\n",
       "      <th>ST5.2</th>\n",
       "    </tr>\n",
       "  </thead>\n",
       "  <tbody>\n",
       "    <tr>\n",
       "      <th>0</th>\n",
       "      <td>    M.Koehler</td>\n",
       "      <td> V.Azarenka</td>\n",
       "      <td> 1</td>\n",
       "      <td> 0</td>\n",
       "      <td> 0</td>\n",
       "      <td> 2</td>\n",
       "      <td> 60</td>\n",
       "      <td> 21</td>\n",
       "      <td> 40</td>\n",
       "      <td>  8</td>\n",
       "      <td>...</td>\n",
       "      <td> 16</td>\n",
       "      <td> 6</td>\n",
       "      <td>  8</td>\n",
       "      <td>  4</td>\n",
       "      <td>NaN</td>\n",
       "      <td> 6</td>\n",
       "      <td> 6</td>\n",
       "      <td>NaN</td>\n",
       "      <td>NaN</td>\n",
       "      <td>NaN</td>\n",
       "    </tr>\n",
       "    <tr>\n",
       "      <th>1</th>\n",
       "      <td>   E.Baltacha</td>\n",
       "      <td> F.Pennetta</td>\n",
       "      <td> 1</td>\n",
       "      <td> 0</td>\n",
       "      <td> 0</td>\n",
       "      <td> 2</td>\n",
       "      <td> 69</td>\n",
       "      <td> 23</td>\n",
       "      <td> 31</td>\n",
       "      <td>  6</td>\n",
       "      <td>...</td>\n",
       "      <td>  6</td>\n",
       "      <td> 5</td>\n",
       "      <td> 14</td>\n",
       "      <td> 11</td>\n",
       "      <td>NaN</td>\n",
       "      <td> 6</td>\n",
       "      <td> 6</td>\n",
       "      <td>NaN</td>\n",
       "      <td>NaN</td>\n",
       "      <td>NaN</td>\n",
       "    </tr>\n",
       "    <tr>\n",
       "      <th>2</th>\n",
       "      <td>    S-W.Hsieh</td>\n",
       "      <td>    T.Maria</td>\n",
       "      <td> 1</td>\n",
       "      <td> 1</td>\n",
       "      <td> 2</td>\n",
       "      <td> 0</td>\n",
       "      <td> 63</td>\n",
       "      <td> 17</td>\n",
       "      <td> 37</td>\n",
       "      <td> 10</td>\n",
       "      <td>...</td>\n",
       "      <td>  1</td>\n",
       "      <td> 0</td>\n",
       "      <td>  8</td>\n",
       "      <td>  2</td>\n",
       "      <td>NaN</td>\n",
       "      <td> 1</td>\n",
       "      <td> 0</td>\n",
       "      <td>NaN</td>\n",
       "      <td>NaN</td>\n",
       "      <td>NaN</td>\n",
       "    </tr>\n",
       "    <tr>\n",
       "      <th>3</th>\n",
       "      <td>     A.Cornet</td>\n",
       "      <td>     V.King</td>\n",
       "      <td> 1</td>\n",
       "      <td> 1</td>\n",
       "      <td> 2</td>\n",
       "      <td> 1</td>\n",
       "      <td> 57</td>\n",
       "      <td> 36</td>\n",
       "      <td> 43</td>\n",
       "      <td> 21</td>\n",
       "      <td>...</td>\n",
       "      <td>  4</td>\n",
       "      <td> 1</td>\n",
       "      <td> 48</td>\n",
       "      <td> 32</td>\n",
       "      <td>NaN</td>\n",
       "      <td> 6</td>\n",
       "      <td> 3</td>\n",
       "      <td>  1</td>\n",
       "      <td>NaN</td>\n",
       "      <td>NaN</td>\n",
       "    </tr>\n",
       "    <tr>\n",
       "      <th>4</th>\n",
       "      <td> Y.Putintseva</td>\n",
       "      <td> K.Flipkens</td>\n",
       "      <td> 1</td>\n",
       "      <td> 0</td>\n",
       "      <td> 0</td>\n",
       "      <td> 2</td>\n",
       "      <td> 73</td>\n",
       "      <td> 34</td>\n",
       "      <td> 27</td>\n",
       "      <td> 12</td>\n",
       "      <td>...</td>\n",
       "      <td>  9</td>\n",
       "      <td> 3</td>\n",
       "      <td> 35</td>\n",
       "      <td> 24</td>\n",
       "      <td>NaN</td>\n",
       "      <td> 7</td>\n",
       "      <td> 6</td>\n",
       "      <td>NaN</td>\n",
       "      <td>NaN</td>\n",
       "      <td>NaN</td>\n",
       "    </tr>\n",
       "  </tbody>\n",
       "</table>\n",
       "<p>5 rows × 42 columns</p>\n",
       "</div>"
      ],
      "text/plain": [
       "        Player1     Player2  Round  Result  FNL.1  FNL.2  FSP.1  FSW.1  SSP.1  \\\n",
       "0     M.Koehler  V.Azarenka      1       0      0      2     60     21     40   \n",
       "1    E.Baltacha  F.Pennetta      1       0      0      2     69     23     31   \n",
       "2     S-W.Hsieh     T.Maria      1       1      2      0     63     17     37   \n",
       "3      A.Cornet      V.King      1       1      2      1     57     36     43   \n",
       "4  Y.Putintseva  K.Flipkens      1       0      0      2     73     34     27   \n",
       "\n",
       "   SSW.1  ...    BPC.2  BPW.2  NPA.2  NPW.2  TPW.2  ST1.2  ST2.2  ST3.2  \\\n",
       "0      8  ...       16      6      8      4    NaN      6      6    NaN   \n",
       "1      6  ...        6      5     14     11    NaN      6      6    NaN   \n",
       "2     10  ...        1      0      8      2    NaN      1      0    NaN   \n",
       "3     21  ...        4      1     48     32    NaN      6      3      1   \n",
       "4     12  ...        9      3     35     24    NaN      7      6    NaN   \n",
       "\n",
       "   ST4.2  ST5.2  \n",
       "0    NaN    NaN  \n",
       "1    NaN    NaN  \n",
       "2    NaN    NaN  \n",
       "3    NaN    NaN  \n",
       "4    NaN    NaN  \n",
       "\n",
       "[5 rows x 42 columns]"
      ]
     },
     "execution_count": 528,
     "metadata": {},
     "output_type": "execute_result"
    }
   ],
   "source": [
    "input_data[:5]"
   ]
  },
  {
   "cell_type": "markdown",
   "metadata": {},
   "source": [
    "Lets read all the player names"
   ]
  },
  {
   "cell_type": "code",
   "execution_count": 529,
   "metadata": {
    "collapsed": true
   },
   "outputs": [],
   "source": [
    "player_names = input_data['Player1'].copy();\n",
    "player_names = player_names.append(input_data['Player2']);"
   ]
  },
  {
   "cell_type": "code",
   "execution_count": 530,
   "metadata": {
    "collapsed": false
   },
   "outputs": [
    {
     "data": {
      "text/plain": [
       "0       M.Koehler\n",
       "1      E.Baltacha\n",
       "2       S-W.Hsieh\n",
       "3        A.Cornet\n",
       "4    Y.Putintseva\n",
       "dtype: object"
      ]
     },
     "execution_count": 530,
     "metadata": {},
     "output_type": "execute_result"
    }
   ],
   "source": [
    "player_names[:5]"
   ]
  },
  {
   "cell_type": "markdown",
   "metadata": {},
   "source": [
    "We need to divide the data into two parts. One to train the learning algorithms, and other part to test the algorithms. We will select 100 rows randomaly for test data."
   ]
  },
  {
   "cell_type": "code",
   "execution_count": 531,
   "metadata": {
    "collapsed": false
   },
   "outputs": [],
   "source": [
    "import numpy as np\n",
    "#Lets randomize the rows in input_data\n",
    "input_data = input_data.take(np.random.permutation(len(input_data))[:])\n",
    "#Lets take first 100 rows now\n",
    "test_data = input_data[:100].copy();\n",
    "input_data = input_data[100:-1];"
   ]
  },
  {
   "cell_type": "markdown",
   "metadata": {},
   "source": [
    "Test data looks like:"
   ]
  },
  {
   "cell_type": "code",
   "execution_count": 532,
   "metadata": {
    "collapsed": false
   },
   "outputs": [
    {
     "data": {
      "text/plain": [
       "(100, 42)"
      ]
     },
     "execution_count": 532,
     "metadata": {},
     "output_type": "execute_result"
    }
   ],
   "source": [
    "test_data.shape"
   ]
  },
  {
   "cell_type": "code",
   "execution_count": 533,
   "metadata": {
    "collapsed": false
   },
   "outputs": [
    {
     "data": {
      "text/plain": [
       "(842, 42)"
      ]
     },
     "execution_count": 533,
     "metadata": {},
     "output_type": "execute_result"
    }
   ],
   "source": [
    "input_data.shape"
   ]
  },
  {
   "cell_type": "markdown",
   "metadata": {},
   "source": [
    "The Result column have results of all the matches. \n",
    "The result is 1 if Player1 won the match, it is zero if Player2 won the match. We will be feeding all this data to learning algorithm. The algorithm accepts numeric values only. So we need to convert the player names into numeric values. We will be identifying each player with a unique number. To do so lets import preprocessing module of sklearn, and use the label encoder availabel in it. "
   ]
  },
  {
   "cell_type": "code",
   "execution_count": 534,
   "metadata": {
    "collapsed": true
   },
   "outputs": [],
   "source": [
    "from sklearn import preprocessing\n",
    "label_encoder = preprocessing.LabelEncoder()"
   ]
  },
  {
   "cell_type": "markdown",
   "metadata": {},
   "source": [
    "Now lets transform the names into numeric values"
   ]
  },
  {
   "cell_type": "code",
   "execution_count": 535,
   "metadata": {
    "collapsed": false,
    "scrolled": true
   },
   "outputs": [],
   "source": [
    "names_fit = label_encoder.fit(player_names)\n",
    "input_data['Player1'] = names_fit.transform(input_data['Player1']);\n",
    "input_data['Player2'] = names_fit.transform(input_data['Player2']);\n",
    "\n",
    "test_data['Player1'] = names_fit.transform(test_data['Player1']);\n",
    "test_data['Player2'] = names_fit.transform(test_data['Player2']);"
   ]
  },
  {
   "cell_type": "code",
   "execution_count": 536,
   "metadata": {
    "collapsed": false
   },
   "outputs": [
    {
     "data": {
      "text/html": [
       "<div style=\"max-height:1000px;max-width:1500px;overflow:auto;\">\n",
       "<table border=\"1\" class=\"dataframe\">\n",
       "  <thead>\n",
       "    <tr style=\"text-align: right;\">\n",
       "      <th></th>\n",
       "      <th>Player1</th>\n",
       "      <th>Player2</th>\n",
       "    </tr>\n",
       "  </thead>\n",
       "  <tbody>\n",
       "    <tr>\n",
       "      <th>7  </th>\n",
       "      <td> 162</td>\n",
       "      <td> 363</td>\n",
       "    </tr>\n",
       "    <tr>\n",
       "      <th>21 </th>\n",
       "      <td> 281</td>\n",
       "      <td> 187</td>\n",
       "    </tr>\n",
       "    <tr>\n",
       "      <th>104</th>\n",
       "      <td> 294</td>\n",
       "      <td> 221</td>\n",
       "    </tr>\n",
       "    <tr>\n",
       "      <th>83 </th>\n",
       "      <td> 294</td>\n",
       "      <td> 610</td>\n",
       "    </tr>\n",
       "    <tr>\n",
       "      <th>94 </th>\n",
       "      <td> 481</td>\n",
       "      <td> 176</td>\n",
       "    </tr>\n",
       "  </tbody>\n",
       "</table>\n",
       "</div>"
      ],
      "text/plain": [
       "     Player1  Player2\n",
       "7        162      363\n",
       "21       281      187\n",
       "104      294      221\n",
       "83       294      610\n",
       "94       481      176"
      ]
     },
     "execution_count": 536,
     "metadata": {},
     "output_type": "execute_result"
    }
   ],
   "source": [
    "input_data[['Player1', 'Player2']][:5]"
   ]
  },
  {
   "cell_type": "code",
   "execution_count": 537,
   "metadata": {
    "collapsed": false
   },
   "outputs": [
    {
     "data": {
      "text/html": [
       "<div style=\"max-height:1000px;max-width:1500px;overflow:auto;\">\n",
       "<table border=\"1\" class=\"dataframe\">\n",
       "  <thead>\n",
       "    <tr style=\"text-align: right;\">\n",
       "      <th></th>\n",
       "      <th>Player1</th>\n",
       "      <th>Player2</th>\n",
       "    </tr>\n",
       "  </thead>\n",
       "  <tbody>\n",
       "    <tr>\n",
       "      <th>99</th>\n",
       "      <td> 287</td>\n",
       "      <td> 153</td>\n",
       "    </tr>\n",
       "    <tr>\n",
       "      <th>49</th>\n",
       "      <td> 472</td>\n",
       "      <td> 661</td>\n",
       "    </tr>\n",
       "    <tr>\n",
       "      <th>11</th>\n",
       "      <td> 360</td>\n",
       "      <td> 336</td>\n",
       "    </tr>\n",
       "    <tr>\n",
       "      <th>72</th>\n",
       "      <td> 313</td>\n",
       "      <td> 167</td>\n",
       "    </tr>\n",
       "    <tr>\n",
       "      <th>88</th>\n",
       "      <td>  45</td>\n",
       "      <td> 472</td>\n",
       "    </tr>\n",
       "  </tbody>\n",
       "</table>\n",
       "</div>"
      ],
      "text/plain": [
       "    Player1  Player2\n",
       "99      287      153\n",
       "49      472      661\n",
       "11      360      336\n",
       "72      313      167\n",
       "88       45      472"
      ]
     },
     "execution_count": 537,
     "metadata": {},
     "output_type": "execute_result"
    }
   ],
   "source": [
    "test_data[['Player1', 'Player2']][:5]"
   ]
  },
  {
   "cell_type": "markdown",
   "metadata": {},
   "source": [
    "And the input_data looks like:"
   ]
  },
  {
   "cell_type": "code",
   "execution_count": 538,
   "metadata": {
    "collapsed": false
   },
   "outputs": [
    {
     "data": {
      "text/html": [
       "<div style=\"max-height:1000px;max-width:1500px;overflow:auto;\">\n",
       "<table border=\"1\" class=\"dataframe\">\n",
       "  <thead>\n",
       "    <tr style=\"text-align: right;\">\n",
       "      <th></th>\n",
       "      <th>Player1</th>\n",
       "      <th>Player2</th>\n",
       "      <th>Round</th>\n",
       "      <th>Result</th>\n",
       "      <th>FNL.1</th>\n",
       "      <th>FNL.2</th>\n",
       "      <th>FSP.1</th>\n",
       "      <th>FSW.1</th>\n",
       "      <th>SSP.1</th>\n",
       "      <th>SSW.1</th>\n",
       "      <th>...</th>\n",
       "      <th>BPC.2</th>\n",
       "      <th>BPW.2</th>\n",
       "      <th>NPA.2</th>\n",
       "      <th>NPW.2</th>\n",
       "      <th>TPW.2</th>\n",
       "      <th>ST1.2</th>\n",
       "      <th>ST2.2</th>\n",
       "      <th>ST3.2</th>\n",
       "      <th>ST4.2</th>\n",
       "      <th>ST5.2</th>\n",
       "    </tr>\n",
       "  </thead>\n",
       "  <tbody>\n",
       "    <tr>\n",
       "      <th>7  </th>\n",
       "      <td> 162</td>\n",
       "      <td> 363</td>\n",
       "      <td> 1</td>\n",
       "      <td> 1</td>\n",
       "      <td> 2</td>\n",
       "      <td> 0</td>\n",
       "      <td> 60</td>\n",
       "      <td> 24</td>\n",
       "      <td> 40</td>\n",
       "      <td> 11</td>\n",
       "      <td>...</td>\n",
       "      <td>  3</td>\n",
       "      <td>  7</td>\n",
       "      <td>  0</td>\n",
       "      <td>  2</td>\n",
       "      <td>  46</td>\n",
       "      <td> 1</td>\n",
       "      <td> 4</td>\n",
       "      <td>NaN</td>\n",
       "      <td>NaN</td>\n",
       "      <td>NaN</td>\n",
       "    </tr>\n",
       "    <tr>\n",
       "      <th>21 </th>\n",
       "      <td> 281</td>\n",
       "      <td> 187</td>\n",
       "      <td> 1</td>\n",
       "      <td> 0</td>\n",
       "      <td> 1</td>\n",
       "      <td> 3</td>\n",
       "      <td> 48</td>\n",
       "      <td> 47</td>\n",
       "      <td> 52</td>\n",
       "      <td> 32</td>\n",
       "      <td>...</td>\n",
       "      <td>  6</td>\n",
       "      <td> 10</td>\n",
       "      <td>  8</td>\n",
       "      <td> 11</td>\n",
       "      <td> 132</td>\n",
       "      <td> 7</td>\n",
       "      <td> 2</td>\n",
       "      <td>  7</td>\n",
       "      <td>  6</td>\n",
       "      <td>NaN</td>\n",
       "    </tr>\n",
       "    <tr>\n",
       "      <th>104</th>\n",
       "      <td> 294</td>\n",
       "      <td> 221</td>\n",
       "      <td> 3</td>\n",
       "      <td> 1</td>\n",
       "      <td> 3</td>\n",
       "      <td> 0</td>\n",
       "      <td> 66</td>\n",
       "      <td> 49</td>\n",
       "      <td> 34</td>\n",
       "      <td> 20</td>\n",
       "      <td>...</td>\n",
       "      <td>  0</td>\n",
       "      <td>  3</td>\n",
       "      <td> 23</td>\n",
       "      <td> 28</td>\n",
       "      <td>  79</td>\n",
       "      <td> 6</td>\n",
       "      <td> 4</td>\n",
       "      <td>  2</td>\n",
       "      <td>NaN</td>\n",
       "      <td>NaN</td>\n",
       "    </tr>\n",
       "    <tr>\n",
       "      <th>83 </th>\n",
       "      <td> 294</td>\n",
       "      <td> 610</td>\n",
       "      <td> 2</td>\n",
       "      <td> 1</td>\n",
       "      <td> 3</td>\n",
       "      <td> 0</td>\n",
       "      <td> 64</td>\n",
       "      <td> 51</td>\n",
       "      <td> 36</td>\n",
       "      <td> 18</td>\n",
       "      <td>...</td>\n",
       "      <td>  1</td>\n",
       "      <td>  4</td>\n",
       "      <td> 13</td>\n",
       "      <td> 18</td>\n",
       "      <td>  88</td>\n",
       "      <td> 6</td>\n",
       "      <td> 4</td>\n",
       "      <td>  4</td>\n",
       "      <td>NaN</td>\n",
       "      <td>NaN</td>\n",
       "    </tr>\n",
       "    <tr>\n",
       "      <th>94 </th>\n",
       "      <td> 481</td>\n",
       "      <td> 176</td>\n",
       "      <td> 3</td>\n",
       "      <td> 0</td>\n",
       "      <td> 1</td>\n",
       "      <td> 2</td>\n",
       "      <td> 63</td>\n",
       "      <td> 30</td>\n",
       "      <td> 37</td>\n",
       "      <td>  8</td>\n",
       "      <td>...</td>\n",
       "      <td> 11</td>\n",
       "      <td>  4</td>\n",
       "      <td>  5</td>\n",
       "      <td>  4</td>\n",
       "      <td> NaN</td>\n",
       "      <td> 3</td>\n",
       "      <td> 6</td>\n",
       "      <td>  2</td>\n",
       "      <td>NaN</td>\n",
       "      <td>NaN</td>\n",
       "    </tr>\n",
       "  </tbody>\n",
       "</table>\n",
       "<p>5 rows × 42 columns</p>\n",
       "</div>"
      ],
      "text/plain": [
       "     Player1  Player2  Round  Result  FNL.1  FNL.2  FSP.1  FSW.1  SSP.1  \\\n",
       "7        162      363      1       1      2      0     60     24     40   \n",
       "21       281      187      1       0      1      3     48     47     52   \n",
       "104      294      221      3       1      3      0     66     49     34   \n",
       "83       294      610      2       1      3      0     64     51     36   \n",
       "94       481      176      3       0      1      2     63     30     37   \n",
       "\n",
       "     SSW.1  ...    BPC.2  BPW.2  NPA.2  NPW.2  TPW.2  ST1.2  ST2.2  ST3.2  \\\n",
       "7       11  ...        3      7      0      2     46      1      4    NaN   \n",
       "21      32  ...        6     10      8     11    132      7      2      7   \n",
       "104     20  ...        0      3     23     28     79      6      4      2   \n",
       "83      18  ...        1      4     13     18     88      6      4      4   \n",
       "94       8  ...       11      4      5      4    NaN      3      6      2   \n",
       "\n",
       "     ST4.2  ST5.2  \n",
       "7      NaN    NaN  \n",
       "21       6    NaN  \n",
       "104    NaN    NaN  \n",
       "83     NaN    NaN  \n",
       "94     NaN    NaN  \n",
       "\n",
       "[5 rows x 42 columns]"
      ]
     },
     "execution_count": 538,
     "metadata": {},
     "output_type": "execute_result"
    }
   ],
   "source": [
    "input_data[:5]"
   ]
  },
  {
   "cell_type": "markdown",
   "metadata": {},
   "source": [
    "Now we see that some data points are 'NaN', which is not a numeric value. So we need to replace it with numeric values. We will replace NaN values with 0. To check which values are 'NaN' there is isnul function which returns True if the value is null."
   ]
  },
  {
   "cell_type": "code",
   "execution_count": 539,
   "metadata": {
    "collapsed": false,
    "scrolled": true
   },
   "outputs": [
    {
     "data": {
      "text/html": [
       "<div style=\"max-height:1000px;max-width:1500px;overflow:auto;\">\n",
       "<table border=\"1\" class=\"dataframe\">\n",
       "  <thead>\n",
       "    <tr style=\"text-align: right;\">\n",
       "      <th></th>\n",
       "      <th>Player1</th>\n",
       "      <th>Player2</th>\n",
       "      <th>Round</th>\n",
       "      <th>Result</th>\n",
       "      <th>FNL.1</th>\n",
       "      <th>FNL.2</th>\n",
       "      <th>FSP.1</th>\n",
       "      <th>FSW.1</th>\n",
       "      <th>SSP.1</th>\n",
       "      <th>SSW.1</th>\n",
       "      <th>...</th>\n",
       "      <th>BPC.2</th>\n",
       "      <th>BPW.2</th>\n",
       "      <th>NPA.2</th>\n",
       "      <th>NPW.2</th>\n",
       "      <th>TPW.2</th>\n",
       "      <th>ST1.2</th>\n",
       "      <th>ST2.2</th>\n",
       "      <th>ST3.2</th>\n",
       "      <th>ST4.2</th>\n",
       "      <th>ST5.2</th>\n",
       "    </tr>\n",
       "  </thead>\n",
       "  <tbody>\n",
       "    <tr>\n",
       "      <th>7  </th>\n",
       "      <td> False</td>\n",
       "      <td> False</td>\n",
       "      <td> False</td>\n",
       "      <td> False</td>\n",
       "      <td> False</td>\n",
       "      <td> False</td>\n",
       "      <td> False</td>\n",
       "      <td> False</td>\n",
       "      <td> False</td>\n",
       "      <td> False</td>\n",
       "      <td>...</td>\n",
       "      <td> False</td>\n",
       "      <td> False</td>\n",
       "      <td> False</td>\n",
       "      <td> False</td>\n",
       "      <td> False</td>\n",
       "      <td> False</td>\n",
       "      <td> False</td>\n",
       "      <td>  True</td>\n",
       "      <td>  True</td>\n",
       "      <td> True</td>\n",
       "    </tr>\n",
       "    <tr>\n",
       "      <th>21 </th>\n",
       "      <td> False</td>\n",
       "      <td> False</td>\n",
       "      <td> False</td>\n",
       "      <td> False</td>\n",
       "      <td> False</td>\n",
       "      <td> False</td>\n",
       "      <td> False</td>\n",
       "      <td> False</td>\n",
       "      <td> False</td>\n",
       "      <td> False</td>\n",
       "      <td>...</td>\n",
       "      <td> False</td>\n",
       "      <td> False</td>\n",
       "      <td> False</td>\n",
       "      <td> False</td>\n",
       "      <td> False</td>\n",
       "      <td> False</td>\n",
       "      <td> False</td>\n",
       "      <td> False</td>\n",
       "      <td> False</td>\n",
       "      <td> True</td>\n",
       "    </tr>\n",
       "    <tr>\n",
       "      <th>104</th>\n",
       "      <td> False</td>\n",
       "      <td> False</td>\n",
       "      <td> False</td>\n",
       "      <td> False</td>\n",
       "      <td> False</td>\n",
       "      <td> False</td>\n",
       "      <td> False</td>\n",
       "      <td> False</td>\n",
       "      <td> False</td>\n",
       "      <td> False</td>\n",
       "      <td>...</td>\n",
       "      <td> False</td>\n",
       "      <td> False</td>\n",
       "      <td> False</td>\n",
       "      <td> False</td>\n",
       "      <td> False</td>\n",
       "      <td> False</td>\n",
       "      <td> False</td>\n",
       "      <td> False</td>\n",
       "      <td>  True</td>\n",
       "      <td> True</td>\n",
       "    </tr>\n",
       "    <tr>\n",
       "      <th>83 </th>\n",
       "      <td> False</td>\n",
       "      <td> False</td>\n",
       "      <td> False</td>\n",
       "      <td> False</td>\n",
       "      <td> False</td>\n",
       "      <td> False</td>\n",
       "      <td> False</td>\n",
       "      <td> False</td>\n",
       "      <td> False</td>\n",
       "      <td> False</td>\n",
       "      <td>...</td>\n",
       "      <td> False</td>\n",
       "      <td> False</td>\n",
       "      <td> False</td>\n",
       "      <td> False</td>\n",
       "      <td> False</td>\n",
       "      <td> False</td>\n",
       "      <td> False</td>\n",
       "      <td> False</td>\n",
       "      <td>  True</td>\n",
       "      <td> True</td>\n",
       "    </tr>\n",
       "    <tr>\n",
       "      <th>94 </th>\n",
       "      <td> False</td>\n",
       "      <td> False</td>\n",
       "      <td> False</td>\n",
       "      <td> False</td>\n",
       "      <td> False</td>\n",
       "      <td> False</td>\n",
       "      <td> False</td>\n",
       "      <td> False</td>\n",
       "      <td> False</td>\n",
       "      <td> False</td>\n",
       "      <td>...</td>\n",
       "      <td> False</td>\n",
       "      <td> False</td>\n",
       "      <td> False</td>\n",
       "      <td> False</td>\n",
       "      <td>  True</td>\n",
       "      <td> False</td>\n",
       "      <td> False</td>\n",
       "      <td> False</td>\n",
       "      <td>  True</td>\n",
       "      <td> True</td>\n",
       "    </tr>\n",
       "  </tbody>\n",
       "</table>\n",
       "<p>5 rows × 42 columns</p>\n",
       "</div>"
      ],
      "text/plain": [
       "    Player1 Player2  Round Result  FNL.1  FNL.2  FSP.1  FSW.1  SSP.1  SSW.1  \\\n",
       "7     False   False  False  False  False  False  False  False  False  False   \n",
       "21    False   False  False  False  False  False  False  False  False  False   \n",
       "104   False   False  False  False  False  False  False  False  False  False   \n",
       "83    False   False  False  False  False  False  False  False  False  False   \n",
       "94    False   False  False  False  False  False  False  False  False  False   \n",
       "\n",
       "     ...   BPC.2  BPW.2  NPA.2  NPW.2  TPW.2  ST1.2  ST2.2  ST3.2  ST4.2 ST5.2  \n",
       "7    ...   False  False  False  False  False  False  False   True   True  True  \n",
       "21   ...   False  False  False  False  False  False  False  False  False  True  \n",
       "104  ...   False  False  False  False  False  False  False  False   True  True  \n",
       "83   ...   False  False  False  False  False  False  False  False   True  True  \n",
       "94   ...   False  False  False  False   True  False  False  False   True  True  \n",
       "\n",
       "[5 rows x 42 columns]"
      ]
     },
     "execution_count": 539,
     "metadata": {},
     "output_type": "execute_result"
    }
   ],
   "source": [
    "input_data.isnull()[:5]"
   ]
  },
  {
   "cell_type": "markdown",
   "metadata": {},
   "source": [
    "Lets replace all the null values with 0."
   ]
  },
  {
   "cell_type": "code",
   "execution_count": 540,
   "metadata": {
    "collapsed": false
   },
   "outputs": [],
   "source": [
    "input_data[input_data.isnull()] = 0\n",
    "test_data[test_data.isnull()] = 0"
   ]
  },
  {
   "cell_type": "code",
   "execution_count": 541,
   "metadata": {
    "collapsed": false
   },
   "outputs": [
    {
     "data": {
      "text/html": [
       "<div style=\"max-height:1000px;max-width:1500px;overflow:auto;\">\n",
       "<table border=\"1\" class=\"dataframe\">\n",
       "  <thead>\n",
       "    <tr style=\"text-align: right;\">\n",
       "      <th></th>\n",
       "      <th>Player1</th>\n",
       "      <th>Player2</th>\n",
       "      <th>Round</th>\n",
       "      <th>Result</th>\n",
       "      <th>FNL.1</th>\n",
       "      <th>FNL.2</th>\n",
       "      <th>FSP.1</th>\n",
       "      <th>FSW.1</th>\n",
       "      <th>SSP.1</th>\n",
       "      <th>SSW.1</th>\n",
       "      <th>...</th>\n",
       "      <th>BPC.2</th>\n",
       "      <th>BPW.2</th>\n",
       "      <th>NPA.2</th>\n",
       "      <th>NPW.2</th>\n",
       "      <th>TPW.2</th>\n",
       "      <th>ST1.2</th>\n",
       "      <th>ST2.2</th>\n",
       "      <th>ST3.2</th>\n",
       "      <th>ST4.2</th>\n",
       "      <th>ST5.2</th>\n",
       "    </tr>\n",
       "  </thead>\n",
       "  <tbody>\n",
       "    <tr>\n",
       "      <th>7  </th>\n",
       "      <td> 162</td>\n",
       "      <td> 363</td>\n",
       "      <td> 1</td>\n",
       "      <td> 1</td>\n",
       "      <td> 2</td>\n",
       "      <td> 0</td>\n",
       "      <td> 60</td>\n",
       "      <td> 24</td>\n",
       "      <td> 40</td>\n",
       "      <td> 11</td>\n",
       "      <td>...</td>\n",
       "      <td>  3</td>\n",
       "      <td>  7</td>\n",
       "      <td>  0</td>\n",
       "      <td>  2</td>\n",
       "      <td>  46</td>\n",
       "      <td> 1</td>\n",
       "      <td> 4</td>\n",
       "      <td> 0</td>\n",
       "      <td> 0</td>\n",
       "      <td> 0</td>\n",
       "    </tr>\n",
       "    <tr>\n",
       "      <th>21 </th>\n",
       "      <td> 281</td>\n",
       "      <td> 187</td>\n",
       "      <td> 1</td>\n",
       "      <td> 0</td>\n",
       "      <td> 1</td>\n",
       "      <td> 3</td>\n",
       "      <td> 48</td>\n",
       "      <td> 47</td>\n",
       "      <td> 52</td>\n",
       "      <td> 32</td>\n",
       "      <td>...</td>\n",
       "      <td>  6</td>\n",
       "      <td> 10</td>\n",
       "      <td>  8</td>\n",
       "      <td> 11</td>\n",
       "      <td> 132</td>\n",
       "      <td> 7</td>\n",
       "      <td> 2</td>\n",
       "      <td> 7</td>\n",
       "      <td> 6</td>\n",
       "      <td> 0</td>\n",
       "    </tr>\n",
       "    <tr>\n",
       "      <th>104</th>\n",
       "      <td> 294</td>\n",
       "      <td> 221</td>\n",
       "      <td> 3</td>\n",
       "      <td> 1</td>\n",
       "      <td> 3</td>\n",
       "      <td> 0</td>\n",
       "      <td> 66</td>\n",
       "      <td> 49</td>\n",
       "      <td> 34</td>\n",
       "      <td> 20</td>\n",
       "      <td>...</td>\n",
       "      <td>  0</td>\n",
       "      <td>  3</td>\n",
       "      <td> 23</td>\n",
       "      <td> 28</td>\n",
       "      <td>  79</td>\n",
       "      <td> 6</td>\n",
       "      <td> 4</td>\n",
       "      <td> 2</td>\n",
       "      <td> 0</td>\n",
       "      <td> 0</td>\n",
       "    </tr>\n",
       "    <tr>\n",
       "      <th>83 </th>\n",
       "      <td> 294</td>\n",
       "      <td> 610</td>\n",
       "      <td> 2</td>\n",
       "      <td> 1</td>\n",
       "      <td> 3</td>\n",
       "      <td> 0</td>\n",
       "      <td> 64</td>\n",
       "      <td> 51</td>\n",
       "      <td> 36</td>\n",
       "      <td> 18</td>\n",
       "      <td>...</td>\n",
       "      <td>  1</td>\n",
       "      <td>  4</td>\n",
       "      <td> 13</td>\n",
       "      <td> 18</td>\n",
       "      <td>  88</td>\n",
       "      <td> 6</td>\n",
       "      <td> 4</td>\n",
       "      <td> 4</td>\n",
       "      <td> 0</td>\n",
       "      <td> 0</td>\n",
       "    </tr>\n",
       "    <tr>\n",
       "      <th>94 </th>\n",
       "      <td> 481</td>\n",
       "      <td> 176</td>\n",
       "      <td> 3</td>\n",
       "      <td> 0</td>\n",
       "      <td> 1</td>\n",
       "      <td> 2</td>\n",
       "      <td> 63</td>\n",
       "      <td> 30</td>\n",
       "      <td> 37</td>\n",
       "      <td>  8</td>\n",
       "      <td>...</td>\n",
       "      <td> 11</td>\n",
       "      <td>  4</td>\n",
       "      <td>  5</td>\n",
       "      <td>  4</td>\n",
       "      <td>   0</td>\n",
       "      <td> 3</td>\n",
       "      <td> 6</td>\n",
       "      <td> 2</td>\n",
       "      <td> 0</td>\n",
       "      <td> 0</td>\n",
       "    </tr>\n",
       "  </tbody>\n",
       "</table>\n",
       "<p>5 rows × 42 columns</p>\n",
       "</div>"
      ],
      "text/plain": [
       "     Player1  Player2  Round  Result  FNL.1  FNL.2  FSP.1  FSW.1  SSP.1  \\\n",
       "7        162      363      1       1      2      0     60     24     40   \n",
       "21       281      187      1       0      1      3     48     47     52   \n",
       "104      294      221      3       1      3      0     66     49     34   \n",
       "83       294      610      2       1      3      0     64     51     36   \n",
       "94       481      176      3       0      1      2     63     30     37   \n",
       "\n",
       "     SSW.1  ...    BPC.2  BPW.2  NPA.2  NPW.2  TPW.2  ST1.2  ST2.2  ST3.2  \\\n",
       "7       11  ...        3      7      0      2     46      1      4      0   \n",
       "21      32  ...        6     10      8     11    132      7      2      7   \n",
       "104     20  ...        0      3     23     28     79      6      4      2   \n",
       "83      18  ...        1      4     13     18     88      6      4      4   \n",
       "94       8  ...       11      4      5      4      0      3      6      2   \n",
       "\n",
       "     ST4.2  ST5.2  \n",
       "7        0      0  \n",
       "21       6      0  \n",
       "104      0      0  \n",
       "83       0      0  \n",
       "94       0      0  \n",
       "\n",
       "[5 rows x 42 columns]"
      ]
     },
     "execution_count": 541,
     "metadata": {},
     "output_type": "execute_result"
    }
   ],
   "source": [
    "input_data[:5]"
   ]
  },
  {
   "cell_type": "code",
   "execution_count": 542,
   "metadata": {
    "collapsed": false
   },
   "outputs": [
    {
     "data": {
      "text/html": [
       "<div style=\"max-height:1000px;max-width:1500px;overflow:auto;\">\n",
       "<table border=\"1\" class=\"dataframe\">\n",
       "  <thead>\n",
       "    <tr style=\"text-align: right;\">\n",
       "      <th></th>\n",
       "      <th>Player1</th>\n",
       "      <th>Player2</th>\n",
       "      <th>Round</th>\n",
       "      <th>Result</th>\n",
       "      <th>FNL.1</th>\n",
       "      <th>FNL.2</th>\n",
       "      <th>FSP.1</th>\n",
       "      <th>FSW.1</th>\n",
       "      <th>SSP.1</th>\n",
       "      <th>SSW.1</th>\n",
       "      <th>...</th>\n",
       "      <th>BPC.2</th>\n",
       "      <th>BPW.2</th>\n",
       "      <th>NPA.2</th>\n",
       "      <th>NPW.2</th>\n",
       "      <th>TPW.2</th>\n",
       "      <th>ST1.2</th>\n",
       "      <th>ST2.2</th>\n",
       "      <th>ST3.2</th>\n",
       "      <th>ST4.2</th>\n",
       "      <th>ST5.2</th>\n",
       "    </tr>\n",
       "  </thead>\n",
       "  <tbody>\n",
       "    <tr>\n",
       "      <th>99</th>\n",
       "      <td> 287</td>\n",
       "      <td> 153</td>\n",
       "      <td> 3</td>\n",
       "      <td> 0</td>\n",
       "      <td> 0</td>\n",
       "      <td> 3</td>\n",
       "      <td> 58</td>\n",
       "      <td> 44</td>\n",
       "      <td> 42</td>\n",
       "      <td> 17</td>\n",
       "      <td>...</td>\n",
       "      <td>  5</td>\n",
       "      <td> 11</td>\n",
       "      <td> 10</td>\n",
       "      <td> 12</td>\n",
       "      <td> 111</td>\n",
       "      <td> 6</td>\n",
       "      <td> 7</td>\n",
       "      <td> 6</td>\n",
       "      <td> 0</td>\n",
       "      <td> 0</td>\n",
       "    </tr>\n",
       "    <tr>\n",
       "      <th>49</th>\n",
       "      <td> 472</td>\n",
       "      <td> 661</td>\n",
       "      <td> 1</td>\n",
       "      <td> 1</td>\n",
       "      <td> 2</td>\n",
       "      <td> 0</td>\n",
       "      <td> 68</td>\n",
       "      <td> 35</td>\n",
       "      <td> 32</td>\n",
       "      <td>  8</td>\n",
       "      <td>...</td>\n",
       "      <td>  1</td>\n",
       "      <td>  5</td>\n",
       "      <td>  0</td>\n",
       "      <td>  0</td>\n",
       "      <td>  62</td>\n",
       "      <td> 0</td>\n",
       "      <td> 6</td>\n",
       "      <td> 0</td>\n",
       "      <td> 0</td>\n",
       "      <td> 0</td>\n",
       "    </tr>\n",
       "    <tr>\n",
       "      <th>11</th>\n",
       "      <td> 360</td>\n",
       "      <td> 336</td>\n",
       "      <td> 1</td>\n",
       "      <td> 0</td>\n",
       "      <td> 0</td>\n",
       "      <td> 2</td>\n",
       "      <td> 57</td>\n",
       "      <td> 14</td>\n",
       "      <td> 43</td>\n",
       "      <td>  5</td>\n",
       "      <td>...</td>\n",
       "      <td>  5</td>\n",
       "      <td>  6</td>\n",
       "      <td>  2</td>\n",
       "      <td>  4</td>\n",
       "      <td>  54</td>\n",
       "      <td> 6</td>\n",
       "      <td> 6</td>\n",
       "      <td> 0</td>\n",
       "      <td> 0</td>\n",
       "      <td> 0</td>\n",
       "    </tr>\n",
       "    <tr>\n",
       "      <th>72</th>\n",
       "      <td> 313</td>\n",
       "      <td> 167</td>\n",
       "      <td> 1</td>\n",
       "      <td> 0</td>\n",
       "      <td> 1</td>\n",
       "      <td> 2</td>\n",
       "      <td> 53</td>\n",
       "      <td> 48</td>\n",
       "      <td> 47</td>\n",
       "      <td> 21</td>\n",
       "      <td>...</td>\n",
       "      <td> 13</td>\n",
       "      <td>  3</td>\n",
       "      <td> 13</td>\n",
       "      <td> 10</td>\n",
       "      <td>   0</td>\n",
       "      <td> 4</td>\n",
       "      <td> 6</td>\n",
       "      <td> 7</td>\n",
       "      <td> 0</td>\n",
       "      <td> 0</td>\n",
       "    </tr>\n",
       "    <tr>\n",
       "      <th>88</th>\n",
       "      <td>  45</td>\n",
       "      <td> 472</td>\n",
       "      <td> 2</td>\n",
       "      <td> 1</td>\n",
       "      <td> 2</td>\n",
       "      <td> 0</td>\n",
       "      <td> 66</td>\n",
       "      <td> 28</td>\n",
       "      <td> 34</td>\n",
       "      <td>  8</td>\n",
       "      <td>...</td>\n",
       "      <td>  1</td>\n",
       "      <td>  2</td>\n",
       "      <td> 13</td>\n",
       "      <td> 18</td>\n",
       "      <td>  43</td>\n",
       "      <td> 0</td>\n",
       "      <td> 5</td>\n",
       "      <td> 0</td>\n",
       "      <td> 0</td>\n",
       "      <td> 0</td>\n",
       "    </tr>\n",
       "  </tbody>\n",
       "</table>\n",
       "<p>5 rows × 42 columns</p>\n",
       "</div>"
      ],
      "text/plain": [
       "    Player1  Player2  Round  Result  FNL.1  FNL.2  FSP.1  FSW.1  SSP.1  SSW.1  \\\n",
       "99      287      153      3       0      0      3     58     44     42     17   \n",
       "49      472      661      1       1      2      0     68     35     32      8   \n",
       "11      360      336      1       0      0      2     57     14     43      5   \n",
       "72      313      167      1       0      1      2     53     48     47     21   \n",
       "88       45      472      2       1      2      0     66     28     34      8   \n",
       "\n",
       "    ...    BPC.2  BPW.2  NPA.2  NPW.2  TPW.2  ST1.2  ST2.2  ST3.2  ST4.2  \\\n",
       "99  ...        5     11     10     12    111      6      7      6      0   \n",
       "49  ...        1      5      0      0     62      0      6      0      0   \n",
       "11  ...        5      6      2      4     54      6      6      0      0   \n",
       "72  ...       13      3     13     10      0      4      6      7      0   \n",
       "88  ...        1      2     13     18     43      0      5      0      0   \n",
       "\n",
       "    ST5.2  \n",
       "99      0  \n",
       "49      0  \n",
       "11      0  \n",
       "72      0  \n",
       "88      0  \n",
       "\n",
       "[5 rows x 42 columns]"
      ]
     },
     "execution_count": 542,
     "metadata": {},
     "output_type": "execute_result"
    }
   ],
   "source": [
    "test_data[:5]"
   ]
  },
  {
   "cell_type": "markdown",
   "metadata": {},
   "source": [
    "# Now lets make our first prediction function: Say we want to predict the result of the matches. \n",
    "The match result is stored in 'Result' column of the input_data. The result is a discrete variable, \n",
    "i.e. it is either 1 or 0. So we will use Logistci regression. The sklearn library have linear_model module which proides\n",
    "functions for Linear/Logistic regressions."
   ]
  },
  {
   "cell_type": "code",
   "execution_count": 543,
   "metadata": {
    "collapsed": true
   },
   "outputs": [],
   "source": [
    "from sklearn import linear_model\n",
    "logistic_regr = linear_model.LogisticRegression()"
   ]
  },
  {
   "cell_type": "markdown",
   "metadata": {},
   "source": [
    "We need to define input data and target data for the model. Out target data in this case will be data of the 'Result' column. And rest of the data will be input data. So lets seperate the input and target data."
   ]
  },
  {
   "cell_type": "code",
   "execution_count": 544,
   "metadata": {
    "collapsed": false
   },
   "outputs": [],
   "source": [
    "target_column = 'Result';\n",
    "input_data_columns = [];\n",
    "for column in input_data.keys():\n",
    "    if column != target_column:\n",
    "        input_data_columns.append(column);"
   ]
  },
  {
   "cell_type": "code",
   "execution_count": 545,
   "metadata": {
    "collapsed": false
   },
   "outputs": [
    {
     "data": {
      "text/plain": [
       "['Player1',\n",
       " 'Player2',\n",
       " 'Round',\n",
       " 'FNL.1',\n",
       " 'FNL.2',\n",
       " 'FSP.1',\n",
       " 'FSW.1',\n",
       " 'SSP.1',\n",
       " 'SSW.1',\n",
       " 'ACE.1',\n",
       " 'DBF.1',\n",
       " 'WNR.1',\n",
       " 'UFE.1',\n",
       " 'BPC.1',\n",
       " 'BPW.1',\n",
       " 'NPA.1',\n",
       " 'NPW.1',\n",
       " 'TPW.1',\n",
       " 'ST1.1',\n",
       " 'ST2.1',\n",
       " 'ST3.1',\n",
       " 'ST4.1',\n",
       " 'ST5.1',\n",
       " 'FSP.2',\n",
       " 'FSW.2',\n",
       " 'SSP.2',\n",
       " 'SSW.2',\n",
       " 'ACE.2',\n",
       " 'DBF.2',\n",
       " 'WNR.2',\n",
       " 'UFE.2',\n",
       " 'BPC.2',\n",
       " 'BPW.2',\n",
       " 'NPA.2',\n",
       " 'NPW.2',\n",
       " 'TPW.2',\n",
       " 'ST1.2',\n",
       " 'ST2.2',\n",
       " 'ST3.2',\n",
       " 'ST4.2',\n",
       " 'ST5.2']"
      ]
     },
     "execution_count": 545,
     "metadata": {},
     "output_type": "execute_result"
    }
   ],
   "source": [
    "input_data_columns"
   ]
  },
  {
   "cell_type": "code",
   "execution_count": 546,
   "metadata": {
    "collapsed": true
   },
   "outputs": [],
   "source": [
    "data_x = input_data[input_data_columns];\n",
    "data_y = input_data[target_column];"
   ]
  },
  {
   "cell_type": "markdown",
   "metadata": {},
   "source": [
    "Lets train our classifier"
   ]
  },
  {
   "cell_type": "code",
   "execution_count": 547,
   "metadata": {
    "collapsed": true
   },
   "outputs": [],
   "source": [
    "clf = logistic_regr.fit(data_x, data_y);"
   ]
  },
  {
   "cell_type": "markdown",
   "metadata": {},
   "source": [
    "Now lets test this classifier on our test data"
   ]
  },
  {
   "cell_type": "code",
   "execution_count": 548,
   "metadata": {
    "collapsed": false
   },
   "outputs": [],
   "source": [
    "test_data_x = test_data[input_data_columns];\n",
    "predicted_result = clf.predict(test_data_x)"
   ]
  },
  {
   "cell_type": "code",
   "execution_count": 549,
   "metadata": {
    "collapsed": false
   },
   "outputs": [
    {
     "data": {
      "text/plain": [
       "array([0, 1, 0, 0, 1, 1, 1, 1, 0, 1, 1, 1, 1, 1, 0, 1, 1, 0, 1, 1, 1, 0, 1,\n",
       "       1, 1, 1, 1, 1, 0, 0, 1, 1, 0, 1, 1, 0, 1, 0, 1, 1, 0, 0, 0, 1, 0, 1,\n",
       "       1, 1, 0, 0, 1, 1, 1, 1, 0, 0, 1, 1, 1, 1, 0, 1, 1, 0, 0, 0, 1, 1, 0,\n",
       "       1, 1, 0, 0, 1, 0, 0, 0, 0, 1, 0, 0, 0, 1, 0, 1, 0, 1, 1, 1, 1, 0, 1,\n",
       "       1, 1, 0, 0, 0, 0, 0, 1])"
      ]
     },
     "execution_count": 549,
     "metadata": {},
     "output_type": "execute_result"
    }
   ],
   "source": [
    "predicted_result"
   ]
  },
  {
   "cell_type": "markdown",
   "metadata": {},
   "source": [
    "Now lets compare it with actual result of the matches."
   ]
  },
  {
   "cell_type": "code",
   "execution_count": 550,
   "metadata": {
    "collapsed": false
   },
   "outputs": [],
   "source": [
    "actual_result = test_data[target_column].values;"
   ]
  },
  {
   "cell_type": "markdown",
   "metadata": {},
   "source": [
    "Lets make a function to compare the results"
   ]
  },
  {
   "cell_type": "code",
   "execution_count": 551,
   "metadata": {
    "collapsed": true
   },
   "outputs": [],
   "source": [
    "def compare_data(predicted, actual):\n",
    "    total_match = 0;\n",
    "    total_mismatch = 0;\n",
    "    for i in range(0, len(predicted)):\n",
    "        if predicted[i] == actual[i]:\n",
    "            total_match += 1;\n",
    "        else:\n",
    "            total_mismatch += 1;\n",
    "    print 'Total tested: ' + str(total_match + total_mismatch);\n",
    "    print 'Correct results: ' + str(total_match);\n",
    "    print 'Incorrect results: ' + str(total_mismatch);"
   ]
  },
  {
   "cell_type": "code",
   "execution_count": 552,
   "metadata": {
    "collapsed": false
   },
   "outputs": [
    {
     "name": "stdout",
     "output_type": "stream",
     "text": [
      "Total tested: 100\n",
      "Correct results: 100\n",
      "Incorrect results: 0\n"
     ]
    }
   ],
   "source": [
    "compare_data(predicted_result, actual_result)"
   ]
  },
  {
   "cell_type": "markdown",
   "metadata": {},
   "source": [
    "Lets plot the data. We can use matplotlib module to plot the data"
   ]
  },
  {
   "cell_type": "code",
   "execution_count": 553,
   "metadata": {
    "collapsed": false
   },
   "outputs": [],
   "source": [
    "%matplotlib inline\n",
    "import matplotlib as plt\n",
    "pd.set_option('display.mpl_style', 'default') # Make the graphs a bit prettier"
   ]
  },
  {
   "cell_type": "code",
   "execution_count": 554,
   "metadata": {
    "collapsed": false
   },
   "outputs": [
    {
     "data": {
      "text/plain": [
       "array([<matplotlib.axes._subplots.AxesSubplot object at 0x7f20f4d4ba10>], dtype=object)"
      ]
     },
     "execution_count": 554,
     "metadata": {},
     "output_type": "execute_result"
    },
    {
     "data": {
      "image/png": "[encoded data removed]",
      "text/plain": [
       "<matplotlib.figure.Figure at 0x7f20f4ef2310>"
      ]
     },
     "metadata": {},
     "output_type": "display_data"
    }
   ],
   "source": [
    "test_data['Result'][:20].plot(kind='bar', subplots=True, figsize=(15, 5))"
   ]
  },
  {
   "cell_type": "markdown",
   "metadata": {},
   "source": [
    "To plot the predicted data we need to convert it into pandas data frame first."
   ]
  },
  {
   "cell_type": "code",
   "execution_count": 555,
   "metadata": {
    "collapsed": true
   },
   "outputs": [],
   "source": [
    "predicted_result = pd.DataFrame(predicted_result, columns=['Predicted Result']);"
   ]
  },
  {
   "cell_type": "code",
   "execution_count": 556,
   "metadata": {
    "collapsed": false
   },
   "outputs": [
    {
     "data": {
      "text/plain": [
       "array([<matplotlib.axes._subplots.AxesSubplot object at 0x7f20f4ccca50>], dtype=object)"
      ]
     },
     "execution_count": 556,
     "metadata": {},
     "output_type": "execute_result"
    },
    {
     "data": {
      "image/png": "[encoded data removed]",
      "text/plain": [
       "<matplotlib.figure.Figure at 0x7f20f5286b50>"
      ]
     },
     "metadata": {},
     "output_type": "display_data"
    }
   ],
   "source": [
    "predicted_result[:20].plot(kind='bar', subplots=True, figsize=(15, 5))"
   ]
  },
  {
   "cell_type": "markdown",
   "metadata": {},
   "source": [
    "We can see that both the graphs are exactly same."
   ]
  },
  {
   "cell_type": "markdown",
   "metadata": {},
   "source": [
    "# Now lets make another classifier which predicts how many Double Faults player one commits. \n",
    "The column which stores this data in input_data is 'DBF.1'. Since it is a continuous variable we will use linear \n",
    "regression this time. The target column will be 'DBF1' and rest of the columns will be input data for the classifier."
   ]
  },
  {
   "cell_type": "code",
   "execution_count": 557,
   "metadata": {
    "collapsed": true
   },
   "outputs": [],
   "source": [
    "target_column = 'DBF.1';\n",
    "input_data_columns = [];\n",
    "for column in input_data.keys():\n",
    "    if column != target_column:\n",
    "        input_data_columns.append(column);"
   ]
  },
  {
   "cell_type": "code",
   "execution_count": 558,
   "metadata": {
    "collapsed": true
   },
   "outputs": [],
   "source": [
    "data_x = input_data[input_data_columns];\n",
    "data_y = input_data[target_column];"
   ]
  },
  {
   "cell_type": "code",
   "execution_count": 559,
   "metadata": {
    "collapsed": true
   },
   "outputs": [],
   "source": [
    "linear_regr = linear_model.LinearRegression()"
   ]
  },
  {
   "cell_type": "code",
   "execution_count": 560,
   "metadata": {
    "collapsed": true
   },
   "outputs": [],
   "source": [
    "#Train the classifier\n",
    "cfl = linear_regr.fit(data_x, data_y);"
   ]
  },
  {
   "cell_type": "code",
   "execution_count": 561,
   "metadata": {
    "collapsed": true
   },
   "outputs": [],
   "source": [
    "#Test data input\n",
    "test_data_x = test_data[input_data_columns];\n",
    "\n",
    "predicted_result = cfl.predict(test_data_x)"
   ]
  },
  {
   "cell_type": "code",
   "execution_count": 562,
   "metadata": {
    "collapsed": false
   },
   "outputs": [
    {
     "data": {
      "text/plain": [
       "array([ 5.48603754,  2.80760028,  4.5545063 ,  6.84242558,  1.34612385,\n",
       "        4.12880303,  3.02555673,  3.68615379,  3.81151306,  1.89197191,\n",
       "        2.39813055,  3.49253803,  5.36761565,  2.4318326 ,  2.61780345,\n",
       "        2.28040598,  2.15891378,  4.77386231,  4.81605597,  1.70675146,\n",
       "        4.04935209,  3.51177797,  4.14826742,  1.13965005,  2.55222484,\n",
       "        0.16518309,  2.24275331,  3.46509444,  3.32562092,  5.31195246,\n",
       "        3.69125237,  1.70765478,  4.05312713,  3.16068538,  5.71031956,\n",
       "        3.79009577,  6.73944585,  3.98723853,  2.07188292,  2.41063734,\n",
       "        6.62921483,  7.80265576,  6.60831766,  2.7326242 ,  5.14741062,\n",
       "        2.14859751,  5.23074739,  4.58924701,  2.98314614,  3.66881693,\n",
       "        3.44398199,  2.3280858 ,  4.35064122,  3.38056488,  5.78244472,\n",
       "        3.74761036,  4.34061075,  2.32885182,  1.73285317,  2.93879812,\n",
       "        3.4853801 ,  4.55916229,  2.53952747,  5.99470038,  5.19426315,\n",
       "        2.83815765,  6.06153032,  5.15003563,  3.29509923,  4.65446618,\n",
       "        3.80665391,  3.08795041,  2.16184809,  1.71545764,  2.93423604,\n",
       "        1.75639777,  4.26000985,  5.35897827,  0.77806569,  3.34331633,\n",
       "        5.72546793,  2.47402447,  2.25463141,  5.69508226,  5.44830457,\n",
       "        1.97060813,  2.92150072,  2.87344953,  3.09862575,  3.53006837,\n",
       "        1.33383128,  3.89081173,  3.35349535,  3.55162704,  1.95815258,\n",
       "        2.52713235,  3.79339661,  4.71708488,  3.09410875,  3.9049241 ])"
      ]
     },
     "execution_count": 562,
     "metadata": {},
     "output_type": "execute_result"
    }
   ],
   "source": [
    "predicted_result"
   ]
  },
  {
   "cell_type": "code",
   "execution_count": 563,
   "metadata": {
    "collapsed": false
   },
   "outputs": [],
   "source": [
    "test_data['Predicted_DBF.1'] = predicted_result"
   ]
  },
  {
   "cell_type": "code",
   "execution_count": 564,
   "metadata": {
    "collapsed": false
   },
   "outputs": [
    {
     "data": {
      "text/html": [
       "<div style=\"max-height:1000px;max-width:1500px;overflow:auto;\">\n",
       "<table border=\"1\" class=\"dataframe\">\n",
       "  <thead>\n",
       "    <tr style=\"text-align: right;\">\n",
       "      <th></th>\n",
       "      <th>DBF.1</th>\n",
       "      <th>Predicted_DBF.1</th>\n",
       "    </tr>\n",
       "  </thead>\n",
       "  <tbody>\n",
       "    <tr>\n",
       "      <th>99 </th>\n",
       "      <td> 8</td>\n",
       "      <td> 5.486038</td>\n",
       "    </tr>\n",
       "    <tr>\n",
       "      <th>49 </th>\n",
       "      <td> 4</td>\n",
       "      <td> 2.807600</td>\n",
       "    </tr>\n",
       "    <tr>\n",
       "      <th>11 </th>\n",
       "      <td> 5</td>\n",
       "      <td> 4.554506</td>\n",
       "    </tr>\n",
       "    <tr>\n",
       "      <th>72 </th>\n",
       "      <td> 4</td>\n",
       "      <td> 6.842426</td>\n",
       "    </tr>\n",
       "    <tr>\n",
       "      <th>88 </th>\n",
       "      <td> 1</td>\n",
       "      <td> 1.346124</td>\n",
       "    </tr>\n",
       "    <tr>\n",
       "      <th>40 </th>\n",
       "      <td> 8</td>\n",
       "      <td> 4.128803</td>\n",
       "    </tr>\n",
       "    <tr>\n",
       "      <th>46 </th>\n",
       "      <td> 1</td>\n",
       "      <td> 3.025557</td>\n",
       "    </tr>\n",
       "    <tr>\n",
       "      <th>73 </th>\n",
       "      <td> 4</td>\n",
       "      <td> 3.686154</td>\n",
       "    </tr>\n",
       "    <tr>\n",
       "      <th>3  </th>\n",
       "      <td> 3</td>\n",
       "      <td> 3.811513</td>\n",
       "    </tr>\n",
       "    <tr>\n",
       "      <th>40 </th>\n",
       "      <td> 1</td>\n",
       "      <td> 1.891972</td>\n",
       "    </tr>\n",
       "    <tr>\n",
       "      <th>22 </th>\n",
       "      <td> 1</td>\n",
       "      <td> 2.398131</td>\n",
       "    </tr>\n",
       "    <tr>\n",
       "      <th>112</th>\n",
       "      <td> 3</td>\n",
       "      <td> 3.492538</td>\n",
       "    </tr>\n",
       "    <tr>\n",
       "      <th>9  </th>\n",
       "      <td> 5</td>\n",
       "      <td> 5.367616</td>\n",
       "    </tr>\n",
       "    <tr>\n",
       "      <th>24 </th>\n",
       "      <td> 1</td>\n",
       "      <td> 2.431833</td>\n",
       "    </tr>\n",
       "    <tr>\n",
       "      <th>24 </th>\n",
       "      <td> 1</td>\n",
       "      <td> 2.617803</td>\n",
       "    </tr>\n",
       "    <tr>\n",
       "      <th>19 </th>\n",
       "      <td> 1</td>\n",
       "      <td> 2.280406</td>\n",
       "    </tr>\n",
       "    <tr>\n",
       "      <th>49 </th>\n",
       "      <td> 1</td>\n",
       "      <td> 2.158914</td>\n",
       "    </tr>\n",
       "    <tr>\n",
       "      <th>44 </th>\n",
       "      <td> 3</td>\n",
       "      <td> 4.773862</td>\n",
       "    </tr>\n",
       "    <tr>\n",
       "      <th>120</th>\n",
       "      <td> 7</td>\n",
       "      <td> 4.816056</td>\n",
       "    </tr>\n",
       "    <tr>\n",
       "      <th>106</th>\n",
       "      <td> 3</td>\n",
       "      <td> 1.706751</td>\n",
       "    </tr>\n",
       "    <tr>\n",
       "      <th>3  </th>\n",
       "      <td> 2</td>\n",
       "      <td> 4.049352</td>\n",
       "    </tr>\n",
       "    <tr>\n",
       "      <th>0  </th>\n",
       "      <td> 3</td>\n",
       "      <td> 3.511778</td>\n",
       "    </tr>\n",
       "    <tr>\n",
       "      <th>67 </th>\n",
       "      <td> 2</td>\n",
       "      <td> 4.148267</td>\n",
       "    </tr>\n",
       "    <tr>\n",
       "      <th>121</th>\n",
       "      <td> 1</td>\n",
       "      <td> 1.139650</td>\n",
       "    </tr>\n",
       "    <tr>\n",
       "      <th>117</th>\n",
       "      <td> 2</td>\n",
       "      <td> 2.552225</td>\n",
       "    </tr>\n",
       "    <tr>\n",
       "      <th>112</th>\n",
       "      <td> 5</td>\n",
       "      <td> 0.165183</td>\n",
       "    </tr>\n",
       "    <tr>\n",
       "      <th>57 </th>\n",
       "      <td> 7</td>\n",
       "      <td> 2.242753</td>\n",
       "    </tr>\n",
       "    <tr>\n",
       "      <th>29 </th>\n",
       "      <td> 4</td>\n",
       "      <td> 3.465094</td>\n",
       "    </tr>\n",
       "    <tr>\n",
       "      <th>29 </th>\n",
       "      <td> 6</td>\n",
       "      <td> 3.325621</td>\n",
       "    </tr>\n",
       "    <tr>\n",
       "      <th>43 </th>\n",
       "      <td> 4</td>\n",
       "      <td> 5.311952</td>\n",
       "    </tr>\n",
       "    <tr>\n",
       "      <th>...</th>\n",
       "      <td>...</td>\n",
       "      <td>...</td>\n",
       "    </tr>\n",
       "    <tr>\n",
       "      <th>9  </th>\n",
       "      <td> 6</td>\n",
       "      <td> 3.806654</td>\n",
       "    </tr>\n",
       "    <tr>\n",
       "      <th>14 </th>\n",
       "      <td> 5</td>\n",
       "      <td> 3.087950</td>\n",
       "    </tr>\n",
       "    <tr>\n",
       "      <th>20 </th>\n",
       "      <td> 3</td>\n",
       "      <td> 2.161848</td>\n",
       "    </tr>\n",
       "    <tr>\n",
       "      <th>116</th>\n",
       "      <td> 3</td>\n",
       "      <td> 1.715458</td>\n",
       "    </tr>\n",
       "    <tr>\n",
       "      <th>28 </th>\n",
       "      <td> 1</td>\n",
       "      <td> 2.934236</td>\n",
       "    </tr>\n",
       "    <tr>\n",
       "      <th>63 </th>\n",
       "      <td> 0</td>\n",
       "      <td> 1.756398</td>\n",
       "    </tr>\n",
       "    <tr>\n",
       "      <th>41 </th>\n",
       "      <td> 5</td>\n",
       "      <td> 4.260010</td>\n",
       "    </tr>\n",
       "    <tr>\n",
       "      <th>32 </th>\n",
       "      <td> 7</td>\n",
       "      <td> 5.358978</td>\n",
       "    </tr>\n",
       "    <tr>\n",
       "      <th>63 </th>\n",
       "      <td> 1</td>\n",
       "      <td> 0.778066</td>\n",
       "    </tr>\n",
       "    <tr>\n",
       "      <th>32 </th>\n",
       "      <td> 1</td>\n",
       "      <td> 3.343316</td>\n",
       "    </tr>\n",
       "    <tr>\n",
       "      <th>81 </th>\n",
       "      <td> 9</td>\n",
       "      <td> 5.725468</td>\n",
       "    </tr>\n",
       "    <tr>\n",
       "      <th>80 </th>\n",
       "      <td> 2</td>\n",
       "      <td> 2.474024</td>\n",
       "    </tr>\n",
       "    <tr>\n",
       "      <th>110</th>\n",
       "      <td> 1</td>\n",
       "      <td> 2.254631</td>\n",
       "    </tr>\n",
       "    <tr>\n",
       "      <th>42 </th>\n",
       "      <td> 8</td>\n",
       "      <td> 5.695082</td>\n",
       "    </tr>\n",
       "    <tr>\n",
       "      <th>84 </th>\n",
       "      <td> 9</td>\n",
       "      <td> 5.448305</td>\n",
       "    </tr>\n",
       "    <tr>\n",
       "      <th>18 </th>\n",
       "      <td> 2</td>\n",
       "      <td> 1.970608</td>\n",
       "    </tr>\n",
       "    <tr>\n",
       "      <th>23 </th>\n",
       "      <td> 4</td>\n",
       "      <td> 2.921501</td>\n",
       "    </tr>\n",
       "    <tr>\n",
       "      <th>123</th>\n",
       "      <td> 5</td>\n",
       "      <td> 2.873450</td>\n",
       "    </tr>\n",
       "    <tr>\n",
       "      <th>21 </th>\n",
       "      <td> 4</td>\n",
       "      <td> 3.098626</td>\n",
       "    </tr>\n",
       "    <tr>\n",
       "      <th>59 </th>\n",
       "      <td> 0</td>\n",
       "      <td> 3.530068</td>\n",
       "    </tr>\n",
       "    <tr>\n",
       "      <th>30 </th>\n",
       "      <td> 1</td>\n",
       "      <td> 1.333831</td>\n",
       "    </tr>\n",
       "    <tr>\n",
       "      <th>7  </th>\n",
       "      <td> 2</td>\n",
       "      <td> 3.890812</td>\n",
       "    </tr>\n",
       "    <tr>\n",
       "      <th>75 </th>\n",
       "      <td> 5</td>\n",
       "      <td> 3.353495</td>\n",
       "    </tr>\n",
       "    <tr>\n",
       "      <th>60 </th>\n",
       "      <td> 4</td>\n",
       "      <td> 3.551627</td>\n",
       "    </tr>\n",
       "    <tr>\n",
       "      <th>125</th>\n",
       "      <td> 2</td>\n",
       "      <td> 1.958153</td>\n",
       "    </tr>\n",
       "    <tr>\n",
       "      <th>108</th>\n",
       "      <td> 4</td>\n",
       "      <td> 2.527132</td>\n",
       "    </tr>\n",
       "    <tr>\n",
       "      <th>4  </th>\n",
       "      <td> 3</td>\n",
       "      <td> 3.793397</td>\n",
       "    </tr>\n",
       "    <tr>\n",
       "      <th>44 </th>\n",
       "      <td> 4</td>\n",
       "      <td> 4.717085</td>\n",
       "    </tr>\n",
       "    <tr>\n",
       "      <th>116</th>\n",
       "      <td> 2</td>\n",
       "      <td> 3.094109</td>\n",
       "    </tr>\n",
       "    <tr>\n",
       "      <th>25 </th>\n",
       "      <td> 3</td>\n",
       "      <td> 3.904924</td>\n",
       "    </tr>\n",
       "  </tbody>\n",
       "</table>\n",
       "<p>100 rows × 2 columns</p>\n",
       "</div>"
      ],
      "text/plain": [
       "     DBF.1  Predicted_DBF.1\n",
       "99       8         5.486038\n",
       "49       4         2.807600\n",
       "11       5         4.554506\n",
       "72       4         6.842426\n",
       "88       1         1.346124\n",
       "40       8         4.128803\n",
       "46       1         3.025557\n",
       "73       4         3.686154\n",
       "3        3         3.811513\n",
       "40       1         1.891972\n",
       "22       1         2.398131\n",
       "112      3         3.492538\n",
       "9        5         5.367616\n",
       "24       1         2.431833\n",
       "24       1         2.617803\n",
       "19       1         2.280406\n",
       "49       1         2.158914\n",
       "44       3         4.773862\n",
       "120      7         4.816056\n",
       "106      3         1.706751\n",
       "3        2         4.049352\n",
       "0        3         3.511778\n",
       "67       2         4.148267\n",
       "121      1         1.139650\n",
       "117      2         2.552225\n",
       "112      5         0.165183\n",
       "57       7         2.242753\n",
       "29       4         3.465094\n",
       "29       6         3.325621\n",
       "43       4         5.311952\n",
       "..     ...              ...\n",
       "9        6         3.806654\n",
       "14       5         3.087950\n",
       "20       3         2.161848\n",
       "116      3         1.715458\n",
       "28       1         2.934236\n",
       "63       0         1.756398\n",
       "41       5         4.260010\n",
       "32       7         5.358978\n",
       "63       1         0.778066\n",
       "32       1         3.343316\n",
       "81       9         5.725468\n",
       "80       2         2.474024\n",
       "110      1         2.254631\n",
       "42       8         5.695082\n",
       "84       9         5.448305\n",
       "18       2         1.970608\n",
       "23       4         2.921501\n",
       "123      5         2.873450\n",
       "21       4         3.098626\n",
       "59       0         3.530068\n",
       "30       1         1.333831\n",
       "7        2         3.890812\n",
       "75       5         3.353495\n",
       "60       4         3.551627\n",
       "125      2         1.958153\n",
       "108      4         2.527132\n",
       "4        3         3.793397\n",
       "44       4         4.717085\n",
       "116      2         3.094109\n",
       "25       3         3.904924\n",
       "\n",
       "[100 rows x 2 columns]"
      ]
     },
     "execution_count": 564,
     "metadata": {},
     "output_type": "execute_result"
    }
   ],
   "source": [
    "#Lets check the actual result versus predicted result\n",
    "test_data[['DBF.1', 'Predicted_DBF.1']]"
   ]
  },
  {
   "cell_type": "code",
   "execution_count": 570,
   "metadata": {
    "collapsed": false
   },
   "outputs": [
    {
     "data": {
      "text/plain": [
       "<matplotlib.axes._subplots.AxesSubplot at 0x7f20f4734650>"
      ]
     },
     "execution_count": 570,
     "metadata": {},
     "output_type": "execute_result"
    },
    {
     "data": {
      "image/png": "[encoded data removed]",
      "text/plain": [
       "<matplotlib.figure.Figure at 0x7f20f488dfd0>"
      ]
     },
     "metadata": {},
     "output_type": "display_data"
    }
   ],
   "source": [
    "test_data[['DBF.1', 'Predicted_DBF.1']].plot(kind='bar', figsize=(15, 8))"
   ]
  },
  {
   "cell_type": "code",
   "execution_count": 566,
   "metadata": {
    "collapsed": true
   },
   "outputs": [],
   "source": [
    "test_data['Prediction_error'] = abs(test_data['DBF.1'] - test_data['Predicted_DBF.1'])*100/test_data['DBF.1']"
   ]
  },
  {
   "cell_type": "code",
   "execution_count": 571,
   "metadata": {
    "collapsed": false
   },
   "outputs": [
    {
     "data": {
      "image/png": "[encoded data removed]",
      "text/plain": [
       "<matplotlib.figure.Figure at 0x7f20f4776ed0>"
      ]
     },
     "metadata": {},
     "output_type": "display_data"
    }
   ],
   "source": [
    "test_data['Prediction_error'].plot(kind='bar', figsize=(15, 8));"
   ]
  },
  {
   "cell_type": "markdown",
   "metadata": {},
   "source": [
    "# Lets now predict the Aces won by player2\n",
    "\n",
    "The data related to Aces won by player2 is in column 'ACE.2'. We will use linear regression to predict this data."
   ]
  },
  {
   "cell_type": "code",
   "execution_count": 574,
   "metadata": {
    "collapsed": true
   },
   "outputs": [],
   "source": [
    "#Our target column is 'ACE.2'\n",
    "target_column = 'ACE.2';\n",
    "input_data_columns = [];\n",
    "for column in input_data.keys():\n",
    "    if column != target_column:\n",
    "        input_data_columns.append(column);"
   ]
  },
  {
   "cell_type": "markdown",
   "metadata": {},
   "source": [
    "Based on the target column, lets get data_x, and data_y to train the classifier"
   ]
  },
  {
   "cell_type": "code",
   "execution_count": 575,
   "metadata": {
    "collapsed": false
   },
   "outputs": [],
   "source": [
    "data_x = input_data[input_data_columns];\n",
    "data_y = input_data[target_column];"
   ]
  },
  {
   "cell_type": "code",
   "execution_count": 576,
   "metadata": {
    "collapsed": true
   },
   "outputs": [],
   "source": [
    "linear_regr = linear_model.LinearRegression()\n",
    "#train the classifier\n",
    "clf = linear_regr.fit(data_x, data_y)"
   ]
  },
  {
   "cell_type": "code",
   "execution_count": 577,
   "metadata": {
    "collapsed": true
   },
   "outputs": [],
   "source": [
    "#Test data input\n",
    "test_data_x = test_data[input_data_columns];\n",
    "\n",
    "predicted_result = cfl.predict(test_data_x)"
   ]
  },
  {
   "cell_type": "code",
   "execution_count": 578,
   "metadata": {
    "collapsed": false
   },
   "outputs": [
    {
     "data": {
      "text/plain": [
       "array([ 0.89722629, -3.59500662, -1.54300231,  4.83235953, -5.08879477,\n",
       "        5.85051364,  1.4460388 ,  2.68204316, -2.37830094, -2.45621731,\n",
       "       -2.66424325,  1.24854508, -1.16928368, -2.38253107, -3.62896647,\n",
       "       -2.40942426, -5.89631631, -0.7779732 ,  4.27922017,  1.02145049,\n",
       "       -0.74139157, -1.49841755, -1.46973267, -5.72019147, -2.86609526,\n",
       "       -2.3347963 , -2.40492992,  2.23243392, -2.10689152,  1.5390878 ,\n",
       "       -0.25501335,  1.68198497, -0.71922951,  3.36541753,  8.28982307,\n",
       "        0.20114187,  0.30338798, -1.88572237, -2.07992319, -1.67962766,\n",
       "        2.9393563 ,  3.95729703,  0.46038593,  0.79840814,  0.91995687,\n",
       "        1.03112492, -2.03965579, -1.51290816, -3.29103588, -0.96854338,\n",
       "       -1.77411014,  0.49008124,  2.03767704, -5.07580559,  3.50793889,\n",
       "        1.51061502, -2.64843362, -1.33660375, -4.16516437, -0.37728552,\n",
       "       -1.84831114, -0.80911703, -3.37054419,  3.07450234,  2.84998196,\n",
       "       -2.55556065,  3.7125985 ,  3.29562172, -2.57367193,  1.01892829,\n",
       "        2.8869442 ,  1.45002566,  0.32439113, -4.37386422,  1.94634971,\n",
       "       -2.59508634, -1.54737567,  2.28258226, -4.13242553, -1.10165731,\n",
       "        1.42789999, -2.24863184,  1.1989197 , -0.03315698, -1.24553532,\n",
       "       -1.83314836,  2.73073253, -2.04641451, -1.05592819, -0.12519103,\n",
       "       -3.75560257,  0.52063275, -3.6905588 , -2.02536129, -3.59101748,\n",
       "       -0.78734555, -1.93326432,  0.71744564, -3.23970209, -0.31837896])"
      ]
     },
     "execution_count": 578,
     "metadata": {},
     "output_type": "execute_result"
    }
   ],
   "source": [
    "predicted_result"
   ]
  },
  {
   "cell_type": "code",
   "execution_count": 583,
   "metadata": {
    "collapsed": false
   },
   "outputs": [],
   "source": [
    "test_data['Predicted_ACE.2'] = predicted_result"
   ]
  },
  {
   "cell_type": "code",
   "execution_count": 584,
   "metadata": {
    "collapsed": false
   },
   "outputs": [
    {
     "data": {
      "text/html": [
       "<div style=\"max-height:1000px;max-width:1500px;overflow:auto;\">\n",
       "<table border=\"1\" class=\"dataframe\">\n",
       "  <thead>\n",
       "    <tr style=\"text-align: right;\">\n",
       "      <th></th>\n",
       "      <th>ACE.2</th>\n",
       "      <th>Predicted_ACE.2</th>\n",
       "    </tr>\n",
       "  </thead>\n",
       "  <tbody>\n",
       "    <tr>\n",
       "      <th>99 </th>\n",
       "      <td>  2</td>\n",
       "      <td> 0.897226</td>\n",
       "    </tr>\n",
       "    <tr>\n",
       "      <th>49 </th>\n",
       "      <td>  1</td>\n",
       "      <td>-3.595007</td>\n",
       "    </tr>\n",
       "    <tr>\n",
       "      <th>11 </th>\n",
       "      <td>  7</td>\n",
       "      <td>-1.543002</td>\n",
       "    </tr>\n",
       "    <tr>\n",
       "      <th>72 </th>\n",
       "      <td>  5</td>\n",
       "      <td> 4.832360</td>\n",
       "    </tr>\n",
       "    <tr>\n",
       "      <th>88 </th>\n",
       "      <td>  0</td>\n",
       "      <td>-5.088795</td>\n",
       "    </tr>\n",
       "    <tr>\n",
       "      <th>40 </th>\n",
       "      <td> 14</td>\n",
       "      <td> 5.850514</td>\n",
       "    </tr>\n",
       "    <tr>\n",
       "      <th>46 </th>\n",
       "      <td>  5</td>\n",
       "      <td> 1.446039</td>\n",
       "    </tr>\n",
       "    <tr>\n",
       "      <th>73 </th>\n",
       "      <td> 17</td>\n",
       "      <td> 2.682043</td>\n",
       "    </tr>\n",
       "    <tr>\n",
       "      <th>3  </th>\n",
       "      <td>  3</td>\n",
       "      <td>-2.378301</td>\n",
       "    </tr>\n",
       "    <tr>\n",
       "      <th>40 </th>\n",
       "      <td>  5</td>\n",
       "      <td>-2.456217</td>\n",
       "    </tr>\n",
       "    <tr>\n",
       "      <th>22 </th>\n",
       "      <td>  1</td>\n",
       "      <td>-2.664243</td>\n",
       "    </tr>\n",
       "    <tr>\n",
       "      <th>112</th>\n",
       "      <td>  1</td>\n",
       "      <td> 1.248545</td>\n",
       "    </tr>\n",
       "    <tr>\n",
       "      <th>9  </th>\n",
       "      <td>  4</td>\n",
       "      <td>-1.169284</td>\n",
       "    </tr>\n",
       "    <tr>\n",
       "      <th>24 </th>\n",
       "      <td>  4</td>\n",
       "      <td>-2.382531</td>\n",
       "    </tr>\n",
       "    <tr>\n",
       "      <th>24 </th>\n",
       "      <td>  2</td>\n",
       "      <td>-3.628966</td>\n",
       "    </tr>\n",
       "    <tr>\n",
       "      <th>19 </th>\n",
       "      <td>  1</td>\n",
       "      <td>-2.409424</td>\n",
       "    </tr>\n",
       "    <tr>\n",
       "      <th>49 </th>\n",
       "      <td>  3</td>\n",
       "      <td>-5.896316</td>\n",
       "    </tr>\n",
       "    <tr>\n",
       "      <th>44 </th>\n",
       "      <td> 10</td>\n",
       "      <td>-0.777973</td>\n",
       "    </tr>\n",
       "    <tr>\n",
       "      <th>120</th>\n",
       "      <td>  1</td>\n",
       "      <td> 4.279220</td>\n",
       "    </tr>\n",
       "    <tr>\n",
       "      <th>106</th>\n",
       "      <td>  4</td>\n",
       "      <td> 1.021450</td>\n",
       "    </tr>\n",
       "    <tr>\n",
       "      <th>3  </th>\n",
       "      <td> 13</td>\n",
       "      <td>-0.741392</td>\n",
       "    </tr>\n",
       "    <tr>\n",
       "      <th>0  </th>\n",
       "      <td> 10</td>\n",
       "      <td>-1.498418</td>\n",
       "    </tr>\n",
       "    <tr>\n",
       "      <th>67 </th>\n",
       "      <td>  5</td>\n",
       "      <td>-1.469733</td>\n",
       "    </tr>\n",
       "    <tr>\n",
       "      <th>121</th>\n",
       "      <td>  3</td>\n",
       "      <td>-5.720191</td>\n",
       "    </tr>\n",
       "    <tr>\n",
       "      <th>117</th>\n",
       "      <td>  4</td>\n",
       "      <td>-2.866095</td>\n",
       "    </tr>\n",
       "    <tr>\n",
       "      <th>112</th>\n",
       "      <td>  5</td>\n",
       "      <td>-2.334796</td>\n",
       "    </tr>\n",
       "    <tr>\n",
       "      <th>57 </th>\n",
       "      <td>  0</td>\n",
       "      <td>-2.404930</td>\n",
       "    </tr>\n",
       "    <tr>\n",
       "      <th>29 </th>\n",
       "      <td>  1</td>\n",
       "      <td> 2.232434</td>\n",
       "    </tr>\n",
       "    <tr>\n",
       "      <th>29 </th>\n",
       "      <td>  4</td>\n",
       "      <td>-2.106892</td>\n",
       "    </tr>\n",
       "    <tr>\n",
       "      <th>43 </th>\n",
       "      <td>  0</td>\n",
       "      <td> 1.539088</td>\n",
       "    </tr>\n",
       "    <tr>\n",
       "      <th>...</th>\n",
       "      <td>...</td>\n",
       "      <td>...</td>\n",
       "    </tr>\n",
       "    <tr>\n",
       "      <th>9  </th>\n",
       "      <td>  4</td>\n",
       "      <td> 2.886944</td>\n",
       "    </tr>\n",
       "    <tr>\n",
       "      <th>14 </th>\n",
       "      <td> 20</td>\n",
       "      <td> 1.450026</td>\n",
       "    </tr>\n",
       "    <tr>\n",
       "      <th>20 </th>\n",
       "      <td>  1</td>\n",
       "      <td> 0.324391</td>\n",
       "    </tr>\n",
       "    <tr>\n",
       "      <th>116</th>\n",
       "      <td>  0</td>\n",
       "      <td>-4.373864</td>\n",
       "    </tr>\n",
       "    <tr>\n",
       "      <th>28 </th>\n",
       "      <td>  8</td>\n",
       "      <td> 1.946350</td>\n",
       "    </tr>\n",
       "    <tr>\n",
       "      <th>63 </th>\n",
       "      <td>  3</td>\n",
       "      <td>-2.595086</td>\n",
       "    </tr>\n",
       "    <tr>\n",
       "      <th>41 </th>\n",
       "      <td>  0</td>\n",
       "      <td>-1.547376</td>\n",
       "    </tr>\n",
       "    <tr>\n",
       "      <th>32 </th>\n",
       "      <td>  2</td>\n",
       "      <td> 2.282582</td>\n",
       "    </tr>\n",
       "    <tr>\n",
       "      <th>63 </th>\n",
       "      <td>  1</td>\n",
       "      <td>-4.132426</td>\n",
       "    </tr>\n",
       "    <tr>\n",
       "      <th>32 </th>\n",
       "      <td>  3</td>\n",
       "      <td>-1.101657</td>\n",
       "    </tr>\n",
       "    <tr>\n",
       "      <th>81 </th>\n",
       "      <td>  6</td>\n",
       "      <td> 1.427900</td>\n",
       "    </tr>\n",
       "    <tr>\n",
       "      <th>80 </th>\n",
       "      <td>  0</td>\n",
       "      <td>-2.248632</td>\n",
       "    </tr>\n",
       "    <tr>\n",
       "      <th>110</th>\n",
       "      <td>  6</td>\n",
       "      <td> 1.198920</td>\n",
       "    </tr>\n",
       "    <tr>\n",
       "      <th>42 </th>\n",
       "      <td>  7</td>\n",
       "      <td>-0.033157</td>\n",
       "    </tr>\n",
       "    <tr>\n",
       "      <th>84 </th>\n",
       "      <td>  4</td>\n",
       "      <td>-1.245535</td>\n",
       "    </tr>\n",
       "    <tr>\n",
       "      <th>18 </th>\n",
       "      <td>  9</td>\n",
       "      <td>-1.833148</td>\n",
       "    </tr>\n",
       "    <tr>\n",
       "      <th>23 </th>\n",
       "      <td> 11</td>\n",
       "      <td> 2.730733</td>\n",
       "    </tr>\n",
       "    <tr>\n",
       "      <th>123</th>\n",
       "      <td>  1</td>\n",
       "      <td>-2.046415</td>\n",
       "    </tr>\n",
       "    <tr>\n",
       "      <th>21 </th>\n",
       "      <td>  4</td>\n",
       "      <td>-1.055928</td>\n",
       "    </tr>\n",
       "    <tr>\n",
       "      <th>59 </th>\n",
       "      <td>  0</td>\n",
       "      <td>-0.125191</td>\n",
       "    </tr>\n",
       "    <tr>\n",
       "      <th>30 </th>\n",
       "      <td>  2</td>\n",
       "      <td>-3.755603</td>\n",
       "    </tr>\n",
       "    <tr>\n",
       "      <th>7  </th>\n",
       "      <td>  4</td>\n",
       "      <td> 0.520633</td>\n",
       "    </tr>\n",
       "    <tr>\n",
       "      <th>75 </th>\n",
       "      <td>  2</td>\n",
       "      <td>-3.690559</td>\n",
       "    </tr>\n",
       "    <tr>\n",
       "      <th>60 </th>\n",
       "      <td>  1</td>\n",
       "      <td>-2.025361</td>\n",
       "    </tr>\n",
       "    <tr>\n",
       "      <th>125</th>\n",
       "      <td>  1</td>\n",
       "      <td>-3.591017</td>\n",
       "    </tr>\n",
       "    <tr>\n",
       "      <th>108</th>\n",
       "      <td>  2</td>\n",
       "      <td>-0.787346</td>\n",
       "    </tr>\n",
       "    <tr>\n",
       "      <th>4  </th>\n",
       "      <td>  0</td>\n",
       "      <td>-1.933264</td>\n",
       "    </tr>\n",
       "    <tr>\n",
       "      <th>44 </th>\n",
       "      <td> 10</td>\n",
       "      <td> 0.717446</td>\n",
       "    </tr>\n",
       "    <tr>\n",
       "      <th>116</th>\n",
       "      <td>  0</td>\n",
       "      <td>-3.239702</td>\n",
       "    </tr>\n",
       "    <tr>\n",
       "      <th>25 </th>\n",
       "      <td>  7</td>\n",
       "      <td>-0.318379</td>\n",
       "    </tr>\n",
       "  </tbody>\n",
       "</table>\n",
       "<p>100 rows × 2 columns</p>\n",
       "</div>"
      ],
      "text/plain": [
       "     ACE.2  Predicted_ACE.2\n",
       "99       2         0.897226\n",
       "49       1        -3.595007\n",
       "11       7        -1.543002\n",
       "72       5         4.832360\n",
       "88       0        -5.088795\n",
       "40      14         5.850514\n",
       "46       5         1.446039\n",
       "73      17         2.682043\n",
       "3        3        -2.378301\n",
       "40       5        -2.456217\n",
       "22       1        -2.664243\n",
       "112      1         1.248545\n",
       "9        4        -1.169284\n",
       "24       4        -2.382531\n",
       "24       2        -3.628966\n",
       "19       1        -2.409424\n",
       "49       3        -5.896316\n",
       "44      10        -0.777973\n",
       "120      1         4.279220\n",
       "106      4         1.021450\n",
       "3       13        -0.741392\n",
       "0       10        -1.498418\n",
       "67       5        -1.469733\n",
       "121      3        -5.720191\n",
       "117      4        -2.866095\n",
       "112      5        -2.334796\n",
       "57       0        -2.404930\n",
       "29       1         2.232434\n",
       "29       4        -2.106892\n",
       "43       0         1.539088\n",
       "..     ...              ...\n",
       "9        4         2.886944\n",
       "14      20         1.450026\n",
       "20       1         0.324391\n",
       "116      0        -4.373864\n",
       "28       8         1.946350\n",
       "63       3        -2.595086\n",
       "41       0        -1.547376\n",
       "32       2         2.282582\n",
       "63       1        -4.132426\n",
       "32       3        -1.101657\n",
       "81       6         1.427900\n",
       "80       0        -2.248632\n",
       "110      6         1.198920\n",
       "42       7        -0.033157\n",
       "84       4        -1.245535\n",
       "18       9        -1.833148\n",
       "23      11         2.730733\n",
       "123      1        -2.046415\n",
       "21       4        -1.055928\n",
       "59       0        -0.125191\n",
       "30       2        -3.755603\n",
       "7        4         0.520633\n",
       "75       2        -3.690559\n",
       "60       1        -2.025361\n",
       "125      1        -3.591017\n",
       "108      2        -0.787346\n",
       "4        0        -1.933264\n",
       "44      10         0.717446\n",
       "116      0        -3.239702\n",
       "25       7        -0.318379\n",
       "\n",
       "[100 rows x 2 columns]"
      ]
     },
     "execution_count": 584,
     "metadata": {},
     "output_type": "execute_result"
    }
   ],
   "source": [
    "#Lets see the predicted result versus actual result\n",
    "test_data[['ACE.2', 'Predicted_ACE.2']]"
   ]
  },
  {
   "cell_type": "markdown",
   "metadata": {},
   "source": [
    "Lets plot the two results"
   ]
  },
  {
   "cell_type": "code",
   "execution_count": 586,
   "metadata": {
    "collapsed": false
   },
   "outputs": [
    {
     "data": {
      "text/plain": [
       "<matplotlib.axes._subplots.AxesSubplot at 0x7f20eff5c610>"
      ]
     },
     "execution_count": 586,
     "metadata": {},
     "output_type": "execute_result"
    },
    {
     "data": {
      "image/png": "[encoded data removed]",
      "text/plain": [
       "<matplotlib.figure.Figure at 0x7f20efa423d0>"
      ]
     },
     "metadata": {},
     "output_type": "display_data"
    }
   ],
   "source": [
    "test_data[['ACE.2', 'Predicted_ACE.2']].plot(kind='bar', figsize=(15, 8))"
   ]
  },
  {
   "cell_type": "code",
   "execution_count": null,
   "metadata": {
    "collapsed": true
   },
   "outputs": [],
   "source": []
  }
 ],
 "metadata": {
  "kernelspec": {
   "display_name": "Python 2",
   "language": "python",
   "name": "python2"
  },
  "language_info": {
   "codemirror_mode": {
    "name": "ipython",
    "version": 2
   },
   "file_extension": ".py",
   "mimetype": "text/x-python",
   "name": "python",
   "nbconvert_exporter": "python",
   "pygments_lexer": "ipython2",
   "version": "2.7.9"
  }
 },
 "nbformat": 4,
 "nbformat_minor": 0
}
